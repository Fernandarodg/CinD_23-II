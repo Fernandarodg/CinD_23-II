{
  "nbformat": 4,
  "nbformat_minor": 0,
  "metadata": {
    "colab": {
      "provenance": [],
      "toc_visible": true,
      "authorship_tag": "ABX9TyNsb7haZfBpO8eeEeBu8vcx",
      "include_colab_link": true
    },
    "kernelspec": {
      "name": "python3",
      "display_name": "Python 3"
    },
    "language_info": {
      "name": "python"
    }
  },
  "cells": [
    {
      "cell_type": "markdown",
      "metadata": {
        "id": "view-in-github",
        "colab_type": "text"
      },
      "source": [
        "<a href=\"https://colab.research.google.com/github/Fernandarodg/CinD_23-II/blob/main/Database.ipynb\" target=\"_parent\"><img src=\"https://colab.research.google.com/assets/colab-badge.svg\" alt=\"Open In Colab\"/></a>"
      ]
    },
    {
      "cell_type": "markdown",
      "source": [
        "#**DATABASE PRESENTATION**\n",
        "\n",
        "    Made by: María Fernanda Rodríguez\n",
        "\n",
        "    Code: 64192056"
      ],
      "metadata": {
        "id": "wJ4SeM_J0pCw"
      }
    },
    {
      "cell_type": "markdown",
      "source": [
        "## Description:\n",
        "**texto en negrita**\n",
        "* :\n",
        "\n",
        "In computer vision, the selected color space could have a significant the performance of the model. While `RGB` is the most common color space, in manay situations the model performs better when switching to alternative color spaces such as `YUV`, `YCbCr`, `XYZ (CIE)`, etc.\n",
        "\n",
        "The `tensorflow-io` package provides a list of color space conversions APIs that can be used to prepare and augment the image data."
      ],
      "metadata": {
        "id": "eZTcIY2u2IvB"
      }
    },
    {
      "cell_type": "code",
      "source": [],
      "metadata": {
        "id": "iLLoN-Pm1ovR"
      },
      "execution_count": null,
      "outputs": []
    }
  ]
}