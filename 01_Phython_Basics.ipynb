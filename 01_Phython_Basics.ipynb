{
  "nbformat": 4,
  "nbformat_minor": 0,
  "metadata": {
    "colab": {
      "provenance": [],
      "toc_visible": true,
      "authorship_tag": "ABX9TyNXTALlhsQ9H+0N1c2dfGNX",
      "include_colab_link": true
    },
    "kernelspec": {
      "name": "python3",
      "display_name": "Python 3"
    },
    "language_info": {
      "name": "python"
    }
  },
  "cells": [
    {
      "cell_type": "markdown",
      "metadata": {
        "id": "view-in-github",
        "colab_type": "text"
      },
      "source": [
        "<a href=\"https://colab.research.google.com/github/Fernandarodg/CinD_23-II/blob/main/01_Phython_Basics.ipynb\" target=\"_parent\"><img src=\"https://colab.research.google.com/assets/colab-badge.svg\" alt=\"Open In Colab\"/></a>"
      ]
    },
    {
      "cell_type": "markdown",
      "source": [
        "##**1.Getting started**#"
      ],
      "metadata": {
        "id": "CRfvbbUatu2A"
      }
    },
    {
      "cell_type": "markdown",
      "source": [
        "## 1.1. Python as a Calculator"
      ],
      "metadata": {
        "id": "hsrInAN0t6Lg"
      }
    },
    {
      "cell_type": "code",
      "source": [
        "# Addition\n",
        "2 + 3"
      ],
      "metadata": {
        "colab": {
          "base_uri": "https://localhost:8080/"
        },
        "id": "CCTUtKvEuM_w",
        "outputId": "1e63a9f4-8dba-47b3-e691-e7807ef11192"
      },
      "execution_count": null,
      "outputs": [
        {
          "output_type": "execute_result",
          "data": {
            "text/plain": [
              "5"
            ]
          },
          "metadata": {},
          "execution_count": 1
        }
      ]
    },
    {
      "cell_type": "code",
      "source": [
        "# Substraction\n",
        "15 - 7"
      ],
      "metadata": {
        "colab": {
          "base_uri": "https://localhost:8080/"
        },
        "id": "a1N17oZsu1FP",
        "outputId": "59fd293e-0f50-4863-95a4-223a5a225405"
      },
      "execution_count": null,
      "outputs": [
        {
          "output_type": "execute_result",
          "data": {
            "text/plain": [
              "8"
            ]
          },
          "metadata": {},
          "execution_count": 2
        }
      ]
    },
    {
      "cell_type": "code",
      "source": [
        "# Multiplication\n",
        "63 * 13"
      ],
      "metadata": {
        "colab": {
          "base_uri": "https://localhost:8080/"
        },
        "id": "5_H2SoUOu8hY",
        "outputId": "1154a147-b43b-4e7d-df1c-d4fd1582eac5"
      },
      "execution_count": null,
      "outputs": [
        {
          "output_type": "execute_result",
          "data": {
            "text/plain": [
              "819"
            ]
          },
          "metadata": {},
          "execution_count": 3
        }
      ]
    },
    {
      "cell_type": "code",
      "source": [
        "# Division\n",
        "99 / 43"
      ],
      "metadata": {
        "colab": {
          "base_uri": "https://localhost:8080/"
        },
        "id": "Ywy4a3xrvEd3",
        "outputId": "f24cece0-aa5a-47e1-a90b-be7d8a6a8b20"
      },
      "execution_count": null,
      "outputs": [
        {
          "output_type": "execute_result",
          "data": {
            "text/plain": [
              "2.302325581395349"
            ]
          },
          "metadata": {},
          "execution_count": 4
        }
      ]
    },
    {
      "cell_type": "code",
      "source": [
        "# ???\n",
        "99 // 43"
      ],
      "metadata": {
        "colab": {
          "base_uri": "https://localhost:8080/"
        },
        "id": "eCPN-sW7vRBf",
        "outputId": "58e24d91-5fdd-4b28-bd8a-f8dfcfa94d07"
      },
      "execution_count": null,
      "outputs": [
        {
          "output_type": "execute_result",
          "data": {
            "text/plain": [
              "2"
            ]
          },
          "metadata": {},
          "execution_count": 5
        }
      ]
    },
    {
      "cell_type": "code",
      "source": [
        "# Exponentials\n",
        "8 ** 4"
      ],
      "metadata": {
        "colab": {
          "base_uri": "https://localhost:8080/"
        },
        "id": "guUNxWGHw-V4",
        "outputId": "5b2a18e1-4c63-411d-a3d3-1b717678541c"
      },
      "execution_count": null,
      "outputs": [
        {
          "output_type": "execute_result",
          "data": {
            "text/plain": [
              "4096"
            ]
          },
          "metadata": {},
          "execution_count": 6
        }
      ]
    },
    {
      "cell_type": "markdown",
      "source": [
        "## 1.2. Parentheses"
      ],
      "metadata": {
        "id": "IoT_vS9mxF3l"
      }
    },
    {
      "cell_type": "code",
      "source": [
        "7 *(2 + 3)"
      ],
      "metadata": {
        "colab": {
          "base_uri": "https://localhost:8080/"
        },
        "id": "AuNAzlA_xMkh",
        "outputId": "3946a083-37f9-4364-d5f7-5b35caf6d6ff"
      },
      "execution_count": null,
      "outputs": [
        {
          "output_type": "execute_result",
          "data": {
            "text/plain": [
              "35"
            ]
          },
          "metadata": {},
          "execution_count": 10
        }
      ]
    },
    {
      "cell_type": "markdown",
      "source": [
        "## 1.3. Integers versus Real numbers"
      ],
      "metadata": {
        "id": "VNJ1sVCdy0k0"
      }
    },
    {
      "cell_type": "code",
      "source": [
        "\n",
        "print(5)\n",
        "print(type(5))"
      ],
      "metadata": {
        "colab": {
          "base_uri": "https://localhost:8080/"
        },
        "id": "bkQJo81vy6bj",
        "outputId": "91d76f9b-b7f5-4264-b3c1-7d0e046d103b"
      },
      "execution_count": null,
      "outputs": [
        {
          "output_type": "stream",
          "name": "stdout",
          "text": [
            "5\n",
            "<class 'int'>\n"
          ]
        }
      ]
    },
    {
      "cell_type": "code",
      "source": [
        "print (5.0)\n",
        "print(type(5.0))"
      ],
      "metadata": {
        "colab": {
          "base_uri": "https://localhost:8080/"
        },
        "id": "YqFrSJvTztET",
        "outputId": "58e52376-0c77-4e0e-d5ae-eef5881f8f22"
      },
      "execution_count": null,
      "outputs": [
        {
          "output_type": "stream",
          "name": "stdout",
          "text": [
            "5.0\n",
            "<class 'float'>\n"
          ]
        }
      ]
    },
    {
      "cell_type": "markdown",
      "source": [
        "## 1.4. Scientific Notation"
      ],
      "metadata": {
        "id": "SG7nXc8i05oj"
      }
    },
    {
      "cell_type": "code",
      "source": [
        "5.0e03"
      ],
      "metadata": {
        "id": "J5Y40k-00_Oa",
        "colab": {
          "base_uri": "https://localhost:8080/"
        },
        "outputId": "7cfc80ba-6745-4f9e-fa16-72f805a73a3c"
      },
      "execution_count": 1,
      "outputs": [
        {
          "output_type": "execute_result",
          "data": {
            "text/plain": [
              "5000.0"
            ]
          },
          "metadata": {},
          "execution_count": 1
        }
      ]
    },
    {
      "cell_type": "code",
      "source": [
        "3.2e2\n"
      ],
      "metadata": {
        "colab": {
          "base_uri": "https://localhost:8080/"
        },
        "id": "P3gchrgyrkwp",
        "outputId": "1fd05548-d13e-42a7-ac6c-a87a5d51b2c7"
      },
      "execution_count": 2,
      "outputs": [
        {
          "output_type": "execute_result",
          "data": {
            "text/plain": [
              "320.0"
            ]
          },
          "metadata": {},
          "execution_count": 2
        }
      ]
    },
    {
      "cell_type": "markdown",
      "source": [
        "## 2.1. Print"
      ],
      "metadata": {
        "id": "y5Mnxfh7sK9C"
      }
    },
    {
      "cell_type": "code",
      "source": [
        "print(15)\n",
        "print(16)"
      ],
      "metadata": {
        "colab": {
          "base_uri": "https://localhost:8080/"
        },
        "id": "mQonYqWQsaOW",
        "outputId": "55f3b2b8-940e-4f7a-ecdd-c3d4fa18d715"
      },
      "execution_count": 5,
      "outputs": [
        {
          "output_type": "stream",
          "name": "stdout",
          "text": [
            "15\n",
            "16\n"
          ]
        }
      ]
    },
    {
      "cell_type": "code",
      "source": [
        "# Print different elements in the same line\n",
        "print(9,8, 2023)"
      ],
      "metadata": {
        "colab": {
          "base_uri": "https://localhost:8080/"
        },
        "id": "_FeDApaes2Qr",
        "outputId": "6095f9ed-dfaf-43a9-fe9a-aa8e2ee112a4"
      },
      "execution_count": 7,
      "outputs": [
        {
          "output_type": "stream",
          "name": "stdout",
          "text": [
            "9 8 2023\n"
          ]
        }
      ]
    },
    {
      "cell_type": "code",
      "source": [
        "# ???\n",
        "for i in range(1,11): print(i)"
      ],
      "metadata": {
        "colab": {
          "base_uri": "https://localhost:8080/"
        },
        "id": "KSJVYw9Ktwju",
        "outputId": "5a27e797-1a2e-40e5-c00b-67367f8bf25b"
      },
      "execution_count": 12,
      "outputs": [
        {
          "output_type": "stream",
          "name": "stdout",
          "text": [
            "1\n",
            "2\n",
            "3\n",
            "4\n",
            "5\n",
            "6\n",
            "7\n",
            "8\n",
            "9\n",
            "10\n"
          ]
        }
      ]
    },
    {
      "cell_type": "code",
      "source": [
        "# With a step, in this case 3\n",
        "for i in range(1,11,3): print(i)"
      ],
      "metadata": {
        "colab": {
          "base_uri": "https://localhost:8080/"
        },
        "id": "p0J3geIfuUdn",
        "outputId": "ccecef6c-14c1-4dab-f640-f276c7c543f7"
      },
      "execution_count": 13,
      "outputs": [
        {
          "output_type": "stream",
          "name": "stdout",
          "text": [
            "1\n",
            "4\n",
            "7\n",
            "10\n"
          ]
        }
      ]
    },
    {
      "cell_type": "code",
      "source": [
        "# With Text\n",
        "print(\"Fernanda\")\n",
        "print(\"First Names:\" , \"María Fernanda\")\n",
        "print(\"First Names:\\t\" , \"María Fernanda\")\n",
        "print(\"First Names:\\n\" , \"María Fernanda\")"
      ],
      "metadata": {
        "colab": {
          "base_uri": "https://localhost:8080/"
        },
        "id": "EHPX5G5qvzBq",
        "outputId": "6a49f4e4-109e-46cf-a7b7-2bbb044ea0e8"
      },
      "execution_count": 17,
      "outputs": [
        {
          "output_type": "stream",
          "name": "stdout",
          "text": [
            "Fernanda\n",
            "First Names: María Fernanda\n",
            "First Names:\t María Fernanda\n",
            "First Names:\n",
            " María Fernanda\n"
          ]
        }
      ]
    },
    {
      "cell_type": "code",
      "source": [
        "# Text and numbers\n",
        "print(\"My favorite number is\" , 21)"
      ],
      "metadata": {
        "colab": {
          "base_uri": "https://localhost:8080/"
        },
        "id": "PR7qLL1mxKn2",
        "outputId": "9f1ab749-1fe5-44a2-c5c4-81fc2357b27d"
      },
      "execution_count": 18,
      "outputs": [
        {
          "output_type": "stream",
          "name": "stdout",
          "text": [
            "My favorite number is 21\n"
          ]
        }
      ]
    },
    {
      "cell_type": "markdown",
      "source": [
        "## 2.2 Round"
      ],
      "metadata": {
        "id": "lSFu7GNmxbdp"
      }
    },
    {
      "cell_type": "code",
      "source": [
        "round(5.7289,2)"
      ],
      "metadata": {
        "colab": {
          "base_uri": "https://localhost:8080/"
        },
        "id": "_Ah_uHyLxfg3",
        "outputId": "1a5951c8-8fa4-4af6-9d94-16fb26faec9f"
      },
      "execution_count": 20,
      "outputs": [
        {
          "output_type": "execute_result",
          "data": {
            "text/plain": [
              "5.73"
            ]
          },
          "metadata": {},
          "execution_count": 20
        }
      ]
    },
    {
      "cell_type": "code",
      "source": [
        "# Exercise\n",
        "## Approximate the number 15.4795612358\n",
        "## to 1,2,3,...., decimals and print the result\n",
        "round(15.4795612358,1)"
      ],
      "metadata": {
        "colab": {
          "base_uri": "https://localhost:8080/"
        },
        "id": "-AZNHuCExwF6",
        "outputId": "8564a4ba-4108-4ad8-c6dc-69543f57fc44"
      },
      "execution_count": 36,
      "outputs": [
        {
          "output_type": "execute_result",
          "data": {
            "text/plain": [
              "15.48"
            ]
          },
          "metadata": {},
          "execution_count": 36
        }
      ]
    },
    {
      "cell_type": "code",
      "source": [
        "round(15.4795612358,2)"
      ],
      "metadata": {
        "colab": {
          "base_uri": "https://localhost:8080/"
        },
        "id": "u7Qt4X8-zUv0",
        "outputId": "be7e8dd8-401e-426c-cbcb-fdd116c91da5"
      },
      "execution_count": 31,
      "outputs": [
        {
          "output_type": "execute_result",
          "data": {
            "text/plain": [
              "15.48"
            ]
          },
          "metadata": {},
          "execution_count": 31
        }
      ]
    },
    {
      "cell_type": "code",
      "source": [
        "round(15.4795612358,3)"
      ],
      "metadata": {
        "colab": {
          "base_uri": "https://localhost:8080/"
        },
        "id": "Vw8ayrdHzYVM",
        "outputId": "a5de4d3d-205f-4d13-ff13-e046000036d6"
      },
      "execution_count": 32,
      "outputs": [
        {
          "output_type": "execute_result",
          "data": {
            "text/plain": [
              "15.48"
            ]
          },
          "metadata": {},
          "execution_count": 32
        }
      ]
    },
    {
      "cell_type": "code",
      "source": [
        "round(15.4795612358,4)"
      ],
      "metadata": {
        "colab": {
          "base_uri": "https://localhost:8080/"
        },
        "id": "uIYhMKgXzbS0",
        "outputId": "b77e8fac-4365-458b-8a8c-e86970529334"
      },
      "execution_count": 33,
      "outputs": [
        {
          "output_type": "execute_result",
          "data": {
            "text/plain": [
              "15.4796"
            ]
          },
          "metadata": {},
          "execution_count": 33
        }
      ]
    },
    {
      "cell_type": "code",
      "source": [
        "round(15.4795612358,5)"
      ],
      "metadata": {
        "colab": {
          "base_uri": "https://localhost:8080/"
        },
        "id": "ruH5AAwQzqON",
        "outputId": "239443d0-e9d4-4a3b-c92f-06f82fce3d82"
      },
      "execution_count": 35,
      "outputs": [
        {
          "output_type": "execute_result",
          "data": {
            "text/plain": [
              "15.47956"
            ]
          },
          "metadata": {},
          "execution_count": 35
        }
      ]
    },
    {
      "cell_type": "code",
      "source": [
        "round(15.4795612358,6)"
      ],
      "metadata": {
        "colab": {
          "base_uri": "https://localhost:8080/"
        },
        "id": "FIzSm7ZO0-E5",
        "outputId": "1ee5ed61-498f-4503-afe2-36ac8ecf1ea7"
      },
      "execution_count": 37,
      "outputs": [
        {
          "output_type": "execute_result",
          "data": {
            "text/plain": [
              "15.479561"
            ]
          },
          "metadata": {},
          "execution_count": 37
        }
      ]
    },
    {
      "cell_type": "code",
      "source": [
        "for i in range(0,11):\n",
        "  print('Approx. with:',i, ' decimals' ,round(15.4795612358,i))"
      ],
      "metadata": {
        "colab": {
          "base_uri": "https://localhost:8080/"
        },
        "id": "KNp8M35J1q0k",
        "outputId": "71def277-df6c-44b9-bf61-bf77ccba3867"
      },
      "execution_count": 46,
      "outputs": [
        {
          "output_type": "stream",
          "name": "stdout",
          "text": [
            "Approx. with: 0  decimals 15.0\n",
            "Approx. with: 1  decimals 15.5\n",
            "Approx. with: 2  decimals 15.48\n",
            "Approx. with: 3  decimals 15.48\n",
            "Approx. with: 4  decimals 15.4796\n",
            "Approx. with: 5  decimals 15.47956\n",
            "Approx. with: 6  decimals 15.479561\n",
            "Approx. with: 7  decimals 15.4795612\n",
            "Approx. with: 8  decimals 15.47956124\n",
            "Approx. with: 9  decimals 15.479561236\n",
            "Approx. with: 10  decimals 15.4795612358\n"
          ]
        }
      ]
    },
    {
      "cell_type": "code",
      "source": [
        "# Exercise 2\n",
        "# Find and print the 100 first multples of 7\n",
        "for i in range(0,101):\n",
        "  print('The multiple in position',i,'is',i*7)"
      ],
      "metadata": {
        "colab": {
          "base_uri": "https://localhost:8080/"
        },
        "id": "nAeez6km3LoY",
        "outputId": "090860ff-72c3-4692-f533-4b82a6b5f66e"
      },
      "execution_count": 48,
      "outputs": [
        {
          "output_type": "stream",
          "name": "stdout",
          "text": [
            "The multiple in position 0 is 0\n",
            "The multiple in position 1 is 7\n",
            "The multiple in position 2 is 14\n",
            "The multiple in position 3 is 21\n",
            "The multiple in position 4 is 28\n",
            "The multiple in position 5 is 35\n",
            "The multiple in position 6 is 42\n",
            "The multiple in position 7 is 49\n",
            "The multiple in position 8 is 56\n",
            "The multiple in position 9 is 63\n",
            "The multiple in position 10 is 70\n",
            "The multiple in position 11 is 77\n",
            "The multiple in position 12 is 84\n",
            "The multiple in position 13 is 91\n",
            "The multiple in position 14 is 98\n",
            "The multiple in position 15 is 105\n",
            "The multiple in position 16 is 112\n",
            "The multiple in position 17 is 119\n",
            "The multiple in position 18 is 126\n",
            "The multiple in position 19 is 133\n",
            "The multiple in position 20 is 140\n",
            "The multiple in position 21 is 147\n",
            "The multiple in position 22 is 154\n",
            "The multiple in position 23 is 161\n",
            "The multiple in position 24 is 168\n",
            "The multiple in position 25 is 175\n",
            "The multiple in position 26 is 182\n",
            "The multiple in position 27 is 189\n",
            "The multiple in position 28 is 196\n",
            "The multiple in position 29 is 203\n",
            "The multiple in position 30 is 210\n",
            "The multiple in position 31 is 217\n",
            "The multiple in position 32 is 224\n",
            "The multiple in position 33 is 231\n",
            "The multiple in position 34 is 238\n",
            "The multiple in position 35 is 245\n",
            "The multiple in position 36 is 252\n",
            "The multiple in position 37 is 259\n",
            "The multiple in position 38 is 266\n",
            "The multiple in position 39 is 273\n",
            "The multiple in position 40 is 280\n",
            "The multiple in position 41 is 287\n",
            "The multiple in position 42 is 294\n",
            "The multiple in position 43 is 301\n",
            "The multiple in position 44 is 308\n",
            "The multiple in position 45 is 315\n",
            "The multiple in position 46 is 322\n",
            "The multiple in position 47 is 329\n",
            "The multiple in position 48 is 336\n",
            "The multiple in position 49 is 343\n",
            "The multiple in position 50 is 350\n",
            "The multiple in position 51 is 357\n",
            "The multiple in position 52 is 364\n",
            "The multiple in position 53 is 371\n",
            "The multiple in position 54 is 378\n",
            "The multiple in position 55 is 385\n",
            "The multiple in position 56 is 392\n",
            "The multiple in position 57 is 399\n",
            "The multiple in position 58 is 406\n",
            "The multiple in position 59 is 413\n",
            "The multiple in position 60 is 420\n",
            "The multiple in position 61 is 427\n",
            "The multiple in position 62 is 434\n",
            "The multiple in position 63 is 441\n",
            "The multiple in position 64 is 448\n",
            "The multiple in position 65 is 455\n",
            "The multiple in position 66 is 462\n",
            "The multiple in position 67 is 469\n",
            "The multiple in position 68 is 476\n",
            "The multiple in position 69 is 483\n",
            "The multiple in position 70 is 490\n",
            "The multiple in position 71 is 497\n",
            "The multiple in position 72 is 504\n",
            "The multiple in position 73 is 511\n",
            "The multiple in position 74 is 518\n",
            "The multiple in position 75 is 525\n",
            "The multiple in position 76 is 532\n",
            "The multiple in position 77 is 539\n",
            "The multiple in position 78 is 546\n",
            "The multiple in position 79 is 553\n",
            "The multiple in position 80 is 560\n",
            "The multiple in position 81 is 567\n",
            "The multiple in position 82 is 574\n",
            "The multiple in position 83 is 581\n",
            "The multiple in position 84 is 588\n",
            "The multiple in position 85 is 595\n",
            "The multiple in position 86 is 602\n",
            "The multiple in position 87 is 609\n",
            "The multiple in position 88 is 616\n",
            "The multiple in position 89 is 623\n",
            "The multiple in position 90 is 630\n",
            "The multiple in position 91 is 637\n",
            "The multiple in position 92 is 644\n",
            "The multiple in position 93 is 651\n",
            "The multiple in position 94 is 658\n",
            "The multiple in position 95 is 665\n",
            "The multiple in position 96 is 672\n",
            "The multiple in position 97 is 679\n",
            "The multiple in position 98 is 686\n",
            "The multiple in position 99 is 693\n",
            "The multiple in position 100 is 700\n"
          ]
        }
      ]
    },
    {
      "cell_type": "code",
      "source": [
        "# Exercise\n",
        "# Calculate and print the multiplication table for the numbers 3,4,5,6\n",
        "\n",
        "for j in range(3,7):\n",
        "   print('Multiplication Table of',j)\n",
        "   for i in range (1,10):\n",
        "     print(j,'x',i,'=' ,j*i)"
      ],
      "metadata": {
        "colab": {
          "base_uri": "https://localhost:8080/"
        },
        "id": "ERxN3Gps5vew",
        "outputId": "5dc01697-fa7c-492c-d73f-f56e0c8e8466"
      },
      "execution_count": 53,
      "outputs": [
        {
          "output_type": "stream",
          "name": "stdout",
          "text": [
            "Multiplication Table of 3\n",
            "3 x 1 = 3\n",
            "3 x 2 = 6\n",
            "3 x 3 = 9\n",
            "3 x 4 = 12\n",
            "3 x 5 = 15\n",
            "3 x 6 = 18\n",
            "3 x 7 = 21\n",
            "3 x 8 = 24\n",
            "3 x 9 = 27\n",
            "Multiplication Table of 4\n",
            "4 x 1 = 4\n",
            "4 x 2 = 8\n",
            "4 x 3 = 12\n",
            "4 x 4 = 16\n",
            "4 x 5 = 20\n",
            "4 x 6 = 24\n",
            "4 x 7 = 28\n",
            "4 x 8 = 32\n",
            "4 x 9 = 36\n",
            "Multiplication Table of 5\n",
            "5 x 1 = 5\n",
            "5 x 2 = 10\n",
            "5 x 3 = 15\n",
            "5 x 4 = 20\n",
            "5 x 5 = 25\n",
            "5 x 6 = 30\n",
            "5 x 7 = 35\n",
            "5 x 8 = 40\n",
            "5 x 9 = 45\n",
            "Multiplication Table of 6\n",
            "6 x 1 = 6\n",
            "6 x 2 = 12\n",
            "6 x 3 = 18\n",
            "6 x 4 = 24\n",
            "6 x 5 = 30\n",
            "6 x 6 = 36\n",
            "6 x 7 = 42\n",
            "6 x 8 = 48\n",
            "6 x 9 = 54\n"
          ]
        }
      ]
    }
  ]
}