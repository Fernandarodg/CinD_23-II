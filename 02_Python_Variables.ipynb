{
  "nbformat": 4,
  "nbformat_minor": 0,
  "metadata": {
    "colab": {
      "provenance": [],
      "authorship_tag": "ABX9TyP0bigUniK6mUvRkQ+KpVwK",
      "include_colab_link": true
    },
    "kernelspec": {
      "name": "python3",
      "display_name": "Python 3"
    },
    "language_info": {
      "name": "python"
    }
  },
  "cells": [
    {
      "cell_type": "markdown",
      "metadata": {
        "id": "view-in-github",
        "colab_type": "text"
      },
      "source": [
        "<a href=\"https://colab.research.google.com/github/Fernandarodg/CinD_23-II/blob/main/02_Python_Variables.ipynb\" target=\"_parent\"><img src=\"https://colab.research.google.com/assets/colab-badge.svg\" alt=\"Open In Colab\"/></a>"
      ]
    },
    {
      "cell_type": "markdown",
      "source": [
        "# **1. What is variable?**\n",
        "\n",
        "It is a *container*. You can save stuff in there"
      ],
      "metadata": {
        "id": "gVlY5R-Ms0GD"
      }
    },
    {
      "cell_type": "code",
      "source": [
        "# Example\n",
        "a = 10"
      ],
      "metadata": {
        "id": "UVvVXO18tppq"
      },
      "execution_count": null,
      "outputs": []
    },
    {
      "cell_type": "code",
      "source": [
        "print(a + 1)\n",
        "print(a*a)\n",
        "print(a/2)"
      ],
      "metadata": {
        "colab": {
          "base_uri": "https://localhost:8080/"
        },
        "id": "G3OOqi8muQTq",
        "outputId": "d2058c31-cbf2-4563-c030-bc91677421a4"
      },
      "execution_count": null,
      "outputs": [
        {
          "output_type": "stream",
          "name": "stdout",
          "text": [
            "11\n",
            "100\n",
            "5.0\n"
          ]
        }
      ]
    },
    {
      "cell_type": "code",
      "source": [
        "# Example\n",
        "x = y = z = 100"
      ],
      "metadata": {
        "id": "CFWPEliou-aW"
      },
      "execution_count": null,
      "outputs": []
    },
    {
      "cell_type": "markdown",
      "source": [
        "# **2. Delete and Clear**"
      ],
      "metadata": {
        "id": "L4udL1oFvTT3"
      }
    },
    {
      "cell_type": "code",
      "source": [
        "# Delete\n",
        "del y, z"
      ],
      "metadata": {
        "id": "GA_IlKXOvYgZ"
      },
      "execution_count": null,
      "outputs": []
    },
    {
      "cell_type": "code",
      "source": [
        "# Clear\n",
        "# be careful! you delete everything\n",
        "%reset"
      ],
      "metadata": {
        "colab": {
          "base_uri": "https://localhost:8080/"
        },
        "id": "55Bz_VzdvwpK",
        "outputId": "9a9f1447-07b2-4904-e192-1e08b781dd4b"
      },
      "execution_count": null,
      "outputs": [
        {
          "name": "stdout",
          "output_type": "stream",
          "text": [
            "Once deleted, variables cannot be recovered. Proceed (y/[n])? y\n"
          ]
        }
      ]
    },
    {
      "cell_type": "code",
      "source": [
        "round(5.7289,2)"
      ],
      "metadata": {
        "colab": {
          "base_uri": "https://localhost:8080/"
        },
        "id": "iPMhhH3Swi91",
        "outputId": "caf31ee5-0882-42d4-9e7a-b33e599a220b"
      },
      "execution_count": null,
      "outputs": [
        {
          "output_type": "execute_result",
          "data": {
            "text/plain": [
              "5.73"
            ]
          },
          "metadata": {},
          "execution_count": 13
        }
      ]
    },
    {
      "cell_type": "code",
      "source": [
        "## USING VARIABLES\n",
        "n= 15.4795612358  # the number to a approx.\n",
        "a=0               # the initial approx.\n",
        "z=11              # (z - 1) the last approx.\n",
        "\n",
        "for i in range(0,11):\n",
        "  print('Approx. with:',i, ' decimals' ,round(15.4795612358,i))\n"
      ],
      "metadata": {
        "colab": {
          "base_uri": "https://localhost:8080/"
        },
        "id": "DsoM-p2GxAX1",
        "outputId": "9fc4bbd1-6183-418c-d8d2-449d385d3f13"
      },
      "execution_count": null,
      "outputs": [
        {
          "output_type": "stream",
          "name": "stdout",
          "text": [
            "Approx. with: 0  decimals 15.0\n",
            "Approx. with: 1  decimals 15.5\n",
            "Approx. with: 2  decimals 15.48\n",
            "Approx. with: 3  decimals 15.48\n",
            "Approx. with: 4  decimals 15.4796\n",
            "Approx. with: 5  decimals 15.47956\n",
            "Approx. with: 6  decimals 15.479561\n",
            "Approx. with: 7  decimals 15.4795612\n",
            "Approx. with: 8  decimals 15.47956124\n",
            "Approx. with: 9  decimals 15.479561236\n",
            "Approx. with: 10  decimals 15.4795612358\n"
          ]
        }
      ]
    },
    {
      "cell_type": "code",
      "source": [
        "## Using Variables - Excercise 2\n",
        "n=7  # the number\n",
        "a=0     # the initial multiple.\n",
        "z=101    # (z - 1) the last multiple.\n",
        "\n",
        "for i in range(0,101):\n",
        "  print('The multiple in position',i,'is',i*7)\n"
      ],
      "metadata": {
        "colab": {
          "base_uri": "https://localhost:8080/"
        },
        "id": "Ke-1ltKmzwgH",
        "outputId": "6f77c0bf-f91c-4837-8a1c-cb7ce4b0d85b"
      },
      "execution_count": null,
      "outputs": [
        {
          "output_type": "stream",
          "name": "stdout",
          "text": [
            "The multiple in position 0 is 0\n",
            "The multiple in position 1 is 7\n",
            "The multiple in position 2 is 14\n",
            "The multiple in position 3 is 21\n",
            "The multiple in position 4 is 28\n",
            "The multiple in position 5 is 35\n",
            "The multiple in position 6 is 42\n",
            "The multiple in position 7 is 49\n",
            "The multiple in position 8 is 56\n",
            "The multiple in position 9 is 63\n",
            "The multiple in position 10 is 70\n",
            "The multiple in position 11 is 77\n",
            "The multiple in position 12 is 84\n",
            "The multiple in position 13 is 91\n",
            "The multiple in position 14 is 98\n",
            "The multiple in position 15 is 105\n",
            "The multiple in position 16 is 112\n",
            "The multiple in position 17 is 119\n",
            "The multiple in position 18 is 126\n",
            "The multiple in position 19 is 133\n",
            "The multiple in position 20 is 140\n",
            "The multiple in position 21 is 147\n",
            "The multiple in position 22 is 154\n",
            "The multiple in position 23 is 161\n",
            "The multiple in position 24 is 168\n",
            "The multiple in position 25 is 175\n",
            "The multiple in position 26 is 182\n",
            "The multiple in position 27 is 189\n",
            "The multiple in position 28 is 196\n",
            "The multiple in position 29 is 203\n",
            "The multiple in position 30 is 210\n",
            "The multiple in position 31 is 217\n",
            "The multiple in position 32 is 224\n",
            "The multiple in position 33 is 231\n",
            "The multiple in position 34 is 238\n",
            "The multiple in position 35 is 245\n",
            "The multiple in position 36 is 252\n",
            "The multiple in position 37 is 259\n",
            "The multiple in position 38 is 266\n",
            "The multiple in position 39 is 273\n",
            "The multiple in position 40 is 280\n",
            "The multiple in position 41 is 287\n",
            "The multiple in position 42 is 294\n",
            "The multiple in position 43 is 301\n",
            "The multiple in position 44 is 308\n",
            "The multiple in position 45 is 315\n",
            "The multiple in position 46 is 322\n",
            "The multiple in position 47 is 329\n",
            "The multiple in position 48 is 336\n",
            "The multiple in position 49 is 343\n",
            "The multiple in position 50 is 350\n",
            "The multiple in position 51 is 357\n",
            "The multiple in position 52 is 364\n",
            "The multiple in position 53 is 371\n",
            "The multiple in position 54 is 378\n",
            "The multiple in position 55 is 385\n",
            "The multiple in position 56 is 392\n",
            "The multiple in position 57 is 399\n",
            "The multiple in position 58 is 406\n",
            "The multiple in position 59 is 413\n",
            "The multiple in position 60 is 420\n",
            "The multiple in position 61 is 427\n",
            "The multiple in position 62 is 434\n",
            "The multiple in position 63 is 441\n",
            "The multiple in position 64 is 448\n",
            "The multiple in position 65 is 455\n",
            "The multiple in position 66 is 462\n",
            "The multiple in position 67 is 469\n",
            "The multiple in position 68 is 476\n",
            "The multiple in position 69 is 483\n",
            "The multiple in position 70 is 490\n",
            "The multiple in position 71 is 497\n",
            "The multiple in position 72 is 504\n",
            "The multiple in position 73 is 511\n",
            "The multiple in position 74 is 518\n",
            "The multiple in position 75 is 525\n",
            "The multiple in position 76 is 532\n",
            "The multiple in position 77 is 539\n",
            "The multiple in position 78 is 546\n",
            "The multiple in position 79 is 553\n",
            "The multiple in position 80 is 560\n",
            "The multiple in position 81 is 567\n",
            "The multiple in position 82 is 574\n",
            "The multiple in position 83 is 581\n",
            "The multiple in position 84 is 588\n",
            "The multiple in position 85 is 595\n",
            "The multiple in position 86 is 602\n",
            "The multiple in position 87 is 609\n",
            "The multiple in position 88 is 616\n",
            "The multiple in position 89 is 623\n",
            "The multiple in position 90 is 630\n",
            "The multiple in position 91 is 637\n",
            "The multiple in position 92 is 644\n",
            "The multiple in position 93 is 651\n",
            "The multiple in position 94 is 658\n",
            "The multiple in position 95 is 665\n",
            "The multiple in position 96 is 672\n",
            "The multiple in position 97 is 679\n",
            "The multiple in position 98 is 686\n",
            "The multiple in position 99 is 693\n",
            "The multiple in position 100 is 700\n"
          ]
        }
      ]
    },
    {
      "cell_type": "markdown",
      "source": [
        "## 3. **Naming**"
      ],
      "metadata": {
        "id": "dyFWWR091y7r"
      }
    },
    {
      "cell_type": "code",
      "source": [
        "# A variable with my name\n",
        "Name = 'Fernanda'\n",
        "NaMe = 'Fernanda'\n",
        "NAME = 'Fernanda'\n",
        "my_name = 'Fernanda'\n",
        "name = 'Fernanda'\n",
        "first_name = 'Fernanda'+"
      ],
      "metadata": {
        "id": "sU1TLMtE14ZD"
      },
      "execution_count": null,
      "outputs": []
    },
    {
      "cell_type": "code",
      "source": [
        "age1 = 21"
      ],
      "metadata": {
        "id": "AGHHG_bS37_r"
      },
      "execution_count": null,
      "outputs": []
    },
    {
      "cell_type": "code",
      "source": [
        "age_01 = 21"
      ],
      "metadata": {
        "id": "pI2fTRJf4F17"
      },
      "execution_count": null,
      "outputs": []
    },
    {
      "cell_type": "code",
      "source": [
        "## Let's say I want to create a variable for the price of a cellphone\n",
        "\n",
        "maluma = 100\n",
        "price = 100"
      ],
      "metadata": {
        "id": "x-TPjRBA4jJs"
      },
      "execution_count": null,
      "outputs": []
    },
    {
      "cell_type": "markdown",
      "source": [
        "# **5. Data types**"
      ],
      "metadata": {
        "id": "cXGeAKaS48c8"
      }
    },
    {
      "cell_type": "markdown",
      "source": [
        "Integers and floats... OK."
      ],
      "metadata": {
        "id": "5VjHmOXj5GUV"
      }
    },
    {
      "cell_type": "code",
      "source": [
        "%reset"
      ],
      "metadata": {
        "colab": {
          "base_uri": "https://localhost:8080/"
        },
        "id": "89ycVtqR5Vne",
        "outputId": "0a6c26b5-3177-44d1-edc9-983f67183454"
      },
      "execution_count": null,
      "outputs": [
        {
          "name": "stdout",
          "output_type": "stream",
          "text": [
            "Once deleted, variables cannot be recovered. Proceed (y/[n])? y\n"
          ]
        }
      ]
    },
    {
      "cell_type": "code",
      "source": [
        "w = 1"
      ],
      "metadata": {
        "id": "aB-463kr52h3"
      },
      "execution_count": null,
      "outputs": []
    },
    {
      "cell_type": "code",
      "source": [
        "w += 3\n",
        "print(w)"
      ],
      "metadata": {
        "colab": {
          "base_uri": "https://localhost:8080/"
        },
        "id": "9zPFGFv05NdI",
        "outputId": "debe7db7-76a2-491c-8082-217ec9051b91"
      },
      "execution_count": null,
      "outputs": [
        {
          "output_type": "stream",
          "name": "stdout",
          "text": [
            "7\n"
          ]
        }
      ]
    },
    {
      "cell_type": "markdown",
      "source": [
        "# **5.1. Booleans**"
      ],
      "metadata": {
        "id": "fHhk6rDF6Ns5"
      }
    },
    {
      "cell_type": "code",
      "source": [
        "am_i_alive = False"
      ],
      "metadata": {
        "id": "9OGB-NOS6Vyx"
      },
      "execution_count": null,
      "outputs": []
    },
    {
      "cell_type": "code",
      "source": [
        "print(am_i_alive)\n",
        "print(type(am_i_alive))"
      ],
      "metadata": {
        "colab": {
          "base_uri": "https://localhost:8080/"
        },
        "id": "a3LWA5nG6juS",
        "outputId": "a7b6cab6-7b9d-4f0f-8eee-dc20270dbd9b"
      },
      "execution_count": null,
      "outputs": [
        {
          "output_type": "stream",
          "name": "stdout",
          "text": [
            "False\n",
            "<class 'bool'>\n"
          ]
        }
      ]
    },
    {
      "cell_type": "markdown",
      "source": [
        "## 5.2. Boolean expressions"
      ],
      "metadata": {
        "id": "NYQWhRCe7BjA"
      }
    },
    {
      "cell_type": "code",
      "source": [
        "x = 2\n",
        "y = 3\n"
      ],
      "metadata": {
        "id": "J2ZgikWo7Hi0"
      },
      "execution_count": null,
      "outputs": []
    },
    {
      "cell_type": "code",
      "source": [
        "result1 = x <= y\n",
        "print(result1)"
      ],
      "metadata": {
        "colab": {
          "base_uri": "https://localhost:8080/"
        },
        "id": "MVaHa48J7Q4M",
        "outputId": "952b63ff-ea95-4af0-d859-7182fc7c4d40"
      },
      "execution_count": null,
      "outputs": [
        {
          "output_type": "stream",
          "name": "stdout",
          "text": [
            "True\n"
          ]
        }
      ]
    },
    {
      "cell_type": "code",
      "source": [
        "result2 = x == y\n",
        "print(result2)"
      ],
      "metadata": {
        "colab": {
          "base_uri": "https://localhost:8080/"
        },
        "id": "LumeKR-k8KEw",
        "outputId": "7c614ad9-b754-4366-fe56-243afd386cda"
      },
      "execution_count": null,
      "outputs": [
        {
          "output_type": "stream",
          "name": "stdout",
          "text": [
            "False\n"
          ]
        }
      ]
    },
    {
      "cell_type": "code",
      "source": [
        "result1 + result2"
      ],
      "metadata": {
        "colab": {
          "base_uri": "https://localhost:8080/"
        },
        "id": "tNrLk9jd8SLn",
        "outputId": "52a1c57d-7dd4-4e76-871a-e62a11b4fb7e"
      },
      "execution_count": null,
      "outputs": [
        {
          "output_type": "execute_result",
          "data": {
            "text/plain": [
              "1"
            ]
          },
          "metadata": {},
          "execution_count": 47
        }
      ]
    },
    {
      "cell_type": "code",
      "source": [
        "# Practice\n",
        "# Create the necessary code to evaluate the expression\n",
        "# x*y > x + y\n",
        "# for numbers ranging from 1 to 6\n",
        "\n",
        "for x in range(1, 6):\n",
        "  for y in range(1, 6):\n",
        "    print('is x*y > x + y?')\n",
        "    print('x = ', x,'y = ', y)\n",
        "    print('x*y =', x*y,'x+y =', x+y)\n",
        "    print(x*y > x + y)\n"
      ],
      "metadata": {
        "colab": {
          "base_uri": "https://localhost:8080/"
        },
        "id": "jJb9BGew-RpT",
        "outputId": "8f89159c-ca72-4c74-8d6a-bfe6c667abfd"
      },
      "execution_count": 2,
      "outputs": [
        {
          "output_type": "stream",
          "name": "stdout",
          "text": [
            "is x*y > x + y?\n",
            "x =  1 y =  1\n",
            "x*y = 1 x+y = 2\n",
            "False\n",
            "is x*y > x + y?\n",
            "x =  1 y =  2\n",
            "x*y = 2 x+y = 3\n",
            "False\n",
            "is x*y > x + y?\n",
            "x =  1 y =  3\n",
            "x*y = 3 x+y = 4\n",
            "False\n",
            "is x*y > x + y?\n",
            "x =  1 y =  4\n",
            "x*y = 4 x+y = 5\n",
            "False\n",
            "is x*y > x + y?\n",
            "x =  1 y =  5\n",
            "x*y = 5 x+y = 6\n",
            "False\n",
            "is x*y > x + y?\n",
            "x =  2 y =  1\n",
            "x*y = 2 x+y = 3\n",
            "False\n",
            "is x*y > x + y?\n",
            "x =  2 y =  2\n",
            "x*y = 4 x+y = 4\n",
            "False\n",
            "is x*y > x + y?\n",
            "x =  2 y =  3\n",
            "x*y = 6 x+y = 5\n",
            "True\n",
            "is x*y > x + y?\n",
            "x =  2 y =  4\n",
            "x*y = 8 x+y = 6\n",
            "True\n",
            "is x*y > x + y?\n",
            "x =  2 y =  5\n",
            "x*y = 10 x+y = 7\n",
            "True\n",
            "is x*y > x + y?\n",
            "x =  3 y =  1\n",
            "x*y = 3 x+y = 4\n",
            "False\n",
            "is x*y > x + y?\n",
            "x =  3 y =  2\n",
            "x*y = 6 x+y = 5\n",
            "True\n",
            "is x*y > x + y?\n",
            "x =  3 y =  3\n",
            "x*y = 9 x+y = 6\n",
            "True\n",
            "is x*y > x + y?\n",
            "x =  3 y =  4\n",
            "x*y = 12 x+y = 7\n",
            "True\n",
            "is x*y > x + y?\n",
            "x =  3 y =  5\n",
            "x*y = 15 x+y = 8\n",
            "True\n",
            "is x*y > x + y?\n",
            "x =  4 y =  1\n",
            "x*y = 4 x+y = 5\n",
            "False\n",
            "is x*y > x + y?\n",
            "x =  4 y =  2\n",
            "x*y = 8 x+y = 6\n",
            "True\n",
            "is x*y > x + y?\n",
            "x =  4 y =  3\n",
            "x*y = 12 x+y = 7\n",
            "True\n",
            "is x*y > x + y?\n",
            "x =  4 y =  4\n",
            "x*y = 16 x+y = 8\n",
            "True\n",
            "is x*y > x + y?\n",
            "x =  4 y =  5\n",
            "x*y = 20 x+y = 9\n",
            "True\n",
            "is x*y > x + y?\n",
            "x =  5 y =  1\n",
            "x*y = 5 x+y = 6\n",
            "False\n",
            "is x*y > x + y?\n",
            "x =  5 y =  2\n",
            "x*y = 10 x+y = 7\n",
            "True\n",
            "is x*y > x + y?\n",
            "x =  5 y =  3\n",
            "x*y = 15 x+y = 8\n",
            "True\n",
            "is x*y > x + y?\n",
            "x =  5 y =  4\n",
            "x*y = 20 x+y = 9\n",
            "True\n",
            "is x*y > x + y?\n",
            "x =  5 y =  5\n",
            "x*y = 25 x+y = 10\n",
            "True\n"
          ]
        }
      ]
    },
    {
      "cell_type": "markdown",
      "source": [
        "## 5.4. String Variables"
      ],
      "metadata": {
        "id": "H0bF5O2B2QXJ"
      }
    },
    {
      "cell_type": "code",
      "source": [
        "# Example\n",
        "name = 'Fernanda'\n",
        "last_name = 'Rodríguez'\n",
        "print(type(name))\n",
        "print(last_name)"
      ],
      "metadata": {
        "colab": {
          "base_uri": "https://localhost:8080/"
        },
        "id": "m-hqqYTo2Y_5",
        "outputId": "36aa585a-448b-4eba-a242-04cbbe73f88c"
      },
      "execution_count": 3,
      "outputs": [
        {
          "output_type": "stream",
          "name": "stdout",
          "text": [
            "<class 'str'>\n",
            "Rodríguez\n"
          ]
        }
      ]
    },
    {
      "cell_type": "code",
      "source": [
        "# Example - caution\n",
        "price = '100'\n",
        "print(price)\n",
        "print(price*2)"
      ],
      "metadata": {
        "colab": {
          "base_uri": "https://localhost:8080/"
        },
        "id": "YfTYIasz3YPK",
        "outputId": "e63a6aa3-be7e-4510-a9e2-2490d2b482a3"
      },
      "execution_count": 4,
      "outputs": [
        {
          "output_type": "stream",
          "name": "stdout",
          "text": [
            "100\n",
            "100100\n"
          ]
        }
      ]
    },
    {
      "cell_type": "code",
      "source": [
        "new_price = int(price)\n",
        "print(new_price)"
      ],
      "metadata": {
        "colab": {
          "base_uri": "https://localhost:8080/"
        },
        "id": "4nko5r_94Bka",
        "outputId": "165bb633-e06c-4fbc-fd6f-e6635d1577b4"
      },
      "execution_count": 5,
      "outputs": [
        {
          "output_type": "stream",
          "name": "stdout",
          "text": [
            "100\n"
          ]
        }
      ]
    },
    {
      "cell_type": "code",
      "source": [
        "print(int(last_name))"
      ],
      "metadata": {
        "colab": {
          "base_uri": "https://localhost:8080/",
          "height": 175
        },
        "id": "u7j28GPr4OZS",
        "outputId": "a45336ed-0705-4285-f950-591fff13ae64"
      },
      "execution_count": 6,
      "outputs": [
        {
          "output_type": "error",
          "ename": "ValueError",
          "evalue": "ignored",
          "traceback": [
            "\u001b[0;31m---------------------------------------------------------------------------\u001b[0m",
            "\u001b[0;31mValueError\u001b[0m                                Traceback (most recent call last)",
            "\u001b[0;32m<ipython-input-6-ca335e7fdd72>\u001b[0m in \u001b[0;36m<cell line: 1>\u001b[0;34m()\u001b[0m\n\u001b[0;32m----> 1\u001b[0;31m \u001b[0mprint\u001b[0m\u001b[0;34m(\u001b[0m\u001b[0mint\u001b[0m\u001b[0;34m(\u001b[0m\u001b[0mlast_name\u001b[0m\u001b[0;34m)\u001b[0m\u001b[0;34m)\u001b[0m\u001b[0;34m\u001b[0m\u001b[0;34m\u001b[0m\u001b[0m\n\u001b[0m",
            "\u001b[0;31mValueError\u001b[0m: invalid literal for int() with base 10: 'Rodríguez'"
          ]
        }
      ]
    },
    {
      "cell_type": "markdown",
      "source": [
        "**Slicing**"
      ],
      "metadata": {
        "id": "YnSENJ-C4lrT"
      }
    },
    {
      "cell_type": "code",
      "source": [
        "#Example\n",
        "u = 'Universidad de La Salle'\n",
        "print(u)"
      ],
      "metadata": {
        "colab": {
          "base_uri": "https://localhost:8080/"
        },
        "id": "-6Ew-mCK4syS",
        "outputId": "fd079922-5777-4126-d2aa-17990f4bef59"
      },
      "execution_count": 7,
      "outputs": [
        {
          "output_type": "stream",
          "name": "stdout",
          "text": [
            "Universidad de La Salle\n"
          ]
        }
      ]
    },
    {
      "cell_type": "code",
      "source": [
        "# Slicing\n",
        "print('Extract the first element of u', u[0])\n",
        "print('The space is also an element:', u[11])\n",
        "print('Extract the last element of u', u[-1])\n",
        "print('Extract the first two element of u', u[0:2])\n",
        "print('Extract the last two element of u', u[-2:-1]) #npi"
      ],
      "metadata": {
        "colab": {
          "base_uri": "https://localhost:8080/"
        },
        "id": "utKGZ1D_46Pq",
        "outputId": "45ca4a72-7d6e-4d15-e92e-9b3d3b701b3a"
      },
      "execution_count": 28,
      "outputs": [
        {
          "output_type": "stream",
          "name": "stdout",
          "text": [
            "Extract the first element of u U\n",
            "The space is also an element:  \n",
            "Extract the last element of u e\n",
            "Extract the first two element of u Un\n",
            "Extract the last two element of u l\n"
          ]
        }
      ]
    },
    {
      "cell_type": "markdown",
      "source": [
        "**Method**"
      ],
      "metadata": {
        "id": "h1kwqMNM70Ar"
      }
    },
    {
      "cell_type": "code",
      "source": [
        "# lower case\n",
        "u.lower()"
      ],
      "metadata": {
        "colab": {
          "base_uri": "https://localhost:8080/",
          "height": 35
        },
        "id": "hx76wdmA7528",
        "outputId": "07088f25-8baf-440c-a9f7-37a548831775"
      },
      "execution_count": 29,
      "outputs": [
        {
          "output_type": "execute_result",
          "data": {
            "text/plain": [
              "'universidad de la salle'"
            ],
            "application/vnd.google.colaboratory.intrinsic+json": {
              "type": "string"
            }
          },
          "metadata": {},
          "execution_count": 29
        }
      ]
    },
    {
      "cell_type": "code",
      "source": [
        "# Upper case\n",
        "u.upper()"
      ],
      "metadata": {
        "colab": {
          "base_uri": "https://localhost:8080/",
          "height": 35
        },
        "id": "npMJlWAG8Uf9",
        "outputId": "5da4c67e-d803-431c-ff8f-c0a34597ae7b"
      },
      "execution_count": 30,
      "outputs": [
        {
          "output_type": "execute_result",
          "data": {
            "text/plain": [
              "'UNIVERSIDAD DE LA SALLE'"
            ],
            "application/vnd.google.colaboratory.intrinsic+json": {
              "type": "string"
            }
          },
          "metadata": {},
          "execution_count": 30
        }
      ]
    },
    {
      "cell_type": "code",
      "source": [
        "# Split\n",
        "u.split(' ')"
      ],
      "metadata": {
        "colab": {
          "base_uri": "https://localhost:8080/"
        },
        "id": "_wZbX5LR8zHn",
        "outputId": "7567fa8a-c9c9-4fea-e29e-f3808e7688b0"
      },
      "execution_count": 32,
      "outputs": [
        {
          "output_type": "execute_result",
          "data": {
            "text/plain": [
              "['Universidad', 'de', 'La', 'Salle']"
            ]
          },
          "metadata": {},
          "execution_count": 32
        }
      ]
    },
    {
      "cell_type": "code",
      "source": [
        "u.split(' ')[0]"
      ],
      "metadata": {
        "colab": {
          "base_uri": "https://localhost:8080/",
          "height": 35
        },
        "id": "8-BCXK9w9cJB",
        "outputId": "645cc27f-50b0-4660-cf67-dd5b526b5ee0"
      },
      "execution_count": 33,
      "outputs": [
        {
          "output_type": "execute_result",
          "data": {
            "text/plain": [
              "'Universidad'"
            ],
            "application/vnd.google.colaboratory.intrinsic+json": {
              "type": "string"
            }
          },
          "metadata": {},
          "execution_count": 33
        }
      ]
    }
  ]
}