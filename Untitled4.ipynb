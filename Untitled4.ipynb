{
  "nbformat": 4,
  "nbformat_minor": 0,
  "metadata": {
    "colab": {
      "provenance": [],
      "authorship_tag": "ABX9TyMN2YB0LRDLwGBxQUU+J058",
      "include_colab_link": true
    },
    "kernelspec": {
      "name": "python3",
      "display_name": "Python 3"
    },
    "language_info": {
      "name": "python"
    }
  },
  "cells": [
    {
      "cell_type": "markdown",
      "metadata": {
        "id": "view-in-github",
        "colab_type": "text"
      },
      "source": [
        "<a href=\"https://colab.research.google.com/github/Fernandarodg/CinD_23-II/blob/main/Untitled4.ipynb\" target=\"_parent\"><img src=\"https://colab.research.google.com/assets/colab-badge.svg\" alt=\"Open In Colab\"/></a>"
      ]
    },
    {
      "cell_type": "markdown",
      "source": [
        "## **Data Structures - Pandas**"
      ],
      "metadata": {
        "id": "E45gZLqn_oE7"
      }
    },
    {
      "cell_type": "markdown",
      "source": [
        "## Two types\n",
        "series  - una dimensión\n",
        "Dataframes - more dimensions\n",
        "\n",
        "- corte trasversal / cross-section, Países, indice de felicidad\n",
        "- Serie de tiempo / Time-series: fechas, minutos, segundos, decadas\n",
        "- Panel / Panel de datos muchas fotos, en varias series de tiempo (base de datos de excel)\n",
        "  Dataframes es panel"
      ],
      "metadata": {
        "id": "SwLZPNrj_w_6"
      }
    },
    {
      "cell_type": "code",
      "source": [
        "import numpy as np\n",
        "import pandas as pd"
      ],
      "metadata": {
        "id": "0y2RqkKLB4yG"
      },
      "execution_count": 1,
      "outputs": []
    },
    {
      "cell_type": "markdown",
      "source": [
        "# 2. Pandas Series\n"
      ],
      "metadata": {
        "id": "UUpXeRNSCLAO"
      }
    },
    {
      "cell_type": "markdown",
      "source": [
        "2.1 Series Creation"
      ],
      "metadata": {
        "id": "32Gr3lRnCU8u"
      }
    },
    {
      "cell_type": "code",
      "source": [
        "# Empty series\n",
        "s_empty = pd.Series()\n",
        "print(s_empty)"
      ],
      "metadata": {
        "colab": {
          "base_uri": "https://localhost:8080/"
        },
        "id": "x_3zx64YCY1O",
        "outputId": "33ae5f61-8911-4b91-e713-2b4ea170137c"
      },
      "execution_count": 2,
      "outputs": [
        {
          "output_type": "stream",
          "name": "stdout",
          "text": [
            "Series([], dtype: float64)\n"
          ]
        },
        {
          "output_type": "stream",
          "name": "stderr",
          "text": [
            "<ipython-input-2-6419cb35d0c9>:2: FutureWarning: The default dtype for empty Series will be 'object' instead of 'float64' in a future version. Specify a dtype explicitly to silence this warning.\n",
            "  s_empty = pd.Series()\n"
          ]
        }
      ]
    },
    {
      "cell_type": "code",
      "source": [
        "# A number series\n",
        "s_int = pd.Series([1,2,3,4,5])\n",
        "print(s_int)"
      ],
      "metadata": {
        "colab": {
          "base_uri": "https://localhost:8080/"
        },
        "id": "dlWlQaKvCziV",
        "outputId": "41739f3b-8ee6-4466-9c6d-abdbdf288711"
      },
      "execution_count": 3,
      "outputs": [
        {
          "output_type": "stream",
          "name": "stdout",
          "text": [
            "0    1\n",
            "1    2\n",
            "2    3\n",
            "3    4\n",
            "4    5\n",
            "dtype: int64\n"
          ]
        }
      ]
    },
    {
      "cell_type": "code",
      "source": [
        "# Using random numbers\n",
        "s_rand = pd.Series(np.random.rand(8))\n",
        "print(s_rand)"
      ],
      "metadata": {
        "colab": {
          "base_uri": "https://localhost:8080/"
        },
        "id": "FBAbF-VwDd_Y",
        "outputId": "bb7c91ff-bfa3-44ae-b388-92aab7d3bb6c"
      },
      "execution_count": 5,
      "outputs": [
        {
          "output_type": "stream",
          "name": "stdout",
          "text": [
            "0    0.452177\n",
            "1    0.436677\n",
            "2    0.437760\n",
            "3    0.879461\n",
            "4    0.090831\n",
            "5    0.534653\n",
            "6    0.155949\n",
            "7    0.897862\n",
            "dtype: float64\n"
          ]
        }
      ]
    },
    {
      "cell_type": "code",
      "source": [
        "# ???\n",
        "tmp = pd.Series([1, 'b'])\n",
        "print(tmp)"
      ],
      "metadata": {
        "colab": {
          "base_uri": "https://localhost:8080/"
        },
        "id": "xEv_84_dD3FZ",
        "outputId": "0f19c1fc-c468-4472-b364-d5872e0ad581"
      },
      "execution_count": 6,
      "outputs": [
        {
          "output_type": "stream",
          "name": "stdout",
          "text": [
            "0    1\n",
            "1    b\n",
            "dtype: object\n"
          ]
        }
      ]
    },
    {
      "cell_type": "markdown",
      "source": [
        "# 2.2 Indexing"
      ],
      "metadata": {
        "id": "ItVXVuGCERny"
      }
    },
    {
      "cell_type": "code",
      "source": [
        "# Inditex of s_rand\n",
        "s_rand.index"
      ],
      "metadata": {
        "colab": {
          "base_uri": "https://localhost:8080/"
        },
        "id": "AtnOlr7DEWWq",
        "outputId": "53e95f92-2978-4b36-e5db-c3d8cbe3b592"
      },
      "execution_count": 7,
      "outputs": [
        {
          "output_type": "execute_result",
          "data": {
            "text/plain": [
              "RangeIndex(start=0, stop=8, step=1)"
            ]
          },
          "metadata": {},
          "execution_count": 7
        }
      ]
    },
    {
      "cell_type": "code",
      "source": [
        "# Redefine index\n",
        "index = ['i', 'ii', 'iii', 'iv', 'v', 'vi', 'vii', 'viii']\n",
        "s_rand2 = pd.Series(np.random.rand(8), index = index)\n",
        "print(s_rand2)"
      ],
      "metadata": {
        "colab": {
          "base_uri": "https://localhost:8080/"
        },
        "id": "F3M-O9OMEl1B",
        "outputId": "c3c37510-f593-4e37-de74-686449384e12"
      },
      "execution_count": 10,
      "outputs": [
        {
          "output_type": "stream",
          "name": "stdout",
          "text": [
            "i       0.547995\n",
            "ii      0.881740\n",
            "iii     0.529551\n",
            "iv      0.627488\n",
            "v       0.866051\n",
            "vi      0.997407\n",
            "vii     0.451845\n",
            "viii    0.782937\n",
            "dtype: float64\n"
          ]
        }
      ]
    },
    {
      "cell_type": "markdown",
      "source": [
        "2.3 Sciling"
      ],
      "metadata": {
        "id": "uTnTryrZF5HL"
      }
    },
    {
      "cell_type": "code",
      "source": [
        "# First element\n",
        "s_rand2[['i', 'vii']]"
      ],
      "metadata": {
        "colab": {
          "base_uri": "https://localhost:8080/"
        },
        "id": "ulY-LDuvF7Cr",
        "outputId": "5969b868-e7b7-4180-c792-b9edf8b59a44"
      },
      "execution_count": 13,
      "outputs": [
        {
          "output_type": "execute_result",
          "data": {
            "text/plain": [
              "i      0.547995\n",
              "vii    0.451845\n",
              "dtype: float64"
            ]
          },
          "metadata": {},
          "execution_count": 13
        }
      ]
    },
    {
      "cell_type": "code",
      "source": [
        "#Edit elements\n",
        "s_rand['v'] = 100\n",
        "print(s_rand2)"
      ],
      "metadata": {
        "colab": {
          "base_uri": "https://localhost:8080/"
        },
        "id": "1HavepZ2GmX9",
        "outputId": "5fe555dd-1d0b-401f-8349-1fa5c641376b"
      },
      "execution_count": 23,
      "outputs": [
        {
          "output_type": "stream",
          "name": "stdout",
          "text": [
            "i       0.547995\n",
            "ii      0.881740\n",
            "iii     0.529551\n",
            "iv      0.627488\n",
            "v       0.866051\n",
            "vi      0.997407\n",
            "vii     0.451845\n",
            "viii    0.782937\n",
            "dtype: float64\n"
          ]
        }
      ]
    },
    {
      "cell_type": "code",
      "source": [
        "# Operations\n",
        "s_rand2 / 5"
      ],
      "metadata": {
        "colab": {
          "base_uri": "https://localhost:8080/"
        },
        "id": "Yrk49TEfG5V0",
        "outputId": "abdeeb0e-3b4a-4b7e-943c-4fcda403817c"
      },
      "execution_count": 24,
      "outputs": [
        {
          "output_type": "execute_result",
          "data": {
            "text/plain": [
              "i       0.109599\n",
              "ii      0.176348\n",
              "iii     0.105910\n",
              "iv      0.125498\n",
              "v       0.173210\n",
              "vi      0.199481\n",
              "vii     0.090369\n",
              "viii    0.156587\n",
              "dtype: float64"
            ]
          },
          "metadata": {},
          "execution_count": 24
        }
      ]
    },
    {
      "cell_type": "code",
      "source": [
        "# special\n",
        "np.exp(s_rand2)\n",
        "np.log(s_rand2)"
      ],
      "metadata": {
        "colab": {
          "base_uri": "https://localhost:8080/"
        },
        "id": "YSKi6DIcHRIZ",
        "outputId": "ef2d8b77-b1ef-4cee-e447-ede5e70b2c25"
      },
      "execution_count": 25,
      "outputs": [
        {
          "output_type": "execute_result",
          "data": {
            "text/plain": [
              "i      -0.601489\n",
              "ii     -0.125858\n",
              "iii    -0.635726\n",
              "iv     -0.466031\n",
              "v      -0.143812\n",
              "vi     -0.002596\n",
              "vii    -0.794416\n",
              "viii   -0.244703\n",
              "dtype: float64"
            ]
          },
          "metadata": {},
          "execution_count": 25
        }
      ]
    }
  ]
}