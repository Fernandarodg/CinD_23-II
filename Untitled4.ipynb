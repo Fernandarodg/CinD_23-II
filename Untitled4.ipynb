{
  "nbformat": 4,
  "nbformat_minor": 0,
  "metadata": {
    "colab": {
      "provenance": [],
      "authorship_tag": "ABX9TyNb2VncHnFaY8o0hhw9ai5Q",
      "include_colab_link": true
    },
    "kernelspec": {
      "name": "python3",
      "display_name": "Python 3"
    },
    "language_info": {
      "name": "python"
    }
  },
  "cells": [
    {
      "cell_type": "markdown",
      "metadata": {
        "id": "view-in-github",
        "colab_type": "text"
      },
      "source": [
        "<a href=\"https://colab.research.google.com/github/Fernandarodg/CinD_23-II/blob/main/Untitled4.ipynb\" target=\"_parent\"><img src=\"https://colab.research.google.com/assets/colab-badge.svg\" alt=\"Open In Colab\"/></a>"
      ]
    },
    {
      "cell_type": "markdown",
      "source": [
        "# **1. What is a data structre?**\n",
        "\n",
        "Something that let me store several values\n"
      ],
      "metadata": {
        "id": "UlnXkZnY2pzm"
      }
    },
    {
      "cell_type": "markdown",
      "source": [
        "# **2. Linear Algebra - Numpy**"
      ],
      "metadata": {
        "id": "SbBgBOMh5Hul"
      }
    },
    {
      "cell_type": "markdown",
      "source": [
        "Numpy=Numberical Phyton"
      ],
      "metadata": {
        "id": "MjdrolYQ5QL2"
      }
    },
    {
      "cell_type": "code",
      "source": [
        "# Libraries\n",
        "import numpy as np"
      ],
      "metadata": {
        "id": "Z1oChQow25Tn"
      },
      "execution_count": 1,
      "outputs": []
    },
    {
      "cell_type": "markdown",
      "source": [
        "## 2.1. **Numpy arrays - Vectors and Matrices**"
      ],
      "metadata": {
        "id": "IrjUEx-t6aY4"
      }
    },
    {
      "cell_type": "code",
      "source": [
        "# column Vector\n",
        "x = np.array([[1], [2],[3]])\n",
        "print(x)\n",
        "print(x.shape)"
      ],
      "metadata": {
        "colab": {
          "base_uri": "https://localhost:8080/"
        },
        "id": "BzAUi4rZ6n2Q",
        "outputId": "da34ccfd-a8db-41ff-98ee-2dfa99b66351"
      },
      "execution_count": 2,
      "outputs": [
        {
          "output_type": "stream",
          "name": "stdout",
          "text": [
            "[[1]\n",
            " [2]\n",
            " [3]]\n",
            "(3, 1)\n"
          ]
        }
      ]
    },
    {
      "cell_type": "code",
      "source": [
        "# Row Vector\n",
        "y = np.array([[3, 4, 5]])\n",
        "print (y)\n",
        "print(y.shape)"
      ],
      "metadata": {
        "colab": {
          "base_uri": "https://localhost:8080/"
        },
        "id": "OGI2VZ-78fNt",
        "outputId": "07daff71-822c-40f3-f116-633ba8c7fe63"
      },
      "execution_count": 4,
      "outputs": [
        {
          "output_type": "stream",
          "name": "stdout",
          "text": [
            "[[3 4 5]]\n",
            "(1, 3)\n"
          ]
        }
      ]
    },
    {
      "cell_type": "code",
      "source": [
        "# Matriz\n",
        "M = np.array([[1,2,3],\n",
        "              [4,5,6],\n",
        "              [7,8,9]])\n",
        "print(M)\n",
        "print(M.shape)\n"
      ],
      "metadata": {
        "colab": {
          "base_uri": "https://localhost:8080/"
        },
        "id": "nYmtl4dE9KqY",
        "outputId": "a9f32028-f33d-4aa6-ac65-229951ca3030"
      },
      "execution_count": 14,
      "outputs": [
        {
          "output_type": "stream",
          "name": "stdout",
          "text": [
            "[[1 2 3]\n",
            " [4 5 6]\n",
            " [7 8 9]]\n",
            "(3, 3)\n"
          ]
        }
      ]
    },
    {
      "cell_type": "code",
      "source": [
        "# A nice trick"
      ],
      "metadata": {
        "id": "NlQCbtoS_Dki"
      },
      "execution_count": null,
      "outputs": []
    }
  ]
}