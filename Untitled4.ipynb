{
  "nbformat": 4,
  "nbformat_minor": 0,
  "metadata": {
    "colab": {
      "provenance": [],
      "authorship_tag": "ABX9TyM0FwAgMFjiiT9vml9yoCe8",
      "include_colab_link": true
    },
    "kernelspec": {
      "name": "python3",
      "display_name": "Python 3"
    },
    "language_info": {
      "name": "python"
    }
  },
  "cells": [
    {
      "cell_type": "markdown",
      "metadata": {
        "id": "view-in-github",
        "colab_type": "text"
      },
      "source": [
        "<a href=\"https://colab.research.google.com/github/Fernandarodg/CinD_23-II/blob/main/Untitled4.ipynb\" target=\"_parent\"><img src=\"https://colab.research.google.com/assets/colab-badge.svg\" alt=\"Open In Colab\"/></a>"
      ]
    },
    {
      "cell_type": "markdown",
      "source": [
        "## **Data Structures - Pandas**"
      ],
      "metadata": {
        "id": "E45gZLqn_oE7"
      }
    },
    {
      "cell_type": "markdown",
      "source": [
        "## Two types\n",
        "series  - una dimensión\n",
        "Dataframes - more dimensions\n",
        "\n",
        "- corte trasversal / cross-section, Países, indice de felicidad\n",
        "- Serie de tiempo / Time-series: fechas, minutos, segundos, decadas\n",
        "- Panel / Panel de datos muchas fotos, en varias series de tiempo (base de datos de excel)\n",
        "  Dataframes es panel"
      ],
      "metadata": {
        "id": "SwLZPNrj_w_6"
      }
    },
    {
      "cell_type": "code",
      "source": [
        "import numpy as np\n",
        "import pandas as pd"
      ],
      "metadata": {
        "id": "0y2RqkKLB4yG"
      },
      "execution_count": 5,
      "outputs": []
    },
    {
      "cell_type": "markdown",
      "source": [
        "# 2. Pandas Series\n"
      ],
      "metadata": {
        "id": "UUpXeRNSCLAO"
      }
    },
    {
      "cell_type": "markdown",
      "source": [
        "2.1 Series Creation"
      ],
      "metadata": {
        "id": "32Gr3lRnCU8u"
      }
    },
    {
      "cell_type": "code",
      "source": [
        "# Empty series\n",
        "s_empty = pd.Series()\n",
        "print(s_empty)"
      ],
      "metadata": {
        "colab": {
          "base_uri": "https://localhost:8080/"
        },
        "id": "x_3zx64YCY1O",
        "outputId": "3e5f3387-4223-466e-a1dc-ee6ec402445d"
      },
      "execution_count": 6,
      "outputs": [
        {
          "output_type": "stream",
          "name": "stdout",
          "text": [
            "Series([], dtype: float64)\n"
          ]
        },
        {
          "output_type": "stream",
          "name": "stderr",
          "text": [
            "<ipython-input-6-6419cb35d0c9>:2: FutureWarning: The default dtype for empty Series will be 'object' instead of 'float64' in a future version. Specify a dtype explicitly to silence this warning.\n",
            "  s_empty = pd.Series()\n"
          ]
        }
      ]
    },
    {
      "cell_type": "code",
      "source": [
        "# A number series\n",
        "s_int = pd.Series([1,2,3,4,5])\n",
        "print(s_int)"
      ],
      "metadata": {
        "colab": {
          "base_uri": "https://localhost:8080/"
        },
        "id": "dlWlQaKvCziV",
        "outputId": "c0b64a42-5aae-4f56-ebd6-d681eb8be943"
      },
      "execution_count": 7,
      "outputs": [
        {
          "output_type": "stream",
          "name": "stdout",
          "text": [
            "0    1\n",
            "1    2\n",
            "2    3\n",
            "3    4\n",
            "4    5\n",
            "dtype: int64\n"
          ]
        }
      ]
    },
    {
      "cell_type": "code",
      "source": [
        "# Using random numbers\n",
        "s_rand = pd.Series(np.random.rand(8))\n",
        "print(s_rand)"
      ],
      "metadata": {
        "colab": {
          "base_uri": "https://localhost:8080/"
        },
        "id": "FBAbF-VwDd_Y",
        "outputId": "89cd705e-6053-497d-f07c-d2b75c8060a0"
      },
      "execution_count": 8,
      "outputs": [
        {
          "output_type": "stream",
          "name": "stdout",
          "text": [
            "0    0.021021\n",
            "1    0.264925\n",
            "2    0.557231\n",
            "3    0.060882\n",
            "4    0.656280\n",
            "5    0.438560\n",
            "6    0.326761\n",
            "7    0.680974\n",
            "dtype: float64\n"
          ]
        }
      ]
    },
    {
      "cell_type": "code",
      "source": [
        "# ???\n",
        "tmp = pd.Series([1, 'b'])\n",
        "print(tmp)"
      ],
      "metadata": {
        "colab": {
          "base_uri": "https://localhost:8080/"
        },
        "id": "xEv_84_dD3FZ",
        "outputId": "ddb34eb9-0d25-4f8d-ec3f-6bea4f21f077"
      },
      "execution_count": 9,
      "outputs": [
        {
          "output_type": "stream",
          "name": "stdout",
          "text": [
            "0    1\n",
            "1    b\n",
            "dtype: object\n"
          ]
        }
      ]
    },
    {
      "cell_type": "markdown",
      "source": [
        "# 2.2 Indexing"
      ],
      "metadata": {
        "id": "ItVXVuGCERny"
      }
    },
    {
      "cell_type": "code",
      "source": [
        "# Inditex of s_rand\n",
        "s_rand.index"
      ],
      "metadata": {
        "colab": {
          "base_uri": "https://localhost:8080/"
        },
        "id": "AtnOlr7DEWWq",
        "outputId": "7e9050d3-0331-4226-d3bd-95ef711e5aef"
      },
      "execution_count": 10,
      "outputs": [
        {
          "output_type": "execute_result",
          "data": {
            "text/plain": [
              "RangeIndex(start=0, stop=8, step=1)"
            ]
          },
          "metadata": {},
          "execution_count": 10
        }
      ]
    },
    {
      "cell_type": "code",
      "source": [
        "# Redefine index\n",
        "index = ['i', 'ii', 'iii', 'iv', 'v', 'vi', 'vii', 'viii']\n",
        "s_rand2 = pd.Series(np.random.rand(8), index = index)\n",
        "print(s_rand2)"
      ],
      "metadata": {
        "colab": {
          "base_uri": "https://localhost:8080/"
        },
        "id": "F3M-O9OMEl1B",
        "outputId": "faff448e-48f9-431d-f79c-a56286aa29be"
      },
      "execution_count": 11,
      "outputs": [
        {
          "output_type": "stream",
          "name": "stdout",
          "text": [
            "i       0.548506\n",
            "ii      0.256143\n",
            "iii     0.954538\n",
            "iv      0.695192\n",
            "v       0.381190\n",
            "vi      0.388747\n",
            "vii     0.254645\n",
            "viii    0.274169\n",
            "dtype: float64\n"
          ]
        }
      ]
    },
    {
      "cell_type": "markdown",
      "source": [
        "2.3 Sciling"
      ],
      "metadata": {
        "id": "uTnTryrZF5HL"
      }
    },
    {
      "cell_type": "code",
      "source": [
        "# First element\n",
        "s_rand2[['i', 'vii']]"
      ],
      "metadata": {
        "colab": {
          "base_uri": "https://localhost:8080/"
        },
        "id": "ulY-LDuvF7Cr",
        "outputId": "144e4695-9c25-4e5f-f2e6-e1c395278b7b"
      },
      "execution_count": 12,
      "outputs": [
        {
          "output_type": "execute_result",
          "data": {
            "text/plain": [
              "i      0.548506\n",
              "vii    0.254645\n",
              "dtype: float64"
            ]
          },
          "metadata": {},
          "execution_count": 12
        }
      ]
    },
    {
      "cell_type": "code",
      "source": [
        "#Edit elements\n",
        "s_rand['v'] = 100\n",
        "print(s_rand2)"
      ],
      "metadata": {
        "colab": {
          "base_uri": "https://localhost:8080/"
        },
        "id": "1HavepZ2GmX9",
        "outputId": "74cac85a-dd60-42b2-f21b-6eb6c8b62481"
      },
      "execution_count": 13,
      "outputs": [
        {
          "output_type": "stream",
          "name": "stdout",
          "text": [
            "i       0.548506\n",
            "ii      0.256143\n",
            "iii     0.954538\n",
            "iv      0.695192\n",
            "v       0.381190\n",
            "vi      0.388747\n",
            "vii     0.254645\n",
            "viii    0.274169\n",
            "dtype: float64\n"
          ]
        }
      ]
    },
    {
      "cell_type": "code",
      "source": [
        "# Operations\n",
        "s_rand2 / 5"
      ],
      "metadata": {
        "colab": {
          "base_uri": "https://localhost:8080/"
        },
        "id": "Yrk49TEfG5V0",
        "outputId": "fe648794-7714-40d5-d62e-81da3e9aba8b"
      },
      "execution_count": 14,
      "outputs": [
        {
          "output_type": "execute_result",
          "data": {
            "text/plain": [
              "i       0.109701\n",
              "ii      0.051229\n",
              "iii     0.190908\n",
              "iv      0.139038\n",
              "v       0.076238\n",
              "vi      0.077749\n",
              "vii     0.050929\n",
              "viii    0.054834\n",
              "dtype: float64"
            ]
          },
          "metadata": {},
          "execution_count": 14
        }
      ]
    },
    {
      "cell_type": "code",
      "source": [
        "# special\n",
        "np.exp(s_rand2)\n",
        "np.log(s_rand2)"
      ],
      "metadata": {
        "colab": {
          "base_uri": "https://localhost:8080/"
        },
        "id": "YSKi6DIcHRIZ",
        "outputId": "1e0c5e58-92e6-47ee-a468-003065812a97"
      },
      "execution_count": 15,
      "outputs": [
        {
          "output_type": "execute_result",
          "data": {
            "text/plain": [
              "i      -0.600556\n",
              "ii     -1.362018\n",
              "iii    -0.046528\n",
              "iv     -0.363568\n",
              "v      -0.964458\n",
              "vi     -0.944826\n",
              "vii    -1.367885\n",
              "viii   -1.294010\n",
              "dtype: float64"
            ]
          },
          "metadata": {},
          "execution_count": 15
        }
      ]
    },
    {
      "cell_type": "markdown",
      "source": [
        "## 3.**Pandas Time-series**\n",
        "\n",
        "\n",
        "\n"
      ],
      "metadata": {
        "id": "nLTt1btB75Af"
      }
    },
    {
      "cell_type": "markdown",
      "source": [
        "## 3.1. Create a time index"
      ],
      "metadata": {
        "id": "sbRe_9Dv9-ar"
      }
    },
    {
      "cell_type": "code",
      "source": [
        "#Example\n",
        "pd.date_range(start = '20/09/2023', end = '31/12/2023')"
      ],
      "metadata": {
        "colab": {
          "base_uri": "https://localhost:8080/"
        },
        "id": "47Qo0NRg7_rA",
        "outputId": "442d927d-3623-4e0c-a6ad-09fdc8ac059c"
      },
      "execution_count": 16,
      "outputs": [
        {
          "output_type": "stream",
          "name": "stderr",
          "text": [
            "<ipython-input-16-43e02fff3034>:2: UserWarning: Parsing dates in DD/MM/YYYY format when dayfirst=False (the default) was specified. This may lead to inconsistently parsed dates! Specify a format to ensure consistent parsing.\n",
            "  pd.date_range(start = '20/09/2023', end = '31/12/2023')\n"
          ]
        },
        {
          "output_type": "execute_result",
          "data": {
            "text/plain": [
              "DatetimeIndex(['2023-09-20', '2023-09-21', '2023-09-22', '2023-09-23',\n",
              "               '2023-09-24', '2023-09-25', '2023-09-26', '2023-09-27',\n",
              "               '2023-09-28', '2023-09-29',\n",
              "               ...\n",
              "               '2023-12-22', '2023-12-23', '2023-12-24', '2023-12-25',\n",
              "               '2023-12-26', '2023-12-27', '2023-12-28', '2023-12-29',\n",
              "               '2023-12-30', '2023-12-31'],\n",
              "              dtype='datetime64[ns]', length=103, freq='D')"
            ]
          },
          "metadata": {},
          "execution_count": 16
        }
      ]
    },
    {
      "cell_type": "code",
      "source": [
        "pd.date_range(start = '20/09/2023', periods = 35)"
      ],
      "metadata": {
        "colab": {
          "base_uri": "https://localhost:8080/"
        },
        "id": "M16iYdUh8rbZ",
        "outputId": "e40dd9b9-61fc-4745-c567-8b568f212414"
      },
      "execution_count": 17,
      "outputs": [
        {
          "output_type": "stream",
          "name": "stderr",
          "text": [
            "<ipython-input-17-40212d81bdad>:1: UserWarning: Parsing dates in DD/MM/YYYY format when dayfirst=False (the default) was specified. This may lead to inconsistently parsed dates! Specify a format to ensure consistent parsing.\n",
            "  pd.date_range(start = '20/09/2023', periods = 35)\n"
          ]
        },
        {
          "output_type": "execute_result",
          "data": {
            "text/plain": [
              "DatetimeIndex(['2023-09-20', '2023-09-21', '2023-09-22', '2023-09-23',\n",
              "               '2023-09-24', '2023-09-25', '2023-09-26', '2023-09-27',\n",
              "               '2023-09-28', '2023-09-29', '2023-09-30', '2023-10-01',\n",
              "               '2023-10-02', '2023-10-03', '2023-10-04', '2023-10-05',\n",
              "               '2023-10-06', '2023-10-07', '2023-10-08', '2023-10-09',\n",
              "               '2023-10-10', '2023-10-11', '2023-10-12', '2023-10-13',\n",
              "               '2023-10-14', '2023-10-15', '2023-10-16', '2023-10-17',\n",
              "               '2023-10-18', '2023-10-19', '2023-10-20', '2023-10-21',\n",
              "               '2023-10-22', '2023-10-23', '2023-10-24'],\n",
              "              dtype='datetime64[ns]', freq='D')"
            ]
          },
          "metadata": {},
          "execution_count": 17
        }
      ]
    },
    {
      "cell_type": "code",
      "source": [
        "#Example 3\n",
        "pd.date_range(start = '20/09/2023', periods =35, freq = 'MS')"
      ],
      "metadata": {
        "colab": {
          "base_uri": "https://localhost:8080/"
        },
        "id": "nKaLTpTC81nx",
        "outputId": "435a81f8-4b12-40b2-a583-90e84a250507"
      },
      "execution_count": 19,
      "outputs": [
        {
          "output_type": "stream",
          "name": "stderr",
          "text": [
            "<ipython-input-19-422b016c301b>:2: UserWarning: Parsing dates in DD/MM/YYYY format when dayfirst=False (the default) was specified. This may lead to inconsistently parsed dates! Specify a format to ensure consistent parsing.\n",
            "  pd.date_range(start = '20/09/2023', periods =35, freq = 'MS')\n"
          ]
        },
        {
          "output_type": "execute_result",
          "data": {
            "text/plain": [
              "DatetimeIndex(['2023-10-01', '2023-11-01', '2023-12-01', '2024-01-01',\n",
              "               '2024-02-01', '2024-03-01', '2024-04-01', '2024-05-01',\n",
              "               '2024-06-01', '2024-07-01', '2024-08-01', '2024-09-01',\n",
              "               '2024-10-01', '2024-11-01', '2024-12-01', '2025-01-01',\n",
              "               '2025-02-01', '2025-03-01', '2025-04-01', '2025-05-01',\n",
              "               '2025-06-01', '2025-07-01', '2025-08-01', '2025-09-01',\n",
              "               '2025-10-01', '2025-11-01', '2025-12-01', '2026-01-01',\n",
              "               '2026-02-01', '2026-03-01', '2026-04-01', '2026-05-01',\n",
              "               '2026-06-01', '2026-07-01', '2026-08-01'],\n",
              "              dtype='datetime64[ns]', freq='MS')"
            ]
          },
          "metadata": {},
          "execution_count": 19
        }
      ]
    },
    {
      "cell_type": "code",
      "source": [
        "pd.date_range(start = '20/09/2023', periods =35, freq = 'H')"
      ],
      "metadata": {
        "colab": {
          "base_uri": "https://localhost:8080/"
        },
        "id": "ip1BN_ri9hSK",
        "outputId": "449dac49-5da1-4ed1-eba0-82efe28a60a3"
      },
      "execution_count": 20,
      "outputs": [
        {
          "output_type": "stream",
          "name": "stderr",
          "text": [
            "<ipython-input-20-66095b60fb3b>:1: UserWarning: Parsing dates in DD/MM/YYYY format when dayfirst=False (the default) was specified. This may lead to inconsistently parsed dates! Specify a format to ensure consistent parsing.\n",
            "  pd.date_range(start = '20/09/2023', periods =35, freq = 'H')\n"
          ]
        },
        {
          "output_type": "execute_result",
          "data": {
            "text/plain": [
              "DatetimeIndex(['2023-09-20 00:00:00', '2023-09-20 01:00:00',\n",
              "               '2023-09-20 02:00:00', '2023-09-20 03:00:00',\n",
              "               '2023-09-20 04:00:00', '2023-09-20 05:00:00',\n",
              "               '2023-09-20 06:00:00', '2023-09-20 07:00:00',\n",
              "               '2023-09-20 08:00:00', '2023-09-20 09:00:00',\n",
              "               '2023-09-20 10:00:00', '2023-09-20 11:00:00',\n",
              "               '2023-09-20 12:00:00', '2023-09-20 13:00:00',\n",
              "               '2023-09-20 14:00:00', '2023-09-20 15:00:00',\n",
              "               '2023-09-20 16:00:00', '2023-09-20 17:00:00',\n",
              "               '2023-09-20 18:00:00', '2023-09-20 19:00:00',\n",
              "               '2023-09-20 20:00:00', '2023-09-20 21:00:00',\n",
              "               '2023-09-20 22:00:00', '2023-09-20 23:00:00',\n",
              "               '2023-09-21 00:00:00', '2023-09-21 01:00:00',\n",
              "               '2023-09-21 02:00:00', '2023-09-21 03:00:00',\n",
              "               '2023-09-21 04:00:00', '2023-09-21 05:00:00',\n",
              "               '2023-09-21 06:00:00', '2023-09-21 07:00:00',\n",
              "               '2023-09-21 08:00:00', '2023-09-21 09:00:00',\n",
              "               '2023-09-21 10:00:00'],\n",
              "              dtype='datetime64[ns]', freq='H')"
            ]
          },
          "metadata": {},
          "execution_count": 20
        }
      ]
    },
    {
      "cell_type": "code",
      "source": [
        "#Trimestral\n",
        "pd.date_range(start = '20/10/2023', periods =35, freq = 'Q')"
      ],
      "metadata": {
        "colab": {
          "base_uri": "https://localhost:8080/"
        },
        "id": "pQmZI8kr9mLR",
        "outputId": "3647ef4e-f2c1-40b8-9ed7-beb71920cdcd"
      },
      "execution_count": 22,
      "outputs": [
        {
          "output_type": "stream",
          "name": "stderr",
          "text": [
            "<ipython-input-22-f73dab04c6b6>:2: UserWarning: Parsing dates in DD/MM/YYYY format when dayfirst=False (the default) was specified. This may lead to inconsistently parsed dates! Specify a format to ensure consistent parsing.\n",
            "  pd.date_range(start = '20/10/2023', periods =35, freq = 'Q')\n"
          ]
        },
        {
          "output_type": "execute_result",
          "data": {
            "text/plain": [
              "DatetimeIndex(['2023-12-31', '2024-03-31', '2024-06-30', '2024-09-30',\n",
              "               '2024-12-31', '2025-03-31', '2025-06-30', '2025-09-30',\n",
              "               '2025-12-31', '2026-03-31', '2026-06-30', '2026-09-30',\n",
              "               '2026-12-31', '2027-03-31', '2027-06-30', '2027-09-30',\n",
              "               '2027-12-31', '2028-03-31', '2028-06-30', '2028-09-30',\n",
              "               '2028-12-31', '2029-03-31', '2029-06-30', '2029-09-30',\n",
              "               '2029-12-31', '2030-03-31', '2030-06-30', '2030-09-30',\n",
              "               '2030-12-31', '2031-03-31', '2031-06-30', '2031-09-30',\n",
              "               '2031-12-31', '2032-03-31', '2032-06-30'],\n",
              "              dtype='datetime64[ns]', freq='Q-DEC')"
            ]
          },
          "metadata": {},
          "execution_count": 22
        }
      ]
    },
    {
      "cell_type": "markdown",
      "source": [
        "## 3.2 Create a time-series"
      ],
      "metadata": {
        "id": "BXkVNb_c-F8K"
      }
    },
    {
      "cell_type": "code",
      "source": [
        "#time series 1\n",
        "\n",
        "## Create the time index\n",
        "my_dates = pd.date_range(start = '01/01/2023', periods = 12, freq = 'M')\n",
        "\n",
        "## Create the data\n",
        "data = pd.Series(np.random.rand(12), index = my_dates)\n",
        "print(data)"
      ],
      "metadata": {
        "colab": {
          "base_uri": "https://localhost:8080/"
        },
        "id": "1Q3msjwz-LJ6",
        "outputId": "a1628dd1-3424-47af-e5cf-436daf1b3ad7"
      },
      "execution_count": 31,
      "outputs": [
        {
          "output_type": "stream",
          "name": "stdout",
          "text": [
            "2023-01-31    0.566368\n",
            "2023-02-28    0.497040\n",
            "2023-03-31    0.444244\n",
            "2023-04-30    0.753540\n",
            "2023-05-31    0.146499\n",
            "2023-06-30    0.723649\n",
            "2023-07-31    0.815521\n",
            "2023-08-31    0.469571\n",
            "2023-09-30    0.133414\n",
            "2023-10-31    0.793197\n",
            "2023-11-30    0.570250\n",
            "2023-12-31    0.278223\n",
            "Freq: M, dtype: float64\n"
          ]
        }
      ]
    },
    {
      "cell_type": "code",
      "source": [
        "data['2023-06-30']"
      ],
      "metadata": {
        "colab": {
          "base_uri": "https://localhost:8080/"
        },
        "id": "2g3_mQlY_DCj",
        "outputId": "76ce6a3c-2d41-409e-bc51-b4d2bd425a9b"
      },
      "execution_count": 32,
      "outputs": [
        {
          "output_type": "execute_result",
          "data": {
            "text/plain": [
              "0.7236485784641961"
            ]
          },
          "metadata": {},
          "execution_count": 32
        }
      ]
    },
    {
      "cell_type": "markdown",
      "source": [
        "# **4. Practical case - Simulation**\n"
      ],
      "metadata": {
        "id": "3KNemzJ-AM1o"
      }
    },
    {
      "cell_type": "markdown",
      "source": [
        "## 4.1 Create the simulation"
      ],
      "metadata": {
        "id": "viiWP9kbA7bB"
      }
    },
    {
      "cell_type": "code",
      "source": [
        "# Create dates\n",
        "\n",
        "## Daily dates\n",
        "hoy   = pd.to_datetime('today').strftime('%d-%m-%Y')\n",
        "T     = 1500\n",
        "dates = pd.date_range(end = hoy,  periods = T, freq = 'D')\n"
      ],
      "metadata": {
        "colab": {
          "base_uri": "https://localhost:8080/"
        },
        "id": "bxI1zDu-A6X5",
        "outputId": "61c1aacc-1166-4b29-90cd-4683ce67ef7d"
      },
      "execution_count": 45,
      "outputs": [
        {
          "output_type": "stream",
          "name": "stderr",
          "text": [
            "<ipython-input-45-965921e69c09>:6: UserWarning: Parsing dates in DD/MM/YYYY format when dayfirst=False (the default) was specified. This may lead to inconsistently parsed dates! Specify a format to ensure consistent parsing.\n",
            "  dates = pd.date_range(end = hoy,  periods = T, freq = 'D')\n"
          ]
        }
      ]
    },
    {
      "cell_type": "code",
      "source": [
        "# Create a series of returns  N ~ (mu, sigma)\n",
        "\n",
        "mu    = 0.001\n",
        "sigma = 0.01\n",
        "\n",
        "## Create T iterarions\n",
        "r = np.random.normal(mu, sigma, size = T)\n"
      ],
      "metadata": {
        "id": "zk2hpqBUDz-H"
      },
      "execution_count": 43,
      "outputs": []
    },
    {
      "cell_type": "code",
      "source": [
        "# Create a serie of a financial asset price\n",
        "\n",
        "## Create the array\n",
        "S    = np.empty(T)\n",
        "S[0] = 100    # initial price\n",
        "\n",
        "## fill the rest of the array\n",
        "for i in range(1, T):\n",
        "  S[i] = S[i-1]*np.exp(r[i])"
      ],
      "metadata": {
        "id": "5c8o-w-WFKK6"
      },
      "execution_count": 51,
      "outputs": []
    },
    {
      "cell_type": "code",
      "source": [
        "# Bind the dates with prices\n",
        "S = pd.Series(S, index = dates)"
      ],
      "metadata": {
        "id": "V9_n4F0BHj6Y"
      },
      "execution_count": 53,
      "outputs": []
    },
    {
      "cell_type": "code",
      "source": [
        "# Basic exploration\n",
        "S.head()"
      ],
      "metadata": {
        "colab": {
          "base_uri": "https://localhost:8080/"
        },
        "id": "Qu8FznAtH3Mx",
        "outputId": "bca5f5d5-d33a-4219-e076-627b75b10ea9"
      },
      "execution_count": 56,
      "outputs": [
        {
          "output_type": "execute_result",
          "data": {
            "text/plain": [
              "2019-08-13    100.000000\n",
              "2019-08-14     99.088801\n",
              "2019-08-15     99.063084\n",
              "2019-08-16     99.239672\n",
              "2019-08-17     99.237464\n",
              "Freq: D, dtype: float64"
            ]
          },
          "metadata": {},
          "execution_count": 56
        }
      ]
    },
    {
      "cell_type": "code",
      "source": [
        "S.tail()"
      ],
      "metadata": {
        "colab": {
          "base_uri": "https://localhost:8080/"
        },
        "id": "TIG52lpMIJUS",
        "outputId": "b1e54f86-8437-45e1-cca6-57ee646dcdf9"
      },
      "execution_count": 57,
      "outputs": [
        {
          "output_type": "execute_result",
          "data": {
            "text/plain": [
              "2023-09-16    405.328797\n",
              "2023-09-17    406.666563\n",
              "2023-09-18    409.325964\n",
              "2023-09-19    406.897585\n",
              "2023-09-20    410.158013\n",
              "Freq: D, dtype: float64"
            ]
          },
          "metadata": {},
          "execution_count": 57
        }
      ]
    },
    {
      "cell_type": "markdown",
      "source": [
        "**My first visualization**"
      ],
      "metadata": {
        "id": "LSnbbgyeIvzO"
      }
    },
    {
      "cell_type": "code",
      "source": [
        "import matplotlib.pyplot as plt\n"
      ],
      "metadata": {
        "id": "zOi9uONAIvM-"
      },
      "execution_count": 59,
      "outputs": []
    },
    {
      "cell_type": "code",
      "source": [
        "plt.plot(S)\n",
        "plt.show()"
      ],
      "metadata": {
        "colab": {
          "base_uri": "https://localhost:8080/",
          "height": 435
        },
        "id": "WGO7Of3aJE-P",
        "outputId": "e9b214da-1479-4e78-f5d0-68460fdf5f5f"
      },
      "execution_count": 61,
      "outputs": [
        {
          "output_type": "display_data",
          "data": {
            "text/plain": [
              "<Figure size 640x480 with 1 Axes>"
            ],
            "image/png": "[encoded data removed]"
          },
          "metadata": {}
        }
      ]
    },
    {
      "cell_type": "code",
      "source": [
        "import plotly.express as px"
      ],
      "metadata": {
        "id": "2C4w3YSTKFzw"
      },
      "execution_count": 63,
      "outputs": []
    },
    {
      "cell_type": "code",
      "source": [
        "fig = px.line(S, title = 'Financial Asset')\n",
        "fig.show()"
      ],
      "metadata": {
        "colab": {
          "base_uri": "https://localhost:8080/",
          "height": 542
        },
        "id": "80QuMjRZKQvH",
        "outputId": "a9efd8fb-055d-44d5-bd18-026dae3b5040"
      },
      "execution_count": 64,
      "outputs": [
        {
          "output_type": "display_data",
          "data": {
            "text/html": [
              "<html>\n",
              "<head><meta charset=\"utf-8\" /></head>\n",
              "<body>\n",
              "    <div>            <script src=\"https://cdnjs.cloudflare.com/ajax/libs/mathjax/2.7.5/MathJax.js?config=TeX-AMS-MML_SVG\"></script><script type=\"text/javascript\">if (window.MathJax && window.MathJax.Hub && window.MathJax.Hub.Config) {window.MathJax.Hub.Config({SVG: {font: \"STIX-Web\"}});}</script>                <script type=\"text/javascript\">window.PlotlyConfig = {MathJaxConfig: 'local'};</script>\n",
              "        <script charset=\"utf-8\" src=\"https://cdn.plot.ly/plotly-2.24.1.min.js\"></script>                <div id=\"f4f7bad3-e206-4246-992f-da5582e83b41\" class=\"plotly-graph-div\" style=\"height:525px; width:100%;\"></div>            <script type=\"text/javascript\">                                    window.PLOTLYENV=window.PLOTLYENV || {};                                    if (document.getElementById(\"f4f7bad3-e206-4246-992f-da5582e83b41\")) {                    Plotly.newPlot(                        \"f4f7bad3-e206-4246-992f-da5582e83b41\",                        [{\"hovertemplate\":\"variable=0\\u003cbr\\u003eindex=%{x}\\u003cbr\\u003evalue=%{y}\\u003cextra\\u003e\\u003c\\u002fextra\\u003e\",\"legendgroup\":\"0\",\"line\":{\"color\":\"#636efa\",\"dash\":\"solid\"},\"marker\":{\"symbol\":\"circle\"},\"mode\":\"lines\",\"name\":\"0\",\"showlegend\":true,\"x\":[\"2019-08-13T00:00:00\",\"2019-08-14T00:00:00\",\"2019-08-15T00:00:00\",\"2019-08-16T00:00:00\",\"2019-08-17T00:00:00\",\"2019-08-18T00:00:00\",\"2019-08-19T00:00:00\",\"2019-08-20T00:00:00\",\"2019-08-21T00:00:00\",\"2019-08-22T00:00:00\",\"2019-08-23T00:00:00\",\"2019-08-24T00:00:00\",\"2019-08-25T00:00:00\",\"2019-08-26T00:00:00\",\"2019-08-27T00:00:00\",\"2019-08-28T00:00:00\",\"2019-08-29T00:00:00\",\"2019-08-30T00:00:00\",\"2019-08-31T00:00:00\",\"2019-09-01T00:00:00\",\"2019-09-02T00:00:00\",\"2019-09-03T00:00:00\",\"2019-09-04T00:00:00\",\"2019-09-05T00:00:00\",\"2019-09-06T00:00:00\",\"2019-09-07T00:00:00\",\"2019-09-08T00:00:00\",\"2019-09-09T00:00:00\",\"2019-09-10T00:00:00\",\"2019-09-11T00:00:00\",\"2019-09-12T00:00:00\",\"2019-09-13T00:00:00\",\"2019-09-14T00:00:00\",\"2019-09-15T00:00:00\",\"2019-09-16T00:00:00\",\"2019-09-17T00:00:00\",\"2019-09-18T00:00:00\",\"2019-09-19T00:00:00\",\"2019-09-20T00:00:00\",\"2019-09-21T00:00:00\",\"2019-09-22T00:00:00\",\"2019-09-23T00:00:00\",\"2019-09-24T00:00:00\",\"2019-09-25T00:00:00\",\"2019-09-26T00:00:00\",\"2019-09-27T00:00:00\",\"2019-09-28T00:00:00\",\"2019-09-29T00:00:00\",\"2019-09-30T00:00:00\",\"2019-10-01T00:00:00\",\"2019-10-02T00:00:00\",\"2019-10-03T00:00:00\",\"2019-10-04T00:00:00\",\"2019-10-05T00:00:00\",\"2019-10-06T00:00:00\",\"2019-10-07T00:00:00\",\"2019-10-08T00:00:00\",\"2019-10-09T00:00:00\",\"2019-10-10T00:00:00\",\"2019-10-11T00:00:00\",\"2019-10-12T00:00:00\",\"2019-10-13T00:00:00\",\"2019-10-14T00:00:00\",\"2019-10-15T00:00:00\",\"2019-10-16T00:00:00\",\"2019-10-17T00:00:00\",\"2019-10-18T00:00:00\",\"2019-10-19T00:00:00\",\"2019-10-20T00:00:00\",\"2019-10-21T00:00:00\",\"2019-10-22T00:00:00\",\"2019-10-23T00:00:00\",\"2019-10-24T00:00:00\",\"2019-10-25T00:00:00\",\"2019-10-26T00:00:00\",\"2019-10-27T00:00:00\",\"2019-10-28T00:00:00\",\"2019-10-29T00:00:00\",\"2019-10-30T00:00:00\",\"2019-10-31T00:00:00\",\"2019-11-01T00:00:00\",\"2019-11-02T00:00:00\",\"2019-11-03T00:00:00\",\"2019-11-04T00:00:00\",\"2019-11-05T00:00:00\",\"2019-11-06T00:00:00\",\"2019-11-07T00:00:00\",\"2019-11-08T00:00:00\",\"2019-11-09T00:00:00\",\"2019-11-10T00:00:00\",\"2019-11-11T00:00:00\",\"2019-11-12T00:00:00\",\"2019-11-13T00:00:00\",\"2019-11-14T00:00:00\",\"2019-11-15T00:00:00\",\"2019-11-16T00:00:00\",\"2019-11-17T00:00:00\",\"2019-11-18T00:00:00\",\"2019-11-19T00:00:00\",\"2019-11-20T00:00:00\",\"2019-11-21T00:00:00\",\"2019-11-22T00:00:00\",\"2019-11-23T00:00:00\",\"2019-11-24T00:00:00\",\"2019-11-25T00:00:00\",\"2019-11-26T00:00:00\",\"2019-11-27T00:00:00\",\"2019-11-28T00:00:00\",\"2019-11-29T00:00:00\",\"2019-11-30T00:00:00\",\"2019-12-01T00:00:00\",\"2019-12-02T00:00:00\",\"2019-12-03T00:00:00\",\"2019-12-04T00:00:00\",\"2019-12-05T00:00:00\",\"2019-12-06T00:00:00\",\"2019-12-07T00:00:00\",\"2019-12-08T00:00:00\",\"2019-12-09T00:00:00\",\"2019-12-10T00:00:00\",\"2019-12-11T00:00:00\",\"2019-12-12T00:00:00\",\"2019-12-13T00:00:00\",\"2019-12-14T00:00:00\",\"2019-12-15T00:00:00\",\"2019-12-16T00:00:00\",\"2019-12-17T00:00:00\",\"2019-12-18T00:00:00\",\"2019-12-19T00:00:00\",\"2019-12-20T00:00:00\",\"2019-12-21T00:00:00\",\"2019-12-22T00:00:00\",\"2019-12-23T00:00:00\",\"2019-12-24T00:00:00\",\"2019-12-25T00:00:00\",\"2019-12-26T00:00:00\",\"2019-12-27T00:00:00\",\"2019-12-28T00:00:00\",\"2019-12-29T00:00:00\",\"2019-12-30T00:00:00\",\"2019-12-31T00:00:00\",\"2020-01-01T00:00:00\",\"2020-01-02T00:00:00\",\"2020-01-03T00:00:00\",\"2020-01-04T00:00:00\",\"2020-01-05T00:00:00\",\"2020-01-06T00:00:00\",\"2020-01-07T00:00:00\",\"2020-01-08T00:00:00\",\"2020-01-09T00:00:00\",\"2020-01-10T00:00:00\",\"2020-01-11T00:00:00\",\"2020-01-12T00:00:00\",\"2020-01-13T00:00:00\",\"2020-01-14T00:00:00\",\"2020-01-15T00:00:00\",\"2020-01-16T00:00:00\",\"2020-01-17T00:00:00\",\"2020-01-18T00:00:00\",\"2020-01-19T00:00:00\",\"2020-01-20T00:00:00\",\"2020-01-21T00:00:00\",\"2020-01-22T00:00:00\",\"2020-01-23T00:00:00\",\"2020-01-24T00:00:00\",\"2020-01-25T00:00:00\",\"2020-01-26T00:00:00\",\"2020-01-27T00:00:00\",\"2020-01-28T00:00:00\",\"2020-01-29T00:00:00\",\"2020-01-30T00:00:00\",\"2020-01-31T00:00:00\",\"2020-02-01T00:00:00\",\"2020-02-02T00:00:00\",\"2020-02-03T00:00:00\",\"2020-02-04T00:00:00\",\"2020-02-05T00:00:00\",\"2020-02-06T00:00:00\",\"2020-02-07T00:00:00\",\"2020-02-08T00:00:00\",\"2020-02-09T00:00:00\",\"2020-02-10T00:00:00\",\"2020-02-11T00:00:00\",\"2020-02-12T00:00:00\",\"2020-02-13T00:00:00\",\"2020-02-14T00:00:00\",\"2020-02-15T00:00:00\",\"2020-02-16T00:00:00\",\"2020-02-17T00:00:00\",\"2020-02-18T00:00:00\",\"2020-02-19T00:00:00\",\"2020-02-20T00:00:00\",\"2020-02-21T00:00:00\",\"2020-02-22T00:00:00\",\"2020-02-23T00:00:00\",\"2020-02-24T00:00:00\",\"2020-02-25T00:00:00\",\"2020-02-26T00:00:00\",\"2020-02-27T00:00:00\",\"2020-02-28T00:00:00\",\"2020-02-29T00:00:00\",\"2020-03-01T00:00:00\",\"2020-03-02T00:00:00\",\"2020-03-03T00:00:00\",\"2020-03-04T00:00:00\",\"2020-03-05T00:00:00\",\"2020-03-06T00:00:00\",\"2020-03-07T00:00:00\",\"2020-03-08T00:00:00\",\"2020-03-09T00:00:00\",\"2020-03-10T00:00:00\",\"2020-03-11T00:00:00\",\"2020-03-12T00:00:00\",\"2020-03-13T00:00:00\",\"2020-03-14T00:00:00\",\"2020-03-15T00:00:00\",\"2020-03-16T00:00:00\",\"2020-03-17T00:00:00\",\"2020-03-18T00:00:00\",\"2020-03-19T00:00:00\",\"2020-03-20T00:00:00\",\"2020-03-21T00:00:00\",\"2020-03-22T00:00:00\",\"2020-03-23T00:00:00\",\"2020-03-24T00:00:00\",\"2020-03-25T00:00:00\",\"2020-03-26T00:00:00\",\"2020-03-27T00:00:00\",\"2020-03-28T00:00:00\",\"2020-03-29T00:00:00\",\"2020-03-30T00:00:00\",\"2020-03-31T00:00:00\",\"2020-04-01T00:00:00\",\"2020-04-02T00:00:00\",\"2020-04-03T00:00:00\",\"2020-04-04T00:00:00\",\"2020-04-05T00:00:00\",\"2020-04-06T00:00:00\",\"2020-04-07T00:00:00\",\"2020-04-08T00:00:00\",\"2020-04-09T00:00:00\",\"2020-04-10T00:00:00\",\"2020-04-11T00:00:00\",\"2020-04-12T00:00:00\",\"2020-04-13T00:00:00\",\"2020-04-14T00:00:00\",\"2020-04-15T00:00:00\",\"2020-04-16T00:00:00\",\"2020-04-17T00:00:00\",\"2020-04-18T00:00:00\",\"2020-04-19T00:00:00\",\"2020-04-20T00:00:00\",\"2020-04-21T00:00:00\",\"2020-04-22T00:00:00\",\"2020-04-23T00:00:00\",\"2020-04-24T00:00:00\",\"2020-04-25T00:00:00\",\"2020-04-26T00:00:00\",\"2020-04-27T00:00:00\",\"2020-04-28T00:00:00\",\"2020-04-29T00:00:00\",\"2020-04-30T00:00:00\",\"2020-05-01T00:00:00\",\"2020-05-02T00:00:00\",\"2020-05-03T00:00:00\",\"2020-05-04T00:00:00\",\"2020-05-05T00:00:00\",\"2020-05-06T00:00:00\",\"2020-05-07T00:00:00\",\"2020-05-08T00:00:00\",\"2020-05-09T00:00:00\",\"2020-05-10T00:00:00\",\"2020-05-11T00:00:00\",\"2020-05-12T00:00:00\",\"2020-05-13T00:00:00\",\"2020-05-14T00:00:00\",\"2020-05-15T00:00:00\",\"2020-05-16T00:00:00\",\"2020-05-17T00:00:00\",\"2020-05-18T00:00:00\",\"2020-05-19T00:00:00\",\"2020-05-20T00:00:00\",\"2020-05-21T00:00:00\",\"2020-05-22T00:00:00\",\"2020-05-23T00:00:00\",\"2020-05-24T00:00:00\",\"2020-05-25T00:00:00\",\"2020-05-26T00:00:00\",\"2020-05-27T00:00:00\",\"2020-05-28T00:00:00\",\"2020-05-29T00:00:00\",\"2020-05-30T00:00:00\",\"2020-05-31T00:00:00\",\"2020-06-01T00:00:00\",\"2020-06-02T00:00:00\",\"2020-06-03T00:00:00\",\"2020-06-04T00:00:00\",\"2020-06-05T00:00:00\",\"2020-06-06T00:00:00\",\"2020-06-07T00:00:00\",\"2020-06-08T00:00:00\",\"2020-06-09T00:00:00\",\"2020-06-10T00:00:00\",\"2020-06-11T00:00:00\",\"2020-06-12T00:00:00\",\"2020-06-13T00:00:00\",\"2020-06-14T00:00:00\",\"2020-06-15T00:00:00\",\"2020-06-16T00:00:00\",\"2020-06-17T00:00:00\",\"2020-06-18T00:00:00\",\"2020-06-19T00:00:00\",\"2020-06-20T00:00:00\",\"2020-06-21T00:00:00\",\"2020-06-22T00:00:00\",\"2020-06-23T00:00:00\",\"2020-06-24T00:00:00\",\"2020-06-25T00:00:00\",\"2020-06-26T00:00:00\",\"2020-06-27T00:00:00\",\"2020-06-28T00:00:00\",\"2020-06-29T00:00:00\",\"2020-06-30T00:00:00\",\"2020-07-01T00:00:00\",\"2020-07-02T00:00:00\",\"2020-07-03T00:00:00\",\"2020-07-04T00:00:00\",\"2020-07-05T00:00:00\",\"2020-07-06T00:00:00\",\"2020-07-07T00:00:00\",\"2020-07-08T00:00:00\",\"2020-07-09T00:00:00\",\"2020-07-10T00:00:00\",\"2020-07-11T00:00:00\",\"2020-07-12T00:00:00\",\"2020-07-13T00:00:00\",\"2020-07-14T00:00:00\",\"2020-07-15T00:00:00\",\"2020-07-16T00:00:00\",\"2020-07-17T00:00:00\",\"2020-07-18T00:00:00\",\"2020-07-19T00:00:00\",\"2020-07-20T00:00:00\",\"2020-07-21T00:00:00\",\"2020-07-22T00:00:00\",\"2020-07-23T00:00:00\",\"2020-07-24T00:00:00\",\"2020-07-25T00:00:00\",\"2020-07-26T00:00:00\",\"2020-07-27T00:00:00\",\"2020-07-28T00:00:00\",\"2020-07-29T00:00:00\",\"2020-07-30T00:00:00\",\"2020-07-31T00:00:00\",\"2020-08-01T00:00:00\",\"2020-08-02T00:00:00\",\"2020-08-03T00:00:00\",\"2020-08-04T00:00:00\",\"2020-08-05T00:00:00\",\"2020-08-06T00:00:00\",\"2020-08-07T00:00:00\",\"2020-08-08T00:00:00\",\"2020-08-09T00:00:00\",\"2020-08-10T00:00:00\",\"2020-08-11T00:00:00\",\"2020-08-12T00:00:00\",\"2020-08-13T00:00:00\",\"2020-08-14T00:00:00\",\"2020-08-15T00:00:00\",\"2020-08-16T00:00:00\",\"2020-08-17T00:00:00\",\"2020-08-18T00:00:00\",\"2020-08-19T00:00:00\",\"2020-08-20T00:00:00\",\"2020-08-21T00:00:00\",\"2020-08-22T00:00:00\",\"2020-08-23T00:00:00\",\"2020-08-24T00:00:00\",\"2020-08-25T00:00:00\",\"2020-08-26T00:00:00\",\"2020-08-27T00:00:00\",\"2020-08-28T00:00:00\",\"2020-08-29T00:00:00\",\"2020-08-30T00:00:00\",\"2020-08-31T00:00:00\",\"2020-09-01T00:00:00\",\"2020-09-02T00:00:00\",\"2020-09-03T00:00:00\",\"2020-09-04T00:00:00\",\"2020-09-05T00:00:00\",\"2020-09-06T00:00:00\",\"2020-09-07T00:00:00\",\"2020-09-08T00:00:00\",\"2020-09-09T00:00:00\",\"2020-09-10T00:00:00\",\"2020-09-11T00:00:00\",\"2020-09-12T00:00:00\",\"2020-09-13T00:00:00\",\"2020-09-14T00:00:00\",\"2020-09-15T00:00:00\",\"2020-09-16T00:00:00\",\"2020-09-17T00:00:00\",\"2020-09-18T00:00:00\",\"2020-09-19T00:00:00\",\"2020-09-20T00:00:00\",\"2020-09-21T00:00:00\",\"2020-09-22T00:00:00\",\"2020-09-23T00:00:00\",\"2020-09-24T00:00:00\",\"2020-09-25T00:00:00\",\"2020-09-26T00:00:00\",\"2020-09-27T00:00:00\",\"2020-09-28T00:00:00\",\"2020-09-29T00:00:00\",\"2020-09-30T00:00:00\",\"2020-10-01T00:00:00\",\"2020-10-02T00:00:00\",\"2020-10-03T00:00:00\",\"2020-10-04T00:00:00\",\"2020-10-05T00:00:00\",\"2020-10-06T00:00:00\",\"2020-10-07T00:00:00\",\"2020-10-08T00:00:00\",\"2020-10-09T00:00:00\",\"2020-10-10T00:00:00\",\"2020-10-11T00:00:00\",\"2020-10-12T00:00:00\",\"2020-10-13T00:00:00\",\"2020-10-14T00:00:00\",\"2020-10-15T00:00:00\",\"2020-10-16T00:00:00\",\"2020-10-17T00:00:00\",\"2020-10-18T00:00:00\",\"2020-10-19T00:00:00\",\"2020-10-20T00:00:00\",\"2020-10-21T00:00:00\",\"2020-10-22T00:00:00\",\"2020-10-23T00:00:00\",\"2020-10-24T00:00:00\",\"2020-10-25T00:00:00\",\"2020-10-26T00:00:00\",\"2020-10-27T00:00:00\",\"2020-10-28T00:00:00\",\"2020-10-29T00:00:00\",\"2020-10-30T00:00:00\",\"2020-10-31T00:00:00\",\"2020-11-01T00:00:00\",\"2020-11-02T00:00:00\",\"2020-11-03T00:00:00\",\"2020-11-04T00:00:00\",\"2020-11-05T00:00:00\",\"2020-11-06T00:00:00\",\"2020-11-07T00:00:00\",\"2020-11-08T00:00:00\",\"2020-11-09T00:00:00\",\"2020-11-10T00:00:00\",\"2020-11-11T00:00:00\",\"2020-11-12T00:00:00\",\"2020-11-13T00:00:00\",\"2020-11-14T00:00:00\",\"2020-11-15T00:00:00\",\"2020-11-16T00:00:00\",\"2020-11-17T00:00:00\",\"2020-11-18T00:00:00\",\"2020-11-19T00:00:00\",\"2020-11-20T00:00:00\",\"2020-11-21T00:00:00\",\"2020-11-22T00:00:00\",\"2020-11-23T00:00:00\",\"2020-11-24T00:00:00\",\"2020-11-25T00:00:00\",\"2020-11-26T00:00:00\",\"2020-11-27T00:00:00\",\"2020-11-28T00:00:00\",\"2020-11-29T00:00:00\",\"2020-11-30T00:00:00\",\"2020-12-01T00:00:00\",\"2020-12-02T00:00:00\",\"2020-12-03T00:00:00\",\"2020-12-04T00:00:00\",\"2020-12-05T00:00:00\",\"2020-12-06T00:00:00\",\"2020-12-07T00:00:00\",\"2020-12-08T00:00:00\",\"2020-12-09T00:00:00\",\"2020-12-10T00:00:00\",\"2020-12-11T00:00:00\",\"2020-12-12T00:00:00\",\"2020-12-13T00:00:00\",\"2020-12-14T00:00:00\",\"2020-12-15T00:00:00\",\"2020-12-16T00:00:00\",\"2020-12-17T00:00:00\",\"2020-12-18T00:00:00\",\"2020-12-19T00:00:00\",\"2020-12-20T00:00:00\",\"2020-12-21T00:00:00\",\"2020-12-22T00:00:00\",\"2020-12-23T00:00:00\",\"2020-12-24T00:00:00\",\"2020-12-25T00:00:00\",\"2020-12-26T00:00:00\",\"2020-12-27T00:00:00\",\"2020-12-28T00:00:00\",\"2020-12-29T00:00:00\",\"2020-12-30T00:00:00\",\"2020-12-31T00:00:00\",\"2021-01-01T00:00:00\",\"2021-01-02T00:00:00\",\"2021-01-03T00:00:00\",\"2021-01-04T00:00:00\",\"2021-01-05T00:00:00\",\"2021-01-06T00:00:00\",\"2021-01-07T00:00:00\",\"2021-01-08T00:00:00\",\"2021-01-09T00:00:00\",\"2021-01-10T00:00:00\",\"2021-01-11T00:00:00\",\"2021-01-12T00:00:00\",\"2021-01-13T00:00:00\",\"2021-01-14T00:00:00\",\"2021-01-15T00:00:00\",\"2021-01-16T00:00:00\",\"2021-01-17T00:00:00\",\"2021-01-18T00:00:00\",\"2021-01-19T00:00:00\",\"2021-01-20T00:00:00\",\"2021-01-21T00:00:00\",\"2021-01-22T00:00:00\",\"2021-01-23T00:00:00\",\"2021-01-24T00:00:00\",\"2021-01-25T00:00:00\",\"2021-01-26T00:00:00\",\"2021-01-27T00:00:00\",\"2021-01-28T00:00:00\",\"2021-01-29T00:00:00\",\"2021-01-30T00:00:00\",\"2021-01-31T00:00:00\",\"2021-02-01T00:00:00\",\"2021-02-02T00:00:00\",\"2021-02-03T00:00:00\",\"2021-02-04T00:00:00\",\"2021-02-05T00:00:00\",\"2021-02-06T00:00:00\",\"2021-02-07T00:00:00\",\"2021-02-08T00:00:00\",\"2021-02-09T00:00:00\",\"2021-02-10T00:00:00\",\"2021-02-11T00:00:00\",\"2021-02-12T00:00:00\",\"2021-02-13T00:00:00\",\"2021-02-14T00:00:00\",\"2021-02-15T00:00:00\",\"2021-02-16T00:00:00\",\"2021-02-17T00:00:00\",\"2021-02-18T00:00:00\",\"2021-02-19T00:00:00\",\"2021-02-20T00:00:00\",\"2021-02-21T00:00:00\",\"2021-02-22T00:00:00\",\"2021-02-23T00:00:00\",\"2021-02-24T00:00:00\",\"2021-02-25T00:00:00\",\"2021-02-26T00:00:00\",\"2021-02-27T00:00:00\",\"2021-02-28T00:00:00\",\"2021-03-01T00:00:00\",\"2021-03-02T00:00:00\",\"2021-03-03T00:00:00\",\"2021-03-04T00:00:00\",\"2021-03-05T00:00:00\",\"2021-03-06T00:00:00\",\"2021-03-07T00:00:00\",\"2021-03-08T00:00:00\",\"2021-03-09T00:00:00\",\"2021-03-10T00:00:00\",\"2021-03-11T00:00:00\",\"2021-03-12T00:00:00\",\"2021-03-13T00:00:00\",\"2021-03-14T00:00:00\",\"2021-03-15T00:00:00\",\"2021-03-16T00:00:00\",\"2021-03-17T00:00:00\",\"2021-03-18T00:00:00\",\"2021-03-19T00:00:00\",\"2021-03-20T00:00:00\",\"2021-03-21T00:00:00\",\"2021-03-22T00:00:00\",\"2021-03-23T00:00:00\",\"2021-03-24T00:00:00\",\"2021-03-25T00:00:00\",\"2021-03-26T00:00:00\",\"2021-03-27T00:00:00\",\"2021-03-28T00:00:00\",\"2021-03-29T00:00:00\",\"2021-03-30T00:00:00\",\"2021-03-31T00:00:00\",\"2021-04-01T00:00:00\",\"2021-04-02T00:00:00\",\"2021-04-03T00:00:00\",\"2021-04-04T00:00:00\",\"2021-04-05T00:00:00\",\"2021-04-06T00:00:00\",\"2021-04-07T00:00:00\",\"2021-04-08T00:00:00\",\"2021-04-09T00:00:00\",\"2021-04-10T00:00:00\",\"2021-04-11T00:00:00\",\"2021-04-12T00:00:00\",\"2021-04-13T00:00:00\",\"2021-04-14T00:00:00\",\"2021-04-15T00:00:00\",\"2021-04-16T00:00:00\",\"2021-04-17T00:00:00\",\"2021-04-18T00:00:00\",\"2021-04-19T00:00:00\",\"2021-04-20T00:00:00\",\"2021-04-21T00:00:00\",\"2021-04-22T00:00:00\",\"2021-04-23T00:00:00\",\"2021-04-24T00:00:00\",\"2021-04-25T00:00:00\",\"2021-04-26T00:00:00\",\"2021-04-27T00:00:00\",\"2021-04-28T00:00:00\",\"2021-04-29T00:00:00\",\"2021-04-30T00:00:00\",\"2021-05-01T00:00:00\",\"2021-05-02T00:00:00\",\"2021-05-03T00:00:00\",\"2021-05-04T00:00:00\",\"2021-05-05T00:00:00\",\"2021-05-06T00:00:00\",\"2021-05-07T00:00:00\",\"2021-05-08T00:00:00\",\"2021-05-09T00:00:00\",\"2021-05-10T00:00:00\",\"2021-05-11T00:00:00\",\"2021-05-12T00:00:00\",\"2021-05-13T00:00:00\",\"2021-05-14T00:00:00\",\"2021-05-15T00:00:00\",\"2021-05-16T00:00:00\",\"2021-05-17T00:00:00\",\"2021-05-18T00:00:00\",\"2021-05-19T00:00:00\",\"2021-05-20T00:00:00\",\"2021-05-21T00:00:00\",\"2021-05-22T00:00:00\",\"2021-05-23T00:00:00\",\"2021-05-24T00:00:00\",\"2021-05-25T00:00:00\",\"2021-05-26T00:00:00\",\"2021-05-27T00:00:00\",\"2021-05-28T00:00:00\",\"2021-05-29T00:00:00\",\"2021-05-30T00:00:00\",\"2021-05-31T00:00:00\",\"2021-06-01T00:00:00\",\"2021-06-02T00:00:00\",\"2021-06-03T00:00:00\",\"2021-06-04T00:00:00\",\"2021-06-05T00:00:00\",\"2021-06-06T00:00:00\",\"2021-06-07T00:00:00\",\"2021-06-08T00:00:00\",\"2021-06-09T00:00:00\",\"2021-06-10T00:00:00\",\"2021-06-11T00:00:00\",\"2021-06-12T00:00:00\",\"2021-06-13T00:00:00\",\"2021-06-14T00:00:00\",\"2021-06-15T00:00:00\",\"2021-06-16T00:00:00\",\"2021-06-17T00:00:00\",\"2021-06-18T00:00:00\",\"2021-06-19T00:00:00\",\"2021-06-20T00:00:00\",\"2021-06-21T00:00:00\",\"2021-06-22T00:00:00\",\"2021-06-23T00:00:00\",\"2021-06-24T00:00:00\",\"2021-06-25T00:00:00\",\"2021-06-26T00:00:00\",\"2021-06-27T00:00:00\",\"2021-06-28T00:00:00\",\"2021-06-29T00:00:00\",\"2021-06-30T00:00:00\",\"2021-07-01T00:00:00\",\"2021-07-02T00:00:00\",\"2021-07-03T00:00:00\",\"2021-07-04T00:00:00\",\"2021-07-05T00:00:00\",\"2021-07-06T00:00:00\",\"2021-07-07T00:00:00\",\"2021-07-08T00:00:00\",\"2021-07-09T00:00:00\",\"2021-07-10T00:00:00\",\"2021-07-11T00:00:00\",\"2021-07-12T00:00:00\",\"2021-07-13T00:00:00\",\"2021-07-14T00:00:00\",\"2021-07-15T00:00:00\",\"2021-07-16T00:00:00\",\"2021-07-17T00:00:00\",\"2021-07-18T00:00:00\",\"2021-07-19T00:00:00\",\"2021-07-20T00:00:00\",\"2021-07-21T00:00:00\",\"2021-07-22T00:00:00\",\"2021-07-23T00:00:00\",\"2021-07-24T00:00:00\",\"2021-07-25T00:00:00\",\"2021-07-26T00:00:00\",\"2021-07-27T00:00:00\",\"2021-07-28T00:00:00\",\"2021-07-29T00:00:00\",\"2021-07-30T00:00:00\",\"2021-07-31T00:00:00\",\"2021-08-01T00:00:00\",\"2021-08-02T00:00:00\",\"2021-08-03T00:00:00\",\"2021-08-04T00:00:00\",\"2021-08-05T00:00:00\",\"2021-08-06T00:00:00\",\"2021-08-07T00:00:00\",\"2021-08-08T00:00:00\",\"2021-08-09T00:00:00\",\"2021-08-10T00:00:00\",\"2021-08-11T00:00:00\",\"2021-08-12T00:00:00\",\"2021-08-13T00:00:00\",\"2021-08-14T00:00:00\",\"2021-08-15T00:00:00\",\"2021-08-16T00:00:00\",\"2021-08-17T00:00:00\",\"2021-08-18T00:00:00\",\"2021-08-19T00:00:00\",\"2021-08-20T00:00:00\",\"2021-08-21T00:00:00\",\"2021-08-22T00:00:00\",\"2021-08-23T00:00:00\",\"2021-08-24T00:00:00\",\"2021-08-25T00:00:00\",\"2021-08-26T00:00:00\",\"2021-08-27T00:00:00\",\"2021-08-28T00:00:00\",\"2021-08-29T00:00:00\",\"2021-08-30T00:00:00\",\"2021-08-31T00:00:00\",\"2021-09-01T00:00:00\",\"2021-09-02T00:00:00\",\"2021-09-03T00:00:00\",\"2021-09-04T00:00:00\",\"2021-09-05T00:00:00\",\"2021-09-06T00:00:00\",\"2021-09-07T00:00:00\",\"2021-09-08T00:00:00\",\"2021-09-09T00:00:00\",\"2021-09-10T00:00:00\",\"2021-09-11T00:00:00\",\"2021-09-12T00:00:00\",\"2021-09-13T00:00:00\",\"2021-09-14T00:00:00\",\"2021-09-15T00:00:00\",\"2021-09-16T00:00:00\",\"2021-09-17T00:00:00\",\"2021-09-18T00:00:00\",\"2021-09-19T00:00:00\",\"2021-09-20T00:00:00\",\"2021-09-21T00:00:00\",\"2021-09-22T00:00:00\",\"2021-09-23T00:00:00\",\"2021-09-24T00:00:00\",\"2021-09-25T00:00:00\",\"2021-09-26T00:00:00\",\"2021-09-27T00:00:00\",\"2021-09-28T00:00:00\",\"2021-09-29T00:00:00\",\"2021-09-30T00:00:00\",\"2021-10-01T00:00:00\",\"2021-10-02T00:00:00\",\"2021-10-03T00:00:00\",\"2021-10-04T00:00:00\",\"2021-10-05T00:00:00\",\"2021-10-06T00:00:00\",\"2021-10-07T00:00:00\",\"2021-10-08T00:00:00\",\"2021-10-09T00:00:00\",\"2021-10-10T00:00:00\",\"2021-10-11T00:00:00\",\"2021-10-12T00:00:00\",\"2021-10-13T00:00:00\",\"2021-10-14T00:00:00\",\"2021-10-15T00:00:00\",\"2021-10-16T00:00:00\",\"2021-10-17T00:00:00\",\"2021-10-18T00:00:00\",\"2021-10-19T00:00:00\",\"2021-10-20T00:00:00\",\"2021-10-21T00:00:00\",\"2021-10-22T00:00:00\",\"2021-10-23T00:00:00\",\"2021-10-24T00:00:00\",\"2021-10-25T00:00:00\",\"2021-10-26T00:00:00\",\"2021-10-27T00:00:00\",\"2021-10-28T00:00:00\",\"2021-10-29T00:00:00\",\"2021-10-30T00:00:00\",\"2021-10-31T00:00:00\",\"2021-11-01T00:00:00\",\"2021-11-02T00:00:00\",\"2021-11-03T00:00:00\",\"2021-11-04T00:00:00\",\"2021-11-05T00:00:00\",\"2021-11-06T00:00:00\",\"2021-11-07T00:00:00\",\"2021-11-08T00:00:00\",\"2021-11-09T00:00:00\",\"2021-11-10T00:00:00\",\"2021-11-11T00:00:00\",\"2021-11-12T00:00:00\",\"2021-11-13T00:00:00\",\"2021-11-14T00:00:00\",\"2021-11-15T00:00:00\",\"2021-11-16T00:00:00\",\"2021-11-17T00:00:00\",\"2021-11-18T00:00:00\",\"2021-11-19T00:00:00\",\"2021-11-20T00:00:00\",\"2021-11-21T00:00:00\",\"2021-11-22T00:00:00\",\"2021-11-23T00:00:00\",\"2021-11-24T00:00:00\",\"2021-11-25T00:00:00\",\"2021-11-26T00:00:00\",\"2021-11-27T00:00:00\",\"2021-11-28T00:00:00\",\"2021-11-29T00:00:00\",\"2021-11-30T00:00:00\",\"2021-12-01T00:00:00\",\"2021-12-02T00:00:00\",\"2021-12-03T00:00:00\",\"2021-12-04T00:00:00\",\"2021-12-05T00:00:00\",\"2021-12-06T00:00:00\",\"2021-12-07T00:00:00\",\"2021-12-08T00:00:00\",\"2021-12-09T00:00:00\",\"2021-12-10T00:00:00\",\"2021-12-11T00:00:00\",\"2021-12-12T00:00:00\",\"2021-12-13T00:00:00\",\"2021-12-14T00:00:00\",\"2021-12-15T00:00:00\",\"2021-12-16T00:00:00\",\"2021-12-17T00:00:00\",\"2021-12-18T00:00:00\",\"2021-12-19T00:00:00\",\"2021-12-20T00:00:00\",\"2021-12-21T00:00:00\",\"2021-12-22T00:00:00\",\"2021-12-23T00:00:00\",\"2021-12-24T00:00:00\",\"2021-12-25T00:00:00\",\"2021-12-26T00:00:00\",\"2021-12-27T00:00:00\",\"2021-12-28T00:00:00\",\"2021-12-29T00:00:00\",\"2021-12-30T00:00:00\",\"2021-12-31T00:00:00\",\"2022-01-01T00:00:00\",\"2022-01-02T00:00:00\",\"2022-01-03T00:00:00\",\"2022-01-04T00:00:00\",\"2022-01-05T00:00:00\",\"2022-01-06T00:00:00\",\"2022-01-07T00:00:00\",\"2022-01-08T00:00:00\",\"2022-01-09T00:00:00\",\"2022-01-10T00:00:00\",\"2022-01-11T00:00:00\",\"2022-01-12T00:00:00\",\"2022-01-13T00:00:00\",\"2022-01-14T00:00:00\",\"2022-01-15T00:00:00\",\"2022-01-16T00:00:00\",\"2022-01-17T00:00:00\",\"2022-01-18T00:00:00\",\"2022-01-19T00:00:00\",\"2022-01-20T00:00:00\",\"2022-01-21T00:00:00\",\"2022-01-22T00:00:00\",\"2022-01-23T00:00:00\",\"2022-01-24T00:00:00\",\"2022-01-25T00:00:00\",\"2022-01-26T00:00:00\",\"2022-01-27T00:00:00\",\"2022-01-28T00:00:00\",\"2022-01-29T00:00:00\",\"2022-01-30T00:00:00\",\"2022-01-31T00:00:00\",\"2022-02-01T00:00:00\",\"2022-02-02T00:00:00\",\"2022-02-03T00:00:00\",\"2022-02-04T00:00:00\",\"2022-02-05T00:00:00\",\"2022-02-06T00:00:00\",\"2022-02-07T00:00:00\",\"2022-02-08T00:00:00\",\"2022-02-09T00:00:00\",\"2022-02-10T00:00:00\",\"2022-02-11T00:00:00\",\"2022-02-12T00:00:00\",\"2022-02-13T00:00:00\",\"2022-02-14T00:00:00\",\"2022-02-15T00:00:00\",\"2022-02-16T00:00:00\",\"2022-02-17T00:00:00\",\"2022-02-18T00:00:00\",\"2022-02-19T00:00:00\",\"2022-02-20T00:00:00\",\"2022-02-21T00:00:00\",\"2022-02-22T00:00:00\",\"2022-02-23T00:00:00\",\"2022-02-24T00:00:00\",\"2022-02-25T00:00:00\",\"2022-02-26T00:00:00\",\"2022-02-27T00:00:00\",\"2022-02-28T00:00:00\",\"2022-03-01T00:00:00\",\"2022-03-02T00:00:00\",\"2022-03-03T00:00:00\",\"2022-03-04T00:00:00\",\"2022-03-05T00:00:00\",\"2022-03-06T00:00:00\",\"2022-03-07T00:00:00\",\"2022-03-08T00:00:00\",\"2022-03-09T00:00:00\",\"2022-03-10T00:00:00\",\"2022-03-11T00:00:00\",\"2022-03-12T00:00:00\",\"2022-03-13T00:00:00\",\"2022-03-14T00:00:00\",\"2022-03-15T00:00:00\",\"2022-03-16T00:00:00\",\"2022-03-17T00:00:00\",\"2022-03-18T00:00:00\",\"2022-03-19T00:00:00\",\"2022-03-20T00:00:00\",\"2022-03-21T00:00:00\",\"2022-03-22T00:00:00\",\"2022-03-23T00:00:00\",\"2022-03-24T00:00:00\",\"2022-03-25T00:00:00\",\"2022-03-26T00:00:00\",\"2022-03-27T00:00:00\",\"2022-03-28T00:00:00\",\"2022-03-29T00:00:00\",\"2022-03-30T00:00:00\",\"2022-03-31T00:00:00\",\"2022-04-01T00:00:00\",\"2022-04-02T00:00:00\",\"2022-04-03T00:00:00\",\"2022-04-04T00:00:00\",\"2022-04-05T00:00:00\",\"2022-04-06T00:00:00\",\"2022-04-07T00:00:00\",\"2022-04-08T00:00:00\",\"2022-04-09T00:00:00\",\"2022-04-10T00:00:00\",\"2022-04-11T00:00:00\",\"2022-04-12T00:00:00\",\"2022-04-13T00:00:00\",\"2022-04-14T00:00:00\",\"2022-04-15T00:00:00\",\"2022-04-16T00:00:00\",\"2022-04-17T00:00:00\",\"2022-04-18T00:00:00\",\"2022-04-19T00:00:00\",\"2022-04-20T00:00:00\",\"2022-04-21T00:00:00\",\"2022-04-22T00:00:00\",\"2022-04-23T00:00:00\",\"2022-04-24T00:00:00\",\"2022-04-25T00:00:00\",\"2022-04-26T00:00:00\",\"2022-04-27T00:00:00\",\"2022-04-28T00:00:00\",\"2022-04-29T00:00:00\",\"2022-04-30T00:00:00\",\"2022-05-01T00:00:00\",\"2022-05-02T00:00:00\",\"2022-05-03T00:00:00\",\"2022-05-04T00:00:00\",\"2022-05-05T00:00:00\",\"2022-05-06T00:00:00\",\"2022-05-07T00:00:00\",\"2022-05-08T00:00:00\",\"2022-05-09T00:00:00\",\"2022-05-10T00:00:00\",\"2022-05-11T00:00:00\",\"2022-05-12T00:00:00\",\"2022-05-13T00:00:00\",\"2022-05-14T00:00:00\",\"2022-05-15T00:00:00\",\"2022-05-16T00:00:00\",\"2022-05-17T00:00:00\",\"2022-05-18T00:00:00\",\"2022-05-19T00:00:00\",\"2022-05-20T00:00:00\",\"2022-05-21T00:00:00\",\"2022-05-22T00:00:00\",\"2022-05-23T00:00:00\",\"2022-05-24T00:00:00\",\"2022-05-25T00:00:00\",\"2022-05-26T00:00:00\",\"2022-05-27T00:00:00\",\"2022-05-28T00:00:00\",\"2022-05-29T00:00:00\",\"2022-05-30T00:00:00\",\"2022-05-31T00:00:00\",\"2022-06-01T00:00:00\",\"2022-06-02T00:00:00\",\"2022-06-03T00:00:00\",\"2022-06-04T00:00:00\",\"2022-06-05T00:00:00\",\"2022-06-06T00:00:00\",\"2022-06-07T00:00:00\",\"2022-06-08T00:00:00\",\"2022-06-09T00:00:00\",\"2022-06-10T00:00:00\",\"2022-06-11T00:00:00\",\"2022-06-12T00:00:00\",\"2022-06-13T00:00:00\",\"2022-06-14T00:00:00\",\"2022-06-15T00:00:00\",\"2022-06-16T00:00:00\",\"2022-06-17T00:00:00\",\"2022-06-18T00:00:00\",\"2022-06-19T00:00:00\",\"2022-06-20T00:00:00\",\"2022-06-21T00:00:00\",\"2022-06-22T00:00:00\",\"2022-06-23T00:00:00\",\"2022-06-24T00:00:00\",\"2022-06-25T00:00:00\",\"2022-06-26T00:00:00\",\"2022-06-27T00:00:00\",\"2022-06-28T00:00:00\",\"2022-06-29T00:00:00\",\"2022-06-30T00:00:00\",\"2022-07-01T00:00:00\",\"2022-07-02T00:00:00\",\"2022-07-03T00:00:00\",\"2022-07-04T00:00:00\",\"2022-07-05T00:00:00\",\"2022-07-06T00:00:00\",\"2022-07-07T00:00:00\",\"2022-07-08T00:00:00\",\"2022-07-09T00:00:00\",\"2022-07-10T00:00:00\",\"2022-07-11T00:00:00\",\"2022-07-12T00:00:00\",\"2022-07-13T00:00:00\",\"2022-07-14T00:00:00\",\"2022-07-15T00:00:00\",\"2022-07-16T00:00:00\",\"2022-07-17T00:00:00\",\"2022-07-18T00:00:00\",\"2022-07-19T00:00:00\",\"2022-07-20T00:00:00\",\"2022-07-21T00:00:00\",\"2022-07-22T00:00:00\",\"2022-07-23T00:00:00\",\"2022-07-24T00:00:00\",\"2022-07-25T00:00:00\",\"2022-07-26T00:00:00\",\"2022-07-27T00:00:00\",\"2022-07-28T00:00:00\",\"2022-07-29T00:00:00\",\"2022-07-30T00:00:00\",\"2022-07-31T00:00:00\",\"2022-08-01T00:00:00\",\"2022-08-02T00:00:00\",\"2022-08-03T00:00:00\",\"2022-08-04T00:00:00\",\"2022-08-05T00:00:00\",\"2022-08-06T00:00:00\",\"2022-08-07T00:00:00\",\"2022-08-08T00:00:00\",\"2022-08-09T00:00:00\",\"2022-08-10T00:00:00\",\"2022-08-11T00:00:00\",\"2022-08-12T00:00:00\",\"2022-08-13T00:00:00\",\"2022-08-14T00:00:00\",\"2022-08-15T00:00:00\",\"2022-08-16T00:00:00\",\"2022-08-17T00:00:00\",\"2022-08-18T00:00:00\",\"2022-08-19T00:00:00\",\"2022-08-20T00:00:00\",\"2022-08-21T00:00:00\",\"2022-08-22T00:00:00\",\"2022-08-23T00:00:00\",\"2022-08-24T00:00:00\",\"2022-08-25T00:00:00\",\"2022-08-26T00:00:00\",\"2022-08-27T00:00:00\",\"2022-08-28T00:00:00\",\"2022-08-29T00:00:00\",\"2022-08-30T00:00:00\",\"2022-08-31T00:00:00\",\"2022-09-01T00:00:00\",\"2022-09-02T00:00:00\",\"2022-09-03T00:00:00\",\"2022-09-04T00:00:00\",\"2022-09-05T00:00:00\",\"2022-09-06T00:00:00\",\"2022-09-07T00:00:00\",\"2022-09-08T00:00:00\",\"2022-09-09T00:00:00\",\"2022-09-10T00:00:00\",\"2022-09-11T00:00:00\",\"2022-09-12T00:00:00\",\"2022-09-13T00:00:00\",\"2022-09-14T00:00:00\",\"2022-09-15T00:00:00\",\"2022-09-16T00:00:00\",\"2022-09-17T00:00:00\",\"2022-09-18T00:00:00\",\"2022-09-19T00:00:00\",\"2022-09-20T00:00:00\",\"2022-09-21T00:00:00\",\"2022-09-22T00:00:00\",\"2022-09-23T00:00:00\",\"2022-09-24T00:00:00\",\"2022-09-25T00:00:00\",\"2022-09-26T00:00:00\",\"2022-09-27T00:00:00\",\"2022-09-28T00:00:00\",\"2022-09-29T00:00:00\",\"2022-09-30T00:00:00\",\"2022-10-01T00:00:00\",\"2022-10-02T00:00:00\",\"2022-10-03T00:00:00\",\"2022-10-04T00:00:00\",\"2022-10-05T00:00:00\",\"2022-10-06T00:00:00\",\"2022-10-07T00:00:00\",\"2022-10-08T00:00:00\",\"2022-10-09T00:00:00\",\"2022-10-10T00:00:00\",\"2022-10-11T00:00:00\",\"2022-10-12T00:00:00\",\"2022-10-13T00:00:00\",\"2022-10-14T00:00:00\",\"2022-10-15T00:00:00\",\"2022-10-16T00:00:00\",\"2022-10-17T00:00:00\",\"2022-10-18T00:00:00\",\"2022-10-19T00:00:00\",\"2022-10-20T00:00:00\",\"2022-10-21T00:00:00\",\"2022-10-22T00:00:00\",\"2022-10-23T00:00:00\",\"2022-10-24T00:00:00\",\"2022-10-25T00:00:00\",\"2022-10-26T00:00:00\",\"2022-10-27T00:00:00\",\"2022-10-28T00:00:00\",\"2022-10-29T00:00:00\",\"2022-10-30T00:00:00\",\"2022-10-31T00:00:00\",\"2022-11-01T00:00:00\",\"2022-11-02T00:00:00\",\"2022-11-03T00:00:00\",\"2022-11-04T00:00:00\",\"2022-11-05T00:00:00\",\"2022-11-06T00:00:00\",\"2022-11-07T00:00:00\",\"2022-11-08T00:00:00\",\"2022-11-09T00:00:00\",\"2022-11-10T00:00:00\",\"2022-11-11T00:00:00\",\"2022-11-12T00:00:00\",\"2022-11-13T00:00:00\",\"2022-11-14T00:00:00\",\"2022-11-15T00:00:00\",\"2022-11-16T00:00:00\",\"2022-11-17T00:00:00\",\"2022-11-18T00:00:00\",\"2022-11-19T00:00:00\",\"2022-11-20T00:00:00\",\"2022-11-21T00:00:00\",\"2022-11-22T00:00:00\",\"2022-11-23T00:00:00\",\"2022-11-24T00:00:00\",\"2022-11-25T00:00:00\",\"2022-11-26T00:00:00\",\"2022-11-27T00:00:00\",\"2022-11-28T00:00:00\",\"2022-11-29T00:00:00\",\"2022-11-30T00:00:00\",\"2022-12-01T00:00:00\",\"2022-12-02T00:00:00\",\"2022-12-03T00:00:00\",\"2022-12-04T00:00:00\",\"2022-12-05T00:00:00\",\"2022-12-06T00:00:00\",\"2022-12-07T00:00:00\",\"2022-12-08T00:00:00\",\"2022-12-09T00:00:00\",\"2022-12-10T00:00:00\",\"2022-12-11T00:00:00\",\"2022-12-12T00:00:00\",\"2022-12-13T00:00:00\",\"2022-12-14T00:00:00\",\"2022-12-15T00:00:00\",\"2022-12-16T00:00:00\",\"2022-12-17T00:00:00\",\"2022-12-18T00:00:00\",\"2022-12-19T00:00:00\",\"2022-12-20T00:00:00\",\"2022-12-21T00:00:00\",\"2022-12-22T00:00:00\",\"2022-12-23T00:00:00\",\"2022-12-24T00:00:00\",\"2022-12-25T00:00:00\",\"2022-12-26T00:00:00\",\"2022-12-27T00:00:00\",\"2022-12-28T00:00:00\",\"2022-12-29T00:00:00\",\"2022-12-30T00:00:00\",\"2022-12-31T00:00:00\",\"2023-01-01T00:00:00\",\"2023-01-02T00:00:00\",\"2023-01-03T00:00:00\",\"2023-01-04T00:00:00\",\"2023-01-05T00:00:00\",\"2023-01-06T00:00:00\",\"2023-01-07T00:00:00\",\"2023-01-08T00:00:00\",\"2023-01-09T00:00:00\",\"2023-01-10T00:00:00\",\"2023-01-11T00:00:00\",\"2023-01-12T00:00:00\",\"2023-01-13T00:00:00\",\"2023-01-14T00:00:00\",\"2023-01-15T00:00:00\",\"2023-01-16T00:00:00\",\"2023-01-17T00:00:00\",\"2023-01-18T00:00:00\",\"2023-01-19T00:00:00\",\"2023-01-20T00:00:00\",\"2023-01-21T00:00:00\",\"2023-01-22T00:00:00\",\"2023-01-23T00:00:00\",\"2023-01-24T00:00:00\",\"2023-01-25T00:00:00\",\"2023-01-26T00:00:00\",\"2023-01-27T00:00:00\",\"2023-01-28T00:00:00\",\"2023-01-29T00:00:00\",\"2023-01-30T00:00:00\",\"2023-01-31T00:00:00\",\"2023-02-01T00:00:00\",\"2023-02-02T00:00:00\",\"2023-02-03T00:00:00\",\"2023-02-04T00:00:00\",\"2023-02-05T00:00:00\",\"2023-02-06T00:00:00\",\"2023-02-07T00:00:00\",\"2023-02-08T00:00:00\",\"2023-02-09T00:00:00\",\"2023-02-10T00:00:00\",\"2023-02-11T00:00:00\",\"2023-02-12T00:00:00\",\"2023-02-13T00:00:00\",\"2023-02-14T00:00:00\",\"2023-02-15T00:00:00\",\"2023-02-16T00:00:00\",\"2023-02-17T00:00:00\",\"2023-02-18T00:00:00\",\"2023-02-19T00:00:00\",\"2023-02-20T00:00:00\",\"2023-02-21T00:00:00\",\"2023-02-22T00:00:00\",\"2023-02-23T00:00:00\",\"2023-02-24T00:00:00\",\"2023-02-25T00:00:00\",\"2023-02-26T00:00:00\",\"2023-02-27T00:00:00\",\"2023-02-28T00:00:00\",\"2023-03-01T00:00:00\",\"2023-03-02T00:00:00\",\"2023-03-03T00:00:00\",\"2023-03-04T00:00:00\",\"2023-03-05T00:00:00\",\"2023-03-06T00:00:00\",\"2023-03-07T00:00:00\",\"2023-03-08T00:00:00\",\"2023-03-09T00:00:00\",\"2023-03-10T00:00:00\",\"2023-03-11T00:00:00\",\"2023-03-12T00:00:00\",\"2023-03-13T00:00:00\",\"2023-03-14T00:00:00\",\"2023-03-15T00:00:00\",\"2023-03-16T00:00:00\",\"2023-03-17T00:00:00\",\"2023-03-18T00:00:00\",\"2023-03-19T00:00:00\",\"2023-03-20T00:00:00\",\"2023-03-21T00:00:00\",\"2023-03-22T00:00:00\",\"2023-03-23T00:00:00\",\"2023-03-24T00:00:00\",\"2023-03-25T00:00:00\",\"2023-03-26T00:00:00\",\"2023-03-27T00:00:00\",\"2023-03-28T00:00:00\",\"2023-03-29T00:00:00\",\"2023-03-30T00:00:00\",\"2023-03-31T00:00:00\",\"2023-04-01T00:00:00\",\"2023-04-02T00:00:00\",\"2023-04-03T00:00:00\",\"2023-04-04T00:00:00\",\"2023-04-05T00:00:00\",\"2023-04-06T00:00:00\",\"2023-04-07T00:00:00\",\"2023-04-08T00:00:00\",\"2023-04-09T00:00:00\",\"2023-04-10T00:00:00\",\"2023-04-11T00:00:00\",\"2023-04-12T00:00:00\",\"2023-04-13T00:00:00\",\"2023-04-14T00:00:00\",\"2023-04-15T00:00:00\",\"2023-04-16T00:00:00\",\"2023-04-17T00:00:00\",\"2023-04-18T00:00:00\",\"2023-04-19T00:00:00\",\"2023-04-20T00:00:00\",\"2023-04-21T00:00:00\",\"2023-04-22T00:00:00\",\"2023-04-23T00:00:00\",\"2023-04-24T00:00:00\",\"2023-04-25T00:00:00\",\"2023-04-26T00:00:00\",\"2023-04-27T00:00:00\",\"2023-04-28T00:00:00\",\"2023-04-29T00:00:00\",\"2023-04-30T00:00:00\",\"2023-05-01T00:00:00\",\"2023-05-02T00:00:00\",\"2023-05-03T00:00:00\",\"2023-05-04T00:00:00\",\"2023-05-05T00:00:00\",\"2023-05-06T00:00:00\",\"2023-05-07T00:00:00\",\"2023-05-08T00:00:00\",\"2023-05-09T00:00:00\",\"2023-05-10T00:00:00\",\"2023-05-11T00:00:00\",\"2023-05-12T00:00:00\",\"2023-05-13T00:00:00\",\"2023-05-14T00:00:00\",\"2023-05-15T00:00:00\",\"2023-05-16T00:00:00\",\"2023-05-17T00:00:00\",\"2023-05-18T00:00:00\",\"2023-05-19T00:00:00\",\"2023-05-20T00:00:00\",\"2023-05-21T00:00:00\",\"2023-05-22T00:00:00\",\"2023-05-23T00:00:00\",\"2023-05-24T00:00:00\",\"2023-05-25T00:00:00\",\"2023-05-26T00:00:00\",\"2023-05-27T00:00:00\",\"2023-05-28T00:00:00\",\"2023-05-29T00:00:00\",\"2023-05-30T00:00:00\",\"2023-05-31T00:00:00\",\"2023-06-01T00:00:00\",\"2023-06-02T00:00:00\",\"2023-06-03T00:00:00\",\"2023-06-04T00:00:00\",\"2023-06-05T00:00:00\",\"2023-06-06T00:00:00\",\"2023-06-07T00:00:00\",\"2023-06-08T00:00:00\",\"2023-06-09T00:00:00\",\"2023-06-10T00:00:00\",\"2023-06-11T00:00:00\",\"2023-06-12T00:00:00\",\"2023-06-13T00:00:00\",\"2023-06-14T00:00:00\",\"2023-06-15T00:00:00\",\"2023-06-16T00:00:00\",\"2023-06-17T00:00:00\",\"2023-06-18T00:00:00\",\"2023-06-19T00:00:00\",\"2023-06-20T00:00:00\",\"2023-06-21T00:00:00\",\"2023-06-22T00:00:00\",\"2023-06-23T00:00:00\",\"2023-06-24T00:00:00\",\"2023-06-25T00:00:00\",\"2023-06-26T00:00:00\",\"2023-06-27T00:00:00\",\"2023-06-28T00:00:00\",\"2023-06-29T00:00:00\",\"2023-06-30T00:00:00\",\"2023-07-01T00:00:00\",\"2023-07-02T00:00:00\",\"2023-07-03T00:00:00\",\"2023-07-04T00:00:00\",\"2023-07-05T00:00:00\",\"2023-07-06T00:00:00\",\"2023-07-07T00:00:00\",\"2023-07-08T00:00:00\",\"2023-07-09T00:00:00\",\"2023-07-10T00:00:00\",\"2023-07-11T00:00:00\",\"2023-07-12T00:00:00\",\"2023-07-13T00:00:00\",\"2023-07-14T00:00:00\",\"2023-07-15T00:00:00\",\"2023-07-16T00:00:00\",\"2023-07-17T00:00:00\",\"2023-07-18T00:00:00\",\"2023-07-19T00:00:00\",\"2023-07-20T00:00:00\",\"2023-07-21T00:00:00\",\"2023-07-22T00:00:00\",\"2023-07-23T00:00:00\",\"2023-07-24T00:00:00\",\"2023-07-25T00:00:00\",\"2023-07-26T00:00:00\",\"2023-07-27T00:00:00\",\"2023-07-28T00:00:00\",\"2023-07-29T00:00:00\",\"2023-07-30T00:00:00\",\"2023-07-31T00:00:00\",\"2023-08-01T00:00:00\",\"2023-08-02T00:00:00\",\"2023-08-03T00:00:00\",\"2023-08-04T00:00:00\",\"2023-08-05T00:00:00\",\"2023-08-06T00:00:00\",\"2023-08-07T00:00:00\",\"2023-08-08T00:00:00\",\"2023-08-09T00:00:00\",\"2023-08-10T00:00:00\",\"2023-08-11T00:00:00\",\"2023-08-12T00:00:00\",\"2023-08-13T00:00:00\",\"2023-08-14T00:00:00\",\"2023-08-15T00:00:00\",\"2023-08-16T00:00:00\",\"2023-08-17T00:00:00\",\"2023-08-18T00:00:00\",\"2023-08-19T00:00:00\",\"2023-08-20T00:00:00\",\"2023-08-21T00:00:00\",\"2023-08-22T00:00:00\",\"2023-08-23T00:00:00\",\"2023-08-24T00:00:00\",\"2023-08-25T00:00:00\",\"2023-08-26T00:00:00\",\"2023-08-27T00:00:00\",\"2023-08-28T00:00:00\",\"2023-08-29T00:00:00\",\"2023-08-30T00:00:00\",\"2023-08-31T00:00:00\",\"2023-09-01T00:00:00\",\"2023-09-02T00:00:00\",\"2023-09-03T00:00:00\",\"2023-09-04T00:00:00\",\"2023-09-05T00:00:00\",\"2023-09-06T00:00:00\",\"2023-09-07T00:00:00\",\"2023-09-08T00:00:00\",\"2023-09-09T00:00:00\",\"2023-09-10T00:00:00\",\"2023-09-11T00:00:00\",\"2023-09-12T00:00:00\",\"2023-09-13T00:00:00\",\"2023-09-14T00:00:00\",\"2023-09-15T00:00:00\",\"2023-09-16T00:00:00\",\"2023-09-17T00:00:00\",\"2023-09-18T00:00:00\",\"2023-09-19T00:00:00\",\"2023-09-20T00:00:00\"],\"xaxis\":\"x\",\"y\":[100.0,99.08880054367934,99.06308377617681,99.23967212802546,99.23746429336498,98.26759892698834,99.11376687732614,100.6172781364453,101.41288014551455,100.9371205924002,101.14027132200742,102.91291399477738,103.17462620741918,103.37955777599822,102.7780177568768,103.79068466594744,103.45302586664707,101.89465503362695,102.39874037967115,101.2979911910254,100.32639645517261,100.93813052497792,100.06118034657263,100.21858360239831,100.69331675383773,101.99202324343658,103.44264515138322,103.96526930429884,102.69498397592116,104.42631084865903,104.40417149801934,104.72381935270234,104.5199980487597,104.08009564388068,103.47160409630295,102.0229248779784,101.93718571290697,101.63899719966233,99.93010958089673,98.92511804965778,97.50115735508268,98.6138805634828,97.82626181459746,99.17246137444076,97.11400462143571,96.78596308550048,97.8814090115482,96.75239348660729,97.2225264758458,95.90849293144811,95.81807017093695,94.44889640095595,96.43214885624703,96.14302518618017,96.14316086808275,96.51474200165984,97.19177524399363,97.06943763813979,95.8671430360295,95.12899200465904,93.41972374514648,94.12033662899184,95.03475704850113,95.53311656826318,96.63942426570215,96.22536636970243,97.98614094701531,98.72547926002458,97.42391950336068,98.16616296516919,97.70072474447386,97.9129959688865,99.87473380656844,101.20225301119466,100.11905313446105,99.24130472973268,98.62434702540138,98.60895307892314,97.93450021408385,98.10536545585593,97.51322524330848,98.89187554936227,98.92578348850246,100.9863337171269,104.63555659007149,105.12994720817734,103.97431434037819,105.17370954561393,105.98296706811801,106.30899357803875,106.59992121270228,107.78808355711487,107.0658325513258,107.83733660493972,109.48000256953215,110.11283700184828,110.43998506845728,113.16648891336762,114.25388625469444,112.81442771129853,110.43338986606972,110.28996402076255,110.09191519028296,109.87755314697289,110.25074117711269,110.18924494963724,109.02535513196153,110.50702830710968,110.80849485615443,111.0186779517792,111.51261257135121,109.28256390161347,110.26855080652925,110.04316720143431,112.31110025256939,112.98433815102122,111.33491606989831,111.5515793599937,112.94440161991764,114.50948211679219,114.51221260516985,116.56675724374298,116.92057711161041,118.30888289810143,119.02442129229742,118.33730638725172,118.16516606260977,118.19384324707424,117.16241472243686,116.29655463735814,115.81160918604806,117.84871537976937,118.63113987631819,119.24244933276657,120.58170566362408,120.09382448806075,120.66260774347205,117.74733249947639,118.15315921890283,118.07862489386355,116.86372378368286,116.9720226449437,117.43656503641823,116.7000960335422,117.55135766579704,119.49238319545925,119.28337712370848,118.3955996830645,118.85561979354206,118.48264356949528,118.31211696427904,116.8135279161442,116.35025104784296,116.92078180989293,114.42661381280855,114.47388782571403,114.33065552896703,114.0603490384441,117.18752341058278,116.0589720440934,118.09099376873885,117.46864176172615,117.85951365146454,119.10905935748107,118.26863434890421,118.79299437367706,118.47057053125528,118.67178551856321,118.58310546485684,120.73115681350197,119.86397915857665,118.90030771495323,119.14606012066346,119.75121013076537,120.42288396857973,122.0564083720333,122.23465454677319,122.67647510511698,122.67672712584783,124.18057413478702,125.18212422789433,124.34032736839502,123.13717378290977,122.28071512840837,122.92866442334986,122.15064348026998,122.14067907130126,124.81651896578396,123.73365893978897,123.56701558734797,125.07964794253964,127.69852549557363,128.4784808815762,126.7839552894292,127.02533209216628,128.17620240126283,126.18847323484107,128.74096896539209,128.7774696116797,129.41357482703842,128.9811397979294,129.84816292595642,130.34343959821132,129.76261973148007,132.55366104249282,132.94534111281908,134.78548662760986,136.93105486312282,137.70443373620796,137.31496491846474,133.8738599956821,132.63734549065208,133.62342275821499,134.76143261037984,135.33904037944635,135.48394155187785,135.2369627685411,135.25064550089417,136.7818837306121,136.16530608593428,136.30945596971577,138.34413969502467,142.16655155084786,142.99760379944905,143.3288443566431,146.5755647805884,147.82494848262593,151.72430700202202,152.29686259320732,156.15876169800893,157.80802676019462,157.34185218688842,156.11513213408216,156.16282392917932,160.39232492217195,159.9818145243074,158.4142725352663,160.0831722536266,160.99456787109878,161.28674115224348,158.26114775381114,161.126298693853,159.921788474246,162.67214110542795,160.96500460379414,162.66882899071925,160.29441719170867,161.92478271485376,161.77550011656862,160.55076933783658,162.0160535150464,160.67000595609557,162.79227790824413,160.0703493054973,159.22714547114205,160.40709058430713,160.60042946378206,163.130226134047,163.5569465274218,163.35553410999447,162.1978386964803,163.41894443106443,164.2528789205652,162.03770053272677,160.90186782873818,159.00782169991146,159.4572066961764,158.9490474597583,159.10073175067396,157.21112483172405,157.13497798586673,158.6982949746342,158.8681911165663,159.68224462649306,158.8731328573493,157.60703923948017,159.24271950863653,160.42313872873416,160.31347954862528,161.85032349830973,163.1315556816176,162.36792479498962,164.9639177503089,163.4627199659333,161.34792771807167,161.95221019286993,164.47579083061134,164.96185627471183,166.14986115524664,165.39467951118402,166.12963763739626,164.2833990510075,165.22420238402847,165.2935118810129,163.64975516755376,164.86392927385,164.32906261718017,166.00666779354145,166.67785868119321,168.5221889093515,169.0496826342987,168.68868866768625,171.2164813659084,175.3197456956756,179.9812796238755,179.9764874089793,179.2927865287396,182.8620272053735,181.9645734051879,185.55152693834526,182.61522540136795,184.64701953644646,185.42527559847792,186.59501607934038,189.5582037083888,190.30848996939247,192.03163180296494,194.6813877770016,194.46283697810298,196.13296535803815,195.2012289630462,195.75790101927717,197.8024030508997,196.25563384659716,195.15768636020516,194.98309384220585,194.88469677673913,193.58238440589952,194.17983798670156,196.47206971090452,199.25058963897197,201.0408135886416,200.6168645549047,205.42684704764218,209.20171196366695,209.76795174582304,210.4083813384699,209.53821561515755,211.69867374904095,215.66910293285002,214.66708235342472,211.60462959977315,211.2514646051612,214.4566297396694,215.02886342753777,214.55705340262938,213.22716159363952,214.65570422341784,212.3993821080252,211.49212603638134,210.2386676473232,212.66394674025437,211.2876507255498,216.04588906625872,214.2249893185811,215.83251202465698,218.87752463494502,216.1595910717368,217.13913029014532,221.22053400966644,221.28223234018944,222.95766538676637,224.2873339903501,223.8211315492751,222.59226157702693,217.28030049461597,216.89810356849495,220.64908751704465,217.5714918588228,216.78731675892678,219.96784702474852,220.31042221918764,220.71056205813295,217.9611606596166,216.16386283086703,215.31108250638525,218.85086475515467,216.71185786091536,215.83672589823357,213.59657360330473,218.04195065595073,221.16723082939788,223.1126477641975,222.7898553466347,221.4225384546828,223.6462900741998,224.1598745053367,229.08720613510545,230.36970749225938,231.0718046122525,227.3443533299742,222.51950330911748,222.52818710640705,221.4437461329451,217.44748813073656,220.00230833588284,222.06709816290092,220.54417844862928,222.71384953618488,221.4075775227564,222.32925740008167,220.00573257526315,216.864608278346,215.52632428164327,211.9424691554892,213.20235926914842,206.76427078067528,206.9060322575284,206.45210230677392,203.54514894849785,203.22600964108895,204.8362894499526,204.38356381390244,206.63406799599687,208.25979036932628,209.24970124767245,211.11818572488139,209.98234008315399,212.000100426699,215.57521363696284,216.35549553687505,218.82023323547915,218.23949085788422,219.9418087633743,221.46249116641036,221.35588673447435,223.82065091193462,219.6587655264943,219.22137010086263,220.07046142738602,218.71733921898158,218.07302780076117,217.13942975568125,217.6123845350817,214.00593013631038,212.5510524498993,217.7695462373487,218.36851860376674,220.98697186566588,222.41658193545175,223.01047806162023,223.11542050962322,225.00150335150647,224.11606100698495,226.9515869262528,226.96507340632286,229.2375235083406,225.4495378459542,224.0503613013142,221.95957824973868,222.0956219642384,222.73058092843826,220.04975834419056,214.2655560651383,211.82886120841079,211.1782039337965,209.84289909437567,212.18265617021137,210.7633772472045,212.62500258275296,214.6231090667428,214.26339309044945,218.88525340022667,221.35517885944077,222.0163790629512,221.17971820299545,221.1955406324414,222.02563445112034,221.0186049874855,219.5760789192703,218.57257393501848,221.35139929760908,225.18407626231937,219.87403306572014,220.90265776544268,221.61728573914502,223.4358873156954,224.13627202804216,225.2748046496861,222.65514286640533,221.5368253122458,220.3225283565457,220.3787387142476,218.73423494692364,222.04590062880658,221.17666243358266,221.78484660787927,222.41333130370117,221.61272691518346,223.502069991659,220.07250032716124,222.14459783584488,223.21274302481984,223.29658640523664,224.26465698769778,224.96377913291957,221.31438418174173,221.4428582803517,219.5994614147495,219.7805521137356,219.64058022570475,218.26238153379882,217.750872209235,217.7339765648039,219.5277775018194,218.23239905197542,218.24127881844208,217.0361618701826,216.30407718019302,217.0087134804135,214.5718545380587,215.05232258809903,214.25384533416255,214.16557931295665,213.53379057657747,213.46242752846032,214.9928959042274,214.03645695191335,214.05170147065823,212.6396417844698,215.0924206530952,213.3182940611329,216.6506240552153,217.40068334724035,221.0578478898161,218.45649738398896,219.82832133846955,219.08416660815425,220.17112791692284,222.62980958205864,226.37464370503423,226.03918448907433,225.256717998916,224.7264559411544,224.17804241738665,226.04156530752988,225.62436967330675,222.99413545296207,223.0544202379645,228.12532537494923,227.6350428390992,226.03312220050157,227.8992622909013,229.0315811394666,232.76401576999265,233.15181088534143,230.93589434976724,227.95117200717385,225.50138239531242,224.38564302170377,225.65544478100486,225.96060590699534,227.9159127012247,226.37777495698177,229.36761166789907,230.33211279148912,228.74139395870466,227.8135391612497,227.20225401158328,226.58574914814776,221.9716556607771,224.49482132765746,223.41627344613255,220.2890993493634,221.78105412064454,222.18767194487364,222.84098553145216,224.62969206157544,222.72292282501027,223.07515572778868,222.0872846772701,222.26777563474042,223.77442828434144,226.2002959709382,226.53663420716524,230.0813217039871,230.88619605988376,231.31170448610774,232.3946896610014,235.05816753713378,236.87637899718843,237.1068657646827,237.62555488686974,238.61363699939898,236.55659849224529,233.6178103536905,236.07842818947796,231.86575256647993,231.09101412326106,227.55442557883686,228.7266539319624,231.61968963235228,228.499501875805,234.5301975678544,230.47739968699727,230.2996095893467,230.24344563324794,231.12297607817996,229.83936106340943,231.13267671414266,229.66534535387314,231.57747234632092,229.96764922823894,233.5753009636239,232.05437347417853,229.0475220981931,230.6206501358383,232.47864503594727,228.9540707260954,229.6976882977448,228.4825556787353,227.78821990828436,224.14400533056045,223.9152654446436,224.19647495797133,223.28011370593006,221.82320527981886,223.245668747238,223.5510942980753,229.3450238637257,230.140440597633,232.40186669140613,230.71377988799722,230.37955862658058,231.67284949236623,236.19777246410823,234.7616717060754,235.33141738851705,236.88740321600568,234.94885200809702,239.3440323046662,238.51305062727644,240.83535610427458,239.45181057345843,243.4078125197522,249.5756155255183,247.74481032590103,245.50866114110474,247.0880649268612,245.11471100492741,242.37882519146595,244.86987727582664,244.77843520989336,245.0911611680951,243.41306340912348,242.8621331568217,242.20896064041332,244.2714011160162,242.85739297936965,240.4272308055647,241.58736300909018,240.0565336348994,241.7404794780905,243.15900291555513,243.82638853157587,247.08413904636453,245.25201740971073,245.96055685792444,249.9748028485317,249.34235254419147,251.1420565382958,249.77937333181174,250.0592653788507,248.73019179415422,247.95709146439268,244.37942895774628,244.48193853054747,247.93466697823453,254.41755876679585,256.83067012684205,252.3188899358355,251.26389315387104,248.53334414361362,247.61829049547097,248.50494950345714,248.37457007454924,250.6107842241558,253.15204565023518,256.80673590017926,254.28923911740708,254.89161323891608,254.3452104186723,256.73452833871784,254.826700362878,253.54544508275157,257.1846557992787,259.5021879555268,254.34715698042962,252.41533068371422,246.69805711486666,247.2594941177271,243.89963269257797,243.4426409751727,248.98141005706924,248.04818078202703,246.4035779404309,247.92724691991353,246.05111353192223,248.45408169604232,250.4553384814045,247.75803458064368,253.40612017364126,254.18387453796691,253.66259302527007,256.9062777721772,259.6998824000518,261.3730426264433,260.24811419108727,263.53301193670075,265.4836474001322,265.4932747220358,263.3837140333933,262.7912302054527,260.09705726014397,254.96353303014706,251.58283370394182,254.42729686217274,248.83392288440226,249.96339019115297,252.52412902094127,251.76848564386276,249.26628114509475,252.23197023466616,253.91547585356486,252.65783032510237,253.49499024768187,250.41356812977608,250.23467627086853,251.73118569658135,251.387283420273,251.45751193113543,254.4022694614001,251.8958235795211,253.0424374819089,254.551591430104,254.1915939023973,253.26705042624138,250.14818377785318,249.94101971423763,249.52623024514483,249.14624603718576,247.9219614931136,251.54151911808336,247.75551097268098,250.45415185427578,251.0236726258462,254.87099195289323,252.71050356474535,253.2912497323492,251.32983694510105,251.13426148290665,250.92956252535402,252.99179553411645,255.19360448601094,256.5238417166617,255.9793966825525,257.16520725676617,255.45065135347085,250.4924919787357,252.9892942787686,252.04765061829792,251.99278651519646,255.2142099062744,257.42880295966523,259.8746173594076,260.2418357170275,259.21944472380807,256.9530763552913,257.2225442731069,250.58464461563102,252.76534558396378,253.56799091710155,255.2675335575179,256.56326889502054,256.27930107873124,250.2867939132008,247.9119303561651,254.67932137211133,252.9725031606029,253.57622729597006,252.9459243237393,247.32571707189197,244.45169149128907,238.7924223615389,236.37984538589868,237.593881427417,235.38272648969436,236.94166591003534,234.21609959635234,237.68621643918675,235.35083272249722,235.776731521046,234.73334773391446,236.58253557614836,238.84537917013233,242.23627810088166,243.4100168392937,242.2104210062761,241.68381907095383,243.04596380839928,247.52412853396206,248.2967519579162,248.43066969719067,248.56872477612873,250.66450581182846,250.63487525982495,251.30605497587823,255.78577957235143,255.96437940823398,253.11096747080344,251.20976917247378,248.54734426728606,250.91765371870198,252.68998881184174,254.3559166379861,257.98317264365994,260.6010245852133,257.46535664020877,260.8950881126731,261.2169765990477,258.71687440760337,259.65543537863203,257.6548783376588,256.4264366279066,251.11115545603215,250.96156080321492,248.8301217242473,245.75583340623484,244.1726671982537,240.81274440168602,245.31363956381847,246.01683331760276,249.46846989263832,248.57777648508193,252.31469513616102,252.20902956420935,250.05233975901464,246.9777511308643,248.52303039225063,249.40370519247637,248.58716554530227,248.64043033684968,246.24173440549941,250.9468395401685,250.44425288731438,247.3168829189524,243.80487615854838,246.68717326826373,248.40738095817633,254.4764734439239,250.23018630762834,253.77687730023737,253.9130001228085,257.86734377937205,260.8749439055781,261.93143429803376,260.4319283470164,257.1499952867507,262.79697502336415,263.3935439935563,264.54516742645126,264.84557633677065,264.5137476801916,259.287432700503,263.24664573808246,258.81138125714995,260.79020072948737,259.58821919919717,257.3297326742998,259.95048180619955,259.54948601321405,259.005201707713,258.9646917419641,258.7440391187183,263.69134250593874,261.9442936493235,263.938279927763,266.0913570857185,263.73607870598033,262.25168380769617,267.15180303545543,269.7862562248015,268.86245900036295,264.66033602563,262.33491768139766,262.35457213213806,261.9363942379959,265.2405373580463,264.7487590356008,263.94604205331194,263.15351041735664,257.13527850192503,258.4515302746775,255.95500677766944,259.9417849827269,258.2635155736236,258.0695203703982,259.22082543553194,262.59195310666837,257.9085488537323,256.2998015165008,256.90420731133725,258.3835516687737,261.0111887952254,260.2264670883896,257.5032877900713,254.0738955944795,252.9156414054646,251.86613412820347,249.50374166403975,248.50501207139396,253.6360571462776,249.51758116089462,246.70649378150588,245.1443571933248,246.1530993113992,251.42286127613826,251.20633922414703,252.30324083961688,253.06896241596732,250.83372620751007,244.92240535196171,243.80405910196694,245.19324186166858,247.5588225975655,251.3964837734603,249.57865954411022,253.2293536934823,255.6372578504376,256.6649857220284,258.5977438263365,259.1115997301339,252.6146858885042,256.88480361603297,261.49393895207913,262.03329387730474,262.97187273677173,263.38023128401494,264.8774640947577,264.26001715412974,264.67555078928484,267.5723162386541,265.2008804582821,267.4580789804175,268.46316854989476,271.6425564449911,269.3111389770726,275.8740602055634,275.1385171182498,278.08271121701813,277.1478084654012,279.6355855590226,279.538090391259,283.3954098626963,281.0483518575102,283.7651565904503,287.12955076319986,289.53970074829135,294.2293916712713,291.5308102998097,293.7370427074732,298.99267149874254,296.41351854535617,297.2375250142252,296.801918785163,303.20642537544495,301.82227160705605,299.6722202000875,299.8183317122864,297.44172021472303,296.6977262885918,296.4968435760889,296.5198896640364,299.03481197459433,308.80144104072997,318.2574614542618,318.9654488807179,318.7253368100064,322.3316995286987,323.85320349993805,329.30435733229655,332.1782213285839,334.73026022999915,335.85511942871176,336.7809218729955,339.2813427415467,338.8421047959481,344.1032843785696,343.3553554110531,339.6329921805535,343.63220375377654,340.256729378708,336.1530830297997,337.78636415855254,344.30122412151957,344.1601178087682,347.08474709533203,347.9625418395888,351.78590611551385,351.3066471023463,351.4147730461798,357.3428400528727,358.032908743716,358.0198588527015,357.9521261958275,364.4486438913628,364.9512085331008,361.93820885691133,359.9799102471969,353.95246001830424,352.85934450404454,354.42250392524187,354.6425560668135,351.76248323850416,355.67849640014043,355.00607987723794,360.643759363694,370.4882906655129,375.5406381111166,368.9625355209108,370.3290447540546,374.43247488143817,375.0787503984375,372.30647481501404,369.9605487734093,365.772180603149,363.5933920881386,366.0978980105332,364.71638134408147,370.26398365337076,372.04420328801274,371.43351733868946,371.523196324025,366.1804234483737,365.5736981537845,361.2908017561878,361.63402834721506,364.71778990289897,365.5921054649909,370.4241754197119,367.84307065745634,368.82338981297227,374.1386630865462,371.75123846865085,377.33007633065296,379.5408356648389,380.8156456710302,386.63941383290404,384.30446147863415,389.0485606449856,380.0653219511863,382.53695190823134,378.53539480761924,374.93916101714234,373.96256792239654,371.84318531141616,371.07036062514925,375.75623461518865,370.32136134635397,365.4085974417673,364.2352397009129,361.8592072066625,364.841781621876,361.89988567354214,364.75672750926975,358.91315760942825,356.6395305174095,362.11444720214854,360.6396728663181,360.1698538922325,358.31979652273435,357.14410330769357,359.5353181893272,363.58131382386074,357.06320077906645,357.6730865832538,360.1831426011622,357.31533183577085,359.44562064186084,358.9477774137941,361.7986845184575,355.9456999735822,352.3113866661742,348.70370495880553,352.3658329871472,356.0977360228692,350.0375911964843,347.0090073668816,346.23732110633455,343.6071228995275,347.5471225852073,355.12805675040994,350.1703279316595,350.5426701898929,353.1060350251294,355.43897896109746,355.0696717576045,354.48499299210465,357.7386769883736,358.3746855279222,355.4562921147672,354.5989405900888,354.82370493509114,354.9391826606089,354.88938892778583,353.2711912485834,353.6768162079146,355.1022568662967,351.23275955513526,350.5080056574527,348.94627117924654,344.4007433295287,344.87810345525975,344.2149136330307,344.3393125689856,345.0480456631365,336.1224538081176,336.91475689884635,333.4990935671463,334.53395706155516,342.0637972166224,341.01232158006445,341.7137508927072,338.3776290789374,338.223635515837,336.59336812691,337.25368055647493,332.5898749357278,333.950214544958,335.1285103345176,329.8386374043265,330.10788563508845,331.12159501113615,335.99172913879266,334.1470459837225,332.0033538447142,331.30854380405094,325.895299615582,324.8080984707024,329.6431959347463,326.10711106774534,324.9290726206126,327.9562989722103,329.65975269797013,335.55650337662865,335.1970986717709,337.1717381920898,339.69955501121837,340.15906290857725,343.0682266249848,346.65328660366174,343.18065671243613,343.81617758206346,345.2388168193369,348.7407186161388,349.62000511086023,350.60375873039953,350.89739550521995,356.81478481271347,352.64821115064746,353.8313971176042,354.8284224045016,355.51935219533186,360.5452878727973,362.29807051544833,360.99762278520814,355.7380286973222,353.3909104706178,350.59115430582375,344.1094341447714,343.4991322203756,345.00792963766025,342.07076908678687,341.225285319393,337.950901541276,340.5826646590723,339.2263878979619,342.3831369254898,340.12968375112933,343.351685124601,346.0522615202477,348.3509272898476,353.4450520120765,349.89400918071465,349.98191859399844,350.4598737746761,349.4681285858163,348.68249802188456,345.18111667366423,338.4006152617466,340.82053010179476,341.9579127878445,346.3171784404326,345.7233945812147,350.83179870019353,351.53271701819364,350.80465603151856,349.4475204246692,344.09741225499215,338.15288246281875,343.5857762914174,339.9879843489313,341.47961802573735,344.4582847672716,344.0187809363147,341.5072114950776,348.48083498963763,351.36624453699585,349.38206584170496,354.0894945274629,353.8911977805737,357.30030580770716,350.45705366214145,349.90742643265537,347.13639159378084,344.55465752705624,346.5115848671637,347.30289718024216,342.439926567916,340.1832898195333,342.9975878816358,341.25767899779595,341.0696107657493,335.8391042662414,344.2271437148911,346.24933596443566,343.9245066047254,349.58813371782674,348.26578773350246,348.9235841350912,342.3479168504283,344.0746144778462,342.2512270536067,335.7365289606245,333.8540069883195,335.6779376229584,338.0812694108803,336.88300357082284,331.969416896442,331.39751409372656,330.8041790744747,335.29267421696875,336.5244289577745,338.4815336440339,336.0932731768365,337.8683321338404,340.0632649574587,338.31208571837624,341.9517304524582,344.1097023832859,342.9892681668962,346.2000497173336,346.90214273958327,344.498348286094,344.34762207805045,344.15892890757164,347.3248034267733,341.765103664605,340.9812989612839,344.46379393948206,350.6042312492514,355.5017455433879,352.8746640728718,350.5672956657047,351.2303664370383,351.7875721887809,351.5028684302706,349.43986201073915,347.8980476911239,351.5823358329933,352.18925508434927,357.136292812878,357.95059284695975,356.29459629251517,354.24023941380256,363.07110656946367,362.19913862088123,364.21059523225836,365.25312433710775,370.210377486842,367.82950057474307,374.7160017428914,376.7341627090895,372.41010920910236,376.0110789271783,379.79632192476737,377.00093359455553,377.88961541914216,379.56975210706867,375.3516473331116,382.90847881601553,378.6250674326863,376.2663303642955,378.9542386676605,381.92839116134434,384.02589157159963,380.8544492531111,386.5927411574906,383.12816180352326,381.5904176046591,382.9255110518856,381.8402477159216,372.95447688728467,378.49968329462297,380.32513633122534,378.45347012194014,380.063693963028,375.4451610841587,381.9444029161393,380.15684152754716,377.8373825645553,379.32217600644645,382.82617394277935,379.64404373305376,382.04889987234947,386.8730339114542,386.2448937833126,382.45101622049594,380.51186761192105,382.89365028665515,384.5846091227391,392.09919394450384,390.02824419977736,395.4291451869982,390.98949824530763,387.28344237085025,383.6428781271732,378.7381603293539,380.7648328745389,374.1781317602118,372.6868853954075,376.391568280795,375.699622756961,378.3136597991239,377.4750605800213,373.2880442715966,374.98205511193083,373.25183685852693,370.3612929052412,368.1782330540238,368.08342885352016,364.7000304756692,369.3507588047061,371.9395615298518,371.0955427290737,369.4464472614386,370.4099517778578,369.7619967939205,372.66543976771703,369.8409745013134,368.7850520645506,370.35331210191134,372.81197151919883,370.14143716121515,369.3241436544895,368.14221827257586,370.61129923778157,362.986332695851,371.2209957264328,376.1600189126593,377.3367670387001,371.0351160097198,359.8004687340986,356.0330871886904,359.3370366027026,356.35868001285854,360.19699688745055,357.2497295680607,358.76010426275957,362.1420346725764,358.69759182892,361.9702086406332,358.2758659618018,362.48122341710865,363.79938076548996,355.3123039645985,352.9990904334387,358.94713824687756,355.75242853855815,357.5112977150418,363.50449480677963,361.00153329782466,362.95911599861864,360.90951349014074,361.1177526456758,356.3432682960407,356.0153243659481,360.63874365461874,358.2797011698613,354.88163897008945,357.13866098236156,356.0610024478737,356.3384298156301,361.4295836250805,367.8329478293188,370.86981923282895,371.7597467910022,366.958173119441,367.6432236597837,361.84324946125207,362.09056410428275,365.21720429762513,367.7369746500989,365.5539114083155,367.20154778474847,369.15229368680275,371.37926879170107,367.5148239680932,366.71706605786375,369.72476829505734,369.6581729825633,366.64220210763995,368.26161479416294,373.5153669824289,369.74701967136224,373.74890285834,375.3507868261008,377.94989026299004,379.4388711416684,377.7002458437658,373.74400209063134,370.04108138000225,370.24832017791675,378.9617434754313,372.9791694455595,371.6180928955517,370.8573703251897,371.48210660416015,374.769094004203,371.4943496905648,369.2824428469923,366.78058985017304,368.49916985559946,366.99485167448637,367.7248465156114,372.40381644483443,371.8996310787438,373.06674002552694,376.78777161467394,373.82890041966687,374.2630621352076,375.56314454325104,375.1250659484509,373.6777935331705,373.535673675441,366.2647053733527,369.4289047068362,369.2768523637254,366.1884222079267,372.49157535232314,372.83951465527156,373.02540779734346,370.2163141705102,376.5931977685655,377.9608813566623,374.0495447193337,377.0097899161673,372.90688366249805,376.99549947447974,373.42771536703594,371.31736017240763,374.6604817343204,376.9492073895655,373.0629281716727,374.1525529476149,373.2762893244718,374.76800336903034,374.1264183513246,379.5726857234884,392.66404037432795,393.0207007975801,393.72698708100705,400.8077382890499,398.87941330412616,405.2094750539056,401.10333387345327,404.45052673679413,409.0553841463321,408.6749795230363,414.0691510519287,410.4027934214592,404.85714852477315,407.77525364866335,414.75258882492716,419.4280943292901,417.68600500664263,426.8341205264105,433.3109756262292,423.3622378149936,415.26585036169104,412.89511984882495,419.0064079318061,414.21150170810694,415.53526751060826,413.20865415374607,405.32879676741425,406.6665631211711,409.3259639977856,406.8975845686261,410.15801264522645],\"yaxis\":\"y\",\"type\":\"scattergl\"}],                        {\"template\":{\"data\":{\"histogram2dcontour\":[{\"type\":\"histogram2dcontour\",\"colorbar\":{\"outlinewidth\":0,\"ticks\":\"\"},\"colorscale\":[[0.0,\"#0d0887\"],[0.1111111111111111,\"#46039f\"],[0.2222222222222222,\"#7201a8\"],[0.3333333333333333,\"#9c179e\"],[0.4444444444444444,\"#bd3786\"],[0.5555555555555556,\"#d8576b\"],[0.6666666666666666,\"#ed7953\"],[0.7777777777777778,\"#fb9f3a\"],[0.8888888888888888,\"#fdca26\"],[1.0,\"#f0f921\"]]}],\"choropleth\":[{\"type\":\"choropleth\",\"colorbar\":{\"outlinewidth\":0,\"ticks\":\"\"}}],\"histogram2d\":[{\"type\":\"histogram2d\",\"colorbar\":{\"outlinewidth\":0,\"ticks\":\"\"},\"colorscale\":[[0.0,\"#0d0887\"],[0.1111111111111111,\"#46039f\"],[0.2222222222222222,\"#7201a8\"],[0.3333333333333333,\"#9c179e\"],[0.4444444444444444,\"#bd3786\"],[0.5555555555555556,\"#d8576b\"],[0.6666666666666666,\"#ed7953\"],[0.7777777777777778,\"#fb9f3a\"],[0.8888888888888888,\"#fdca26\"],[1.0,\"#f0f921\"]]}],\"heatmap\":[{\"type\":\"heatmap\",\"colorbar\":{\"outlinewidth\":0,\"ticks\":\"\"},\"colorscale\":[[0.0,\"#0d0887\"],[0.1111111111111111,\"#46039f\"],[0.2222222222222222,\"#7201a8\"],[0.3333333333333333,\"#9c179e\"],[0.4444444444444444,\"#bd3786\"],[0.5555555555555556,\"#d8576b\"],[0.6666666666666666,\"#ed7953\"],[0.7777777777777778,\"#fb9f3a\"],[0.8888888888888888,\"#fdca26\"],[1.0,\"#f0f921\"]]}],\"heatmapgl\":[{\"type\":\"heatmapgl\",\"colorbar\":{\"outlinewidth\":0,\"ticks\":\"\"},\"colorscale\":[[0.0,\"#0d0887\"],[0.1111111111111111,\"#46039f\"],[0.2222222222222222,\"#7201a8\"],[0.3333333333333333,\"#9c179e\"],[0.4444444444444444,\"#bd3786\"],[0.5555555555555556,\"#d8576b\"],[0.6666666666666666,\"#ed7953\"],[0.7777777777777778,\"#fb9f3a\"],[0.8888888888888888,\"#fdca26\"],[1.0,\"#f0f921\"]]}],\"contourcarpet\":[{\"type\":\"contourcarpet\",\"colorbar\":{\"outlinewidth\":0,\"ticks\":\"\"}}],\"contour\":[{\"type\":\"contour\",\"colorbar\":{\"outlinewidth\":0,\"ticks\":\"\"},\"colorscale\":[[0.0,\"#0d0887\"],[0.1111111111111111,\"#46039f\"],[0.2222222222222222,\"#7201a8\"],[0.3333333333333333,\"#9c179e\"],[0.4444444444444444,\"#bd3786\"],[0.5555555555555556,\"#d8576b\"],[0.6666666666666666,\"#ed7953\"],[0.7777777777777778,\"#fb9f3a\"],[0.8888888888888888,\"#fdca26\"],[1.0,\"#f0f921\"]]}],\"surface\":[{\"type\":\"surface\",\"colorbar\":{\"outlinewidth\":0,\"ticks\":\"\"},\"colorscale\":[[0.0,\"#0d0887\"],[0.1111111111111111,\"#46039f\"],[0.2222222222222222,\"#7201a8\"],[0.3333333333333333,\"#9c179e\"],[0.4444444444444444,\"#bd3786\"],[0.5555555555555556,\"#d8576b\"],[0.6666666666666666,\"#ed7953\"],[0.7777777777777778,\"#fb9f3a\"],[0.8888888888888888,\"#fdca26\"],[1.0,\"#f0f921\"]]}],\"mesh3d\":[{\"type\":\"mesh3d\",\"colorbar\":{\"outlinewidth\":0,\"ticks\":\"\"}}],\"scatter\":[{\"fillpattern\":{\"fillmode\":\"overlay\",\"size\":10,\"solidity\":0.2},\"type\":\"scatter\"}],\"parcoords\":[{\"type\":\"parcoords\",\"line\":{\"colorbar\":{\"outlinewidth\":0,\"ticks\":\"\"}}}],\"scatterpolargl\":[{\"type\":\"scatterpolargl\",\"marker\":{\"colorbar\":{\"outlinewidth\":0,\"ticks\":\"\"}}}],\"bar\":[{\"error_x\":{\"color\":\"#2a3f5f\"},\"error_y\":{\"color\":\"#2a3f5f\"},\"marker\":{\"line\":{\"color\":\"#E5ECF6\",\"width\":0.5},\"pattern\":{\"fillmode\":\"overlay\",\"size\":10,\"solidity\":0.2}},\"type\":\"bar\"}],\"scattergeo\":[{\"type\":\"scattergeo\",\"marker\":{\"colorbar\":{\"outlinewidth\":0,\"ticks\":\"\"}}}],\"scatterpolar\":[{\"type\":\"scatterpolar\",\"marker\":{\"colorbar\":{\"outlinewidth\":0,\"ticks\":\"\"}}}],\"histogram\":[{\"marker\":{\"pattern\":{\"fillmode\":\"overlay\",\"size\":10,\"solidity\":0.2}},\"type\":\"histogram\"}],\"scattergl\":[{\"type\":\"scattergl\",\"marker\":{\"colorbar\":{\"outlinewidth\":0,\"ticks\":\"\"}}}],\"scatter3d\":[{\"type\":\"scatter3d\",\"line\":{\"colorbar\":{\"outlinewidth\":0,\"ticks\":\"\"}},\"marker\":{\"colorbar\":{\"outlinewidth\":0,\"ticks\":\"\"}}}],\"scattermapbox\":[{\"type\":\"scattermapbox\",\"marker\":{\"colorbar\":{\"outlinewidth\":0,\"ticks\":\"\"}}}],\"scatterternary\":[{\"type\":\"scatterternary\",\"marker\":{\"colorbar\":{\"outlinewidth\":0,\"ticks\":\"\"}}}],\"scattercarpet\":[{\"type\":\"scattercarpet\",\"marker\":{\"colorbar\":{\"outlinewidth\":0,\"ticks\":\"\"}}}],\"carpet\":[{\"aaxis\":{\"endlinecolor\":\"#2a3f5f\",\"gridcolor\":\"white\",\"linecolor\":\"white\",\"minorgridcolor\":\"white\",\"startlinecolor\":\"#2a3f5f\"},\"baxis\":{\"endlinecolor\":\"#2a3f5f\",\"gridcolor\":\"white\",\"linecolor\":\"white\",\"minorgridcolor\":\"white\",\"startlinecolor\":\"#2a3f5f\"},\"type\":\"carpet\"}],\"table\":[{\"cells\":{\"fill\":{\"color\":\"#EBF0F8\"},\"line\":{\"color\":\"white\"}},\"header\":{\"fill\":{\"color\":\"#C8D4E3\"},\"line\":{\"color\":\"white\"}},\"type\":\"table\"}],\"barpolar\":[{\"marker\":{\"line\":{\"color\":\"#E5ECF6\",\"width\":0.5},\"pattern\":{\"fillmode\":\"overlay\",\"size\":10,\"solidity\":0.2}},\"type\":\"barpolar\"}],\"pie\":[{\"automargin\":true,\"type\":\"pie\"}]},\"layout\":{\"autotypenumbers\":\"strict\",\"colorway\":[\"#636efa\",\"#EF553B\",\"#00cc96\",\"#ab63fa\",\"#FFA15A\",\"#19d3f3\",\"#FF6692\",\"#B6E880\",\"#FF97FF\",\"#FECB52\"],\"font\":{\"color\":\"#2a3f5f\"},\"hovermode\":\"closest\",\"hoverlabel\":{\"align\":\"left\"},\"paper_bgcolor\":\"white\",\"plot_bgcolor\":\"#E5ECF6\",\"polar\":{\"bgcolor\":\"#E5ECF6\",\"angularaxis\":{\"gridcolor\":\"white\",\"linecolor\":\"white\",\"ticks\":\"\"},\"radialaxis\":{\"gridcolor\":\"white\",\"linecolor\":\"white\",\"ticks\":\"\"}},\"ternary\":{\"bgcolor\":\"#E5ECF6\",\"aaxis\":{\"gridcolor\":\"white\",\"linecolor\":\"white\",\"ticks\":\"\"},\"baxis\":{\"gridcolor\":\"white\",\"linecolor\":\"white\",\"ticks\":\"\"},\"caxis\":{\"gridcolor\":\"white\",\"linecolor\":\"white\",\"ticks\":\"\"}},\"coloraxis\":{\"colorbar\":{\"outlinewidth\":0,\"ticks\":\"\"}},\"colorscale\":{\"sequential\":[[0.0,\"#0d0887\"],[0.1111111111111111,\"#46039f\"],[0.2222222222222222,\"#7201a8\"],[0.3333333333333333,\"#9c179e\"],[0.4444444444444444,\"#bd3786\"],[0.5555555555555556,\"#d8576b\"],[0.6666666666666666,\"#ed7953\"],[0.7777777777777778,\"#fb9f3a\"],[0.8888888888888888,\"#fdca26\"],[1.0,\"#f0f921\"]],\"sequentialminus\":[[0.0,\"#0d0887\"],[0.1111111111111111,\"#46039f\"],[0.2222222222222222,\"#7201a8\"],[0.3333333333333333,\"#9c179e\"],[0.4444444444444444,\"#bd3786\"],[0.5555555555555556,\"#d8576b\"],[0.6666666666666666,\"#ed7953\"],[0.7777777777777778,\"#fb9f3a\"],[0.8888888888888888,\"#fdca26\"],[1.0,\"#f0f921\"]],\"diverging\":[[0,\"#8e0152\"],[0.1,\"#c51b7d\"],[0.2,\"#de77ae\"],[0.3,\"#f1b6da\"],[0.4,\"#fde0ef\"],[0.5,\"#f7f7f7\"],[0.6,\"#e6f5d0\"],[0.7,\"#b8e186\"],[0.8,\"#7fbc41\"],[0.9,\"#4d9221\"],[1,\"#276419\"]]},\"xaxis\":{\"gridcolor\":\"white\",\"linecolor\":\"white\",\"ticks\":\"\",\"title\":{\"standoff\":15},\"zerolinecolor\":\"white\",\"automargin\":true,\"zerolinewidth\":2},\"yaxis\":{\"gridcolor\":\"white\",\"linecolor\":\"white\",\"ticks\":\"\",\"title\":{\"standoff\":15},\"zerolinecolor\":\"white\",\"automargin\":true,\"zerolinewidth\":2},\"scene\":{\"xaxis\":{\"backgroundcolor\":\"#E5ECF6\",\"gridcolor\":\"white\",\"linecolor\":\"white\",\"showbackground\":true,\"ticks\":\"\",\"zerolinecolor\":\"white\",\"gridwidth\":2},\"yaxis\":{\"backgroundcolor\":\"#E5ECF6\",\"gridcolor\":\"white\",\"linecolor\":\"white\",\"showbackground\":true,\"ticks\":\"\",\"zerolinecolor\":\"white\",\"gridwidth\":2},\"zaxis\":{\"backgroundcolor\":\"#E5ECF6\",\"gridcolor\":\"white\",\"linecolor\":\"white\",\"showbackground\":true,\"ticks\":\"\",\"zerolinecolor\":\"white\",\"gridwidth\":2}},\"shapedefaults\":{\"line\":{\"color\":\"#2a3f5f\"}},\"annotationdefaults\":{\"arrowcolor\":\"#2a3f5f\",\"arrowhead\":0,\"arrowwidth\":1},\"geo\":{\"bgcolor\":\"white\",\"landcolor\":\"#E5ECF6\",\"subunitcolor\":\"white\",\"showland\":true,\"showlakes\":true,\"lakecolor\":\"white\"},\"title\":{\"x\":0.05},\"mapbox\":{\"style\":\"light\"}}},\"xaxis\":{\"anchor\":\"y\",\"domain\":[0.0,1.0],\"title\":{\"text\":\"index\"}},\"yaxis\":{\"anchor\":\"x\",\"domain\":[0.0,1.0],\"title\":{\"text\":\"value\"}},\"legend\":{\"title\":{\"text\":\"variable\"},\"tracegroupgap\":0},\"title\":{\"text\":\"Financial Asset\"}},                        {\"responsive\": true}                    ).then(function(){\n",
              "                            \n",
              "var gd = document.getElementById('f4f7bad3-e206-4246-992f-da5582e83b41');\n",
              "var x = new MutationObserver(function (mutations, observer) {{\n",
              "        var display = window.getComputedStyle(gd).display;\n",
              "        if (!display || display === 'none') {{\n",
              "            console.log([gd, 'removed!']);\n",
              "            Plotly.purge(gd);\n",
              "            observer.disconnect();\n",
              "        }}\n",
              "}});\n",
              "\n",
              "// Listen for the removal of the full notebook cells\n",
              "var notebookContainer = gd.closest('#notebook-container');\n",
              "if (notebookContainer) {{\n",
              "    x.observe(notebookContainer, {childList: true});\n",
              "}}\n",
              "\n",
              "// Listen for the clearing of the current output cell\n",
              "var outputEl = gd.closest('.output');\n",
              "if (outputEl) {{\n",
              "    x.observe(outputEl, {childList: true});\n",
              "}}\n",
              "\n",
              "                        })                };                            </script>        </div>\n",
              "</body>\n",
              "</html>"
            ]
          },
          "metadata": {}
        }
      ]
    },
    {
      "cell_type": "code",
      "source": [
        "# Without the Legend\n",
        "fig.update_layout(showlegend = False)\n",
        "\n",
        "\n",
        "# Center the title\n",
        "fig.update_layout(title_text = 'Financial Asset Price',\n",
        "                  title_font_size = 30,\n",
        "                  title_x = 0.5)\n",
        "\n",
        "# Modify the text in the axis\n",
        "fig.update_xaxes(title = 'Dates', title_font_size = 25)\n",
        "fig.update_yaxes(title = 'USD', title_font_size = 25)\n",
        "\n",
        "fig.show()"
      ],
      "metadata": {
        "colab": {
          "base_uri": "https://localhost:8080/",
          "height": 542
        },
        "id": "7ww_SS8DLcJL",
        "outputId": "ece83fd0-4e08-4155-92db-c4cb9adec81f"
      },
      "execution_count": 69,
      "outputs": [
        {
          "output_type": "display_data",
          "data": {
            "text/html": [
              "<html>\n",
              "<head><meta charset=\"utf-8\" /></head>\n",
              "<body>\n",
              "    <div>            <script src=\"https://cdnjs.cloudflare.com/ajax/libs/mathjax/2.7.5/MathJax.js?config=TeX-AMS-MML_SVG\"></script><script type=\"text/javascript\">if (window.MathJax && window.MathJax.Hub && window.MathJax.Hub.Config) {window.MathJax.Hub.Config({SVG: {font: \"STIX-Web\"}});}</script>                <script type=\"text/javascript\">window.PlotlyConfig = {MathJaxConfig: 'local'};</script>\n",
              "        <script charset=\"utf-8\" src=\"https://cdn.plot.ly/plotly-2.24.1.min.js\"></script>                <div id=\"7937eaa5-3dcf-4545-9314-09bdc0a6fa79\" class=\"plotly-graph-div\" style=\"height:525px; width:100%;\"></div>            <script type=\"text/javascript\">                                    window.PLOTLYENV=window.PLOTLYENV || {};                                    if (document.getElementById(\"7937eaa5-3dcf-4545-9314-09bdc0a6fa79\")) {                    Plotly.newPlot(                        \"7937eaa5-3dcf-4545-9314-09bdc0a6fa79\",                        [{\"hovertemplate\":\"variable=0\\u003cbr\\u003eindex=%{x}\\u003cbr\\u003evalue=%{y}\\u003cextra\\u003e\\u003c\\u002fextra\\u003e\",\"legendgroup\":\"0\",\"line\":{\"color\":\"#636efa\",\"dash\":\"solid\"},\"marker\":{\"symbol\":\"circle\"},\"mode\":\"lines\",\"name\":\"0\",\"showlegend\":true,\"x\":[\"2019-08-13T00:00:00\",\"2019-08-14T00:00:00\",\"2019-08-15T00:00:00\",\"2019-08-16T00:00:00\",\"2019-08-17T00:00:00\",\"2019-08-18T00:00:00\",\"2019-08-19T00:00:00\",\"2019-08-20T00:00:00\",\"2019-08-21T00:00:00\",\"2019-08-22T00:00:00\",\"2019-08-23T00:00:00\",\"2019-08-24T00:00:00\",\"2019-08-25T00:00:00\",\"2019-08-26T00:00:00\",\"2019-08-27T00:00:00\",\"2019-08-28T00:00:00\",\"2019-08-29T00:00:00\",\"2019-08-30T00:00:00\",\"2019-08-31T00:00:00\",\"2019-09-01T00:00:00\",\"2019-09-02T00:00:00\",\"2019-09-03T00:00:00\",\"2019-09-04T00:00:00\",\"2019-09-05T00:00:00\",\"2019-09-06T00:00:00\",\"2019-09-07T00:00:00\",\"2019-09-08T00:00:00\",\"2019-09-09T00:00:00\",\"2019-09-10T00:00:00\",\"2019-09-11T00:00:00\",\"2019-09-12T00:00:00\",\"2019-09-13T00:00:00\",\"2019-09-14T00:00:00\",\"2019-09-15T00:00:00\",\"2019-09-16T00:00:00\",\"2019-09-17T00:00:00\",\"2019-09-18T00:00:00\",\"2019-09-19T00:00:00\",\"2019-09-20T00:00:00\",\"2019-09-21T00:00:00\",\"2019-09-22T00:00:00\",\"2019-09-23T00:00:00\",\"2019-09-24T00:00:00\",\"2019-09-25T00:00:00\",\"2019-09-26T00:00:00\",\"2019-09-27T00:00:00\",\"2019-09-28T00:00:00\",\"2019-09-29T00:00:00\",\"2019-09-30T00:00:00\",\"2019-10-01T00:00:00\",\"2019-10-02T00:00:00\",\"2019-10-03T00:00:00\",\"2019-10-04T00:00:00\",\"2019-10-05T00:00:00\",\"2019-10-06T00:00:00\",\"2019-10-07T00:00:00\",\"2019-10-08T00:00:00\",\"2019-10-09T00:00:00\",\"2019-10-10T00:00:00\",\"2019-10-11T00:00:00\",\"2019-10-12T00:00:00\",\"2019-10-13T00:00:00\",\"2019-10-14T00:00:00\",\"2019-10-15T00:00:00\",\"2019-10-16T00:00:00\",\"2019-10-17T00:00:00\",\"2019-10-18T00:00:00\",\"2019-10-19T00:00:00\",\"2019-10-20T00:00:00\",\"2019-10-21T00:00:00\",\"2019-10-22T00:00:00\",\"2019-10-23T00:00:00\",\"2019-10-24T00:00:00\",\"2019-10-25T00:00:00\",\"2019-10-26T00:00:00\",\"2019-10-27T00:00:00\",\"2019-10-28T00:00:00\",\"2019-10-29T00:00:00\",\"2019-10-30T00:00:00\",\"2019-10-31T00:00:00\",\"2019-11-01T00:00:00\",\"2019-11-02T00:00:00\",\"2019-11-03T00:00:00\",\"2019-11-04T00:00:00\",\"2019-11-05T00:00:00\",\"2019-11-06T00:00:00\",\"2019-11-07T00:00:00\",\"2019-11-08T00:00:00\",\"2019-11-09T00:00:00\",\"2019-11-10T00:00:00\",\"2019-11-11T00:00:00\",\"2019-11-12T00:00:00\",\"2019-11-13T00:00:00\",\"2019-11-14T00:00:00\",\"2019-11-15T00:00:00\",\"2019-11-16T00:00:00\",\"2019-11-17T00:00:00\",\"2019-11-18T00:00:00\",\"2019-11-19T00:00:00\",\"2019-11-20T00:00:00\",\"2019-11-21T00:00:00\",\"2019-11-22T00:00:00\",\"2019-11-23T00:00:00\",\"2019-11-24T00:00:00\",\"2019-11-25T00:00:00\",\"2019-11-26T00:00:00\",\"2019-11-27T00:00:00\",\"2019-11-28T00:00:00\",\"2019-11-29T00:00:00\",\"2019-11-30T00:00:00\",\"2019-12-01T00:00:00\",\"2019-12-02T00:00:00\",\"2019-12-03T00:00:00\",\"2019-12-04T00:00:00\",\"2019-12-05T00:00:00\",\"2019-12-06T00:00:00\",\"2019-12-07T00:00:00\",\"2019-12-08T00:00:00\",\"2019-12-09T00:00:00\",\"2019-12-10T00:00:00\",\"2019-12-11T00:00:00\",\"2019-12-12T00:00:00\",\"2019-12-13T00:00:00\",\"2019-12-14T00:00:00\",\"2019-12-15T00:00:00\",\"2019-12-16T00:00:00\",\"2019-12-17T00:00:00\",\"2019-12-18T00:00:00\",\"2019-12-19T00:00:00\",\"2019-12-20T00:00:00\",\"2019-12-21T00:00:00\",\"2019-12-22T00:00:00\",\"2019-12-23T00:00:00\",\"2019-12-24T00:00:00\",\"2019-12-25T00:00:00\",\"2019-12-26T00:00:00\",\"2019-12-27T00:00:00\",\"2019-12-28T00:00:00\",\"2019-12-29T00:00:00\",\"2019-12-30T00:00:00\",\"2019-12-31T00:00:00\",\"2020-01-01T00:00:00\",\"2020-01-02T00:00:00\",\"2020-01-03T00:00:00\",\"2020-01-04T00:00:00\",\"2020-01-05T00:00:00\",\"2020-01-06T00:00:00\",\"2020-01-07T00:00:00\",\"2020-01-08T00:00:00\",\"2020-01-09T00:00:00\",\"2020-01-10T00:00:00\",\"2020-01-11T00:00:00\",\"2020-01-12T00:00:00\",\"2020-01-13T00:00:00\",\"2020-01-14T00:00:00\",\"2020-01-15T00:00:00\",\"2020-01-16T00:00:00\",\"2020-01-17T00:00:00\",\"2020-01-18T00:00:00\",\"2020-01-19T00:00:00\",\"2020-01-20T00:00:00\",\"2020-01-21T00:00:00\",\"2020-01-22T00:00:00\",\"2020-01-23T00:00:00\",\"2020-01-24T00:00:00\",\"2020-01-25T00:00:00\",\"2020-01-26T00:00:00\",\"2020-01-27T00:00:00\",\"2020-01-28T00:00:00\",\"2020-01-29T00:00:00\",\"2020-01-30T00:00:00\",\"2020-01-31T00:00:00\",\"2020-02-01T00:00:00\",\"2020-02-02T00:00:00\",\"2020-02-03T00:00:00\",\"2020-02-04T00:00:00\",\"2020-02-05T00:00:00\",\"2020-02-06T00:00:00\",\"2020-02-07T00:00:00\",\"2020-02-08T00:00:00\",\"2020-02-09T00:00:00\",\"2020-02-10T00:00:00\",\"2020-02-11T00:00:00\",\"2020-02-12T00:00:00\",\"2020-02-13T00:00:00\",\"2020-02-14T00:00:00\",\"2020-02-15T00:00:00\",\"2020-02-16T00:00:00\",\"2020-02-17T00:00:00\",\"2020-02-18T00:00:00\",\"2020-02-19T00:00:00\",\"2020-02-20T00:00:00\",\"2020-02-21T00:00:00\",\"2020-02-22T00:00:00\",\"2020-02-23T00:00:00\",\"2020-02-24T00:00:00\",\"2020-02-25T00:00:00\",\"2020-02-26T00:00:00\",\"2020-02-27T00:00:00\",\"2020-02-28T00:00:00\",\"2020-02-29T00:00:00\",\"2020-03-01T00:00:00\",\"2020-03-02T00:00:00\",\"2020-03-03T00:00:00\",\"2020-03-04T00:00:00\",\"2020-03-05T00:00:00\",\"2020-03-06T00:00:00\",\"2020-03-07T00:00:00\",\"2020-03-08T00:00:00\",\"2020-03-09T00:00:00\",\"2020-03-10T00:00:00\",\"2020-03-11T00:00:00\",\"2020-03-12T00:00:00\",\"2020-03-13T00:00:00\",\"2020-03-14T00:00:00\",\"2020-03-15T00:00:00\",\"2020-03-16T00:00:00\",\"2020-03-17T00:00:00\",\"2020-03-18T00:00:00\",\"2020-03-19T00:00:00\",\"2020-03-20T00:00:00\",\"2020-03-21T00:00:00\",\"2020-03-22T00:00:00\",\"2020-03-23T00:00:00\",\"2020-03-24T00:00:00\",\"2020-03-25T00:00:00\",\"2020-03-26T00:00:00\",\"2020-03-27T00:00:00\",\"2020-03-28T00:00:00\",\"2020-03-29T00:00:00\",\"2020-03-30T00:00:00\",\"2020-03-31T00:00:00\",\"2020-04-01T00:00:00\",\"2020-04-02T00:00:00\",\"2020-04-03T00:00:00\",\"2020-04-04T00:00:00\",\"2020-04-05T00:00:00\",\"2020-04-06T00:00:00\",\"2020-04-07T00:00:00\",\"2020-04-08T00:00:00\",\"2020-04-09T00:00:00\",\"2020-04-10T00:00:00\",\"2020-04-11T00:00:00\",\"2020-04-12T00:00:00\",\"2020-04-13T00:00:00\",\"2020-04-14T00:00:00\",\"2020-04-15T00:00:00\",\"2020-04-16T00:00:00\",\"2020-04-17T00:00:00\",\"2020-04-18T00:00:00\",\"2020-04-19T00:00:00\",\"2020-04-20T00:00:00\",\"2020-04-21T00:00:00\",\"2020-04-22T00:00:00\",\"2020-04-23T00:00:00\",\"2020-04-24T00:00:00\",\"2020-04-25T00:00:00\",\"2020-04-26T00:00:00\",\"2020-04-27T00:00:00\",\"2020-04-28T00:00:00\",\"2020-04-29T00:00:00\",\"2020-04-30T00:00:00\",\"2020-05-01T00:00:00\",\"2020-05-02T00:00:00\",\"2020-05-03T00:00:00\",\"2020-05-04T00:00:00\",\"2020-05-05T00:00:00\",\"2020-05-06T00:00:00\",\"2020-05-07T00:00:00\",\"2020-05-08T00:00:00\",\"2020-05-09T00:00:00\",\"2020-05-10T00:00:00\",\"2020-05-11T00:00:00\",\"2020-05-12T00:00:00\",\"2020-05-13T00:00:00\",\"2020-05-14T00:00:00\",\"2020-05-15T00:00:00\",\"2020-05-16T00:00:00\",\"2020-05-17T00:00:00\",\"2020-05-18T00:00:00\",\"2020-05-19T00:00:00\",\"2020-05-20T00:00:00\",\"2020-05-21T00:00:00\",\"2020-05-22T00:00:00\",\"2020-05-23T00:00:00\",\"2020-05-24T00:00:00\",\"2020-05-25T00:00:00\",\"2020-05-26T00:00:00\",\"2020-05-27T00:00:00\",\"2020-05-28T00:00:00\",\"2020-05-29T00:00:00\",\"2020-05-30T00:00:00\",\"2020-05-31T00:00:00\",\"2020-06-01T00:00:00\",\"2020-06-02T00:00:00\",\"2020-06-03T00:00:00\",\"2020-06-04T00:00:00\",\"2020-06-05T00:00:00\",\"2020-06-06T00:00:00\",\"2020-06-07T00:00:00\",\"2020-06-08T00:00:00\",\"2020-06-09T00:00:00\",\"2020-06-10T00:00:00\",\"2020-06-11T00:00:00\",\"2020-06-12T00:00:00\",\"2020-06-13T00:00:00\",\"2020-06-14T00:00:00\",\"2020-06-15T00:00:00\",\"2020-06-16T00:00:00\",\"2020-06-17T00:00:00\",\"2020-06-18T00:00:00\",\"2020-06-19T00:00:00\",\"2020-06-20T00:00:00\",\"2020-06-21T00:00:00\",\"2020-06-22T00:00:00\",\"2020-06-23T00:00:00\",\"2020-06-24T00:00:00\",\"2020-06-25T00:00:00\",\"2020-06-26T00:00:00\",\"2020-06-27T00:00:00\",\"2020-06-28T00:00:00\",\"2020-06-29T00:00:00\",\"2020-06-30T00:00:00\",\"2020-07-01T00:00:00\",\"2020-07-02T00:00:00\",\"2020-07-03T00:00:00\",\"2020-07-04T00:00:00\",\"2020-07-05T00:00:00\",\"2020-07-06T00:00:00\",\"2020-07-07T00:00:00\",\"2020-07-08T00:00:00\",\"2020-07-09T00:00:00\",\"2020-07-10T00:00:00\",\"2020-07-11T00:00:00\",\"2020-07-12T00:00:00\",\"2020-07-13T00:00:00\",\"2020-07-14T00:00:00\",\"2020-07-15T00:00:00\",\"2020-07-16T00:00:00\",\"2020-07-17T00:00:00\",\"2020-07-18T00:00:00\",\"2020-07-19T00:00:00\",\"2020-07-20T00:00:00\",\"2020-07-21T00:00:00\",\"2020-07-22T00:00:00\",\"2020-07-23T00:00:00\",\"2020-07-24T00:00:00\",\"2020-07-25T00:00:00\",\"2020-07-26T00:00:00\",\"2020-07-27T00:00:00\",\"2020-07-28T00:00:00\",\"2020-07-29T00:00:00\",\"2020-07-30T00:00:00\",\"2020-07-31T00:00:00\",\"2020-08-01T00:00:00\",\"2020-08-02T00:00:00\",\"2020-08-03T00:00:00\",\"2020-08-04T00:00:00\",\"2020-08-05T00:00:00\",\"2020-08-06T00:00:00\",\"2020-08-07T00:00:00\",\"2020-08-08T00:00:00\",\"2020-08-09T00:00:00\",\"2020-08-10T00:00:00\",\"2020-08-11T00:00:00\",\"2020-08-12T00:00:00\",\"2020-08-13T00:00:00\",\"2020-08-14T00:00:00\",\"2020-08-15T00:00:00\",\"2020-08-16T00:00:00\",\"2020-08-17T00:00:00\",\"2020-08-18T00:00:00\",\"2020-08-19T00:00:00\",\"2020-08-20T00:00:00\",\"2020-08-21T00:00:00\",\"2020-08-22T00:00:00\",\"2020-08-23T00:00:00\",\"2020-08-24T00:00:00\",\"2020-08-25T00:00:00\",\"2020-08-26T00:00:00\",\"2020-08-27T00:00:00\",\"2020-08-28T00:00:00\",\"2020-08-29T00:00:00\",\"2020-08-30T00:00:00\",\"2020-08-31T00:00:00\",\"2020-09-01T00:00:00\",\"2020-09-02T00:00:00\",\"2020-09-03T00:00:00\",\"2020-09-04T00:00:00\",\"2020-09-05T00:00:00\",\"2020-09-06T00:00:00\",\"2020-09-07T00:00:00\",\"2020-09-08T00:00:00\",\"2020-09-09T00:00:00\",\"2020-09-10T00:00:00\",\"2020-09-11T00:00:00\",\"2020-09-12T00:00:00\",\"2020-09-13T00:00:00\",\"2020-09-14T00:00:00\",\"2020-09-15T00:00:00\",\"2020-09-16T00:00:00\",\"2020-09-17T00:00:00\",\"2020-09-18T00:00:00\",\"2020-09-19T00:00:00\",\"2020-09-20T00:00:00\",\"2020-09-21T00:00:00\",\"2020-09-22T00:00:00\",\"2020-09-23T00:00:00\",\"2020-09-24T00:00:00\",\"2020-09-25T00:00:00\",\"2020-09-26T00:00:00\",\"2020-09-27T00:00:00\",\"2020-09-28T00:00:00\",\"2020-09-29T00:00:00\",\"2020-09-30T00:00:00\",\"2020-10-01T00:00:00\",\"2020-10-02T00:00:00\",\"2020-10-03T00:00:00\",\"2020-10-04T00:00:00\",\"2020-10-05T00:00:00\",\"2020-10-06T00:00:00\",\"2020-10-07T00:00:00\",\"2020-10-08T00:00:00\",\"2020-10-09T00:00:00\",\"2020-10-10T00:00:00\",\"2020-10-11T00:00:00\",\"2020-10-12T00:00:00\",\"2020-10-13T00:00:00\",\"2020-10-14T00:00:00\",\"2020-10-15T00:00:00\",\"2020-10-16T00:00:00\",\"2020-10-17T00:00:00\",\"2020-10-18T00:00:00\",\"2020-10-19T00:00:00\",\"2020-10-20T00:00:00\",\"2020-10-21T00:00:00\",\"2020-10-22T00:00:00\",\"2020-10-23T00:00:00\",\"2020-10-24T00:00:00\",\"2020-10-25T00:00:00\",\"2020-10-26T00:00:00\",\"2020-10-27T00:00:00\",\"2020-10-28T00:00:00\",\"2020-10-29T00:00:00\",\"2020-10-30T00:00:00\",\"2020-10-31T00:00:00\",\"2020-11-01T00:00:00\",\"2020-11-02T00:00:00\",\"2020-11-03T00:00:00\",\"2020-11-04T00:00:00\",\"2020-11-05T00:00:00\",\"2020-11-06T00:00:00\",\"2020-11-07T00:00:00\",\"2020-11-08T00:00:00\",\"2020-11-09T00:00:00\",\"2020-11-10T00:00:00\",\"2020-11-11T00:00:00\",\"2020-11-12T00:00:00\",\"2020-11-13T00:00:00\",\"2020-11-14T00:00:00\",\"2020-11-15T00:00:00\",\"2020-11-16T00:00:00\",\"2020-11-17T00:00:00\",\"2020-11-18T00:00:00\",\"2020-11-19T00:00:00\",\"2020-11-20T00:00:00\",\"2020-11-21T00:00:00\",\"2020-11-22T00:00:00\",\"2020-11-23T00:00:00\",\"2020-11-24T00:00:00\",\"2020-11-25T00:00:00\",\"2020-11-26T00:00:00\",\"2020-11-27T00:00:00\",\"2020-11-28T00:00:00\",\"2020-11-29T00:00:00\",\"2020-11-30T00:00:00\",\"2020-12-01T00:00:00\",\"2020-12-02T00:00:00\",\"2020-12-03T00:00:00\",\"2020-12-04T00:00:00\",\"2020-12-05T00:00:00\",\"2020-12-06T00:00:00\",\"2020-12-07T00:00:00\",\"2020-12-08T00:00:00\",\"2020-12-09T00:00:00\",\"2020-12-10T00:00:00\",\"2020-12-11T00:00:00\",\"2020-12-12T00:00:00\",\"2020-12-13T00:00:00\",\"2020-12-14T00:00:00\",\"2020-12-15T00:00:00\",\"2020-12-16T00:00:00\",\"2020-12-17T00:00:00\",\"2020-12-18T00:00:00\",\"2020-12-19T00:00:00\",\"2020-12-20T00:00:00\",\"2020-12-21T00:00:00\",\"2020-12-22T00:00:00\",\"2020-12-23T00:00:00\",\"2020-12-24T00:00:00\",\"2020-12-25T00:00:00\",\"2020-12-26T00:00:00\",\"2020-12-27T00:00:00\",\"2020-12-28T00:00:00\",\"2020-12-29T00:00:00\",\"2020-12-30T00:00:00\",\"2020-12-31T00:00:00\",\"2021-01-01T00:00:00\",\"2021-01-02T00:00:00\",\"2021-01-03T00:00:00\",\"2021-01-04T00:00:00\",\"2021-01-05T00:00:00\",\"2021-01-06T00:00:00\",\"2021-01-07T00:00:00\",\"2021-01-08T00:00:00\",\"2021-01-09T00:00:00\",\"2021-01-10T00:00:00\",\"2021-01-11T00:00:00\",\"2021-01-12T00:00:00\",\"2021-01-13T00:00:00\",\"2021-01-14T00:00:00\",\"2021-01-15T00:00:00\",\"2021-01-16T00:00:00\",\"2021-01-17T00:00:00\",\"2021-01-18T00:00:00\",\"2021-01-19T00:00:00\",\"2021-01-20T00:00:00\",\"2021-01-21T00:00:00\",\"2021-01-22T00:00:00\",\"2021-01-23T00:00:00\",\"2021-01-24T00:00:00\",\"2021-01-25T00:00:00\",\"2021-01-26T00:00:00\",\"2021-01-27T00:00:00\",\"2021-01-28T00:00:00\",\"2021-01-29T00:00:00\",\"2021-01-30T00:00:00\",\"2021-01-31T00:00:00\",\"2021-02-01T00:00:00\",\"2021-02-02T00:00:00\",\"2021-02-03T00:00:00\",\"2021-02-04T00:00:00\",\"2021-02-05T00:00:00\",\"2021-02-06T00:00:00\",\"2021-02-07T00:00:00\",\"2021-02-08T00:00:00\",\"2021-02-09T00:00:00\",\"2021-02-10T00:00:00\",\"2021-02-11T00:00:00\",\"2021-02-12T00:00:00\",\"2021-02-13T00:00:00\",\"2021-02-14T00:00:00\",\"2021-02-15T00:00:00\",\"2021-02-16T00:00:00\",\"2021-02-17T00:00:00\",\"2021-02-18T00:00:00\",\"2021-02-19T00:00:00\",\"2021-02-20T00:00:00\",\"2021-02-21T00:00:00\",\"2021-02-22T00:00:00\",\"2021-02-23T00:00:00\",\"2021-02-24T00:00:00\",\"2021-02-25T00:00:00\",\"2021-02-26T00:00:00\",\"2021-02-27T00:00:00\",\"2021-02-28T00:00:00\",\"2021-03-01T00:00:00\",\"2021-03-02T00:00:00\",\"2021-03-03T00:00:00\",\"2021-03-04T00:00:00\",\"2021-03-05T00:00:00\",\"2021-03-06T00:00:00\",\"2021-03-07T00:00:00\",\"2021-03-08T00:00:00\",\"2021-03-09T00:00:00\",\"2021-03-10T00:00:00\",\"2021-03-11T00:00:00\",\"2021-03-12T00:00:00\",\"2021-03-13T00:00:00\",\"2021-03-14T00:00:00\",\"2021-03-15T00:00:00\",\"2021-03-16T00:00:00\",\"2021-03-17T00:00:00\",\"2021-03-18T00:00:00\",\"2021-03-19T00:00:00\",\"2021-03-20T00:00:00\",\"2021-03-21T00:00:00\",\"2021-03-22T00:00:00\",\"2021-03-23T00:00:00\",\"2021-03-24T00:00:00\",\"2021-03-25T00:00:00\",\"2021-03-26T00:00:00\",\"2021-03-27T00:00:00\",\"2021-03-28T00:00:00\",\"2021-03-29T00:00:00\",\"2021-03-30T00:00:00\",\"2021-03-31T00:00:00\",\"2021-04-01T00:00:00\",\"2021-04-02T00:00:00\",\"2021-04-03T00:00:00\",\"2021-04-04T00:00:00\",\"2021-04-05T00:00:00\",\"2021-04-06T00:00:00\",\"2021-04-07T00:00:00\",\"2021-04-08T00:00:00\",\"2021-04-09T00:00:00\",\"2021-04-10T00:00:00\",\"2021-04-11T00:00:00\",\"2021-04-12T00:00:00\",\"2021-04-13T00:00:00\",\"2021-04-14T00:00:00\",\"2021-04-15T00:00:00\",\"2021-04-16T00:00:00\",\"2021-04-17T00:00:00\",\"2021-04-18T00:00:00\",\"2021-04-19T00:00:00\",\"2021-04-20T00:00:00\",\"2021-04-21T00:00:00\",\"2021-04-22T00:00:00\",\"2021-04-23T00:00:00\",\"2021-04-24T00:00:00\",\"2021-04-25T00:00:00\",\"2021-04-26T00:00:00\",\"2021-04-27T00:00:00\",\"2021-04-28T00:00:00\",\"2021-04-29T00:00:00\",\"2021-04-30T00:00:00\",\"2021-05-01T00:00:00\",\"2021-05-02T00:00:00\",\"2021-05-03T00:00:00\",\"2021-05-04T00:00:00\",\"2021-05-05T00:00:00\",\"2021-05-06T00:00:00\",\"2021-05-07T00:00:00\",\"2021-05-08T00:00:00\",\"2021-05-09T00:00:00\",\"2021-05-10T00:00:00\",\"2021-05-11T00:00:00\",\"2021-05-12T00:00:00\",\"2021-05-13T00:00:00\",\"2021-05-14T00:00:00\",\"2021-05-15T00:00:00\",\"2021-05-16T00:00:00\",\"2021-05-17T00:00:00\",\"2021-05-18T00:00:00\",\"2021-05-19T00:00:00\",\"2021-05-20T00:00:00\",\"2021-05-21T00:00:00\",\"2021-05-22T00:00:00\",\"2021-05-23T00:00:00\",\"2021-05-24T00:00:00\",\"2021-05-25T00:00:00\",\"2021-05-26T00:00:00\",\"2021-05-27T00:00:00\",\"2021-05-28T00:00:00\",\"2021-05-29T00:00:00\",\"2021-05-30T00:00:00\",\"2021-05-31T00:00:00\",\"2021-06-01T00:00:00\",\"2021-06-02T00:00:00\",\"2021-06-03T00:00:00\",\"2021-06-04T00:00:00\",\"2021-06-05T00:00:00\",\"2021-06-06T00:00:00\",\"2021-06-07T00:00:00\",\"2021-06-08T00:00:00\",\"2021-06-09T00:00:00\",\"2021-06-10T00:00:00\",\"2021-06-11T00:00:00\",\"2021-06-12T00:00:00\",\"2021-06-13T00:00:00\",\"2021-06-14T00:00:00\",\"2021-06-15T00:00:00\",\"2021-06-16T00:00:00\",\"2021-06-17T00:00:00\",\"2021-06-18T00:00:00\",\"2021-06-19T00:00:00\",\"2021-06-20T00:00:00\",\"2021-06-21T00:00:00\",\"2021-06-22T00:00:00\",\"2021-06-23T00:00:00\",\"2021-06-24T00:00:00\",\"2021-06-25T00:00:00\",\"2021-06-26T00:00:00\",\"2021-06-27T00:00:00\",\"2021-06-28T00:00:00\",\"2021-06-29T00:00:00\",\"2021-06-30T00:00:00\",\"2021-07-01T00:00:00\",\"2021-07-02T00:00:00\",\"2021-07-03T00:00:00\",\"2021-07-04T00:00:00\",\"2021-07-05T00:00:00\",\"2021-07-06T00:00:00\",\"2021-07-07T00:00:00\",\"2021-07-08T00:00:00\",\"2021-07-09T00:00:00\",\"2021-07-10T00:00:00\",\"2021-07-11T00:00:00\",\"2021-07-12T00:00:00\",\"2021-07-13T00:00:00\",\"2021-07-14T00:00:00\",\"2021-07-15T00:00:00\",\"2021-07-16T00:00:00\",\"2021-07-17T00:00:00\",\"2021-07-18T00:00:00\",\"2021-07-19T00:00:00\",\"2021-07-20T00:00:00\",\"2021-07-21T00:00:00\",\"2021-07-22T00:00:00\",\"2021-07-23T00:00:00\",\"2021-07-24T00:00:00\",\"2021-07-25T00:00:00\",\"2021-07-26T00:00:00\",\"2021-07-27T00:00:00\",\"2021-07-28T00:00:00\",\"2021-07-29T00:00:00\",\"2021-07-30T00:00:00\",\"2021-07-31T00:00:00\",\"2021-08-01T00:00:00\",\"2021-08-02T00:00:00\",\"2021-08-03T00:00:00\",\"2021-08-04T00:00:00\",\"2021-08-05T00:00:00\",\"2021-08-06T00:00:00\",\"2021-08-07T00:00:00\",\"2021-08-08T00:00:00\",\"2021-08-09T00:00:00\",\"2021-08-10T00:00:00\",\"2021-08-11T00:00:00\",\"2021-08-12T00:00:00\",\"2021-08-13T00:00:00\",\"2021-08-14T00:00:00\",\"2021-08-15T00:00:00\",\"2021-08-16T00:00:00\",\"2021-08-17T00:00:00\",\"2021-08-18T00:00:00\",\"2021-08-19T00:00:00\",\"2021-08-20T00:00:00\",\"2021-08-21T00:00:00\",\"2021-08-22T00:00:00\",\"2021-08-23T00:00:00\",\"2021-08-24T00:00:00\",\"2021-08-25T00:00:00\",\"2021-08-26T00:00:00\",\"2021-08-27T00:00:00\",\"2021-08-28T00:00:00\",\"2021-08-29T00:00:00\",\"2021-08-30T00:00:00\",\"2021-08-31T00:00:00\",\"2021-09-01T00:00:00\",\"2021-09-02T00:00:00\",\"2021-09-03T00:00:00\",\"2021-09-04T00:00:00\",\"2021-09-05T00:00:00\",\"2021-09-06T00:00:00\",\"2021-09-07T00:00:00\",\"2021-09-08T00:00:00\",\"2021-09-09T00:00:00\",\"2021-09-10T00:00:00\",\"2021-09-11T00:00:00\",\"2021-09-12T00:00:00\",\"2021-09-13T00:00:00\",\"2021-09-14T00:00:00\",\"2021-09-15T00:00:00\",\"2021-09-16T00:00:00\",\"2021-09-17T00:00:00\",\"2021-09-18T00:00:00\",\"2021-09-19T00:00:00\",\"2021-09-20T00:00:00\",\"2021-09-21T00:00:00\",\"2021-09-22T00:00:00\",\"2021-09-23T00:00:00\",\"2021-09-24T00:00:00\",\"2021-09-25T00:00:00\",\"2021-09-26T00:00:00\",\"2021-09-27T00:00:00\",\"2021-09-28T00:00:00\",\"2021-09-29T00:00:00\",\"2021-09-30T00:00:00\",\"2021-10-01T00:00:00\",\"2021-10-02T00:00:00\",\"2021-10-03T00:00:00\",\"2021-10-04T00:00:00\",\"2021-10-05T00:00:00\",\"2021-10-06T00:00:00\",\"2021-10-07T00:00:00\",\"2021-10-08T00:00:00\",\"2021-10-09T00:00:00\",\"2021-10-10T00:00:00\",\"2021-10-11T00:00:00\",\"2021-10-12T00:00:00\",\"2021-10-13T00:00:00\",\"2021-10-14T00:00:00\",\"2021-10-15T00:00:00\",\"2021-10-16T00:00:00\",\"2021-10-17T00:00:00\",\"2021-10-18T00:00:00\",\"2021-10-19T00:00:00\",\"2021-10-20T00:00:00\",\"2021-10-21T00:00:00\",\"2021-10-22T00:00:00\",\"2021-10-23T00:00:00\",\"2021-10-24T00:00:00\",\"2021-10-25T00:00:00\",\"2021-10-26T00:00:00\",\"2021-10-27T00:00:00\",\"2021-10-28T00:00:00\",\"2021-10-29T00:00:00\",\"2021-10-30T00:00:00\",\"2021-10-31T00:00:00\",\"2021-11-01T00:00:00\",\"2021-11-02T00:00:00\",\"2021-11-03T00:00:00\",\"2021-11-04T00:00:00\",\"2021-11-05T00:00:00\",\"2021-11-06T00:00:00\",\"2021-11-07T00:00:00\",\"2021-11-08T00:00:00\",\"2021-11-09T00:00:00\",\"2021-11-10T00:00:00\",\"2021-11-11T00:00:00\",\"2021-11-12T00:00:00\",\"2021-11-13T00:00:00\",\"2021-11-14T00:00:00\",\"2021-11-15T00:00:00\",\"2021-11-16T00:00:00\",\"2021-11-17T00:00:00\",\"2021-11-18T00:00:00\",\"2021-11-19T00:00:00\",\"2021-11-20T00:00:00\",\"2021-11-21T00:00:00\",\"2021-11-22T00:00:00\",\"2021-11-23T00:00:00\",\"2021-11-24T00:00:00\",\"2021-11-25T00:00:00\",\"2021-11-26T00:00:00\",\"2021-11-27T00:00:00\",\"2021-11-28T00:00:00\",\"2021-11-29T00:00:00\",\"2021-11-30T00:00:00\",\"2021-12-01T00:00:00\",\"2021-12-02T00:00:00\",\"2021-12-03T00:00:00\",\"2021-12-04T00:00:00\",\"2021-12-05T00:00:00\",\"2021-12-06T00:00:00\",\"2021-12-07T00:00:00\",\"2021-12-08T00:00:00\",\"2021-12-09T00:00:00\",\"2021-12-10T00:00:00\",\"2021-12-11T00:00:00\",\"2021-12-12T00:00:00\",\"2021-12-13T00:00:00\",\"2021-12-14T00:00:00\",\"2021-12-15T00:00:00\",\"2021-12-16T00:00:00\",\"2021-12-17T00:00:00\",\"2021-12-18T00:00:00\",\"2021-12-19T00:00:00\",\"2021-12-20T00:00:00\",\"2021-12-21T00:00:00\",\"2021-12-22T00:00:00\",\"2021-12-23T00:00:00\",\"2021-12-24T00:00:00\",\"2021-12-25T00:00:00\",\"2021-12-26T00:00:00\",\"2021-12-27T00:00:00\",\"2021-12-28T00:00:00\",\"2021-12-29T00:00:00\",\"2021-12-30T00:00:00\",\"2021-12-31T00:00:00\",\"2022-01-01T00:00:00\",\"2022-01-02T00:00:00\",\"2022-01-03T00:00:00\",\"2022-01-04T00:00:00\",\"2022-01-05T00:00:00\",\"2022-01-06T00:00:00\",\"2022-01-07T00:00:00\",\"2022-01-08T00:00:00\",\"2022-01-09T00:00:00\",\"2022-01-10T00:00:00\",\"2022-01-11T00:00:00\",\"2022-01-12T00:00:00\",\"2022-01-13T00:00:00\",\"2022-01-14T00:00:00\",\"2022-01-15T00:00:00\",\"2022-01-16T00:00:00\",\"2022-01-17T00:00:00\",\"2022-01-18T00:00:00\",\"2022-01-19T00:00:00\",\"2022-01-20T00:00:00\",\"2022-01-21T00:00:00\",\"2022-01-22T00:00:00\",\"2022-01-23T00:00:00\",\"2022-01-24T00:00:00\",\"2022-01-25T00:00:00\",\"2022-01-26T00:00:00\",\"2022-01-27T00:00:00\",\"2022-01-28T00:00:00\",\"2022-01-29T00:00:00\",\"2022-01-30T00:00:00\",\"2022-01-31T00:00:00\",\"2022-02-01T00:00:00\",\"2022-02-02T00:00:00\",\"2022-02-03T00:00:00\",\"2022-02-04T00:00:00\",\"2022-02-05T00:00:00\",\"2022-02-06T00:00:00\",\"2022-02-07T00:00:00\",\"2022-02-08T00:00:00\",\"2022-02-09T00:00:00\",\"2022-02-10T00:00:00\",\"2022-02-11T00:00:00\",\"2022-02-12T00:00:00\",\"2022-02-13T00:00:00\",\"2022-02-14T00:00:00\",\"2022-02-15T00:00:00\",\"2022-02-16T00:00:00\",\"2022-02-17T00:00:00\",\"2022-02-18T00:00:00\",\"2022-02-19T00:00:00\",\"2022-02-20T00:00:00\",\"2022-02-21T00:00:00\",\"2022-02-22T00:00:00\",\"2022-02-23T00:00:00\",\"2022-02-24T00:00:00\",\"2022-02-25T00:00:00\",\"2022-02-26T00:00:00\",\"2022-02-27T00:00:00\",\"2022-02-28T00:00:00\",\"2022-03-01T00:00:00\",\"2022-03-02T00:00:00\",\"2022-03-03T00:00:00\",\"2022-03-04T00:00:00\",\"2022-03-05T00:00:00\",\"2022-03-06T00:00:00\",\"2022-03-07T00:00:00\",\"2022-03-08T00:00:00\",\"2022-03-09T00:00:00\",\"2022-03-10T00:00:00\",\"2022-03-11T00:00:00\",\"2022-03-12T00:00:00\",\"2022-03-13T00:00:00\",\"2022-03-14T00:00:00\",\"2022-03-15T00:00:00\",\"2022-03-16T00:00:00\",\"2022-03-17T00:00:00\",\"2022-03-18T00:00:00\",\"2022-03-19T00:00:00\",\"2022-03-20T00:00:00\",\"2022-03-21T00:00:00\",\"2022-03-22T00:00:00\",\"2022-03-23T00:00:00\",\"2022-03-24T00:00:00\",\"2022-03-25T00:00:00\",\"2022-03-26T00:00:00\",\"2022-03-27T00:00:00\",\"2022-03-28T00:00:00\",\"2022-03-29T00:00:00\",\"2022-03-30T00:00:00\",\"2022-03-31T00:00:00\",\"2022-04-01T00:00:00\",\"2022-04-02T00:00:00\",\"2022-04-03T00:00:00\",\"2022-04-04T00:00:00\",\"2022-04-05T00:00:00\",\"2022-04-06T00:00:00\",\"2022-04-07T00:00:00\",\"2022-04-08T00:00:00\",\"2022-04-09T00:00:00\",\"2022-04-10T00:00:00\",\"2022-04-11T00:00:00\",\"2022-04-12T00:00:00\",\"2022-04-13T00:00:00\",\"2022-04-14T00:00:00\",\"2022-04-15T00:00:00\",\"2022-04-16T00:00:00\",\"2022-04-17T00:00:00\",\"2022-04-18T00:00:00\",\"2022-04-19T00:00:00\",\"2022-04-20T00:00:00\",\"2022-04-21T00:00:00\",\"2022-04-22T00:00:00\",\"2022-04-23T00:00:00\",\"2022-04-24T00:00:00\",\"2022-04-25T00:00:00\",\"2022-04-26T00:00:00\",\"2022-04-27T00:00:00\",\"2022-04-28T00:00:00\",\"2022-04-29T00:00:00\",\"2022-04-30T00:00:00\",\"2022-05-01T00:00:00\",\"2022-05-02T00:00:00\",\"2022-05-03T00:00:00\",\"2022-05-04T00:00:00\",\"2022-05-05T00:00:00\",\"2022-05-06T00:00:00\",\"2022-05-07T00:00:00\",\"2022-05-08T00:00:00\",\"2022-05-09T00:00:00\",\"2022-05-10T00:00:00\",\"2022-05-11T00:00:00\",\"2022-05-12T00:00:00\",\"2022-05-13T00:00:00\",\"2022-05-14T00:00:00\",\"2022-05-15T00:00:00\",\"2022-05-16T00:00:00\",\"2022-05-17T00:00:00\",\"2022-05-18T00:00:00\",\"2022-05-19T00:00:00\",\"2022-05-20T00:00:00\",\"2022-05-21T00:00:00\",\"2022-05-22T00:00:00\",\"2022-05-23T00:00:00\",\"2022-05-24T00:00:00\",\"2022-05-25T00:00:00\",\"2022-05-26T00:00:00\",\"2022-05-27T00:00:00\",\"2022-05-28T00:00:00\",\"2022-05-29T00:00:00\",\"2022-05-30T00:00:00\",\"2022-05-31T00:00:00\",\"2022-06-01T00:00:00\",\"2022-06-02T00:00:00\",\"2022-06-03T00:00:00\",\"2022-06-04T00:00:00\",\"2022-06-05T00:00:00\",\"2022-06-06T00:00:00\",\"2022-06-07T00:00:00\",\"2022-06-08T00:00:00\",\"2022-06-09T00:00:00\",\"2022-06-10T00:00:00\",\"2022-06-11T00:00:00\",\"2022-06-12T00:00:00\",\"2022-06-13T00:00:00\",\"2022-06-14T00:00:00\",\"2022-06-15T00:00:00\",\"2022-06-16T00:00:00\",\"2022-06-17T00:00:00\",\"2022-06-18T00:00:00\",\"2022-06-19T00:00:00\",\"2022-06-20T00:00:00\",\"2022-06-21T00:00:00\",\"2022-06-22T00:00:00\",\"2022-06-23T00:00:00\",\"2022-06-24T00:00:00\",\"2022-06-25T00:00:00\",\"2022-06-26T00:00:00\",\"2022-06-27T00:00:00\",\"2022-06-28T00:00:00\",\"2022-06-29T00:00:00\",\"2022-06-30T00:00:00\",\"2022-07-01T00:00:00\",\"2022-07-02T00:00:00\",\"2022-07-03T00:00:00\",\"2022-07-04T00:00:00\",\"2022-07-05T00:00:00\",\"2022-07-06T00:00:00\",\"2022-07-07T00:00:00\",\"2022-07-08T00:00:00\",\"2022-07-09T00:00:00\",\"2022-07-10T00:00:00\",\"2022-07-11T00:00:00\",\"2022-07-12T00:00:00\",\"2022-07-13T00:00:00\",\"2022-07-14T00:00:00\",\"2022-07-15T00:00:00\",\"2022-07-16T00:00:00\",\"2022-07-17T00:00:00\",\"2022-07-18T00:00:00\",\"2022-07-19T00:00:00\",\"2022-07-20T00:00:00\",\"2022-07-21T00:00:00\",\"2022-07-22T00:00:00\",\"2022-07-23T00:00:00\",\"2022-07-24T00:00:00\",\"2022-07-25T00:00:00\",\"2022-07-26T00:00:00\",\"2022-07-27T00:00:00\",\"2022-07-28T00:00:00\",\"2022-07-29T00:00:00\",\"2022-07-30T00:00:00\",\"2022-07-31T00:00:00\",\"2022-08-01T00:00:00\",\"2022-08-02T00:00:00\",\"2022-08-03T00:00:00\",\"2022-08-04T00:00:00\",\"2022-08-05T00:00:00\",\"2022-08-06T00:00:00\",\"2022-08-07T00:00:00\",\"2022-08-08T00:00:00\",\"2022-08-09T00:00:00\",\"2022-08-10T00:00:00\",\"2022-08-11T00:00:00\",\"2022-08-12T00:00:00\",\"2022-08-13T00:00:00\",\"2022-08-14T00:00:00\",\"2022-08-15T00:00:00\",\"2022-08-16T00:00:00\",\"2022-08-17T00:00:00\",\"2022-08-18T00:00:00\",\"2022-08-19T00:00:00\",\"2022-08-20T00:00:00\",\"2022-08-21T00:00:00\",\"2022-08-22T00:00:00\",\"2022-08-23T00:00:00\",\"2022-08-24T00:00:00\",\"2022-08-25T00:00:00\",\"2022-08-26T00:00:00\",\"2022-08-27T00:00:00\",\"2022-08-28T00:00:00\",\"2022-08-29T00:00:00\",\"2022-08-30T00:00:00\",\"2022-08-31T00:00:00\",\"2022-09-01T00:00:00\",\"2022-09-02T00:00:00\",\"2022-09-03T00:00:00\",\"2022-09-04T00:00:00\",\"2022-09-05T00:00:00\",\"2022-09-06T00:00:00\",\"2022-09-07T00:00:00\",\"2022-09-08T00:00:00\",\"2022-09-09T00:00:00\",\"2022-09-10T00:00:00\",\"2022-09-11T00:00:00\",\"2022-09-12T00:00:00\",\"2022-09-13T00:00:00\",\"2022-09-14T00:00:00\",\"2022-09-15T00:00:00\",\"2022-09-16T00:00:00\",\"2022-09-17T00:00:00\",\"2022-09-18T00:00:00\",\"2022-09-19T00:00:00\",\"2022-09-20T00:00:00\",\"2022-09-21T00:00:00\",\"2022-09-22T00:00:00\",\"2022-09-23T00:00:00\",\"2022-09-24T00:00:00\",\"2022-09-25T00:00:00\",\"2022-09-26T00:00:00\",\"2022-09-27T00:00:00\",\"2022-09-28T00:00:00\",\"2022-09-29T00:00:00\",\"2022-09-30T00:00:00\",\"2022-10-01T00:00:00\",\"2022-10-02T00:00:00\",\"2022-10-03T00:00:00\",\"2022-10-04T00:00:00\",\"2022-10-05T00:00:00\",\"2022-10-06T00:00:00\",\"2022-10-07T00:00:00\",\"2022-10-08T00:00:00\",\"2022-10-09T00:00:00\",\"2022-10-10T00:00:00\",\"2022-10-11T00:00:00\",\"2022-10-12T00:00:00\",\"2022-10-13T00:00:00\",\"2022-10-14T00:00:00\",\"2022-10-15T00:00:00\",\"2022-10-16T00:00:00\",\"2022-10-17T00:00:00\",\"2022-10-18T00:00:00\",\"2022-10-19T00:00:00\",\"2022-10-20T00:00:00\",\"2022-10-21T00:00:00\",\"2022-10-22T00:00:00\",\"2022-10-23T00:00:00\",\"2022-10-24T00:00:00\",\"2022-10-25T00:00:00\",\"2022-10-26T00:00:00\",\"2022-10-27T00:00:00\",\"2022-10-28T00:00:00\",\"2022-10-29T00:00:00\",\"2022-10-30T00:00:00\",\"2022-10-31T00:00:00\",\"2022-11-01T00:00:00\",\"2022-11-02T00:00:00\",\"2022-11-03T00:00:00\",\"2022-11-04T00:00:00\",\"2022-11-05T00:00:00\",\"2022-11-06T00:00:00\",\"2022-11-07T00:00:00\",\"2022-11-08T00:00:00\",\"2022-11-09T00:00:00\",\"2022-11-10T00:00:00\",\"2022-11-11T00:00:00\",\"2022-11-12T00:00:00\",\"2022-11-13T00:00:00\",\"2022-11-14T00:00:00\",\"2022-11-15T00:00:00\",\"2022-11-16T00:00:00\",\"2022-11-17T00:00:00\",\"2022-11-18T00:00:00\",\"2022-11-19T00:00:00\",\"2022-11-20T00:00:00\",\"2022-11-21T00:00:00\",\"2022-11-22T00:00:00\",\"2022-11-23T00:00:00\",\"2022-11-24T00:00:00\",\"2022-11-25T00:00:00\",\"2022-11-26T00:00:00\",\"2022-11-27T00:00:00\",\"2022-11-28T00:00:00\",\"2022-11-29T00:00:00\",\"2022-11-30T00:00:00\",\"2022-12-01T00:00:00\",\"2022-12-02T00:00:00\",\"2022-12-03T00:00:00\",\"2022-12-04T00:00:00\",\"2022-12-05T00:00:00\",\"2022-12-06T00:00:00\",\"2022-12-07T00:00:00\",\"2022-12-08T00:00:00\",\"2022-12-09T00:00:00\",\"2022-12-10T00:00:00\",\"2022-12-11T00:00:00\",\"2022-12-12T00:00:00\",\"2022-12-13T00:00:00\",\"2022-12-14T00:00:00\",\"2022-12-15T00:00:00\",\"2022-12-16T00:00:00\",\"2022-12-17T00:00:00\",\"2022-12-18T00:00:00\",\"2022-12-19T00:00:00\",\"2022-12-20T00:00:00\",\"2022-12-21T00:00:00\",\"2022-12-22T00:00:00\",\"2022-12-23T00:00:00\",\"2022-12-24T00:00:00\",\"2022-12-25T00:00:00\",\"2022-12-26T00:00:00\",\"2022-12-27T00:00:00\",\"2022-12-28T00:00:00\",\"2022-12-29T00:00:00\",\"2022-12-30T00:00:00\",\"2022-12-31T00:00:00\",\"2023-01-01T00:00:00\",\"2023-01-02T00:00:00\",\"2023-01-03T00:00:00\",\"2023-01-04T00:00:00\",\"2023-01-05T00:00:00\",\"2023-01-06T00:00:00\",\"2023-01-07T00:00:00\",\"2023-01-08T00:00:00\",\"2023-01-09T00:00:00\",\"2023-01-10T00:00:00\",\"2023-01-11T00:00:00\",\"2023-01-12T00:00:00\",\"2023-01-13T00:00:00\",\"2023-01-14T00:00:00\",\"2023-01-15T00:00:00\",\"2023-01-16T00:00:00\",\"2023-01-17T00:00:00\",\"2023-01-18T00:00:00\",\"2023-01-19T00:00:00\",\"2023-01-20T00:00:00\",\"2023-01-21T00:00:00\",\"2023-01-22T00:00:00\",\"2023-01-23T00:00:00\",\"2023-01-24T00:00:00\",\"2023-01-25T00:00:00\",\"2023-01-26T00:00:00\",\"2023-01-27T00:00:00\",\"2023-01-28T00:00:00\",\"2023-01-29T00:00:00\",\"2023-01-30T00:00:00\",\"2023-01-31T00:00:00\",\"2023-02-01T00:00:00\",\"2023-02-02T00:00:00\",\"2023-02-03T00:00:00\",\"2023-02-04T00:00:00\",\"2023-02-05T00:00:00\",\"2023-02-06T00:00:00\",\"2023-02-07T00:00:00\",\"2023-02-08T00:00:00\",\"2023-02-09T00:00:00\",\"2023-02-10T00:00:00\",\"2023-02-11T00:00:00\",\"2023-02-12T00:00:00\",\"2023-02-13T00:00:00\",\"2023-02-14T00:00:00\",\"2023-02-15T00:00:00\",\"2023-02-16T00:00:00\",\"2023-02-17T00:00:00\",\"2023-02-18T00:00:00\",\"2023-02-19T00:00:00\",\"2023-02-20T00:00:00\",\"2023-02-21T00:00:00\",\"2023-02-22T00:00:00\",\"2023-02-23T00:00:00\",\"2023-02-24T00:00:00\",\"2023-02-25T00:00:00\",\"2023-02-26T00:00:00\",\"2023-02-27T00:00:00\",\"2023-02-28T00:00:00\",\"2023-03-01T00:00:00\",\"2023-03-02T00:00:00\",\"2023-03-03T00:00:00\",\"2023-03-04T00:00:00\",\"2023-03-05T00:00:00\",\"2023-03-06T00:00:00\",\"2023-03-07T00:00:00\",\"2023-03-08T00:00:00\",\"2023-03-09T00:00:00\",\"2023-03-10T00:00:00\",\"2023-03-11T00:00:00\",\"2023-03-12T00:00:00\",\"2023-03-13T00:00:00\",\"2023-03-14T00:00:00\",\"2023-03-15T00:00:00\",\"2023-03-16T00:00:00\",\"2023-03-17T00:00:00\",\"2023-03-18T00:00:00\",\"2023-03-19T00:00:00\",\"2023-03-20T00:00:00\",\"2023-03-21T00:00:00\",\"2023-03-22T00:00:00\",\"2023-03-23T00:00:00\",\"2023-03-24T00:00:00\",\"2023-03-25T00:00:00\",\"2023-03-26T00:00:00\",\"2023-03-27T00:00:00\",\"2023-03-28T00:00:00\",\"2023-03-29T00:00:00\",\"2023-03-30T00:00:00\",\"2023-03-31T00:00:00\",\"2023-04-01T00:00:00\",\"2023-04-02T00:00:00\",\"2023-04-03T00:00:00\",\"2023-04-04T00:00:00\",\"2023-04-05T00:00:00\",\"2023-04-06T00:00:00\",\"2023-04-07T00:00:00\",\"2023-04-08T00:00:00\",\"2023-04-09T00:00:00\",\"2023-04-10T00:00:00\",\"2023-04-11T00:00:00\",\"2023-04-12T00:00:00\",\"2023-04-13T00:00:00\",\"2023-04-14T00:00:00\",\"2023-04-15T00:00:00\",\"2023-04-16T00:00:00\",\"2023-04-17T00:00:00\",\"2023-04-18T00:00:00\",\"2023-04-19T00:00:00\",\"2023-04-20T00:00:00\",\"2023-04-21T00:00:00\",\"2023-04-22T00:00:00\",\"2023-04-23T00:00:00\",\"2023-04-24T00:00:00\",\"2023-04-25T00:00:00\",\"2023-04-26T00:00:00\",\"2023-04-27T00:00:00\",\"2023-04-28T00:00:00\",\"2023-04-29T00:00:00\",\"2023-04-30T00:00:00\",\"2023-05-01T00:00:00\",\"2023-05-02T00:00:00\",\"2023-05-03T00:00:00\",\"2023-05-04T00:00:00\",\"2023-05-05T00:00:00\",\"2023-05-06T00:00:00\",\"2023-05-07T00:00:00\",\"2023-05-08T00:00:00\",\"2023-05-09T00:00:00\",\"2023-05-10T00:00:00\",\"2023-05-11T00:00:00\",\"2023-05-12T00:00:00\",\"2023-05-13T00:00:00\",\"2023-05-14T00:00:00\",\"2023-05-15T00:00:00\",\"2023-05-16T00:00:00\",\"2023-05-17T00:00:00\",\"2023-05-18T00:00:00\",\"2023-05-19T00:00:00\",\"2023-05-20T00:00:00\",\"2023-05-21T00:00:00\",\"2023-05-22T00:00:00\",\"2023-05-23T00:00:00\",\"2023-05-24T00:00:00\",\"2023-05-25T00:00:00\",\"2023-05-26T00:00:00\",\"2023-05-27T00:00:00\",\"2023-05-28T00:00:00\",\"2023-05-29T00:00:00\",\"2023-05-30T00:00:00\",\"2023-05-31T00:00:00\",\"2023-06-01T00:00:00\",\"2023-06-02T00:00:00\",\"2023-06-03T00:00:00\",\"2023-06-04T00:00:00\",\"2023-06-05T00:00:00\",\"2023-06-06T00:00:00\",\"2023-06-07T00:00:00\",\"2023-06-08T00:00:00\",\"2023-06-09T00:00:00\",\"2023-06-10T00:00:00\",\"2023-06-11T00:00:00\",\"2023-06-12T00:00:00\",\"2023-06-13T00:00:00\",\"2023-06-14T00:00:00\",\"2023-06-15T00:00:00\",\"2023-06-16T00:00:00\",\"2023-06-17T00:00:00\",\"2023-06-18T00:00:00\",\"2023-06-19T00:00:00\",\"2023-06-20T00:00:00\",\"2023-06-21T00:00:00\",\"2023-06-22T00:00:00\",\"2023-06-23T00:00:00\",\"2023-06-24T00:00:00\",\"2023-06-25T00:00:00\",\"2023-06-26T00:00:00\",\"2023-06-27T00:00:00\",\"2023-06-28T00:00:00\",\"2023-06-29T00:00:00\",\"2023-06-30T00:00:00\",\"2023-07-01T00:00:00\",\"2023-07-02T00:00:00\",\"2023-07-03T00:00:00\",\"2023-07-04T00:00:00\",\"2023-07-05T00:00:00\",\"2023-07-06T00:00:00\",\"2023-07-07T00:00:00\",\"2023-07-08T00:00:00\",\"2023-07-09T00:00:00\",\"2023-07-10T00:00:00\",\"2023-07-11T00:00:00\",\"2023-07-12T00:00:00\",\"2023-07-13T00:00:00\",\"2023-07-14T00:00:00\",\"2023-07-15T00:00:00\",\"2023-07-16T00:00:00\",\"2023-07-17T00:00:00\",\"2023-07-18T00:00:00\",\"2023-07-19T00:00:00\",\"2023-07-20T00:00:00\",\"2023-07-21T00:00:00\",\"2023-07-22T00:00:00\",\"2023-07-23T00:00:00\",\"2023-07-24T00:00:00\",\"2023-07-25T00:00:00\",\"2023-07-26T00:00:00\",\"2023-07-27T00:00:00\",\"2023-07-28T00:00:00\",\"2023-07-29T00:00:00\",\"2023-07-30T00:00:00\",\"2023-07-31T00:00:00\",\"2023-08-01T00:00:00\",\"2023-08-02T00:00:00\",\"2023-08-03T00:00:00\",\"2023-08-04T00:00:00\",\"2023-08-05T00:00:00\",\"2023-08-06T00:00:00\",\"2023-08-07T00:00:00\",\"2023-08-08T00:00:00\",\"2023-08-09T00:00:00\",\"2023-08-10T00:00:00\",\"2023-08-11T00:00:00\",\"2023-08-12T00:00:00\",\"2023-08-13T00:00:00\",\"2023-08-14T00:00:00\",\"2023-08-15T00:00:00\",\"2023-08-16T00:00:00\",\"2023-08-17T00:00:00\",\"2023-08-18T00:00:00\",\"2023-08-19T00:00:00\",\"2023-08-20T00:00:00\",\"2023-08-21T00:00:00\",\"2023-08-22T00:00:00\",\"2023-08-23T00:00:00\",\"2023-08-24T00:00:00\",\"2023-08-25T00:00:00\",\"2023-08-26T00:00:00\",\"2023-08-27T00:00:00\",\"2023-08-28T00:00:00\",\"2023-08-29T00:00:00\",\"2023-08-30T00:00:00\",\"2023-08-31T00:00:00\",\"2023-09-01T00:00:00\",\"2023-09-02T00:00:00\",\"2023-09-03T00:00:00\",\"2023-09-04T00:00:00\",\"2023-09-05T00:00:00\",\"2023-09-06T00:00:00\",\"2023-09-07T00:00:00\",\"2023-09-08T00:00:00\",\"2023-09-09T00:00:00\",\"2023-09-10T00:00:00\",\"2023-09-11T00:00:00\",\"2023-09-12T00:00:00\",\"2023-09-13T00:00:00\",\"2023-09-14T00:00:00\",\"2023-09-15T00:00:00\",\"2023-09-16T00:00:00\",\"2023-09-17T00:00:00\",\"2023-09-18T00:00:00\",\"2023-09-19T00:00:00\",\"2023-09-20T00:00:00\"],\"xaxis\":\"x\",\"y\":[100.0,99.08880054367934,99.06308377617681,99.23967212802546,99.23746429336498,98.26759892698834,99.11376687732614,100.6172781364453,101.41288014551455,100.9371205924002,101.14027132200742,102.91291399477738,103.17462620741918,103.37955777599822,102.7780177568768,103.79068466594744,103.45302586664707,101.89465503362695,102.39874037967115,101.2979911910254,100.32639645517261,100.93813052497792,100.06118034657263,100.21858360239831,100.69331675383773,101.99202324343658,103.44264515138322,103.96526930429884,102.69498397592116,104.42631084865903,104.40417149801934,104.72381935270234,104.5199980487597,104.08009564388068,103.47160409630295,102.0229248779784,101.93718571290697,101.63899719966233,99.93010958089673,98.92511804965778,97.50115735508268,98.6138805634828,97.82626181459746,99.17246137444076,97.11400462143571,96.78596308550048,97.8814090115482,96.75239348660729,97.2225264758458,95.90849293144811,95.81807017093695,94.44889640095595,96.43214885624703,96.14302518618017,96.14316086808275,96.51474200165984,97.19177524399363,97.06943763813979,95.8671430360295,95.12899200465904,93.41972374514648,94.12033662899184,95.03475704850113,95.53311656826318,96.63942426570215,96.22536636970243,97.98614094701531,98.72547926002458,97.42391950336068,98.16616296516919,97.70072474447386,97.9129959688865,99.87473380656844,101.20225301119466,100.11905313446105,99.24130472973268,98.62434702540138,98.60895307892314,97.93450021408385,98.10536545585593,97.51322524330848,98.89187554936227,98.92578348850246,100.9863337171269,104.63555659007149,105.12994720817734,103.97431434037819,105.17370954561393,105.98296706811801,106.30899357803875,106.59992121270228,107.78808355711487,107.0658325513258,107.83733660493972,109.48000256953215,110.11283700184828,110.43998506845728,113.16648891336762,114.25388625469444,112.81442771129853,110.43338986606972,110.28996402076255,110.09191519028296,109.87755314697289,110.25074117711269,110.18924494963724,109.02535513196153,110.50702830710968,110.80849485615443,111.0186779517792,111.51261257135121,109.28256390161347,110.26855080652925,110.04316720143431,112.31110025256939,112.98433815102122,111.33491606989831,111.5515793599937,112.94440161991764,114.50948211679219,114.51221260516985,116.56675724374298,116.92057711161041,118.30888289810143,119.02442129229742,118.33730638725172,118.16516606260977,118.19384324707424,117.16241472243686,116.29655463735814,115.81160918604806,117.84871537976937,118.63113987631819,119.24244933276657,120.58170566362408,120.09382448806075,120.66260774347205,117.74733249947639,118.15315921890283,118.07862489386355,116.86372378368286,116.9720226449437,117.43656503641823,116.7000960335422,117.55135766579704,119.49238319545925,119.28337712370848,118.3955996830645,118.85561979354206,118.48264356949528,118.31211696427904,116.8135279161442,116.35025104784296,116.92078180989293,114.42661381280855,114.47388782571403,114.33065552896703,114.0603490384441,117.18752341058278,116.0589720440934,118.09099376873885,117.46864176172615,117.85951365146454,119.10905935748107,118.26863434890421,118.79299437367706,118.47057053125528,118.67178551856321,118.58310546485684,120.73115681350197,119.86397915857665,118.90030771495323,119.14606012066346,119.75121013076537,120.42288396857973,122.0564083720333,122.23465454677319,122.67647510511698,122.67672712584783,124.18057413478702,125.18212422789433,124.34032736839502,123.13717378290977,122.28071512840837,122.92866442334986,122.15064348026998,122.14067907130126,124.81651896578396,123.73365893978897,123.56701558734797,125.07964794253964,127.69852549557363,128.4784808815762,126.7839552894292,127.02533209216628,128.17620240126283,126.18847323484107,128.74096896539209,128.7774696116797,129.41357482703842,128.9811397979294,129.84816292595642,130.34343959821132,129.76261973148007,132.55366104249282,132.94534111281908,134.78548662760986,136.93105486312282,137.70443373620796,137.31496491846474,133.8738599956821,132.63734549065208,133.62342275821499,134.76143261037984,135.33904037944635,135.48394155187785,135.2369627685411,135.25064550089417,136.7818837306121,136.16530608593428,136.30945596971577,138.34413969502467,142.16655155084786,142.99760379944905,143.3288443566431,146.5755647805884,147.82494848262593,151.72430700202202,152.29686259320732,156.15876169800893,157.80802676019462,157.34185218688842,156.11513213408216,156.16282392917932,160.39232492217195,159.9818145243074,158.4142725352663,160.0831722536266,160.99456787109878,161.28674115224348,158.26114775381114,161.126298693853,159.921788474246,162.67214110542795,160.96500460379414,162.66882899071925,160.29441719170867,161.92478271485376,161.77550011656862,160.55076933783658,162.0160535150464,160.67000595609557,162.79227790824413,160.0703493054973,159.22714547114205,160.40709058430713,160.60042946378206,163.130226134047,163.5569465274218,163.35553410999447,162.1978386964803,163.41894443106443,164.2528789205652,162.03770053272677,160.90186782873818,159.00782169991146,159.4572066961764,158.9490474597583,159.10073175067396,157.21112483172405,157.13497798586673,158.6982949746342,158.8681911165663,159.68224462649306,158.8731328573493,157.60703923948017,159.24271950863653,160.42313872873416,160.31347954862528,161.85032349830973,163.1315556816176,162.36792479498962,164.9639177503089,163.4627199659333,161.34792771807167,161.95221019286993,164.47579083061134,164.96185627471183,166.14986115524664,165.39467951118402,166.12963763739626,164.2833990510075,165.22420238402847,165.2935118810129,163.64975516755376,164.86392927385,164.32906261718017,166.00666779354145,166.67785868119321,168.5221889093515,169.0496826342987,168.68868866768625,171.2164813659084,175.3197456956756,179.9812796238755,179.9764874089793,179.2927865287396,182.8620272053735,181.9645734051879,185.55152693834526,182.61522540136795,184.64701953644646,185.42527559847792,186.59501607934038,189.5582037083888,190.30848996939247,192.03163180296494,194.6813877770016,194.46283697810298,196.13296535803815,195.2012289630462,195.75790101927717,197.8024030508997,196.25563384659716,195.15768636020516,194.98309384220585,194.88469677673913,193.58238440589952,194.17983798670156,196.47206971090452,199.25058963897197,201.0408135886416,200.6168645549047,205.42684704764218,209.20171196366695,209.76795174582304,210.4083813384699,209.53821561515755,211.69867374904095,215.66910293285002,214.66708235342472,211.60462959977315,211.2514646051612,214.4566297396694,215.02886342753777,214.55705340262938,213.22716159363952,214.65570422341784,212.3993821080252,211.49212603638134,210.2386676473232,212.66394674025437,211.2876507255498,216.04588906625872,214.2249893185811,215.83251202465698,218.87752463494502,216.1595910717368,217.13913029014532,221.22053400966644,221.28223234018944,222.95766538676637,224.2873339903501,223.8211315492751,222.59226157702693,217.28030049461597,216.89810356849495,220.64908751704465,217.5714918588228,216.78731675892678,219.96784702474852,220.31042221918764,220.71056205813295,217.9611606596166,216.16386283086703,215.31108250638525,218.85086475515467,216.71185786091536,215.83672589823357,213.59657360330473,218.04195065595073,221.16723082939788,223.1126477641975,222.7898553466347,221.4225384546828,223.6462900741998,224.1598745053367,229.08720613510545,230.36970749225938,231.0718046122525,227.3443533299742,222.51950330911748,222.52818710640705,221.4437461329451,217.44748813073656,220.00230833588284,222.06709816290092,220.54417844862928,222.71384953618488,221.4075775227564,222.32925740008167,220.00573257526315,216.864608278346,215.52632428164327,211.9424691554892,213.20235926914842,206.76427078067528,206.9060322575284,206.45210230677392,203.54514894849785,203.22600964108895,204.8362894499526,204.38356381390244,206.63406799599687,208.25979036932628,209.24970124767245,211.11818572488139,209.98234008315399,212.000100426699,215.57521363696284,216.35549553687505,218.82023323547915,218.23949085788422,219.9418087633743,221.46249116641036,221.35588673447435,223.82065091193462,219.6587655264943,219.22137010086263,220.07046142738602,218.71733921898158,218.07302780076117,217.13942975568125,217.6123845350817,214.00593013631038,212.5510524498993,217.7695462373487,218.36851860376674,220.98697186566588,222.41658193545175,223.01047806162023,223.11542050962322,225.00150335150647,224.11606100698495,226.9515869262528,226.96507340632286,229.2375235083406,225.4495378459542,224.0503613013142,221.95957824973868,222.0956219642384,222.73058092843826,220.04975834419056,214.2655560651383,211.82886120841079,211.1782039337965,209.84289909437567,212.18265617021137,210.7633772472045,212.62500258275296,214.6231090667428,214.26339309044945,218.88525340022667,221.35517885944077,222.0163790629512,221.17971820299545,221.1955406324414,222.02563445112034,221.0186049874855,219.5760789192703,218.57257393501848,221.35139929760908,225.18407626231937,219.87403306572014,220.90265776544268,221.61728573914502,223.4358873156954,224.13627202804216,225.2748046496861,222.65514286640533,221.5368253122458,220.3225283565457,220.3787387142476,218.73423494692364,222.04590062880658,221.17666243358266,221.78484660787927,222.41333130370117,221.61272691518346,223.502069991659,220.07250032716124,222.14459783584488,223.21274302481984,223.29658640523664,224.26465698769778,224.96377913291957,221.31438418174173,221.4428582803517,219.5994614147495,219.7805521137356,219.64058022570475,218.26238153379882,217.750872209235,217.7339765648039,219.5277775018194,218.23239905197542,218.24127881844208,217.0361618701826,216.30407718019302,217.0087134804135,214.5718545380587,215.05232258809903,214.25384533416255,214.16557931295665,213.53379057657747,213.46242752846032,214.9928959042274,214.03645695191335,214.05170147065823,212.6396417844698,215.0924206530952,213.3182940611329,216.6506240552153,217.40068334724035,221.0578478898161,218.45649738398896,219.82832133846955,219.08416660815425,220.17112791692284,222.62980958205864,226.37464370503423,226.03918448907433,225.256717998916,224.7264559411544,224.17804241738665,226.04156530752988,225.62436967330675,222.99413545296207,223.0544202379645,228.12532537494923,227.6350428390992,226.03312220050157,227.8992622909013,229.0315811394666,232.76401576999265,233.15181088534143,230.93589434976724,227.95117200717385,225.50138239531242,224.38564302170377,225.65544478100486,225.96060590699534,227.9159127012247,226.37777495698177,229.36761166789907,230.33211279148912,228.74139395870466,227.8135391612497,227.20225401158328,226.58574914814776,221.9716556607771,224.49482132765746,223.41627344613255,220.2890993493634,221.78105412064454,222.18767194487364,222.84098553145216,224.62969206157544,222.72292282501027,223.07515572778868,222.0872846772701,222.26777563474042,223.77442828434144,226.2002959709382,226.53663420716524,230.0813217039871,230.88619605988376,231.31170448610774,232.3946896610014,235.05816753713378,236.87637899718843,237.1068657646827,237.62555488686974,238.61363699939898,236.55659849224529,233.6178103536905,236.07842818947796,231.86575256647993,231.09101412326106,227.55442557883686,228.7266539319624,231.61968963235228,228.499501875805,234.5301975678544,230.47739968699727,230.2996095893467,230.24344563324794,231.12297607817996,229.83936106340943,231.13267671414266,229.66534535387314,231.57747234632092,229.96764922823894,233.5753009636239,232.05437347417853,229.0475220981931,230.6206501358383,232.47864503594727,228.9540707260954,229.6976882977448,228.4825556787353,227.78821990828436,224.14400533056045,223.9152654446436,224.19647495797133,223.28011370593006,221.82320527981886,223.245668747238,223.5510942980753,229.3450238637257,230.140440597633,232.40186669140613,230.71377988799722,230.37955862658058,231.67284949236623,236.19777246410823,234.7616717060754,235.33141738851705,236.88740321600568,234.94885200809702,239.3440323046662,238.51305062727644,240.83535610427458,239.45181057345843,243.4078125197522,249.5756155255183,247.74481032590103,245.50866114110474,247.0880649268612,245.11471100492741,242.37882519146595,244.86987727582664,244.77843520989336,245.0911611680951,243.41306340912348,242.8621331568217,242.20896064041332,244.2714011160162,242.85739297936965,240.4272308055647,241.58736300909018,240.0565336348994,241.7404794780905,243.15900291555513,243.82638853157587,247.08413904636453,245.25201740971073,245.96055685792444,249.9748028485317,249.34235254419147,251.1420565382958,249.77937333181174,250.0592653788507,248.73019179415422,247.95709146439268,244.37942895774628,244.48193853054747,247.93466697823453,254.41755876679585,256.83067012684205,252.3188899358355,251.26389315387104,248.53334414361362,247.61829049547097,248.50494950345714,248.37457007454924,250.6107842241558,253.15204565023518,256.80673590017926,254.28923911740708,254.89161323891608,254.3452104186723,256.73452833871784,254.826700362878,253.54544508275157,257.1846557992787,259.5021879555268,254.34715698042962,252.41533068371422,246.69805711486666,247.2594941177271,243.89963269257797,243.4426409751727,248.98141005706924,248.04818078202703,246.4035779404309,247.92724691991353,246.05111353192223,248.45408169604232,250.4553384814045,247.75803458064368,253.40612017364126,254.18387453796691,253.66259302527007,256.9062777721772,259.6998824000518,261.3730426264433,260.24811419108727,263.53301193670075,265.4836474001322,265.4932747220358,263.3837140333933,262.7912302054527,260.09705726014397,254.96353303014706,251.58283370394182,254.42729686217274,248.83392288440226,249.96339019115297,252.52412902094127,251.76848564386276,249.26628114509475,252.23197023466616,253.91547585356486,252.65783032510237,253.49499024768187,250.41356812977608,250.23467627086853,251.73118569658135,251.387283420273,251.45751193113543,254.4022694614001,251.8958235795211,253.0424374819089,254.551591430104,254.1915939023973,253.26705042624138,250.14818377785318,249.94101971423763,249.52623024514483,249.14624603718576,247.9219614931136,251.54151911808336,247.75551097268098,250.45415185427578,251.0236726258462,254.87099195289323,252.71050356474535,253.2912497323492,251.32983694510105,251.13426148290665,250.92956252535402,252.99179553411645,255.19360448601094,256.5238417166617,255.9793966825525,257.16520725676617,255.45065135347085,250.4924919787357,252.9892942787686,252.04765061829792,251.99278651519646,255.2142099062744,257.42880295966523,259.8746173594076,260.2418357170275,259.21944472380807,256.9530763552913,257.2225442731069,250.58464461563102,252.76534558396378,253.56799091710155,255.2675335575179,256.56326889502054,256.27930107873124,250.2867939132008,247.9119303561651,254.67932137211133,252.9725031606029,253.57622729597006,252.9459243237393,247.32571707189197,244.45169149128907,238.7924223615389,236.37984538589868,237.593881427417,235.38272648969436,236.94166591003534,234.21609959635234,237.68621643918675,235.35083272249722,235.776731521046,234.73334773391446,236.58253557614836,238.84537917013233,242.23627810088166,243.4100168392937,242.2104210062761,241.68381907095383,243.04596380839928,247.52412853396206,248.2967519579162,248.43066969719067,248.56872477612873,250.66450581182846,250.63487525982495,251.30605497587823,255.78577957235143,255.96437940823398,253.11096747080344,251.20976917247378,248.54734426728606,250.91765371870198,252.68998881184174,254.3559166379861,257.98317264365994,260.6010245852133,257.46535664020877,260.8950881126731,261.2169765990477,258.71687440760337,259.65543537863203,257.6548783376588,256.4264366279066,251.11115545603215,250.96156080321492,248.8301217242473,245.75583340623484,244.1726671982537,240.81274440168602,245.31363956381847,246.01683331760276,249.46846989263832,248.57777648508193,252.31469513616102,252.20902956420935,250.05233975901464,246.9777511308643,248.52303039225063,249.40370519247637,248.58716554530227,248.64043033684968,246.24173440549941,250.9468395401685,250.44425288731438,247.3168829189524,243.80487615854838,246.68717326826373,248.40738095817633,254.4764734439239,250.23018630762834,253.77687730023737,253.9130001228085,257.86734377937205,260.8749439055781,261.93143429803376,260.4319283470164,257.1499952867507,262.79697502336415,263.3935439935563,264.54516742645126,264.84557633677065,264.5137476801916,259.287432700503,263.24664573808246,258.81138125714995,260.79020072948737,259.58821919919717,257.3297326742998,259.95048180619955,259.54948601321405,259.005201707713,258.9646917419641,258.7440391187183,263.69134250593874,261.9442936493235,263.938279927763,266.0913570857185,263.73607870598033,262.25168380769617,267.15180303545543,269.7862562248015,268.86245900036295,264.66033602563,262.33491768139766,262.35457213213806,261.9363942379959,265.2405373580463,264.7487590356008,263.94604205331194,263.15351041735664,257.13527850192503,258.4515302746775,255.95500677766944,259.9417849827269,258.2635155736236,258.0695203703982,259.22082543553194,262.59195310666837,257.9085488537323,256.2998015165008,256.90420731133725,258.3835516687737,261.0111887952254,260.2264670883896,257.5032877900713,254.0738955944795,252.9156414054646,251.86613412820347,249.50374166403975,248.50501207139396,253.6360571462776,249.51758116089462,246.70649378150588,245.1443571933248,246.1530993113992,251.42286127613826,251.20633922414703,252.30324083961688,253.06896241596732,250.83372620751007,244.92240535196171,243.80405910196694,245.19324186166858,247.5588225975655,251.3964837734603,249.57865954411022,253.2293536934823,255.6372578504376,256.6649857220284,258.5977438263365,259.1115997301339,252.6146858885042,256.88480361603297,261.49393895207913,262.03329387730474,262.97187273677173,263.38023128401494,264.8774640947577,264.26001715412974,264.67555078928484,267.5723162386541,265.2008804582821,267.4580789804175,268.46316854989476,271.6425564449911,269.3111389770726,275.8740602055634,275.1385171182498,278.08271121701813,277.1478084654012,279.6355855590226,279.538090391259,283.3954098626963,281.0483518575102,283.7651565904503,287.12955076319986,289.53970074829135,294.2293916712713,291.5308102998097,293.7370427074732,298.99267149874254,296.41351854535617,297.2375250142252,296.801918785163,303.20642537544495,301.82227160705605,299.6722202000875,299.8183317122864,297.44172021472303,296.6977262885918,296.4968435760889,296.5198896640364,299.03481197459433,308.80144104072997,318.2574614542618,318.9654488807179,318.7253368100064,322.3316995286987,323.85320349993805,329.30435733229655,332.1782213285839,334.73026022999915,335.85511942871176,336.7809218729955,339.2813427415467,338.8421047959481,344.1032843785696,343.3553554110531,339.6329921805535,343.63220375377654,340.256729378708,336.1530830297997,337.78636415855254,344.30122412151957,344.1601178087682,347.08474709533203,347.9625418395888,351.78590611551385,351.3066471023463,351.4147730461798,357.3428400528727,358.032908743716,358.0198588527015,357.9521261958275,364.4486438913628,364.9512085331008,361.93820885691133,359.9799102471969,353.95246001830424,352.85934450404454,354.42250392524187,354.6425560668135,351.76248323850416,355.67849640014043,355.00607987723794,360.643759363694,370.4882906655129,375.5406381111166,368.9625355209108,370.3290447540546,374.43247488143817,375.0787503984375,372.30647481501404,369.9605487734093,365.772180603149,363.5933920881386,366.0978980105332,364.71638134408147,370.26398365337076,372.04420328801274,371.43351733868946,371.523196324025,366.1804234483737,365.5736981537845,361.2908017561878,361.63402834721506,364.71778990289897,365.5921054649909,370.4241754197119,367.84307065745634,368.82338981297227,374.1386630865462,371.75123846865085,377.33007633065296,379.5408356648389,380.8156456710302,386.63941383290404,384.30446147863415,389.0485606449856,380.0653219511863,382.53695190823134,378.53539480761924,374.93916101714234,373.96256792239654,371.84318531141616,371.07036062514925,375.75623461518865,370.32136134635397,365.4085974417673,364.2352397009129,361.8592072066625,364.841781621876,361.89988567354214,364.75672750926975,358.91315760942825,356.6395305174095,362.11444720214854,360.6396728663181,360.1698538922325,358.31979652273435,357.14410330769357,359.5353181893272,363.58131382386074,357.06320077906645,357.6730865832538,360.1831426011622,357.31533183577085,359.44562064186084,358.9477774137941,361.7986845184575,355.9456999735822,352.3113866661742,348.70370495880553,352.3658329871472,356.0977360228692,350.0375911964843,347.0090073668816,346.23732110633455,343.6071228995275,347.5471225852073,355.12805675040994,350.1703279316595,350.5426701898929,353.1060350251294,355.43897896109746,355.0696717576045,354.48499299210465,357.7386769883736,358.3746855279222,355.4562921147672,354.5989405900888,354.82370493509114,354.9391826606089,354.88938892778583,353.2711912485834,353.6768162079146,355.1022568662967,351.23275955513526,350.5080056574527,348.94627117924654,344.4007433295287,344.87810345525975,344.2149136330307,344.3393125689856,345.0480456631365,336.1224538081176,336.91475689884635,333.4990935671463,334.53395706155516,342.0637972166224,341.01232158006445,341.7137508927072,338.3776290789374,338.223635515837,336.59336812691,337.25368055647493,332.5898749357278,333.950214544958,335.1285103345176,329.8386374043265,330.10788563508845,331.12159501113615,335.99172913879266,334.1470459837225,332.0033538447142,331.30854380405094,325.895299615582,324.8080984707024,329.6431959347463,326.10711106774534,324.9290726206126,327.9562989722103,329.65975269797013,335.55650337662865,335.1970986717709,337.1717381920898,339.69955501121837,340.15906290857725,343.0682266249848,346.65328660366174,343.18065671243613,343.81617758206346,345.2388168193369,348.7407186161388,349.62000511086023,350.60375873039953,350.89739550521995,356.81478481271347,352.64821115064746,353.8313971176042,354.8284224045016,355.51935219533186,360.5452878727973,362.29807051544833,360.99762278520814,355.7380286973222,353.3909104706178,350.59115430582375,344.1094341447714,343.4991322203756,345.00792963766025,342.07076908678687,341.225285319393,337.950901541276,340.5826646590723,339.2263878979619,342.3831369254898,340.12968375112933,343.351685124601,346.0522615202477,348.3509272898476,353.4450520120765,349.89400918071465,349.98191859399844,350.4598737746761,349.4681285858163,348.68249802188456,345.18111667366423,338.4006152617466,340.82053010179476,341.9579127878445,346.3171784404326,345.7233945812147,350.83179870019353,351.53271701819364,350.80465603151856,349.4475204246692,344.09741225499215,338.15288246281875,343.5857762914174,339.9879843489313,341.47961802573735,344.4582847672716,344.0187809363147,341.5072114950776,348.48083498963763,351.36624453699585,349.38206584170496,354.0894945274629,353.8911977805737,357.30030580770716,350.45705366214145,349.90742643265537,347.13639159378084,344.55465752705624,346.5115848671637,347.30289718024216,342.439926567916,340.1832898195333,342.9975878816358,341.25767899779595,341.0696107657493,335.8391042662414,344.2271437148911,346.24933596443566,343.9245066047254,349.58813371782674,348.26578773350246,348.9235841350912,342.3479168504283,344.0746144778462,342.2512270536067,335.7365289606245,333.8540069883195,335.6779376229584,338.0812694108803,336.88300357082284,331.969416896442,331.39751409372656,330.8041790744747,335.29267421696875,336.5244289577745,338.4815336440339,336.0932731768365,337.8683321338404,340.0632649574587,338.31208571837624,341.9517304524582,344.1097023832859,342.9892681668962,346.2000497173336,346.90214273958327,344.498348286094,344.34762207805045,344.15892890757164,347.3248034267733,341.765103664605,340.9812989612839,344.46379393948206,350.6042312492514,355.5017455433879,352.8746640728718,350.5672956657047,351.2303664370383,351.7875721887809,351.5028684302706,349.43986201073915,347.8980476911239,351.5823358329933,352.18925508434927,357.136292812878,357.95059284695975,356.29459629251517,354.24023941380256,363.07110656946367,362.19913862088123,364.21059523225836,365.25312433710775,370.210377486842,367.82950057474307,374.7160017428914,376.7341627090895,372.41010920910236,376.0110789271783,379.79632192476737,377.00093359455553,377.88961541914216,379.56975210706867,375.3516473331116,382.90847881601553,378.6250674326863,376.2663303642955,378.9542386676605,381.92839116134434,384.02589157159963,380.8544492531111,386.5927411574906,383.12816180352326,381.5904176046591,382.9255110518856,381.8402477159216,372.95447688728467,378.49968329462297,380.32513633122534,378.45347012194014,380.063693963028,375.4451610841587,381.9444029161393,380.15684152754716,377.8373825645553,379.32217600644645,382.82617394277935,379.64404373305376,382.04889987234947,386.8730339114542,386.2448937833126,382.45101622049594,380.51186761192105,382.89365028665515,384.5846091227391,392.09919394450384,390.02824419977736,395.4291451869982,390.98949824530763,387.28344237085025,383.6428781271732,378.7381603293539,380.7648328745389,374.1781317602118,372.6868853954075,376.391568280795,375.699622756961,378.3136597991239,377.4750605800213,373.2880442715966,374.98205511193083,373.25183685852693,370.3612929052412,368.1782330540238,368.08342885352016,364.7000304756692,369.3507588047061,371.9395615298518,371.0955427290737,369.4464472614386,370.4099517778578,369.7619967939205,372.66543976771703,369.8409745013134,368.7850520645506,370.35331210191134,372.81197151919883,370.14143716121515,369.3241436544895,368.14221827257586,370.61129923778157,362.986332695851,371.2209957264328,376.1600189126593,377.3367670387001,371.0351160097198,359.8004687340986,356.0330871886904,359.3370366027026,356.35868001285854,360.19699688745055,357.2497295680607,358.76010426275957,362.1420346725764,358.69759182892,361.9702086406332,358.2758659618018,362.48122341710865,363.79938076548996,355.3123039645985,352.9990904334387,358.94713824687756,355.75242853855815,357.5112977150418,363.50449480677963,361.00153329782466,362.95911599861864,360.90951349014074,361.1177526456758,356.3432682960407,356.0153243659481,360.63874365461874,358.2797011698613,354.88163897008945,357.13866098236156,356.0610024478737,356.3384298156301,361.4295836250805,367.8329478293188,370.86981923282895,371.7597467910022,366.958173119441,367.6432236597837,361.84324946125207,362.09056410428275,365.21720429762513,367.7369746500989,365.5539114083155,367.20154778474847,369.15229368680275,371.37926879170107,367.5148239680932,366.71706605786375,369.72476829505734,369.6581729825633,366.64220210763995,368.26161479416294,373.5153669824289,369.74701967136224,373.74890285834,375.3507868261008,377.94989026299004,379.4388711416684,377.7002458437658,373.74400209063134,370.04108138000225,370.24832017791675,378.9617434754313,372.9791694455595,371.6180928955517,370.8573703251897,371.48210660416015,374.769094004203,371.4943496905648,369.2824428469923,366.78058985017304,368.49916985559946,366.99485167448637,367.7248465156114,372.40381644483443,371.8996310787438,373.06674002552694,376.78777161467394,373.82890041966687,374.2630621352076,375.56314454325104,375.1250659484509,373.6777935331705,373.535673675441,366.2647053733527,369.4289047068362,369.2768523637254,366.1884222079267,372.49157535232314,372.83951465527156,373.02540779734346,370.2163141705102,376.5931977685655,377.9608813566623,374.0495447193337,377.0097899161673,372.90688366249805,376.99549947447974,373.42771536703594,371.31736017240763,374.6604817343204,376.9492073895655,373.0629281716727,374.1525529476149,373.2762893244718,374.76800336903034,374.1264183513246,379.5726857234884,392.66404037432795,393.0207007975801,393.72698708100705,400.8077382890499,398.87941330412616,405.2094750539056,401.10333387345327,404.45052673679413,409.0553841463321,408.6749795230363,414.0691510519287,410.4027934214592,404.85714852477315,407.77525364866335,414.75258882492716,419.4280943292901,417.68600500664263,426.8341205264105,433.3109756262292,423.3622378149936,415.26585036169104,412.89511984882495,419.0064079318061,414.21150170810694,415.53526751060826,413.20865415374607,405.32879676741425,406.6665631211711,409.3259639977856,406.8975845686261,410.15801264522645],\"yaxis\":\"y\",\"type\":\"scattergl\"}],                        {\"template\":{\"data\":{\"histogram2dcontour\":[{\"type\":\"histogram2dcontour\",\"colorbar\":{\"outlinewidth\":0,\"ticks\":\"\"},\"colorscale\":[[0.0,\"#0d0887\"],[0.1111111111111111,\"#46039f\"],[0.2222222222222222,\"#7201a8\"],[0.3333333333333333,\"#9c179e\"],[0.4444444444444444,\"#bd3786\"],[0.5555555555555556,\"#d8576b\"],[0.6666666666666666,\"#ed7953\"],[0.7777777777777778,\"#fb9f3a\"],[0.8888888888888888,\"#fdca26\"],[1.0,\"#f0f921\"]]}],\"choropleth\":[{\"type\":\"choropleth\",\"colorbar\":{\"outlinewidth\":0,\"ticks\":\"\"}}],\"histogram2d\":[{\"type\":\"histogram2d\",\"colorbar\":{\"outlinewidth\":0,\"ticks\":\"\"},\"colorscale\":[[0.0,\"#0d0887\"],[0.1111111111111111,\"#46039f\"],[0.2222222222222222,\"#7201a8\"],[0.3333333333333333,\"#9c179e\"],[0.4444444444444444,\"#bd3786\"],[0.5555555555555556,\"#d8576b\"],[0.6666666666666666,\"#ed7953\"],[0.7777777777777778,\"#fb9f3a\"],[0.8888888888888888,\"#fdca26\"],[1.0,\"#f0f921\"]]}],\"heatmap\":[{\"type\":\"heatmap\",\"colorbar\":{\"outlinewidth\":0,\"ticks\":\"\"},\"colorscale\":[[0.0,\"#0d0887\"],[0.1111111111111111,\"#46039f\"],[0.2222222222222222,\"#7201a8\"],[0.3333333333333333,\"#9c179e\"],[0.4444444444444444,\"#bd3786\"],[0.5555555555555556,\"#d8576b\"],[0.6666666666666666,\"#ed7953\"],[0.7777777777777778,\"#fb9f3a\"],[0.8888888888888888,\"#fdca26\"],[1.0,\"#f0f921\"]]}],\"heatmapgl\":[{\"type\":\"heatmapgl\",\"colorbar\":{\"outlinewidth\":0,\"ticks\":\"\"},\"colorscale\":[[0.0,\"#0d0887\"],[0.1111111111111111,\"#46039f\"],[0.2222222222222222,\"#7201a8\"],[0.3333333333333333,\"#9c179e\"],[0.4444444444444444,\"#bd3786\"],[0.5555555555555556,\"#d8576b\"],[0.6666666666666666,\"#ed7953\"],[0.7777777777777778,\"#fb9f3a\"],[0.8888888888888888,\"#fdca26\"],[1.0,\"#f0f921\"]]}],\"contourcarpet\":[{\"type\":\"contourcarpet\",\"colorbar\":{\"outlinewidth\":0,\"ticks\":\"\"}}],\"contour\":[{\"type\":\"contour\",\"colorbar\":{\"outlinewidth\":0,\"ticks\":\"\"},\"colorscale\":[[0.0,\"#0d0887\"],[0.1111111111111111,\"#46039f\"],[0.2222222222222222,\"#7201a8\"],[0.3333333333333333,\"#9c179e\"],[0.4444444444444444,\"#bd3786\"],[0.5555555555555556,\"#d8576b\"],[0.6666666666666666,\"#ed7953\"],[0.7777777777777778,\"#fb9f3a\"],[0.8888888888888888,\"#fdca26\"],[1.0,\"#f0f921\"]]}],\"surface\":[{\"type\":\"surface\",\"colorbar\":{\"outlinewidth\":0,\"ticks\":\"\"},\"colorscale\":[[0.0,\"#0d0887\"],[0.1111111111111111,\"#46039f\"],[0.2222222222222222,\"#7201a8\"],[0.3333333333333333,\"#9c179e\"],[0.4444444444444444,\"#bd3786\"],[0.5555555555555556,\"#d8576b\"],[0.6666666666666666,\"#ed7953\"],[0.7777777777777778,\"#fb9f3a\"],[0.8888888888888888,\"#fdca26\"],[1.0,\"#f0f921\"]]}],\"mesh3d\":[{\"type\":\"mesh3d\",\"colorbar\":{\"outlinewidth\":0,\"ticks\":\"\"}}],\"scatter\":[{\"fillpattern\":{\"fillmode\":\"overlay\",\"size\":10,\"solidity\":0.2},\"type\":\"scatter\"}],\"parcoords\":[{\"type\":\"parcoords\",\"line\":{\"colorbar\":{\"outlinewidth\":0,\"ticks\":\"\"}}}],\"scatterpolargl\":[{\"type\":\"scatterpolargl\",\"marker\":{\"colorbar\":{\"outlinewidth\":0,\"ticks\":\"\"}}}],\"bar\":[{\"error_x\":{\"color\":\"#2a3f5f\"},\"error_y\":{\"color\":\"#2a3f5f\"},\"marker\":{\"line\":{\"color\":\"#E5ECF6\",\"width\":0.5},\"pattern\":{\"fillmode\":\"overlay\",\"size\":10,\"solidity\":0.2}},\"type\":\"bar\"}],\"scattergeo\":[{\"type\":\"scattergeo\",\"marker\":{\"colorbar\":{\"outlinewidth\":0,\"ticks\":\"\"}}}],\"scatterpolar\":[{\"type\":\"scatterpolar\",\"marker\":{\"colorbar\":{\"outlinewidth\":0,\"ticks\":\"\"}}}],\"histogram\":[{\"marker\":{\"pattern\":{\"fillmode\":\"overlay\",\"size\":10,\"solidity\":0.2}},\"type\":\"histogram\"}],\"scattergl\":[{\"type\":\"scattergl\",\"marker\":{\"colorbar\":{\"outlinewidth\":0,\"ticks\":\"\"}}}],\"scatter3d\":[{\"type\":\"scatter3d\",\"line\":{\"colorbar\":{\"outlinewidth\":0,\"ticks\":\"\"}},\"marker\":{\"colorbar\":{\"outlinewidth\":0,\"ticks\":\"\"}}}],\"scattermapbox\":[{\"type\":\"scattermapbox\",\"marker\":{\"colorbar\":{\"outlinewidth\":0,\"ticks\":\"\"}}}],\"scatterternary\":[{\"type\":\"scatterternary\",\"marker\":{\"colorbar\":{\"outlinewidth\":0,\"ticks\":\"\"}}}],\"scattercarpet\":[{\"type\":\"scattercarpet\",\"marker\":{\"colorbar\":{\"outlinewidth\":0,\"ticks\":\"\"}}}],\"carpet\":[{\"aaxis\":{\"endlinecolor\":\"#2a3f5f\",\"gridcolor\":\"white\",\"linecolor\":\"white\",\"minorgridcolor\":\"white\",\"startlinecolor\":\"#2a3f5f\"},\"baxis\":{\"endlinecolor\":\"#2a3f5f\",\"gridcolor\":\"white\",\"linecolor\":\"white\",\"minorgridcolor\":\"white\",\"startlinecolor\":\"#2a3f5f\"},\"type\":\"carpet\"}],\"table\":[{\"cells\":{\"fill\":{\"color\":\"#EBF0F8\"},\"line\":{\"color\":\"white\"}},\"header\":{\"fill\":{\"color\":\"#C8D4E3\"},\"line\":{\"color\":\"white\"}},\"type\":\"table\"}],\"barpolar\":[{\"marker\":{\"line\":{\"color\":\"#E5ECF6\",\"width\":0.5},\"pattern\":{\"fillmode\":\"overlay\",\"size\":10,\"solidity\":0.2}},\"type\":\"barpolar\"}],\"pie\":[{\"automargin\":true,\"type\":\"pie\"}]},\"layout\":{\"autotypenumbers\":\"strict\",\"colorway\":[\"#636efa\",\"#EF553B\",\"#00cc96\",\"#ab63fa\",\"#FFA15A\",\"#19d3f3\",\"#FF6692\",\"#B6E880\",\"#FF97FF\",\"#FECB52\"],\"font\":{\"color\":\"#2a3f5f\"},\"hovermode\":\"closest\",\"hoverlabel\":{\"align\":\"left\"},\"paper_bgcolor\":\"white\",\"plot_bgcolor\":\"#E5ECF6\",\"polar\":{\"bgcolor\":\"#E5ECF6\",\"angularaxis\":{\"gridcolor\":\"white\",\"linecolor\":\"white\",\"ticks\":\"\"},\"radialaxis\":{\"gridcolor\":\"white\",\"linecolor\":\"white\",\"ticks\":\"\"}},\"ternary\":{\"bgcolor\":\"#E5ECF6\",\"aaxis\":{\"gridcolor\":\"white\",\"linecolor\":\"white\",\"ticks\":\"\"},\"baxis\":{\"gridcolor\":\"white\",\"linecolor\":\"white\",\"ticks\":\"\"},\"caxis\":{\"gridcolor\":\"white\",\"linecolor\":\"white\",\"ticks\":\"\"}},\"coloraxis\":{\"colorbar\":{\"outlinewidth\":0,\"ticks\":\"\"}},\"colorscale\":{\"sequential\":[[0.0,\"#0d0887\"],[0.1111111111111111,\"#46039f\"],[0.2222222222222222,\"#7201a8\"],[0.3333333333333333,\"#9c179e\"],[0.4444444444444444,\"#bd3786\"],[0.5555555555555556,\"#d8576b\"],[0.6666666666666666,\"#ed7953\"],[0.7777777777777778,\"#fb9f3a\"],[0.8888888888888888,\"#fdca26\"],[1.0,\"#f0f921\"]],\"sequentialminus\":[[0.0,\"#0d0887\"],[0.1111111111111111,\"#46039f\"],[0.2222222222222222,\"#7201a8\"],[0.3333333333333333,\"#9c179e\"],[0.4444444444444444,\"#bd3786\"],[0.5555555555555556,\"#d8576b\"],[0.6666666666666666,\"#ed7953\"],[0.7777777777777778,\"#fb9f3a\"],[0.8888888888888888,\"#fdca26\"],[1.0,\"#f0f921\"]],\"diverging\":[[0,\"#8e0152\"],[0.1,\"#c51b7d\"],[0.2,\"#de77ae\"],[0.3,\"#f1b6da\"],[0.4,\"#fde0ef\"],[0.5,\"#f7f7f7\"],[0.6,\"#e6f5d0\"],[0.7,\"#b8e186\"],[0.8,\"#7fbc41\"],[0.9,\"#4d9221\"],[1,\"#276419\"]]},\"xaxis\":{\"gridcolor\":\"white\",\"linecolor\":\"white\",\"ticks\":\"\",\"title\":{\"standoff\":15},\"zerolinecolor\":\"white\",\"automargin\":true,\"zerolinewidth\":2},\"yaxis\":{\"gridcolor\":\"white\",\"linecolor\":\"white\",\"ticks\":\"\",\"title\":{\"standoff\":15},\"zerolinecolor\":\"white\",\"automargin\":true,\"zerolinewidth\":2},\"scene\":{\"xaxis\":{\"backgroundcolor\":\"#E5ECF6\",\"gridcolor\":\"white\",\"linecolor\":\"white\",\"showbackground\":true,\"ticks\":\"\",\"zerolinecolor\":\"white\",\"gridwidth\":2},\"yaxis\":{\"backgroundcolor\":\"#E5ECF6\",\"gridcolor\":\"white\",\"linecolor\":\"white\",\"showbackground\":true,\"ticks\":\"\",\"zerolinecolor\":\"white\",\"gridwidth\":2},\"zaxis\":{\"backgroundcolor\":\"#E5ECF6\",\"gridcolor\":\"white\",\"linecolor\":\"white\",\"showbackground\":true,\"ticks\":\"\",\"zerolinecolor\":\"white\",\"gridwidth\":2}},\"shapedefaults\":{\"line\":{\"color\":\"#2a3f5f\"}},\"annotationdefaults\":{\"arrowcolor\":\"#2a3f5f\",\"arrowhead\":0,\"arrowwidth\":1},\"geo\":{\"bgcolor\":\"white\",\"landcolor\":\"#E5ECF6\",\"subunitcolor\":\"white\",\"showland\":true,\"showlakes\":true,\"lakecolor\":\"white\"},\"title\":{\"x\":0.05},\"mapbox\":{\"style\":\"light\"}}},\"xaxis\":{\"anchor\":\"y\",\"domain\":[0.0,1.0],\"title\":{\"text\":\"Dates\",\"font\":{\"size\":25}}},\"yaxis\":{\"anchor\":\"x\",\"domain\":[0.0,1.0],\"title\":{\"text\":\"USD\",\"font\":{\"size\":25}}},\"legend\":{\"title\":{\"text\":\"variable\"},\"tracegroupgap\":0},\"title\":{\"text\":\"Financial Asset Price\",\"font\":{\"size\":30},\"x\":0.5},\"showlegend\":false},                        {\"responsive\": true}                    ).then(function(){\n",
              "                            \n",
              "var gd = document.getElementById('7937eaa5-3dcf-4545-9314-09bdc0a6fa79');\n",
              "var x = new MutationObserver(function (mutations, observer) {{\n",
              "        var display = window.getComputedStyle(gd).display;\n",
              "        if (!display || display === 'none') {{\n",
              "            console.log([gd, 'removed!']);\n",
              "            Plotly.purge(gd);\n",
              "            observer.disconnect();\n",
              "        }}\n",
              "}});\n",
              "\n",
              "// Listen for the removal of the full notebook cells\n",
              "var notebookContainer = gd.closest('#notebook-container');\n",
              "if (notebookContainer) {{\n",
              "    x.observe(notebookContainer, {childList: true});\n",
              "}}\n",
              "\n",
              "// Listen for the clearing of the current output cell\n",
              "var outputEl = gd.closest('.output');\n",
              "if (outputEl) {{\n",
              "    x.observe(outputEl, {childList: true});\n",
              "}}\n",
              "\n",
              "                        })                };                            </script>        </div>\n",
              "</body>\n",
              "</html>"
            ]
          },
          "metadata": {}
        }
      ]
    }
  ]
}