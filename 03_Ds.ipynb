{
  "nbformat": 4,
  "nbformat_minor": 0,
  "metadata": {
    "colab": {
      "provenance": [],
      "authorship_tag": "ABX9TyO/kIFK2G2hOTYztXfxkabL",
      "include_colab_link": true
    },
    "kernelspec": {
      "name": "python3",
      "display_name": "Python 3"
    },
    "language_info": {
      "name": "python"
    }
  },
  "cells": [
    {
      "cell_type": "markdown",
      "metadata": {
        "id": "view-in-github",
        "colab_type": "text"
      },
      "source": [
        "<a href=\"https://colab.research.google.com/github/Fernandarodg/CinD_23-II/blob/main/03_Ds.ipynb\" target=\"_parent\"><img src=\"https://colab.research.google.com/assets/colab-badge.svg\" alt=\"Open In Colab\"/></a>"
      ]
    },
    {
      "cell_type": "markdown",
      "source": [
        "# **1. What is a data structre?**\n",
        "\n",
        "Something that let me store several values\n"
      ],
      "metadata": {
        "id": "UlnXkZnY2pzm"
      }
    },
    {
      "cell_type": "markdown",
      "source": [
        "# **2. Linear Algebra - Numpy**"
      ],
      "metadata": {
        "id": "SbBgBOMh5Hul"
      }
    },
    {
      "cell_type": "markdown",
      "source": [
        "Numpy=Numberical Phyton"
      ],
      "metadata": {
        "id": "MjdrolYQ5QL2"
      }
    },
    {
      "cell_type": "code",
      "source": [
        "# Libraries\n",
        "import numpy as np"
      ],
      "metadata": {
        "id": "Z1oChQow25Tn"
      },
      "execution_count": 1,
      "outputs": []
    },
    {
      "cell_type": "markdown",
      "source": [
        "## 2.1. **Numpy arrays - Vectors and Matrices**"
      ],
      "metadata": {
        "id": "IrjUEx-t6aY4"
      }
    },
    {
      "cell_type": "code",
      "source": [
        "# column Vector\n",
        "x = np.array([[1], [2],[3]])\n",
        "print(x)\n",
        "print(x.shape)"
      ],
      "metadata": {
        "colab": {
          "base_uri": "https://localhost:8080/"
        },
        "id": "BzAUi4rZ6n2Q",
        "outputId": "6a60bf3e-5de0-4d74-f502-c3ea76a87265"
      },
      "execution_count": 2,
      "outputs": [
        {
          "output_type": "stream",
          "name": "stdout",
          "text": [
            "[[1]\n",
            " [2]\n",
            " [3]]\n",
            "(3, 1)\n"
          ]
        }
      ]
    },
    {
      "cell_type": "code",
      "source": [
        "# Row Vector\n",
        "y = np.array([[3, 4, 5]])\n",
        "print (y)\n",
        "print(y.shape)"
      ],
      "metadata": {
        "colab": {
          "base_uri": "https://localhost:8080/"
        },
        "id": "OGI2VZ-78fNt",
        "outputId": "7d1d7855-b6c4-4617-c2f4-7d9f12ab20c0"
      },
      "execution_count": 3,
      "outputs": [
        {
          "output_type": "stream",
          "name": "stdout",
          "text": [
            "[[3 4 5]]\n",
            "(1, 3)\n"
          ]
        }
      ]
    },
    {
      "cell_type": "code",
      "source": [
        "# Matriz\n",
        "M = np.array([[1,2,3],\n",
        "              [4,5,6],\n",
        "              [7,8,9]])\n",
        "print(M)\n",
        "print(M.shape)\n"
      ],
      "metadata": {
        "colab": {
          "base_uri": "https://localhost:8080/"
        },
        "id": "nYmtl4dE9KqY",
        "outputId": "54970930-6b2e-42f4-af86-049f4e046e91"
      },
      "execution_count": 4,
      "outputs": [
        {
          "output_type": "stream",
          "name": "stdout",
          "text": [
            "[[1 2 3]\n",
            " [4 5 6]\n",
            " [7 8 9]]\n",
            "(3, 3)\n"
          ]
        }
      ]
    },
    {
      "cell_type": "code",
      "source": [
        "# A nice trick\n",
        "n, m= M.shape\n",
        "print('number of rows in M:' , n)\n",
        "print('number of columns in M:', m)"
      ],
      "metadata": {
        "id": "NlQCbtoS_Dki",
        "colab": {
          "base_uri": "https://localhost:8080/"
        },
        "outputId": "db6dac80-5640-4588-92dc-eb7d43981182"
      },
      "execution_count": 5,
      "outputs": [
        {
          "output_type": "stream",
          "name": "stdout",
          "text": [
            "number of rows in M: 3\n",
            "number of columns in M: 3\n"
          ]
        }
      ]
    },
    {
      "cell_type": "markdown",
      "source": [
        "## 2.2. Slicing with matrices\n",
        " first row, second column\n",
        " 3 number\n",
        " [3] vector\n",
        " [2,0] se quita"
      ],
      "metadata": {
        "id": "I0vPZbjD6IMr"
      }
    },
    {
      "cell_type": "code",
      "source": [
        "# Access 1 element\n",
        "\n",
        "## For vector\n",
        "### Column Vector\n",
        "print(x[2,0])\n",
        "\n",
        "### Row vector\n",
        "print(y[0,0])\n",
        "\n",
        "## For matrix\n",
        "print(M[1,1])"
      ],
      "metadata": {
        "colab": {
          "base_uri": "https://localhost:8080/"
        },
        "id": "EUEc_SOv6bZA",
        "outputId": "a6301b2e-5b72-43d2-ec62-7f038508aa18"
      },
      "execution_count": 6,
      "outputs": [
        {
          "output_type": "stream",
          "name": "stdout",
          "text": [
            "3\n",
            "3\n",
            "5\n"
          ]
        }
      ]
    },
    {
      "cell_type": "code",
      "source": [
        "# Exercise - Practice\n",
        "## Using a for loop display/print the number of the row,\n",
        "## the number of the column, and the element for\n",
        "## every element in the Matrix M\n",
        "\n",
        "print('Row Position:', 1, 'Column Position', 1, 'Element:',M[0,0])\n",
        "print('Row Position:', 1, 'Column Position', 2, 'Element:',M[0,1])\n",
        "print('Row Position:', 1, 'Column Position', 3, 'Element:',M[0,2])\n",
        "\n",
        "for i in range(0,3):\n",
        "  print('Row Position:', 1, 'Column Position', i+1, 'Element:',M[0,i])"
      ],
      "metadata": {
        "id": "y6kkzm8l8ZGd",
        "colab": {
          "base_uri": "https://localhost:8080/"
        },
        "outputId": "14ec3c17-b0c8-47c8-ff42-0635869f056f"
      },
      "execution_count": 7,
      "outputs": [
        {
          "output_type": "stream",
          "name": "stdout",
          "text": [
            "Row Position: 1 Column Position 1 Element: 1\n",
            "Row Position: 1 Column Position 2 Element: 2\n",
            "Row Position: 1 Column Position 3 Element: 3\n",
            "Row Position: 1 Column Position 1 Element: 1\n",
            "Row Position: 1 Column Position 2 Element: 2\n",
            "Row Position: 1 Column Position 3 Element: 3\n"
          ]
        }
      ]
    },
    {
      "cell_type": "markdown",
      "source": [
        "Row position: 1, Column Position:1, Element:1\n",
        "\n",
        "Row position: 1, Column Position:2, Element:2\n",
        "\n",
        "Row position: 1, Column Position:3, Element:3\n",
        "\n",
        "Row position: 2, Column Position:1, Element:4\n",
        "\n",
        "Row position: 2, Column Position:2, Element:5\n",
        "\n",
        "Row position: 2, Column Position:3, Element:6\n",
        "\n",
        "Row position: 3, Column Position:1, Element:7\n",
        "\n",
        "Row position: 3, Column Position:2, Element:8\n",
        "\n",
        "Row position: 3 ,Column Position:3, Element:9\n",
        "\n"
      ],
      "metadata": {
        "id": "3kjcUj_Y10Sl"
      }
    },
    {
      "cell_type": "code",
      "source": [
        "for j in range(0,3):\n",
        "  for i in range(0,3):\n",
        "    print('Row Position:', j+1, 'Column Position', i+1, 'Element:',M[j,i])"
      ],
      "metadata": {
        "colab": {
          "base_uri": "https://localhost:8080/"
        },
        "id": "Cpv2TsZ55No1",
        "outputId": "696c1d7e-9172-4b14-d8e6-b3c995db6acc"
      },
      "execution_count": 8,
      "outputs": [
        {
          "output_type": "stream",
          "name": "stdout",
          "text": [
            "Row Position: 1 Column Position 1 Element: 1\n",
            "Row Position: 1 Column Position 2 Element: 2\n",
            "Row Position: 1 Column Position 3 Element: 3\n",
            "Row Position: 2 Column Position 1 Element: 4\n",
            "Row Position: 2 Column Position 2 Element: 5\n",
            "Row Position: 2 Column Position 3 Element: 6\n",
            "Row Position: 3 Column Position 1 Element: 7\n",
            "Row Position: 3 Column Position 2 Element: 8\n",
            "Row Position: 3 Column Position 3 Element: 9\n"
          ]
        }
      ]
    },
    {
      "cell_type": "code",
      "source": [
        "for i in range(0,3):\n",
        "  print('Row Position:', 1, 'Column Position', i+1, 'Element:',M[0,i])"
      ],
      "metadata": {
        "id": "KMNbf9II5PSd",
        "colab": {
          "base_uri": "https://localhost:8080/"
        },
        "outputId": "cd2786d5-c199-4739-860e-b81b5fe0fac8"
      },
      "execution_count": 9,
      "outputs": [
        {
          "output_type": "stream",
          "name": "stdout",
          "text": [
            "Row Position: 1 Column Position 1 Element: 1\n",
            "Row Position: 1 Column Position 2 Element: 2\n",
            "Row Position: 1 Column Position 3 Element: 3\n"
          ]
        }
      ]
    },
    {
      "cell_type": "code",
      "source": [
        "row 1, column 1, element 1\n",
        "row 2, column 2, element 5"
      ],
      "metadata": {
        "id": "dfg-0JZ--ZM-",
        "colab": {
          "base_uri": "https://localhost:8080/",
          "height": 140
        },
        "outputId": "544d7f47-74ee-4cc0-8f72-41cd7dd9c5bd"
      },
      "execution_count": 10,
      "outputs": [
        {
          "output_type": "error",
          "ename": "SyntaxError",
          "evalue": "ignored",
          "traceback": [
            "\u001b[0;36m  File \u001b[0;32m\"<ipython-input-10-a8a37c6136aa>\"\u001b[0;36m, line \u001b[0;32m1\u001b[0m\n\u001b[0;31m    row 1, column 1, element 1\u001b[0m\n\u001b[0m        ^\u001b[0m\n\u001b[0;31mSyntaxError\u001b[0m\u001b[0;31m:\u001b[0m invalid syntax\n"
          ]
        }
      ]
    },
    {
      "cell_type": "code",
      "source": [
        "print('row', 1, 'column', 1, 'element', M[0,0])\n",
        "print('row', 2, 'column', 2, 'element', M[1,1])\n",
        "print('row', 2, 'column', 2, 'element', M[1,2])"
      ],
      "metadata": {
        "id": "Rie5o4uh_R5a"
      },
      "execution_count": null,
      "outputs": []
    },
    {
      "cell_type": "markdown",
      "source": [
        "## 2.3 Extract subsets"
      ],
      "metadata": {
        "id": "Cs0-R88i6IPi"
      }
    },
    {
      "cell_type": "code",
      "source": [
        "# Extract an entire Row\n",
        "print(M[1,])\n",
        "\n",
        "# Extract an entire Column\n",
        "print(M[:,1])"
      ],
      "metadata": {
        "colab": {
          "base_uri": "https://localhost:8080/"
        },
        "id": "BUAXJnJ-6SiD",
        "outputId": "443c76ce-1674-4eb4-f57e-12cc2d6204ba"
      },
      "execution_count": 11,
      "outputs": [
        {
          "output_type": "stream",
          "name": "stdout",
          "text": [
            "[4 5 6]\n",
            "[2 5 8]\n"
          ]
        }
      ]
    },
    {
      "cell_type": "code",
      "source": [
        "# Extract the elements of the\n",
        "# last row and colums 2 and 3\n",
        "print(M[2,1:3])"
      ],
      "metadata": {
        "colab": {
          "base_uri": "https://localhost:8080/"
        },
        "id": "54R2-IPC7rrr",
        "outputId": "97ab3ec2-1929-40b6-d689-f2a5c700e34b"
      },
      "execution_count": 12,
      "outputs": [
        {
          "output_type": "stream",
          "name": "stdout",
          "text": [
            "[8 9]\n"
          ]
        }
      ]
    },
    {
      "cell_type": "code",
      "source": [
        "# Extract the elements of the\n",
        "# first two rows and the last two columns\n",
        "print(M[0:2,1:3])"
      ],
      "metadata": {
        "colab": {
          "base_uri": "https://localhost:8080/"
        },
        "id": "mCr4P3br8M8V",
        "outputId": "1acf828b-0cd3-43ac-d53d-5d412e295f51"
      },
      "execution_count": 13,
      "outputs": [
        {
          "output_type": "stream",
          "name": "stdout",
          "text": [
            "[[2 3]\n",
            " [5 6]]\n"
          ]
        }
      ]
    },
    {
      "cell_type": "markdown",
      "source": [
        "## 2.4 Useful methods"
      ],
      "metadata": {
        "id": "gJxdEdeC-LmV"
      }
    },
    {
      "cell_type": "code",
      "source": [
        "# Zeros\n",
        "\n",
        "## One dimension\n",
        "z1 = np.zeros(7)\n",
        "print('z1')\n",
        "print(z1)\n",
        "\n",
        "## Two dimensions\n",
        "z2 = np.zeros((3,5))\n",
        "print('z2')\n",
        "print(z2)"
      ],
      "metadata": {
        "colab": {
          "base_uri": "https://localhost:8080/"
        },
        "id": "Witkdxlh-QUO",
        "outputId": "fcddc3f7-f6a3-472b-8cac-eaeb686a246e"
      },
      "execution_count": 14,
      "outputs": [
        {
          "output_type": "stream",
          "name": "stdout",
          "text": [
            "z1\n",
            "[0. 0. 0. 0. 0. 0. 0.]\n",
            "z2\n",
            "[[0. 0. 0. 0. 0.]\n",
            " [0. 0. 0. 0. 0.]\n",
            " [0. 0. 0. 0. 0.]]\n"
          ]
        }
      ]
    },
    {
      "cell_type": "code",
      "source": [
        "# Ones\n",
        "\n",
        "## One dimension\n",
        "o1 = np.ones(7)\n",
        "print('o1')\n",
        "print(o1)\n",
        "\n",
        "## Two dimensions\n",
        "o2 = np.ones((3,5))\n",
        "print('o2')\n",
        "print(o2)"
      ],
      "metadata": {
        "colab": {
          "base_uri": "https://localhost:8080/"
        },
        "id": "OWKZUOVv_eC4",
        "outputId": "63774a46-1664-4d64-c6f8-f7298c1e8298"
      },
      "execution_count": 15,
      "outputs": [
        {
          "output_type": "stream",
          "name": "stdout",
          "text": [
            "o1\n",
            "[1. 1. 1. 1. 1. 1. 1.]\n",
            "o2\n",
            "[[1. 1. 1. 1. 1.]\n",
            " [1. 1. 1. 1. 1.]\n",
            " [1. 1. 1. 1. 1.]]\n"
          ]
        }
      ]
    },
    {
      "cell_type": "code",
      "source": [
        "# Full\n",
        "\n",
        "## One dimension\n",
        "f1 = np.full(3,13)\n",
        "print('f1')\n",
        "print(f1)\n",
        "\n",
        "## Two dimension\n",
        "f2 = np.full((3,2),17)\n",
        "print('f2')\n",
        "print(f2)"
      ],
      "metadata": {
        "colab": {
          "base_uri": "https://localhost:8080/"
        },
        "id": "L5AsKodG_8kJ",
        "outputId": "ef980baa-ea9d-4d1c-ee4b-ed456cec7f92"
      },
      "execution_count": 16,
      "outputs": [
        {
          "output_type": "stream",
          "name": "stdout",
          "text": [
            "f1\n",
            "[13 13 13]\n",
            "f2\n",
            "[[17 17]\n",
            " [17 17]\n",
            " [17 17]]\n"
          ]
        }
      ]
    },
    {
      "cell_type": "code",
      "source": [
        "# Sequence - simple\n",
        "s1 = np.arange(10)\n",
        "print('s1')\n",
        "print(s1)\n",
        "\n",
        "## Not that simple\n",
        "s2 = np.arange(start = 2, stop = 15)\n",
        "print('s2')\n",
        "print(s2)\n",
        "\n",
        "## Custom\n",
        "s3 = np.arange(start = 2, stop = 15, step =3)\n",
        "print('s3')\n",
        "print(s3)"
      ],
      "metadata": {
        "colab": {
          "base_uri": "https://localhost:8080/"
        },
        "id": "NP8mNGd1AprK",
        "outputId": "39775101-0f7d-4f5d-c64e-de3511f4a9d8"
      },
      "execution_count": 17,
      "outputs": [
        {
          "output_type": "stream",
          "name": "stdout",
          "text": [
            "s1\n",
            "[0 1 2 3 4 5 6 7 8 9]\n",
            "s2\n",
            "[ 2  3  4  5  6  7  8  9 10 11 12 13 14]\n",
            "s3\n",
            "[ 2  5  8 11 14]\n"
          ]
        }
      ]
    },
    {
      "cell_type": "code",
      "source": [
        "# Linear Space\n",
        "\n",
        "l1 = np.linspace(0,2,5)\n",
        "print('l1')\n",
        "print(l1)"
      ],
      "metadata": {
        "colab": {
          "base_uri": "https://localhost:8080/"
        },
        "id": "6RLNi4QYCF_Z",
        "outputId": "5a22e0df-07e2-444f-f761-8a7e318c1fa6"
      },
      "execution_count": 18,
      "outputs": [
        {
          "output_type": "stream",
          "name": "stdout",
          "text": [
            "l1\n",
            "[0.  0.5 1.  1.5 2. ]\n"
          ]
        }
      ]
    },
    {
      "cell_type": "markdown",
      "source": [
        "## 2.5. Random numbers"
      ],
      "metadata": {
        "id": "RFt2jE__DUNn"
      }
    },
    {
      "cell_type": "code",
      "source": [
        "# Uniform distribution - [0, 1]\n",
        "# np.random.seed(1234) - fix the similation\n",
        "np.random.rand()"
      ],
      "metadata": {
        "colab": {
          "base_uri": "https://localhost:8080/"
        },
        "id": "nVok4Y-qDiYL",
        "outputId": "ff4ed282-2fa9-48e8-aae4-a271953c0ce4"
      },
      "execution_count": 19,
      "outputs": [
        {
          "output_type": "execute_result",
          "data": {
            "text/plain": [
              "0.8845022968940336"
            ]
          },
          "metadata": {},
          "execution_count": 19
        }
      ]
    },
    {
      "cell_type": "code",
      "source": [
        "# Example - Toss coin simulation\n",
        "\n",
        "if np.random.rand() <= 0.5:\n",
        "  print('Heads')\n",
        "else:\n",
        "  print('Tails')"
      ],
      "metadata": {
        "colab": {
          "base_uri": "https://localhost:8080/"
        },
        "id": "vTiALhoOGypu",
        "outputId": "c1d5925b-b07a-4456-e164-b1f4d3de84ce"
      },
      "execution_count": 20,
      "outputs": [
        {
          "output_type": "stream",
          "name": "stdout",
          "text": [
            "Tails\n"
          ]
        }
      ]
    },
    {
      "cell_type": "code",
      "source": [
        "# Example - Coin Toss simulation\n",
        "\n",
        "if np.random.rand() <= 0.5:\n",
        "  print('Heads')\n",
        "else:\n",
        "  print('Tails')"
      ],
      "metadata": {
        "colab": {
          "base_uri": "https://localhost:8080/"
        },
        "id": "3PQMBMJs5xVD",
        "outputId": "769f5750-fc8d-499a-9774-4c7259481d0c"
      },
      "execution_count": 21,
      "outputs": [
        {
          "output_type": "stream",
          "name": "stdout",
          "text": [
            "Heads\n"
          ]
        }
      ]
    },
    {
      "cell_type": "markdown",
      "source": [
        "if / else with more than 2 options"
      ],
      "metadata": {
        "id": "XHoY8CfY6GVr"
      }
    },
    {
      "cell_type": "code",
      "source": [
        "# Example - three options\n",
        "\n",
        "toss = np.random.rand()\n",
        "\n",
        "if toss <= 0.4:\n",
        "  print('green')\n",
        "elif toss > 0.4 and toss <= 0.6:\n",
        "  print('blue')\n",
        "else:\n",
        "  print('red')\n"
      ],
      "metadata": {
        "colab": {
          "base_uri": "https://localhost:8080/"
        },
        "id": "9Abu4qBk6K1j",
        "outputId": "6a704377-d2b6-4f66-f747-26c3e9ffad02"
      },
      "execution_count": 22,
      "outputs": [
        {
          "output_type": "stream",
          "name": "stdout",
          "text": [
            "red\n"
          ]
        }
      ]
    },
    {
      "cell_type": "code",
      "source": [
        "# Exercise\n",
        "## Simulate three coin tosses and present the results\n",
        "## according these rules:\n",
        "\n",
        "## 1. Three Heads, Result: 'You win COP 100K'\n",
        "## 2. Three Tails, Result: 'You win COP 90K'\n",
        "## 3. Otherwise, Result: 'You lose'"
      ],
      "metadata": {
        "id": "12HCbFaw7gmF"
      },
      "execution_count": 23,
      "outputs": []
    },
    {
      "cell_type": "code",
      "source": [
        "toss1 = np.random.rand()\n",
        "toss2 = np.random.rand()\n",
        "toss3 = np.random.rand()\n",
        "\n",
        "if toss1 <= 0.5 and toss2 <= 0.5 and toss3 <= 0.5:\n",
        "  print('Three Heads:', 'You win COP 100K')\n",
        "elif toss1 > 0.5 and toss2 > 0.5 and toss3 > 0.5:\n",
        "  print('Three Tails:', 'You win COP 90K')\n",
        "else:\n",
        "  print('You loose')"
      ],
      "metadata": {
        "colab": {
          "base_uri": "https://localhost:8080/"
        },
        "id": "qIQaxLtn-jbo",
        "outputId": "79d76389-bf72-47d7-a203-d05916cba5af"
      },
      "execution_count": 24,
      "outputs": [
        {
          "output_type": "stream",
          "name": "stdout",
          "text": [
            "You loose\n"
          ]
        }
      ]
    },
    {
      "cell_type": "code",
      "source": [
        "np.random.rand(3)"
      ],
      "metadata": {
        "colab": {
          "base_uri": "https://localhost:8080/"
        },
        "id": "S9Y4GfGhAEqJ",
        "outputId": "bb5768a7-b23b-4b69-bdca-15266d063d45"
      },
      "execution_count": 25,
      "outputs": [
        {
          "output_type": "execute_result",
          "data": {
            "text/plain": [
              "array([0.93666489, 0.3353274 , 0.73369675])"
            ]
          },
          "metadata": {},
          "execution_count": 25
        }
      ]
    },
    {
      "cell_type": "code",
      "source": [
        "tosses = np.random.rand(3)\n",
        "\n",
        "if np.all(tosses <= 0.5):\n",
        "  print('Three Heads:', 'You win COP 100K')\n",
        "elif np.all(tosses > 0.5):\n",
        "  print('Three Tails:', 'You win COP 90K')\n",
        "else:\n",
        "  print('You loose')"
      ],
      "metadata": {
        "colab": {
          "base_uri": "https://localhost:8080/"
        },
        "id": "s8AgmXHvBB52",
        "outputId": "f64fad52-c19a-4147-d1a5-87e50b2fad7b"
      },
      "execution_count": 26,
      "outputs": [
        {
          "output_type": "stream",
          "name": "stdout",
          "text": [
            "You loose\n"
          ]
        }
      ]
    },
    {
      "cell_type": "code",
      "source": [
        "# Example - triangular distribution cuantas unidades se puede vender, 7 unidades\n",
        "np.random.triangular(100, 200, 500, 7)"
      ],
      "metadata": {
        "colab": {
          "base_uri": "https://localhost:8080/"
        },
        "id": "ItKQZvI1C2pK",
        "outputId": "511bdb06-734a-4233-a456-33a326f47316"
      },
      "execution_count": 27,
      "outputs": [
        {
          "output_type": "execute_result",
          "data": {
            "text/plain": [
              "array([187.5601876 , 427.7319368 , 330.92061036, 165.19366697,\n",
              "       408.19853561, 305.1616039 , 181.44801042])"
            ]
          },
          "metadata": {},
          "execution_count": 27
        }
      ]
    },
    {
      "cell_type": "code",
      "source": [
        "## 1. In a bad day, the business would sell 100. The odds are 1/30\n",
        "## 2. In a really good day, the business would sell 500. The odds are 8/30\n",
        "## 3. An average day has sales of 200. The odds are 21/30.\n",
        "\n",
        "\n",
        "## Sales\n",
        "bs = 100\n",
        "av = 200\n",
        "gs = 500\n",
        "\n",
        "## Probabilities\n",
        "pb = 1/30\n",
        "pg = 8/30\n",
        "\n",
        "\n",
        "n= 7 # number of days ot iterate\n",
        "\n",
        "for i in range(1, n+1):\n",
        "  day = np.random.rand()\n",
        "  if  day  <= pb:\n",
        "   print(bs)\n",
        "  elif day > 1 - pg:\n",
        "   print(gs)\n",
        "  else:\n",
        "   print(av)"
      ],
      "metadata": {
        "colab": {
          "base_uri": "https://localhost:8080/"
        },
        "id": "87n0XL-4Iyi1",
        "outputId": "0230d8b2-bd21-48b4-c0b2-be4d31902768"
      },
      "execution_count": 33,
      "outputs": [
        {
          "output_type": "stream",
          "name": "stdout",
          "text": [
            "200\n",
            "200\n",
            "100\n",
            "200\n",
            "200\n",
            "200\n",
            "500\n"
          ]
        }
      ]
    }
  ]
}