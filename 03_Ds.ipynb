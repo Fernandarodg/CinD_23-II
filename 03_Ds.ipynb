{
  "nbformat": 4,
  "nbformat_minor": 0,
  "metadata": {
    "colab": {
      "provenance": [],
      "authorship_tag": "ABX9TyM9Q2MNiia1SEK6uZO6vvPi",
      "include_colab_link": true
    },
    "kernelspec": {
      "name": "python3",
      "display_name": "Python 3"
    },
    "language_info": {
      "name": "python"
    }
  },
  "cells": [
    {
      "cell_type": "markdown",
      "metadata": {
        "id": "view-in-github",
        "colab_type": "text"
      },
      "source": [
        "<a href=\"https://colab.research.google.com/github/Fernandarodg/CinD_23-II/blob/main/03_Ds.ipynb\" target=\"_parent\"><img src=\"https://colab.research.google.com/assets/colab-badge.svg\" alt=\"Open In Colab\"/></a>"
      ]
    },
    {
      "cell_type": "markdown",
      "source": [
        "# **1. What is a data structre?**\n",
        "\n",
        "Something that let me store several values\n"
      ],
      "metadata": {
        "id": "UlnXkZnY2pzm"
      }
    },
    {
      "cell_type": "markdown",
      "source": [
        "# **2. Linear Algebra - Numpy**"
      ],
      "metadata": {
        "id": "SbBgBOMh5Hul"
      }
    },
    {
      "cell_type": "markdown",
      "source": [
        "Numpy=Numberical Phyton"
      ],
      "metadata": {
        "id": "MjdrolYQ5QL2"
      }
    },
    {
      "cell_type": "code",
      "source": [
        "# Libraries\n",
        "import numpy as np"
      ],
      "metadata": {
        "id": "Z1oChQow25Tn"
      },
      "execution_count": 2,
      "outputs": []
    },
    {
      "cell_type": "markdown",
      "source": [
        "## 2.1. **Numpy arrays - Vectors and Matrices**"
      ],
      "metadata": {
        "id": "IrjUEx-t6aY4"
      }
    },
    {
      "cell_type": "code",
      "source": [
        "# column Vector\n",
        "x = np.array([[1], [2],[3]])\n",
        "print(x)\n",
        "print(x.shape)"
      ],
      "metadata": {
        "colab": {
          "base_uri": "https://localhost:8080/"
        },
        "id": "BzAUi4rZ6n2Q",
        "outputId": "4d30f862-9eef-4415-e297-a96f30f14498"
      },
      "execution_count": 3,
      "outputs": [
        {
          "output_type": "stream",
          "name": "stdout",
          "text": [
            "[[1]\n",
            " [2]\n",
            " [3]]\n",
            "(3, 1)\n"
          ]
        }
      ]
    },
    {
      "cell_type": "code",
      "source": [
        "# Row Vector\n",
        "y = np.array([[3, 4, 5]])\n",
        "print (y)\n",
        "print(y.shape)"
      ],
      "metadata": {
        "colab": {
          "base_uri": "https://localhost:8080/"
        },
        "id": "OGI2VZ-78fNt",
        "outputId": "e6c68bce-791d-4124-9eef-266d0e51af15"
      },
      "execution_count": 4,
      "outputs": [
        {
          "output_type": "stream",
          "name": "stdout",
          "text": [
            "[[3 4 5]]\n",
            "(1, 3)\n"
          ]
        }
      ]
    },
    {
      "cell_type": "code",
      "source": [
        "# Matriz\n",
        "M = np.array([[1,2,3],\n",
        "              [4,5,6],\n",
        "              [7,8,9]])\n",
        "print(M)\n",
        "print(M.shape)\n"
      ],
      "metadata": {
        "colab": {
          "base_uri": "https://localhost:8080/"
        },
        "id": "nYmtl4dE9KqY",
        "outputId": "14ad8d6b-6bc5-4108-dca9-854783af73e7"
      },
      "execution_count": 5,
      "outputs": [
        {
          "output_type": "stream",
          "name": "stdout",
          "text": [
            "[[1 2 3]\n",
            " [4 5 6]\n",
            " [7 8 9]]\n",
            "(3, 3)\n"
          ]
        }
      ]
    },
    {
      "cell_type": "code",
      "source": [
        "# A nice trick\n",
        "n, m= M.shape\n",
        "print('number of rows in M:' , n)\n",
        "print('number of columns in M:', m)"
      ],
      "metadata": {
        "id": "NlQCbtoS_Dki",
        "colab": {
          "base_uri": "https://localhost:8080/"
        },
        "outputId": "3276cc33-3db2-473b-e2e4-3b0b7c3fdf2e"
      },
      "execution_count": 6,
      "outputs": [
        {
          "output_type": "stream",
          "name": "stdout",
          "text": [
            "number of rows in M: 3\n",
            "number of columns in M: 3\n"
          ]
        }
      ]
    },
    {
      "cell_type": "markdown",
      "source": [
        "## 2.2. Slicing with matrices\n",
        " first row, second column\n",
        " 3 number\n",
        " [3] vector\n",
        " [2,0] se quita"
      ],
      "metadata": {
        "id": "I0vPZbjD6IMr"
      }
    },
    {
      "cell_type": "code",
      "source": [
        "# Access 1 element\n",
        "\n",
        "## For vector\n",
        "### Column Vector\n",
        "print(x[2,0])\n",
        "\n",
        "### Row vector\n",
        "print(y[0,0])\n",
        "\n",
        "## For matrix\n",
        "print(M[1,1])"
      ],
      "metadata": {
        "colab": {
          "base_uri": "https://localhost:8080/"
        },
        "id": "EUEc_SOv6bZA",
        "outputId": "e0ac3fb0-b9ea-44d0-fa15-93cfdd7660bb"
      },
      "execution_count": 13,
      "outputs": [
        {
          "output_type": "stream",
          "name": "stdout",
          "text": [
            "3\n",
            "3\n",
            "5\n"
          ]
        }
      ]
    },
    {
      "cell_type": "code",
      "source": [
        "# Exercise - Practice\n",
        "## Using a for loop display/print the number of the row,\n",
        "## the number of the column, and the element for\n",
        "## every element in the Matrix M\n",
        "\n",
        "print('Row Position:', 1, 'Column Position', 1, 'Element:',M[0,0])\n",
        "print('Row Position:', 1, 'Column Position', 2, 'Element:',M[0,1])\n",
        "print('Row Position:', 1, 'Column Position', 3, 'Element:',M[0,2])\n",
        "\n",
        "for i in range(0,3):\n",
        "  print('Row Position:', 1, 'Column Position', i+1, 'Element:',M[0,i])"
      ],
      "metadata": {
        "id": "y6kkzm8l8ZGd",
        "colab": {
          "base_uri": "https://localhost:8080/"
        },
        "outputId": "b52dbe05-ad7f-4256-8521-afde74dc81b4"
      },
      "execution_count": 10,
      "outputs": [
        {
          "output_type": "stream",
          "name": "stdout",
          "text": [
            "Row Position: 1 Column Position 1 Element: 1\n",
            "Row Position: 1 Column Position 2 Element: 2\n",
            "Row Position: 1 Column Position 3 Element: 3\n"
          ]
        }
      ]
    },
    {
      "cell_type": "markdown",
      "source": [
        "Row position: 1, Column Position:1, Element:1\n",
        "\n",
        "Row position: 1, Column Position:2, Element:2\n",
        "\n",
        "Row position: 1, Column Position:3, Element:3\n",
        "\n",
        "Row position: 2, Column Position:1, Element:4\n",
        "\n",
        "Row position: 2, Column Position:2, Element:5\n",
        "\n",
        "Row position: 2, Column Position:3, Element:6\n",
        "\n",
        "Row position: 3, Column Position:1, Element:7\n",
        "\n",
        "Row position: 3, Column Position:2, Element:8\n",
        "\n",
        "Row position: 3 ,Column Position:3, Element:9\n",
        "\n"
      ],
      "metadata": {
        "id": "3kjcUj_Y10Sl"
      }
    },
    {
      "cell_type": "code",
      "source": [
        "for j in range(0,3):\n",
        "  for i in range(0,3):\n",
        "    print('Row Position:', j+1, 'Column Position', i+1, 'Element:',M[j,i])"
      ],
      "metadata": {
        "colab": {
          "base_uri": "https://localhost:8080/"
        },
        "id": "Cpv2TsZ55No1",
        "outputId": "b11d8ee4-7001-4816-d6e6-91a3f64cf46e"
      },
      "execution_count": 12,
      "outputs": [
        {
          "output_type": "stream",
          "name": "stdout",
          "text": [
            "Row Position: 1 Column Position 1 Element: 1\n",
            "Row Position: 1 Column Position 2 Element: 2\n",
            "Row Position: 1 Column Position 3 Element: 3\n",
            "Row Position: 2 Column Position 1 Element: 4\n",
            "Row Position: 2 Column Position 2 Element: 5\n",
            "Row Position: 2 Column Position 3 Element: 6\n",
            "Row Position: 3 Column Position 1 Element: 7\n",
            "Row Position: 3 Column Position 2 Element: 8\n",
            "Row Position: 3 Column Position 3 Element: 9\n"
          ]
        }
      ]
    },
    {
      "cell_type": "code",
      "source": [
        "for i in range(0,3):\n",
        "  print('Row Position:', 1, 'Column Position', i+1, 'Element:',M[0,i])"
      ],
      "metadata": {
        "id": "KMNbf9II5PSd"
      },
      "execution_count": null,
      "outputs": []
    },
    {
      "cell_type": "code",
      "source": [
        "row 1, column 1, element 1\n",
        "row 2, column 2, element 5"
      ],
      "metadata": {
        "id": "dfg-0JZ--ZM-"
      },
      "execution_count": null,
      "outputs": []
    },
    {
      "cell_type": "code",
      "source": [
        "print('row', 1, 'column', 1, 'element', M[0,0])\n",
        "print('row', 2, 'column', 2, 'element', M[1,1])\n",
        "print('row', 2, 'column', 2, 'element', M[1,2])"
      ],
      "metadata": {
        "id": "Rie5o4uh_R5a"
      },
      "execution_count": null,
      "outputs": []
    },
    {
      "cell_type": "markdown",
      "source": [
        "## 2.3 Extract subsets"
      ],
      "metadata": {
        "id": "Cs0-R88i6IPi"
      }
    },
    {
      "cell_type": "code",
      "source": [
        "# Extract an entire Row\n",
        "print(M[1,])\n",
        "\n",
        "# Extract an entire Column\n",
        "print(M[:,1])"
      ],
      "metadata": {
        "colab": {
          "base_uri": "https://localhost:8080/"
        },
        "id": "BUAXJnJ-6SiD",
        "outputId": "d6e157ed-68fa-4d81-a958-46a8129e58cd"
      },
      "execution_count": 20,
      "outputs": [
        {
          "output_type": "stream",
          "name": "stdout",
          "text": [
            "[4 5 6]\n",
            "[2 5 8]\n"
          ]
        }
      ]
    },
    {
      "cell_type": "code",
      "source": [
        "# Extract the elements of the\n",
        "# last row and colums 2 and 3\n",
        "print(M[2,1:3])"
      ],
      "metadata": {
        "colab": {
          "base_uri": "https://localhost:8080/"
        },
        "id": "54R2-IPC7rrr",
        "outputId": "605288e6-6e1a-4873-bc9d-925f7010369c"
      },
      "execution_count": 22,
      "outputs": [
        {
          "output_type": "stream",
          "name": "stdout",
          "text": [
            "[8 9]\n"
          ]
        }
      ]
    },
    {
      "cell_type": "code",
      "source": [
        "# Extract the elements of the\n",
        "# first two rows and the last two columns\n",
        "print(M[0:2,1:3])"
      ],
      "metadata": {
        "colab": {
          "base_uri": "https://localhost:8080/"
        },
        "id": "mCr4P3br8M8V",
        "outputId": "80ffdd9a-6c7f-4389-f89e-1a019d85591d"
      },
      "execution_count": 33,
      "outputs": [
        {
          "output_type": "stream",
          "name": "stdout",
          "text": [
            "[[2 3]\n",
            " [5 6]]\n"
          ]
        }
      ]
    },
    {
      "cell_type": "markdown",
      "source": [
        "## 2.4 Useful methods"
      ],
      "metadata": {
        "id": "gJxdEdeC-LmV"
      }
    },
    {
      "cell_type": "code",
      "source": [
        "# Zeros\n",
        "\n",
        "## One dimension\n",
        "z1 = np.zeros(7)\n",
        "print('z1')\n",
        "print(z1)\n",
        "\n",
        "## Two dimensions\n",
        "z2 = np.zeros((3,5))\n",
        "print('z2')\n",
        "print(z2)"
      ],
      "metadata": {
        "colab": {
          "base_uri": "https://localhost:8080/"
        },
        "id": "Witkdxlh-QUO",
        "outputId": "e4adbe55-c1e2-4d49-c564-9a4b3c66b85b"
      },
      "execution_count": 39,
      "outputs": [
        {
          "output_type": "stream",
          "name": "stdout",
          "text": [
            "z1\n",
            "[0. 0. 0. 0. 0. 0. 0.]\n",
            "z2\n",
            "[[0. 0. 0. 0. 0.]\n",
            " [0. 0. 0. 0. 0.]\n",
            " [0. 0. 0. 0. 0.]]\n"
          ]
        }
      ]
    },
    {
      "cell_type": "code",
      "source": [
        "# Ones\n",
        "\n",
        "## One dimension\n",
        "o1 = np.ones(7)\n",
        "print('o1')\n",
        "print(o1)\n",
        "\n",
        "## Two dimensions\n",
        "o2 = np.ones((3,5))\n",
        "print('o2')\n",
        "print(o2)"
      ],
      "metadata": {
        "colab": {
          "base_uri": "https://localhost:8080/"
        },
        "id": "OWKZUOVv_eC4",
        "outputId": "4c52acab-031f-4ecf-9cbc-d8f6f2b9d2fc"
      },
      "execution_count": 42,
      "outputs": [
        {
          "output_type": "stream",
          "name": "stdout",
          "text": [
            "o1\n",
            "[1. 1. 1. 1. 1. 1. 1.]\n",
            "o2\n",
            "[[1. 1. 1. 1. 1.]\n",
            " [1. 1. 1. 1. 1.]\n",
            " [1. 1. 1. 1. 1.]]\n"
          ]
        }
      ]
    },
    {
      "cell_type": "code",
      "source": [
        "# Full\n",
        "\n",
        "## One dimension\n",
        "f1 = np.full(3,13)\n",
        "print('f1')\n",
        "print(f1)\n",
        "\n",
        "## Two dimension\n",
        "f2 = np.full((3,2),17)\n",
        "print('f2')\n",
        "print(f2)"
      ],
      "metadata": {
        "colab": {
          "base_uri": "https://localhost:8080/"
        },
        "id": "L5AsKodG_8kJ",
        "outputId": "d775546a-d3fc-49fb-e4bd-f7275432c917"
      },
      "execution_count": 44,
      "outputs": [
        {
          "output_type": "stream",
          "name": "stdout",
          "text": [
            "f1\n",
            "[13 13 13]\n",
            "f2\n",
            "[[17 17]\n",
            " [17 17]\n",
            " [17 17]]\n"
          ]
        }
      ]
    },
    {
      "cell_type": "code",
      "source": [
        "# Sequence - simple\n",
        "s1 = np.arange(10)\n",
        "print('s1')\n",
        "print(s1)\n",
        "\n",
        "## Not that simple\n",
        "s2 = np.arange(start = 2, stop = 15)\n",
        "print('s2')\n",
        "print(s2)\n",
        "\n",
        "## Custom\n",
        "s3 = np.arange(start = 2, stop = 15, step =3)\n",
        "print('s3')\n",
        "print(s3)"
      ],
      "metadata": {
        "colab": {
          "base_uri": "https://localhost:8080/"
        },
        "id": "NP8mNGd1AprK",
        "outputId": "fa5ad6f3-7b71-4538-f18d-68565bcc6852"
      },
      "execution_count": 55,
      "outputs": [
        {
          "output_type": "stream",
          "name": "stdout",
          "text": [
            "s1\n",
            "[0 1 2 3 4 5 6 7 8 9]\n",
            "s2\n",
            "[ 2  3  4  5  6  7  8  9 10 11 12 13 14]\n",
            "s3\n",
            "[ 2  5  8 11 14]\n"
          ]
        }
      ]
    },
    {
      "cell_type": "code",
      "source": [
        "# Linear Space\n",
        "\n",
        "l1 = np.linspace(0,2,5)\n",
        "print('l1')\n",
        "print(l1)"
      ],
      "metadata": {
        "colab": {
          "base_uri": "https://localhost:8080/"
        },
        "id": "6RLNi4QYCF_Z",
        "outputId": "6cc507a6-f57c-4db3-9a51-40ee1b6540a6"
      },
      "execution_count": 59,
      "outputs": [
        {
          "output_type": "stream",
          "name": "stdout",
          "text": [
            "l1\n",
            "[0.  0.5 1.  1.5 2. ]\n"
          ]
        }
      ]
    },
    {
      "cell_type": "markdown",
      "source": [
        "## 2.5. Random numbers"
      ],
      "metadata": {
        "id": "RFt2jE__DUNn"
      }
    },
    {
      "cell_type": "code",
      "source": [
        "# Uniform distribution - [0, 1]\n",
        "# np.random.seed(1234) - fix the similation\n",
        "np.random.rand()"
      ],
      "metadata": {
        "colab": {
          "base_uri": "https://localhost:8080/"
        },
        "id": "nVok4Y-qDiYL",
        "outputId": "fd51040f-a3d7-4326-c98e-b4a5c26c5a0d"
      },
      "execution_count": 69,
      "outputs": [
        {
          "output_type": "execute_result",
          "data": {
            "text/plain": [
              "0.6221087710398319"
            ]
          },
          "metadata": {},
          "execution_count": 69
        }
      ]
    },
    {
      "cell_type": "code",
      "source": [
        "# Example - Toss coin simulation\n",
        "\n",
        "if np.random.rand() <= 0.5:\n",
        "  print('Heads')\n",
        "else:\n",
        "  print('Tails')"
      ],
      "metadata": {
        "colab": {
          "base_uri": "https://localhost:8080/"
        },
        "id": "vTiALhoOGypu",
        "outputId": "675a3c33-59f7-4839-d921-4b9a0dff3d81"
      },
      "execution_count": 71,
      "outputs": [
        {
          "output_type": "stream",
          "name": "stdout",
          "text": [
            "Heads\n"
          ]
        }
      ]
    }
  ]
}