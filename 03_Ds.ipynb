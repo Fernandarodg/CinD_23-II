{
  "nbformat": 4,
  "nbformat_minor": 0,
  "metadata": {
    "colab": {
      "provenance": [],
      "authorship_tag": "ABX9TyPK6CiRC140M8xbGbskWcC6",
      "include_colab_link": true
    },
    "kernelspec": {
      "name": "python3",
      "display_name": "Python 3"
    },
    "language_info": {
      "name": "python"
    }
  },
  "cells": [
    {
      "cell_type": "markdown",
      "metadata": {
        "id": "view-in-github",
        "colab_type": "text"
      },
      "source": [
        "<a href=\"https://colab.research.google.com/github/Fernandarodg/CinD_23-II/blob/main/03_Ds.ipynb\" target=\"_parent\"><img src=\"https://colab.research.google.com/assets/colab-badge.svg\" alt=\"Open In Colab\"/></a>"
      ]
    },
    {
      "cell_type": "markdown",
      "source": [
        "# **1. What is a data structre?**\n",
        "\n",
        "Something that let me store several values\n"
      ],
      "metadata": {
        "id": "UlnXkZnY2pzm"
      }
    },
    {
      "cell_type": "markdown",
      "source": [
        "# **2. Linear Algebra - Numpy**"
      ],
      "metadata": {
        "id": "SbBgBOMh5Hul"
      }
    },
    {
      "cell_type": "markdown",
      "source": [
        "Numpy=Numberical Phyton"
      ],
      "metadata": {
        "id": "MjdrolYQ5QL2"
      }
    },
    {
      "cell_type": "code",
      "source": [
        "# Libraries\n",
        "import numpy as np"
      ],
      "metadata": {
        "id": "Z1oChQow25Tn"
      },
      "execution_count": 152,
      "outputs": []
    },
    {
      "cell_type": "markdown",
      "source": [
        "## 2.1. **Numpy arrays - Vectors and Matrices**"
      ],
      "metadata": {
        "id": "IrjUEx-t6aY4"
      }
    },
    {
      "cell_type": "code",
      "source": [
        "# column Vector\n",
        "x = np.array([[1], [2],[3]])\n",
        "print(x)\n",
        "print(x.shape)"
      ],
      "metadata": {
        "colab": {
          "base_uri": "https://localhost:8080/"
        },
        "id": "BzAUi4rZ6n2Q",
        "outputId": "31ec71fb-9bbd-4121-cae3-afa486378e8a"
      },
      "execution_count": 153,
      "outputs": [
        {
          "output_type": "stream",
          "name": "stdout",
          "text": [
            "[[1]\n",
            " [2]\n",
            " [3]]\n",
            "(3, 1)\n"
          ]
        }
      ]
    },
    {
      "cell_type": "code",
      "source": [
        "# Row Vector\n",
        "y = np.array([[3, 4, 5]])\n",
        "print (y)\n",
        "print(y.shape)"
      ],
      "metadata": {
        "colab": {
          "base_uri": "https://localhost:8080/"
        },
        "id": "OGI2VZ-78fNt",
        "outputId": "ddf5e702-9d51-4b79-a2e6-94ec1ade7166"
      },
      "execution_count": 154,
      "outputs": [
        {
          "output_type": "stream",
          "name": "stdout",
          "text": [
            "[[3 4 5]]\n",
            "(1, 3)\n"
          ]
        }
      ]
    },
    {
      "cell_type": "code",
      "source": [
        "# Matriz\n",
        "M = np.array([[1,2,3],\n",
        "              [4,5,6],\n",
        "              [7,8,9]])\n",
        "print(M)\n",
        "print(M.shape)\n"
      ],
      "metadata": {
        "colab": {
          "base_uri": "https://localhost:8080/"
        },
        "id": "nYmtl4dE9KqY",
        "outputId": "0c754fa4-9cd0-4c97-cf3f-b69800f40fc1"
      },
      "execution_count": 155,
      "outputs": [
        {
          "output_type": "stream",
          "name": "stdout",
          "text": [
            "[[1 2 3]\n",
            " [4 5 6]\n",
            " [7 8 9]]\n",
            "(3, 3)\n"
          ]
        }
      ]
    },
    {
      "cell_type": "code",
      "source": [
        "# A nice trick\n",
        "n, m= M.shape\n",
        "print('number of rows in M:' , n)\n",
        "print('number of columns in M:', m)"
      ],
      "metadata": {
        "id": "NlQCbtoS_Dki",
        "colab": {
          "base_uri": "https://localhost:8080/"
        },
        "outputId": "05135814-95f9-4cfd-d9c6-fb03c4598c25"
      },
      "execution_count": 156,
      "outputs": [
        {
          "output_type": "stream",
          "name": "stdout",
          "text": [
            "number of rows in M: 3\n",
            "number of columns in M: 3\n"
          ]
        }
      ]
    },
    {
      "cell_type": "markdown",
      "source": [
        "## 2.2. Slicing with matrices\n",
        " first row, second column\n",
        " 3 number\n",
        " [3] vector\n",
        " [2,0] se quita"
      ],
      "metadata": {
        "id": "I0vPZbjD6IMr"
      }
    },
    {
      "cell_type": "code",
      "source": [
        "# Access 1 element\n",
        "\n",
        "## For vector\n",
        "### Column Vector\n",
        "print(x[2,0])\n",
        "### Row vector\n",
        "print(y[1,1])\n",
        "\n",
        "## For matrix\n",
        "print(M[1,1])"
      ],
      "metadata": {
        "colab": {
          "base_uri": "https://localhost:8080/",
          "height": 245
        },
        "id": "EUEc_SOv6bZA",
        "outputId": "1718b520-2b09-455e-df63-23b7ee4206df"
      },
      "execution_count": 189,
      "outputs": [
        {
          "output_type": "error",
          "ename": "TypeError",
          "evalue": "ignored",
          "traceback": [
            "\u001b[0;31m---------------------------------------------------------------------------\u001b[0m",
            "\u001b[0;31mTypeError\u001b[0m                                 Traceback (most recent call last)",
            "\u001b[0;32m<ipython-input-189-7656c6c25d78>\u001b[0m in \u001b[0;36m<cell line: 5>\u001b[0;34m()\u001b[0m\n\u001b[1;32m      3\u001b[0m \u001b[0;31m## For vector\u001b[0m\u001b[0;34m\u001b[0m\u001b[0;34m\u001b[0m\u001b[0m\n\u001b[1;32m      4\u001b[0m \u001b[0;31m### Column Vector\u001b[0m\u001b[0;34m\u001b[0m\u001b[0;34m\u001b[0m\u001b[0m\n\u001b[0;32m----> 5\u001b[0;31m \u001b[0mprint\u001b[0m\u001b[0;34m(\u001b[0m\u001b[0mx\u001b[0m\u001b[0;34m[\u001b[0m\u001b[0;36m2\u001b[0m\u001b[0;34m,\u001b[0m\u001b[0;36m0\u001b[0m\u001b[0;34m]\u001b[0m\u001b[0;34m)\u001b[0m\u001b[0;34m\u001b[0m\u001b[0;34m\u001b[0m\u001b[0m\n\u001b[0m\u001b[1;32m      6\u001b[0m \u001b[0;31m### Row vector\u001b[0m\u001b[0;34m\u001b[0m\u001b[0;34m\u001b[0m\u001b[0m\n\u001b[1;32m      7\u001b[0m \u001b[0mprint\u001b[0m\u001b[0;34m(\u001b[0m\u001b[0my\u001b[0m\u001b[0;34m[\u001b[0m\u001b[0;36m1\u001b[0m\u001b[0;34m,\u001b[0m\u001b[0;36m1\u001b[0m\u001b[0;34m]\u001b[0m\u001b[0;34m)\u001b[0m\u001b[0;34m\u001b[0m\u001b[0;34m\u001b[0m\u001b[0m\n",
            "\u001b[0;31mTypeError\u001b[0m: 'int' object is not subscriptable"
          ]
        }
      ]
    },
    {
      "cell_type": "code",
      "source": [
        "# Exercise - Practice\n",
        "## Using a for loop display/print the number of the row,\n",
        "## the number of the column, and the element for\n",
        "## every element in the Matrix M\n",
        "\n"
      ],
      "metadata": {
        "id": "y6kkzm8l8ZGd"
      },
      "execution_count": null,
      "outputs": []
    },
    {
      "cell_type": "code",
      "source": [
        "row 1, column 1, element 1\n",
        "row 2, column 2, element 5"
      ],
      "metadata": {
        "id": "dfg-0JZ--ZM-",
        "colab": {
          "base_uri": "https://localhost:8080/",
          "height": 140
        },
        "outputId": "c677adf2-ebb7-4148-9c1d-8089b005b4c5"
      },
      "execution_count": 175,
      "outputs": [
        {
          "output_type": "error",
          "ename": "SyntaxError",
          "evalue": "ignored",
          "traceback": [
            "\u001b[0;36m  File \u001b[0;32m\"<ipython-input-175-a8a37c6136aa>\"\u001b[0;36m, line \u001b[0;32m1\u001b[0m\n\u001b[0;31m    row 1, column 1, element 1\u001b[0m\n\u001b[0m        ^\u001b[0m\n\u001b[0;31mSyntaxError\u001b[0m\u001b[0;31m:\u001b[0m invalid syntax\n"
          ]
        }
      ]
    },
    {
      "cell_type": "code",
      "source": [
        "print('row', 1, 'column', 1, 'element', M[0,0])\n",
        "print('row', 2, 'column', 2, 'element', M[1,1])"
      ],
      "metadata": {
        "colab": {
          "base_uri": "https://localhost:8080/"
        },
        "id": "Rie5o4uh_R5a",
        "outputId": "86ba5cd6-29d3-4912-f312-e682d4650610"
      },
      "execution_count": 158,
      "outputs": [
        {
          "output_type": "stream",
          "name": "stdout",
          "text": [
            "row 1 column 1 element 1\n",
            "row 2 column 2 element 5\n"
          ]
        }
      ]
    },
    {
      "cell_type": "code",
      "source": [
        "for x, row in enumerate('matrix'):\n",
        "  for y, element in enumerate('rows'):\n",
        "    print(f'Row {x+1}, Column {y+1}: {element}', end=\"\")\n",
        "  print()\n",
        "\n"
      ],
      "metadata": {
        "colab": {
          "base_uri": "https://localhost:8080/"
        },
        "id": "6soS3gF0CnUX",
        "outputId": "bb8e8517-5e8c-490b-cd06-9725c2e3d24a"
      },
      "execution_count": 174,
      "outputs": [
        {
          "output_type": "stream",
          "name": "stdout",
          "text": [
            "Row 1, Column 1: rRow 1, Column 2: oRow 1, Column 3: wRow 1, Column 4: s\n",
            "Row 2, Column 1: rRow 2, Column 2: oRow 2, Column 3: wRow 2, Column 4: s\n",
            "Row 3, Column 1: rRow 3, Column 2: oRow 3, Column 3: wRow 3, Column 4: s\n",
            "Row 4, Column 1: rRow 4, Column 2: oRow 4, Column 3: wRow 4, Column 4: s\n",
            "Row 5, Column 1: rRow 5, Column 2: oRow 5, Column 3: wRow 5, Column 4: s\n",
            "Row 6, Column 1: rRow 6, Column 2: oRow 6, Column 3: wRow 6, Column 4: s\n"
          ]
        }
      ]
    }
  ]
}