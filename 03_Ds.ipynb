{
  "nbformat": 4,
  "nbformat_minor": 0,
  "metadata": {
    "colab": {
      "provenance": [],
      "authorship_tag": "ABX9TyMFtysdj++9pPhmgz/BGPmK",
      "include_colab_link": true
    },
    "kernelspec": {
      "name": "python3",
      "display_name": "Python 3"
    },
    "language_info": {
      "name": "python"
    }
  },
  "cells": [
    {
      "cell_type": "markdown",
      "metadata": {
        "id": "view-in-github",
        "colab_type": "text"
      },
      "source": [
        "<a href=\"https://colab.research.google.com/github/Fernandarodg/CinD_23-II/blob/main/03_Ds.ipynb\" target=\"_parent\"><img src=\"https://colab.research.google.com/assets/colab-badge.svg\" alt=\"Open In Colab\"/></a>"
      ]
    },
    {
      "cell_type": "markdown",
      "source": [
        "# **1. What is a data structre?**\n",
        "\n",
        "Something that let me store several values\n"
      ],
      "metadata": {
        "id": "UlnXkZnY2pzm"
      }
    },
    {
      "cell_type": "markdown",
      "source": [
        "# **2. Linear Algebra - Numpy**"
      ],
      "metadata": {
        "id": "SbBgBOMh5Hul"
      }
    },
    {
      "cell_type": "markdown",
      "source": [
        "Numpy=Numberical Phyton"
      ],
      "metadata": {
        "id": "MjdrolYQ5QL2"
      }
    },
    {
      "cell_type": "code",
      "source": [
        "# Libraries\n",
        "import numpy as np"
      ],
      "metadata": {
        "id": "Z1oChQow25Tn"
      },
      "execution_count": 2,
      "outputs": []
    },
    {
      "cell_type": "markdown",
      "source": [
        "## 2.1. **Numpy arrays - Vectors and Matrices**"
      ],
      "metadata": {
        "id": "IrjUEx-t6aY4"
      }
    },
    {
      "cell_type": "code",
      "source": [
        "# column Vector\n",
        "x = np.array([[1], [2],[3]])\n",
        "print(x)\n",
        "print(x.shape)"
      ],
      "metadata": {
        "colab": {
          "base_uri": "https://localhost:8080/"
        },
        "id": "BzAUi4rZ6n2Q",
        "outputId": "953d0618-6d3b-4d2e-832d-0732e5af574d"
      },
      "execution_count": 3,
      "outputs": [
        {
          "output_type": "stream",
          "name": "stdout",
          "text": [
            "[[1]\n",
            " [2]\n",
            " [3]]\n",
            "(3, 1)\n"
          ]
        }
      ]
    },
    {
      "cell_type": "code",
      "source": [
        "# Row Vector\n",
        "y = np.array([[3, 4, 5]])\n",
        "print (y)\n",
        "print(y.shape)"
      ],
      "metadata": {
        "colab": {
          "base_uri": "https://localhost:8080/"
        },
        "id": "OGI2VZ-78fNt",
        "outputId": "297ec412-4ba3-4c26-8431-da5c47b67801"
      },
      "execution_count": 4,
      "outputs": [
        {
          "output_type": "stream",
          "name": "stdout",
          "text": [
            "[[3 4 5]]\n",
            "(1, 3)\n"
          ]
        }
      ]
    },
    {
      "cell_type": "code",
      "source": [
        "# Matriz\n",
        "M = np.array([[1,2,3],\n",
        "              [4,5,6],\n",
        "              [7,8,9]])\n",
        "print(M)\n",
        "print(M.shape)\n"
      ],
      "metadata": {
        "colab": {
          "base_uri": "https://localhost:8080/"
        },
        "id": "nYmtl4dE9KqY",
        "outputId": "81e2439c-4985-446f-bd36-6b3756886133"
      },
      "execution_count": 5,
      "outputs": [
        {
          "output_type": "stream",
          "name": "stdout",
          "text": [
            "[[1 2 3]\n",
            " [4 5 6]\n",
            " [7 8 9]]\n",
            "(3, 3)\n"
          ]
        }
      ]
    },
    {
      "cell_type": "code",
      "source": [
        "# A nice trick\n",
        "n, m= M.shape\n",
        "print('number of rows in M:' , n)\n",
        "print('number of columns in M:', m)"
      ],
      "metadata": {
        "id": "NlQCbtoS_Dki",
        "colab": {
          "base_uri": "https://localhost:8080/"
        },
        "outputId": "75e04277-43a1-43bc-9c98-c21a6600be2f"
      },
      "execution_count": 6,
      "outputs": [
        {
          "output_type": "stream",
          "name": "stdout",
          "text": [
            "number of rows in M: 3\n",
            "number of columns in M: 3\n"
          ]
        }
      ]
    },
    {
      "cell_type": "markdown",
      "source": [
        "## 2.2. Slicing with matrices\n",
        " first row, second column\n",
        " 3 number\n",
        " [3] vector\n",
        " [2,0] se quita"
      ],
      "metadata": {
        "id": "I0vPZbjD6IMr"
      }
    },
    {
      "cell_type": "code",
      "source": [
        "# Access 1 element\n",
        "\n",
        "## For vector\n",
        "### Column Vector\n",
        "print(x[2,0])\n",
        "\n",
        "### Row vector\n",
        "print(y[0,0])\n",
        "\n",
        "## For matrix\n",
        "print(M[1,1])"
      ],
      "metadata": {
        "colab": {
          "base_uri": "https://localhost:8080/"
        },
        "id": "EUEc_SOv6bZA",
        "outputId": "a623b6b6-02fd-4ebd-b238-60a9ed1ea896"
      },
      "execution_count": 7,
      "outputs": [
        {
          "output_type": "stream",
          "name": "stdout",
          "text": [
            "3\n",
            "3\n",
            "5\n"
          ]
        }
      ]
    },
    {
      "cell_type": "code",
      "source": [
        "# Exercise - Practice\n",
        "## Using a for loop display/print the number of the row,\n",
        "## the number of the column, and the element for\n",
        "## every element in the Matrix M\n",
        "\n",
        "print('Row Position:', 1, 'Column Position', 1, 'Element:',M[0,0])\n",
        "print('Row Position:', 1, 'Column Position', 2, 'Element:',M[0,1])\n",
        "print('Row Position:', 1, 'Column Position', 3, 'Element:',M[0,2])\n",
        "\n",
        "for i in range(0,3):\n",
        "  print('Row Position:', 1, 'Column Position', i+1, 'Element:',M[0,i])"
      ],
      "metadata": {
        "id": "y6kkzm8l8ZGd",
        "colab": {
          "base_uri": "https://localhost:8080/"
        },
        "outputId": "e3b665cb-700e-4f0d-d2da-5403bc135318"
      },
      "execution_count": 8,
      "outputs": [
        {
          "output_type": "stream",
          "name": "stdout",
          "text": [
            "Row Position: 1 Column Position 1 Element: 1\n",
            "Row Position: 1 Column Position 2 Element: 2\n",
            "Row Position: 1 Column Position 3 Element: 3\n",
            "Row Position: 1 Column Position 1 Element: 1\n",
            "Row Position: 1 Column Position 2 Element: 2\n",
            "Row Position: 1 Column Position 3 Element: 3\n"
          ]
        }
      ]
    },
    {
      "cell_type": "markdown",
      "source": [
        "Row position: 1, Column Position:1, Element:1\n",
        "\n",
        "Row position: 1, Column Position:2, Element:2\n",
        "\n",
        "Row position: 1, Column Position:3, Element:3\n",
        "\n",
        "Row position: 2, Column Position:1, Element:4\n",
        "\n",
        "Row position: 2, Column Position:2, Element:5\n",
        "\n",
        "Row position: 2, Column Position:3, Element:6\n",
        "\n",
        "Row position: 3, Column Position:1, Element:7\n",
        "\n",
        "Row position: 3, Column Position:2, Element:8\n",
        "\n",
        "Row position: 3 ,Column Position:3, Element:9\n",
        "\n"
      ],
      "metadata": {
        "id": "3kjcUj_Y10Sl"
      }
    },
    {
      "cell_type": "code",
      "source": [
        "for j in range(0,3):\n",
        "  for i in range(0,3):\n",
        "    print('Row Position:', j+1, 'Column Position', i+1, 'Element:',M[j,i])"
      ],
      "metadata": {
        "colab": {
          "base_uri": "https://localhost:8080/"
        },
        "id": "Cpv2TsZ55No1",
        "outputId": "cb3401b5-686f-43fe-df2b-d8b35a606058"
      },
      "execution_count": 9,
      "outputs": [
        {
          "output_type": "stream",
          "name": "stdout",
          "text": [
            "Row Position: 1 Column Position 1 Element: 1\n",
            "Row Position: 1 Column Position 2 Element: 2\n",
            "Row Position: 1 Column Position 3 Element: 3\n",
            "Row Position: 2 Column Position 1 Element: 4\n",
            "Row Position: 2 Column Position 2 Element: 5\n",
            "Row Position: 2 Column Position 3 Element: 6\n",
            "Row Position: 3 Column Position 1 Element: 7\n",
            "Row Position: 3 Column Position 2 Element: 8\n",
            "Row Position: 3 Column Position 3 Element: 9\n"
          ]
        }
      ]
    },
    {
      "cell_type": "code",
      "source": [
        "for i in range(0,3):\n",
        "  print('Row Position:', 1, 'Column Position', i+1, 'Element:',M[0,i])"
      ],
      "metadata": {
        "id": "KMNbf9II5PSd",
        "colab": {
          "base_uri": "https://localhost:8080/"
        },
        "outputId": "9858fc20-bf9a-472a-ed0c-ab831c35f5fa"
      },
      "execution_count": 10,
      "outputs": [
        {
          "output_type": "stream",
          "name": "stdout",
          "text": [
            "Row Position: 1 Column Position 1 Element: 1\n",
            "Row Position: 1 Column Position 2 Element: 2\n",
            "Row Position: 1 Column Position 3 Element: 3\n"
          ]
        }
      ]
    },
    {
      "cell_type": "code",
      "source": [
        "row 1, column 1, element 1\n",
        "row 2, column 2, element 5"
      ],
      "metadata": {
        "id": "dfg-0JZ--ZM-",
        "colab": {
          "base_uri": "https://localhost:8080/",
          "height": 140
        },
        "outputId": "5626eaf7-fdee-4518-e117-349c81cf3efc"
      },
      "execution_count": 11,
      "outputs": [
        {
          "output_type": "error",
          "ename": "SyntaxError",
          "evalue": "ignored",
          "traceback": [
            "\u001b[0;36m  File \u001b[0;32m\"<ipython-input-11-a8a37c6136aa>\"\u001b[0;36m, line \u001b[0;32m1\u001b[0m\n\u001b[0;31m    row 1, column 1, element 1\u001b[0m\n\u001b[0m        ^\u001b[0m\n\u001b[0;31mSyntaxError\u001b[0m\u001b[0;31m:\u001b[0m invalid syntax\n"
          ]
        }
      ]
    },
    {
      "cell_type": "code",
      "source": [
        "print('row', 1, 'column', 1, 'element', M[0,0])\n",
        "print('row', 2, 'column', 2, 'element', M[1,1])\n",
        "print('row', 2, 'column', 2, 'element', M[1,2])"
      ],
      "metadata": {
        "id": "Rie5o4uh_R5a",
        "colab": {
          "base_uri": "https://localhost:8080/"
        },
        "outputId": "c5f96618-6a5d-4e31-de97-2a9daab1236a"
      },
      "execution_count": 13,
      "outputs": [
        {
          "output_type": "stream",
          "name": "stdout",
          "text": [
            "row 1 column 1 element 1\n",
            "row 2 column 2 element 5\n",
            "row 2 column 2 element 6\n"
          ]
        }
      ]
    },
    {
      "cell_type": "markdown",
      "source": [
        "## 2.3 Extract subsets"
      ],
      "metadata": {
        "id": "Cs0-R88i6IPi"
      }
    },
    {
      "cell_type": "code",
      "source": [
        "# Extract an entire Row\n",
        "print(M[1,])\n",
        "\n",
        "# Extract an entire Column\n",
        "print(M[:,1])"
      ],
      "metadata": {
        "colab": {
          "base_uri": "https://localhost:8080/"
        },
        "id": "BUAXJnJ-6SiD",
        "outputId": "e7ed6367-23b8-4876-ca44-9796f4b3de98"
      },
      "execution_count": 14,
      "outputs": [
        {
          "output_type": "stream",
          "name": "stdout",
          "text": [
            "[4 5 6]\n",
            "[2 5 8]\n"
          ]
        }
      ]
    },
    {
      "cell_type": "code",
      "source": [
        "# Extract the elements of the\n",
        "# last row and colums 2 and 3\n",
        "print(M[2,1:3])"
      ],
      "metadata": {
        "colab": {
          "base_uri": "https://localhost:8080/"
        },
        "id": "54R2-IPC7rrr",
        "outputId": "987a7bb8-6ae3-420c-842f-1bf3a7dbb3a8"
      },
      "execution_count": 15,
      "outputs": [
        {
          "output_type": "stream",
          "name": "stdout",
          "text": [
            "[8 9]\n"
          ]
        }
      ]
    },
    {
      "cell_type": "code",
      "source": [
        "# Extract the elements of the\n",
        "# first two rows and the last two columns\n",
        "print(M[0:2,1:3])"
      ],
      "metadata": {
        "colab": {
          "base_uri": "https://localhost:8080/"
        },
        "id": "mCr4P3br8M8V",
        "outputId": "a949adc1-302c-4d31-8f0c-9718aa3ba1ec"
      },
      "execution_count": 16,
      "outputs": [
        {
          "output_type": "stream",
          "name": "stdout",
          "text": [
            "[[2 3]\n",
            " [5 6]]\n"
          ]
        }
      ]
    },
    {
      "cell_type": "markdown",
      "source": [
        "## 2.4 Useful methods"
      ],
      "metadata": {
        "id": "gJxdEdeC-LmV"
      }
    },
    {
      "cell_type": "code",
      "source": [
        "# Zeros\n",
        "\n",
        "## One dimension\n",
        "z1 = np.zeros(7)\n",
        "print('z1')\n",
        "print(z1)\n",
        "\n",
        "## Two dimensions\n",
        "z2 = np.zeros((3,5))\n",
        "print('z2')\n",
        "print(z2)"
      ],
      "metadata": {
        "colab": {
          "base_uri": "https://localhost:8080/"
        },
        "id": "Witkdxlh-QUO",
        "outputId": "5ec1fd72-46c1-4ce8-89c1-e96a5978b626"
      },
      "execution_count": 17,
      "outputs": [
        {
          "output_type": "stream",
          "name": "stdout",
          "text": [
            "z1\n",
            "[0. 0. 0. 0. 0. 0. 0.]\n",
            "z2\n",
            "[[0. 0. 0. 0. 0.]\n",
            " [0. 0. 0. 0. 0.]\n",
            " [0. 0. 0. 0. 0.]]\n"
          ]
        }
      ]
    },
    {
      "cell_type": "code",
      "source": [
        "# Ones\n",
        "\n",
        "## One dimension\n",
        "o1 = np.ones(7)\n",
        "print('o1')\n",
        "print(o1)\n",
        "\n",
        "## Two dimensions\n",
        "o2 = np.ones((3,5))\n",
        "print('o2')\n",
        "print(o2)"
      ],
      "metadata": {
        "colab": {
          "base_uri": "https://localhost:8080/"
        },
        "id": "OWKZUOVv_eC4",
        "outputId": "e03f6bd5-10e3-478a-f74a-f88fb71df510"
      },
      "execution_count": 18,
      "outputs": [
        {
          "output_type": "stream",
          "name": "stdout",
          "text": [
            "o1\n",
            "[1. 1. 1. 1. 1. 1. 1.]\n",
            "o2\n",
            "[[1. 1. 1. 1. 1.]\n",
            " [1. 1. 1. 1. 1.]\n",
            " [1. 1. 1. 1. 1.]]\n"
          ]
        }
      ]
    },
    {
      "cell_type": "code",
      "source": [
        "# Full\n",
        "\n",
        "## One dimension\n",
        "f1 = np.full(3,13)\n",
        "print('f1')\n",
        "print(f1)\n",
        "\n",
        "## Two dimension\n",
        "f2 = np.full((3,2),17)\n",
        "print('f2')\n",
        "print(f2)"
      ],
      "metadata": {
        "colab": {
          "base_uri": "https://localhost:8080/"
        },
        "id": "L5AsKodG_8kJ",
        "outputId": "a5cac047-b518-43cf-e218-9542c511a27b"
      },
      "execution_count": 19,
      "outputs": [
        {
          "output_type": "stream",
          "name": "stdout",
          "text": [
            "f1\n",
            "[13 13 13]\n",
            "f2\n",
            "[[17 17]\n",
            " [17 17]\n",
            " [17 17]]\n"
          ]
        }
      ]
    },
    {
      "cell_type": "code",
      "source": [
        "# Sequence - simple\n",
        "s1 = np.arange(10)\n",
        "print('s1')\n",
        "print(s1)\n",
        "\n",
        "## Not that simple\n",
        "s2 = np.arange(start = 2, stop = 15)\n",
        "print('s2')\n",
        "print(s2)\n",
        "\n",
        "## Custom\n",
        "s3 = np.arange(start = 2, stop = 15, step =3)\n",
        "print('s3')\n",
        "print(s3)"
      ],
      "metadata": {
        "colab": {
          "base_uri": "https://localhost:8080/"
        },
        "id": "NP8mNGd1AprK",
        "outputId": "7a03d631-a9d8-4ef2-bea6-3ce8a3a5e0aa"
      },
      "execution_count": 20,
      "outputs": [
        {
          "output_type": "stream",
          "name": "stdout",
          "text": [
            "s1\n",
            "[0 1 2 3 4 5 6 7 8 9]\n",
            "s2\n",
            "[ 2  3  4  5  6  7  8  9 10 11 12 13 14]\n",
            "s3\n",
            "[ 2  5  8 11 14]\n"
          ]
        }
      ]
    },
    {
      "cell_type": "code",
      "source": [
        "# Linear Space\n",
        "\n",
        "l1 = np.linspace(0,2,5)\n",
        "print('l1')\n",
        "print(l1)"
      ],
      "metadata": {
        "colab": {
          "base_uri": "https://localhost:8080/"
        },
        "id": "6RLNi4QYCF_Z",
        "outputId": "0fe9c8b9-64b2-4c67-cdee-90595701d745"
      },
      "execution_count": 21,
      "outputs": [
        {
          "output_type": "stream",
          "name": "stdout",
          "text": [
            "l1\n",
            "[0.  0.5 1.  1.5 2. ]\n"
          ]
        }
      ]
    },
    {
      "cell_type": "markdown",
      "source": [
        "## 2.5. Random numbers"
      ],
      "metadata": {
        "id": "RFt2jE__DUNn"
      }
    },
    {
      "cell_type": "code",
      "source": [
        "# Uniform distribution - [0, 1]\n",
        "# np.random.seed(1234) - fix the similation\n",
        "np.random.rand()"
      ],
      "metadata": {
        "colab": {
          "base_uri": "https://localhost:8080/"
        },
        "id": "nVok4Y-qDiYL",
        "outputId": "3324c39f-a048-4621-82b2-accdc6d1402f"
      },
      "execution_count": 12,
      "outputs": [
        {
          "output_type": "execute_result",
          "data": {
            "text/plain": [
              "0.35306595490410686"
            ]
          },
          "metadata": {},
          "execution_count": 12
        }
      ]
    },
    {
      "cell_type": "code",
      "source": [
        "# Example - Toss coin simulation\n",
        "\n",
        "if np.random.rand() <= 0.5:\n",
        "  print('Heads')\n",
        "else:\n",
        "  print('Tails')"
      ],
      "metadata": {
        "colab": {
          "base_uri": "https://localhost:8080/"
        },
        "id": "vTiALhoOGypu",
        "outputId": "71dbec28-12c3-4fb2-a75d-b88f60771d34"
      },
      "execution_count": 22,
      "outputs": [
        {
          "output_type": "stream",
          "name": "stdout",
          "text": [
            "Tails\n"
          ]
        }
      ]
    },
    {
      "cell_type": "code",
      "source": [
        "# Example - Coin Toss simulation\n",
        "\n",
        "if np.random.rand() <= 0.5:\n",
        "  print('Heads')\n",
        "else:\n",
        "  print('Tails')"
      ],
      "metadata": {
        "colab": {
          "base_uri": "https://localhost:8080/"
        },
        "id": "3PQMBMJs5xVD",
        "outputId": "5859d63c-194d-4d42-a775-1f911aa0aa7e"
      },
      "execution_count": 29,
      "outputs": [
        {
          "output_type": "stream",
          "name": "stdout",
          "text": [
            "Tails\n"
          ]
        }
      ]
    },
    {
      "cell_type": "markdown",
      "source": [
        "if / else with more than 2 options"
      ],
      "metadata": {
        "id": "XHoY8CfY6GVr"
      }
    },
    {
      "cell_type": "code",
      "source": [
        "# Example - three options\n",
        "\n",
        "toss = np.random.rand()\n",
        "\n",
        "if toss <= 0.4:\n",
        "  print('green')\n",
        "elif toss > 0.4 and toss <= 0.6:\n",
        "  print('blue')\n",
        "else:\n",
        "  print('red')\n"
      ],
      "metadata": {
        "colab": {
          "base_uri": "https://localhost:8080/"
        },
        "id": "9Abu4qBk6K1j",
        "outputId": "fe064ac0-604b-4d6a-e97d-a9b9d45b6565"
      },
      "execution_count": 37,
      "outputs": [
        {
          "output_type": "stream",
          "name": "stdout",
          "text": [
            "green\n"
          ]
        }
      ]
    },
    {
      "cell_type": "code",
      "source": [
        "# Exercise\n",
        "## Simulate three coin tosses and present the results\n",
        "## according these rules:\n",
        "\n",
        "## 1. Three Heads, Result: 'You win COP 100K'\n",
        "## 2. Three Tails, Result: 'You win COP 90K'\n",
        "## 3. Otherwise, Result: 'You lose'"
      ],
      "metadata": {
        "id": "12HCbFaw7gmF"
      },
      "execution_count": 54,
      "outputs": []
    },
    {
      "cell_type": "code",
      "source": [
        "toss1 = np.random.rand()\n",
        "toss2 = np.random.rand()\n",
        "toss3 = np.random.rand()\n",
        "\n",
        "if toss1 <= 0.5 and toss2 <= 0.5 and toss3 <= 0.5:\n",
        "  print('Three Heads:', 'You win COP 100K')\n",
        "elif toss1 > 0.5 and toss2 > 0.5 and toss3 > 0.5:\n",
        "  print('Three Tails:', 'You win COP 90K')\n",
        "else:\n",
        "  print('You loose')"
      ],
      "metadata": {
        "colab": {
          "base_uri": "https://localhost:8080/"
        },
        "id": "qIQaxLtn-jbo",
        "outputId": "47dafe42-be0d-4843-acd5-0494129ccd94"
      },
      "execution_count": 77,
      "outputs": [
        {
          "output_type": "stream",
          "name": "stdout",
          "text": [
            "You loose\n"
          ]
        }
      ]
    },
    {
      "cell_type": "code",
      "source": [
        "np.random.rand(3)"
      ],
      "metadata": {
        "colab": {
          "base_uri": "https://localhost:8080/"
        },
        "id": "S9Y4GfGhAEqJ",
        "outputId": "4bf47555-315b-4f74-85f6-9fd586a52d71"
      },
      "execution_count": 78,
      "outputs": [
        {
          "output_type": "execute_result",
          "data": {
            "text/plain": [
              "array([0.69178113, 0.36105507, 0.94470269])"
            ]
          },
          "metadata": {},
          "execution_count": 78
        }
      ]
    },
    {
      "cell_type": "code",
      "source": [
        "tosses = np.random.rand(3)\n",
        "\n",
        "if np.all(tosses <= 0.5):\n",
        "  print('Three Heads:', 'You win COP 100K')\n",
        "elif np.all(tosses > 0.5):\n",
        "  print('Three Tails:', 'You win COP 90K')\n",
        "else:\n",
        "  print('You loose')"
      ],
      "metadata": {
        "colab": {
          "base_uri": "https://localhost:8080/"
        },
        "id": "s8AgmXHvBB52",
        "outputId": "543594ef-54fe-449e-a479-07e1a8ea9586"
      },
      "execution_count": 90,
      "outputs": [
        {
          "output_type": "stream",
          "name": "stdout",
          "text": [
            "Three Tails: You win COP 90K\n"
          ]
        }
      ]
    },
    {
      "cell_type": "code",
      "source": [
        "# Example - triangular distribution cuantas unidades se puede vender, 7 unidades\n",
        "np.random.triangular(100, 200, 500, 7)"
      ],
      "metadata": {
        "colab": {
          "base_uri": "https://localhost:8080/"
        },
        "id": "ItKQZvI1C2pK",
        "outputId": "0810866a-7979-41c6-a6aa-c3d0d08ca588"
      },
      "execution_count": 94,
      "outputs": [
        {
          "output_type": "execute_result",
          "data": {
            "text/plain": [
              "array([208.31934761, 315.47824837, 292.16252462, 479.03458267,\n",
              "       173.23594224, 107.94650017, 284.39598848])"
            ]
          },
          "metadata": {},
          "execution_count": 94
        }
      ]
    },
    {
      "cell_type": "code",
      "source": [
        "\n",
        "## Sales\n",
        "bs = 100\n",
        "av = 200\n",
        "gs = 500\n",
        "\n",
        "## Probabilities\n",
        "bs = 1/30\n",
        "pg = 8/30\n",
        "\n",
        "\n",
        "n= 7 # number of days ot iterate\n",
        "\n",
        "for i in range(1, n+1):\n",
        "  day = np.random.rand()\n",
        "  if day <= pb:\n",
        "    print(bs)\n",
        "  elif day > 1 - pg:\n",
        "    print(gs)\n",
        "  else:\n",
        "    print(av)"
      ],
      "metadata": {
        "colab": {
          "base_uri": "https://localhost:8080/",
          "height": 245
        },
        "id": "87n0XL-4Iyi1",
        "outputId": "d53b5ccf-40f1-4e54-80f8-c751bef3c79a"
      },
      "execution_count": 102,
      "outputs": [
        {
          "output_type": "error",
          "ename": "NameError",
          "evalue": "ignored",
          "traceback": [
            "\u001b[0;31m---------------------------------------------------------------------------\u001b[0m",
            "\u001b[0;31mNameError\u001b[0m                                 Traceback (most recent call last)",
            "\u001b[0;32m<ipython-input-102-f0f54d885929>\u001b[0m in \u001b[0;36m<cell line: 13>\u001b[0;34m()\u001b[0m\n\u001b[1;32m     13\u001b[0m \u001b[0;32mfor\u001b[0m \u001b[0mi\u001b[0m \u001b[0;32min\u001b[0m \u001b[0mrange\u001b[0m\u001b[0;34m(\u001b[0m\u001b[0;36m1\u001b[0m\u001b[0;34m,\u001b[0m \u001b[0mn\u001b[0m\u001b[0;34m+\u001b[0m\u001b[0;36m1\u001b[0m\u001b[0;34m)\u001b[0m\u001b[0;34m:\u001b[0m\u001b[0;34m\u001b[0m\u001b[0;34m\u001b[0m\u001b[0m\n\u001b[1;32m     14\u001b[0m   \u001b[0mday\u001b[0m \u001b[0;34m=\u001b[0m \u001b[0mnp\u001b[0m\u001b[0;34m.\u001b[0m\u001b[0mrandom\u001b[0m\u001b[0;34m.\u001b[0m\u001b[0mrand\u001b[0m\u001b[0;34m(\u001b[0m\u001b[0;34m)\u001b[0m\u001b[0;34m\u001b[0m\u001b[0;34m\u001b[0m\u001b[0m\n\u001b[0;32m---> 15\u001b[0;31m   \u001b[0;32mif\u001b[0m \u001b[0mday\u001b[0m \u001b[0;34m<=\u001b[0m \u001b[0mpb\u001b[0m\u001b[0;34m:\u001b[0m\u001b[0;34m\u001b[0m\u001b[0;34m\u001b[0m\u001b[0m\n\u001b[0m\u001b[1;32m     16\u001b[0m     \u001b[0mprint\u001b[0m\u001b[0;34m(\u001b[0m\u001b[0mbs\u001b[0m\u001b[0;34m)\u001b[0m\u001b[0;34m\u001b[0m\u001b[0;34m\u001b[0m\u001b[0m\n\u001b[1;32m     17\u001b[0m   \u001b[0;32melif\u001b[0m \u001b[0mday\u001b[0m \u001b[0;34m>\u001b[0m \u001b[0;36m1\u001b[0m \u001b[0;34m-\u001b[0m \u001b[0mpg\u001b[0m\u001b[0;34m:\u001b[0m\u001b[0;34m\u001b[0m\u001b[0;34m\u001b[0m\u001b[0m\n",
            "\u001b[0;31mNameError\u001b[0m: name 'pb' is not defined"
          ]
        }
      ]
    }
  ]
}