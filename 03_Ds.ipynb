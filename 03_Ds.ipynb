{
  "nbformat": 4,
  "nbformat_minor": 0,
  "metadata": {
    "colab": {
      "provenance": [],
      "authorship_tag": "ABX9TyMnYPM3l6A0Jj/zhNijcHlX",
      "include_colab_link": true
    },
    "kernelspec": {
      "name": "python3",
      "display_name": "Python 3"
    },
    "language_info": {
      "name": "python"
    }
  },
  "cells": [
    {
      "cell_type": "markdown",
      "metadata": {
        "id": "view-in-github",
        "colab_type": "text"
      },
      "source": [
        "<a href=\"https://colab.research.google.com/github/Fernandarodg/CinD_23-II/blob/main/03_Ds.ipynb\" target=\"_parent\"><img src=\"https://colab.research.google.com/assets/colab-badge.svg\" alt=\"Open In Colab\"/></a>"
      ]
    },
    {
      "cell_type": "markdown",
      "source": [
        "# **1. What is a data structre?**\n",
        "\n",
        "Something that let me store several values\n"
      ],
      "metadata": {
        "id": "UlnXkZnY2pzm"
      }
    },
    {
      "cell_type": "markdown",
      "source": [
        "# **2. Linear Algebra - Numpy**"
      ],
      "metadata": {
        "id": "SbBgBOMh5Hul"
      }
    },
    {
      "cell_type": "markdown",
      "source": [
        "Numpy=Numberical Phyton"
      ],
      "metadata": {
        "id": "MjdrolYQ5QL2"
      }
    },
    {
      "cell_type": "code",
      "source": [
        "# Libraries\n",
        "import numpy as np"
      ],
      "metadata": {
        "id": "Z1oChQow25Tn"
      },
      "execution_count": 2,
      "outputs": []
    },
    {
      "cell_type": "markdown",
      "source": [
        "## 2.1. **Numpy arrays - Vectors and Matrices**"
      ],
      "metadata": {
        "id": "IrjUEx-t6aY4"
      }
    },
    {
      "cell_type": "code",
      "source": [
        "# column Vector\n",
        "x = np.array([[1], [2],[3]])\n",
        "print(x)\n",
        "print(x.shape)"
      ],
      "metadata": {
        "colab": {
          "base_uri": "https://localhost:8080/"
        },
        "id": "BzAUi4rZ6n2Q",
        "outputId": "2f6872a2-5987-4337-9c12-086b94526918"
      },
      "execution_count": 3,
      "outputs": [
        {
          "output_type": "stream",
          "name": "stdout",
          "text": [
            "[[1]\n",
            " [2]\n",
            " [3]]\n",
            "(3, 1)\n"
          ]
        }
      ]
    },
    {
      "cell_type": "code",
      "source": [
        "# Row Vector\n",
        "y = np.array([[3, 4, 5]])\n",
        "print (y)\n",
        "print(y.shape)"
      ],
      "metadata": {
        "colab": {
          "base_uri": "https://localhost:8080/"
        },
        "id": "OGI2VZ-78fNt",
        "outputId": "c87f8ad3-cfec-41fc-e0cc-868dd36d2340"
      },
      "execution_count": 4,
      "outputs": [
        {
          "output_type": "stream",
          "name": "stdout",
          "text": [
            "[[3 4 5]]\n",
            "(1, 3)\n"
          ]
        }
      ]
    },
    {
      "cell_type": "code",
      "source": [
        "# Matriz\n",
        "M = np.array([[1,2,3],\n",
        "              [4,5,6],\n",
        "              [7,8,9]])\n",
        "print(M)\n",
        "print(M.shape)\n"
      ],
      "metadata": {
        "colab": {
          "base_uri": "https://localhost:8080/"
        },
        "id": "nYmtl4dE9KqY",
        "outputId": "9aad6238-8d76-4f85-eb56-981e152b26f1"
      },
      "execution_count": 5,
      "outputs": [
        {
          "output_type": "stream",
          "name": "stdout",
          "text": [
            "[[1 2 3]\n",
            " [4 5 6]\n",
            " [7 8 9]]\n",
            "(3, 3)\n"
          ]
        }
      ]
    },
    {
      "cell_type": "code",
      "source": [
        "# A nice trick"
      ],
      "metadata": {
        "id": "NlQCbtoS_Dki"
      },
      "execution_count": 6,
      "outputs": []
    },
    {
      "cell_type": "markdown",
      "source": [
        "## 2.2. Slicing with matrices\n",
        " first row, second column\n",
        " 3 number\n",
        " [3] vector\n",
        " [2,0] se quita"
      ],
      "metadata": {
        "id": "I0vPZbjD6IMr"
      }
    },
    {
      "cell_type": "code",
      "source": [
        "# Access 1 element\n",
        "\n",
        "## For vector\n",
        "### Colum Vector\n",
        "print(x[1,0])\n",
        "### Row vector\n",
        "print(y[0,0])\n",
        "\n",
        "## For matrix\n",
        "print(M[0,3])"
      ],
      "metadata": {
        "colab": {
          "base_uri": "https://localhost:8080/",
          "height": 245
        },
        "id": "EUEc_SOv6bZA",
        "outputId": "56cf262e-e901-486b-aaf1-8821a1527ef6"
      },
      "execution_count": 24,
      "outputs": [
        {
          "output_type": "stream",
          "name": "stdout",
          "text": [
            "2\n",
            "3\n"
          ]
        },
        {
          "output_type": "error",
          "ename": "IndexError",
          "evalue": "ignored",
          "traceback": [
            "\u001b[0;31m---------------------------------------------------------------------------\u001b[0m",
            "\u001b[0;31mIndexError\u001b[0m                                Traceback (most recent call last)",
            "\u001b[0;32m<ipython-input-24-0cbc50a20b71>\u001b[0m in \u001b[0;36m<cell line: 10>\u001b[0;34m()\u001b[0m\n\u001b[1;32m      8\u001b[0m \u001b[0;34m\u001b[0m\u001b[0m\n\u001b[1;32m      9\u001b[0m \u001b[0;31m## For matrix\u001b[0m\u001b[0;34m\u001b[0m\u001b[0;34m\u001b[0m\u001b[0m\n\u001b[0;32m---> 10\u001b[0;31m \u001b[0mprint\u001b[0m\u001b[0;34m(\u001b[0m\u001b[0mM\u001b[0m\u001b[0;34m[\u001b[0m\u001b[0;36m0\u001b[0m\u001b[0;34m,\u001b[0m\u001b[0;36m3\u001b[0m\u001b[0;34m]\u001b[0m\u001b[0;34m)\u001b[0m\u001b[0;34m\u001b[0m\u001b[0;34m\u001b[0m\u001b[0m\n\u001b[0m",
            "\u001b[0;31mIndexError\u001b[0m: index 3 is out of bounds for axis 1 with size 3"
          ]
        }
      ]
    },
    {
      "cell_type": "code",
      "source": [
        "# Exercise - Practice\n",
        "## Using a for loop display/print the number of the row,\n",
        "## the number of the column, and the element for\n",
        "## every element in the Matrix M\n",
        "\n",
        ""
      ],
      "metadata": {
        "id": "y6kkzm8l8ZGd"
      },
      "execution_count": null,
      "outputs": []
    },
    {
      "cell_type": "code",
      "source": [
        "row 1, column 1, element 1\n",
        "row 2, column 2, element 5"
      ],
      "metadata": {
        "id": "dfg-0JZ--ZM-"
      },
      "execution_count": null,
      "outputs": []
    },
    {
      "cell_type": "code",
      "source": [
        "print('row', 1, 'column', 1, 'element', M[0,0])\n",
        "print('row', 2, 'column', 2, 'element', M[1,1])"
      ],
      "metadata": {
        "colab": {
          "base_uri": "https://localhost:8080/"
        },
        "id": "Rie5o4uh_R5a",
        "outputId": "184c3de9-8bd9-4faf-9ca6-641dee16adc2"
      },
      "execution_count": 27,
      "outputs": [
        {
          "output_type": "stream",
          "name": "stdout",
          "text": [
            "row 1 column 1 element 1\n",
            "row 2 column 2 element 5\n"
          ]
        }
      ]
    },
    {
      "cell_type": "code",
      "source": [
        "for i in range(0,10)\n",
        "   print("
      ],
      "metadata": {
        "colab": {
          "base_uri": "https://localhost:8080/",
          "height": 140
        },
        "id": "WfojliQdCW_9",
        "outputId": "b1d80a92-fba5-4398-b457-a9e1c89804e5"
      },
      "execution_count": 29,
      "outputs": [
        {
          "output_type": "error",
          "ename": "SyntaxError",
          "evalue": "ignored",
          "traceback": [
            "\u001b[0;36m  File \u001b[0;32m\"<ipython-input-29-58b4a313ffa6>\"\u001b[0;36m, line \u001b[0;32m1\u001b[0m\n\u001b[0;31m    for i in range(0,10)\u001b[0m\n\u001b[0m                        ^\u001b[0m\n\u001b[0;31mSyntaxError\u001b[0m\u001b[0;31m:\u001b[0m expected ':'\n"
          ]
        }
      ]
    }
  ]
}