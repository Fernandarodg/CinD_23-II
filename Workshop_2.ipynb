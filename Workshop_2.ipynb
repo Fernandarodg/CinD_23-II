{
  "nbformat": 4,
  "nbformat_minor": 0,
  "metadata": {
    "colab": {
      "provenance": [],
      "include_colab_link": true
    },
    "kernelspec": {
      "name": "python3",
      "display_name": "Python 3"
    },
    "language_info": {
      "name": "python"
    }
  },
  "cells": [
    {
      "cell_type": "markdown",
      "metadata": {
        "id": "view-in-github",
        "colab_type": "text"
      },
      "source": [
        "<a href=\"https://colab.research.google.com/github/Fernandarodg/CinD_23-II/blob/main/Workshop_2.ipynb\" target=\"_parent\"><img src=\"https://colab.research.google.com/assets/colab-badge.svg\" alt=\"Open In Colab\"/></a>"
      ]
    },
    {
      "cell_type": "markdown",
      "source": [
        "<h1 align = \"center\">\n",
        "<strong> Universidad de La Salle </strong>\n",
        "</h1>\n",
        "\n",
        "<h1 align = \"center\">\n",
        "<strong> Finance and International Commerce Program </strong>\n",
        "</h1>\n",
        "\n",
        "<h1 align = \"center\">\n",
        "<strong> Data Visualization - Workshop 2 </strong>\n",
        "</h1>\n"
      ],
      "metadata": {
        "id": "BJolccUZSw9G"
      }
    },
    {
      "cell_type": "markdown",
      "source": [
        "# **Instructions**\n",
        "\n",
        "1. Please read carefully the document. Ask all the questions you may have.\n",
        "2. Save this file in your Google Drive.\n",
        "3. DO NOT alter any cell unless it specifically ask you to do it.\n",
        "4. You will have **two hours** (until 11am) maximum to finish and deliver this workshop.\n",
        "5. You can use any help you want: your notes, your codes, internet, classmates.\n",
        "6. Nevertheless, the workshop must be presented individually.\n",
        "7. Once you have finish, save a copy in your GitHub class repository.\n",
        "8. The deliver process is as follows:\n",
        "    \n",
        "    8.1. Via email you will send the link to the GitHub location.\n",
        "    \n",
        "    8.2. In the same mail, just for safety, you will attach a copy of your `.ipynb` file.\n",
        "    \n",
        "    8.3. The email must have the subject: \"W2 DV\".   "
      ],
      "metadata": {
        "id": "pLRc5RAyWsre"
      }
    },
    {
      "cell_type": "markdown",
      "source": [
        "# **To keep in mind**\n",
        "\n",
        "* The excercises propouse are intended to **push** you a little futher in your Pyton skills.\n",
        "* This means that there are going to be exercises above the level seen in class.\n",
        "* The idea is to incentive your creative thinking and solving problem skills.\n",
        "* As always there several ways to do the excersice. But in this case, I ask you to use only the tools we learned.\n",
        "* I ask you to trust me. Give your best effort. Grades do not matter here."
      ],
      "metadata": {
        "id": "4QKdNKujZEbk"
      }
    },
    {
      "cell_type": "markdown",
      "source": [
        "# **Exercise**\n",
        "\n",
        "**Roulette!**\n",
        "\n",
        "Let's simulate a casino game.\n",
        "Specifically, a single-zero (french) roulette.\n",
        "\n",
        "This game consists on rolling a ball over a wheel with number pockets.\n",
        "\n",
        "[Game](https://image.shutterstock.com/image-illustration/casino-roulette-wheel-chips-on-600w-1288790665.jpg)\n",
        "\n",
        "There are several ways to bet on this game, you have to code a few."
      ],
      "metadata": {
        "id": "2kRoSKUmaGl9"
      }
    },
    {
      "cell_type": "code",
      "source": [
        "import numpy as np"
      ],
      "metadata": {
        "id": "8lMuVMe0iwhw"
      },
      "execution_count": 1,
      "outputs": []
    },
    {
      "cell_type": "markdown",
      "source": [
        "## Ex 1 - Number Bet\n",
        "\n",
        "You can bet on any number between 0 and 36.\n",
        "You win if the result is the number you bet on.\n",
        "In any other case, you lose.\n",
        "\n",
        "Write the appropiate the code to reflect this process.\n",
        "\n",
        "The result must show the bet made, the result obtained and if you win or lose."
      ],
      "metadata": {
        "id": "PYIRNu3imJ_n"
      }
    },
    {
      "cell_type": "code",
      "source": [
        "# Answ. Ex 1\n",
        "# (write your code below)\n",
        "\n",
        "import random\n",
        "\n",
        "def play():\n",
        "    # Generate a random number between 0 and 36\n",
        "    outcome_number = random.randint(0, 36)\n",
        "\n",
        "    # Ask the user to make a bet\n",
        "    bet_number = int(input(\"What number would you like to bet on? \"))\n",
        "\n",
        "    # Check if the user won or lost\n",
        "    if bet_number == outcome_number:\n",
        "        winner = True\n",
        "    else:\n",
        "        winner = False\n",
        "\n",
        "    # Print the result\n",
        "    print(\"Bet number:\", bet_number)\n",
        "    print(\"Outcome number:\", outcome_number)\n",
        "    print(\"Winner:\", winner)\n",
        "\n",
        "\n",
        "if __name__ == \"__main__\":\n",
        "    play()"
      ],
      "metadata": {
        "colab": {
          "base_uri": "https://localhost:8080/"
        },
        "id": "RXYc8ar3kGRU",
        "outputId": "ccd60719-1fc5-4ffa-dad7-59f4c301f168"
      },
      "execution_count": 28,
      "outputs": [
        {
          "output_type": "stream",
          "name": "stdout",
          "text": [
            "What number would you like to bet on? 25\n",
            "Bet number: 25\n",
            "Outcome number: 14\n",
            "Winner: False\n"
          ]
        }
      ]
    },
    {
      "cell_type": "markdown",
      "source": [
        "## Ex 2 - Color Bet\n",
        "\n",
        "Each color has an associated color. Zero is neutral.\n",
        "\n",
        "And the rest of the numbers vary between black and red (see the previous image).\n",
        "\n",
        "Write the appropiate code to simulate a random round of Roulette using only the color bet (black or white).\n",
        "\n",
        "The result must show the bet made, the result obtained and if you win or lose.\n",
        "\n",
        "*Tip: first define when you lose and when you win.*"
      ],
      "metadata": {
        "id": "LAdWe8iEaL7B"
      }
    },
    {
      "cell_type": "code",
      "source": [
        "# Answ. Ex 2\n",
        "# (write your code below)\n",
        "\n",
        "import random\n",
        "\n",
        "def simulate_roulette_round(bet):\n",
        "  \"\"\"\n",
        "  Simulates a random round of roulette using only the color bet.\n",
        "\n",
        "  Args:\n",
        "    bet: The color of the bet, \"black\" or \"red\".\n",
        "\n",
        "  Returns:\n",
        "    A dictionary with the information of the round.\n",
        "  \"\"\"\n",
        "\n",
        "  # Generate a random number between 0 and 36.\n",
        "  result = random.randint(0, 36)\n",
        "\n",
        "  # Define the result as red if the number is even, and black if the number is odd.\n",
        "  if result % 2 == 0:\n",
        "    result = \"red\"\n",
        "  else:\n",
        "    result = \"black\"\n",
        "\n",
        "  # Return the information of the round.\n",
        "  return {\n",
        "    \"bet\": bet,\n",
        "    \"result\": result,\n",
        "    \"win\": bet == result\n",
        "  }\n",
        "\n",
        "\n",
        "print(simulate_roulette_round(\"black\"))"
      ],
      "metadata": {
        "colab": {
          "base_uri": "https://localhost:8080/"
        },
        "id": "OS5X1kp9vGZH",
        "outputId": "90fd645e-9317-4fbd-b905-1efa09ed02af"
      },
      "execution_count": 53,
      "outputs": [
        {
          "output_type": "stream",
          "name": "stdout",
          "text": [
            "{'bet': 'black', 'result': 'red', 'win': False}\n"
          ]
        }
      ]
    },
    {
      "cell_type": "markdown",
      "source": [
        "## Ex 3 - Dozens Bet\n",
        "\n",
        "Given the 3 groups:\n",
        "\n",
        "A -> numbers between 1 and 12.\n",
        "B -> numbers between 13 and 24.\n",
        "C -> numbers between 25 and 36.\n",
        "\n",
        "Write the appropiate code to print the result of betting exclusively with dozens.\n",
        "\n",
        "The result must show the bet made, the result obtained and if you win or lose.\n",
        "\n",
        "*Tip: Note that zero is not in the groups but it is a possible result.*"
      ],
      "metadata": {
        "id": "YFsGiwcNfgzP"
      }
    },
    {
      "cell_type": "code",
      "source": [
        "# Answ. Ex 3\n",
        "# (write your code below)\n",
        "\n",
        "def generate_random_number():\n",
        "  return random.randint(0, 37)\n",
        "\n",
        "def bet_dozens():\n",
        "  # Generate a random number between 0 and 37.\n",
        "  number = generate_random_number()\n",
        "\n",
        "  # Compare the random number with the three groups.\n",
        "  if number <= 12:\n",
        "    bet = \"A\"\n",
        "  elif number <= 24:\n",
        "    bet = \"B\"\n",
        "  else:\n",
        "    bet = \"C\"\n",
        "\n",
        "  # Determine if the bet is a winner.\n",
        "  if number % 12 == 0:\n",
        "    result = \"Lost\"\n",
        "  else:\n",
        "    result = \"Won\"\n",
        "\n",
        "  # Print the outcome of the bet.\n",
        "  print(\"Bet:\", bet, \"Number:\", number, \"Result:\", result)\n",
        "\n",
        "if __name__ == \"__main__\":\n",
        "  bet_dozens()\n"
      ],
      "metadata": {
        "id": "Dwdsh30Ti3vl",
        "colab": {
          "base_uri": "https://localhost:8080/"
        },
        "outputId": "f409d364-a165-4b26-9ab8-af96f480adcf"
      },
      "execution_count": 51,
      "outputs": [
        {
          "output_type": "stream",
          "name": "stdout",
          "text": [
            "Bet: A Number: 3 Result: Won\n"
          ]
        }
      ]
    },
    {
      "cell_type": "markdown",
      "source": [
        "## Ex 4 - Putting everything together\n",
        "\n",
        "Write the code that simulate a random game of Roulette where the person can bet on: Number, Color, Dozen or any combination she or he wants.\n",
        "\n",
        "The result must show the bet made, the result obtained and if you win or lose."
      ],
      "metadata": {
        "id": "RSyiV1UPlVcJ"
      }
    },
    {
      "cell_type": "code",
      "source": [
        "# Answ. Ex 4\n",
        "# (write your code below)\n",
        "\n",
        "import random\n",
        "\n",
        "def simulate_roulette_game():\n",
        "  # Generate a random number between 0 and 37.\n",
        "  number = random.randint(0, 37)\n",
        "\n",
        "  # Determine the color of the number.\n",
        "  color = \"red\" if number % 2 == 0 else \"black\"\n",
        "\n",
        "  # Determine the dozen of the number.\n",
        "  dozen = number // 12\n",
        "\n",
        "  # Get the player's bet.\n",
        "  bet = input(\"What do you want to bet on? (number, color, dozen): \")\n",
        "\n",
        "  # Determine if the player wins or loses.\n",
        "  if bet == \"number\":\n",
        "    win = number == int(input(\"What number do you want to bet on?: \"))\n",
        "  elif bet == \"color\":\n",
        "    win = color == input(\"What color do you want to bet on?: \")\n",
        "  elif bet == \"dozen\":\n",
        "    win = dozen == int(input(\"What dozen do you want to bet on?: \"))\n",
        "  else:\n",
        "    win = False\n",
        "\n",
        "  # Return the result of the game.\n",
        "  return bet, number, color, dozen, win\n",
        "\n",
        "\n",
        "if __name__ == \"__main__\":\n",
        "  bet, number, color, dozen, win = simulate_roulette_game()\n",
        "  print(\"Bet:\", bet)\n",
        "  print(\"Result:\", number, color, dozen)\n",
        "  print(\"Won:\", win)"
      ],
      "metadata": {
        "colab": {
          "base_uri": "https://localhost:8080/"
        },
        "id": "oLCPV--5hYIq",
        "outputId": "5bba64eb-a4b0-46fb-ad24-83a408b8b5d2"
      },
      "execution_count": 18,
      "outputs": [
        {
          "output_type": "stream",
          "name": "stdout",
          "text": [
            "What do you want to bet on? (number, color, dozen): color\n",
            "What color do you want to bet on?: red\n",
            "Bet: color\n",
            "Result: 14 red 1\n",
            "Won: True\n"
          ]
        }
      ]
    }
  ]
}